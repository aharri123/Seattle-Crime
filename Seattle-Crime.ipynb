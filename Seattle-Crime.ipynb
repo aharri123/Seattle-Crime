{
 "cells": [
  {
   "cell_type": "markdown",
   "metadata": {},
   "source": [
    "# Seattle Crime #"
   ]
  },
  {
   "cell_type": "code",
   "execution_count": null,
   "metadata": {},
   "outputs": [],
   "source": []
  },
  {
   "cell_type": "code",
   "execution_count": 1,
   "metadata": {},
   "outputs": [],
   "source": [
    "import matplotlib.pyplot as plt\n",
    "import pandas as pd\n",
    "import numpy as np\n",
    "from sklearn.model_selection import train_test_split\n",
    "from sklearn.linear_model import LogisticRegression\n",
    "from sklearn.preprocessing import StandardScaler\n",
    "from sklearn.metrics import classification_report\n",
    "from imblearn.over_sampling import SMOTE\n",
    "from imblearn.over_sampling import RandomOverSampler\n",
    "from sklearn.ensemble import RandomForestClassifier\n",
    "from sklearn.metrics import plot_confusion_matrix, ConfusionMatrixDisplay, confusion_matrix\n",
    "from sklearn.model_selection import GridSearchCV\n",
    "import time"
   ]
  },
  {
   "cell_type": "code",
   "execution_count": 2,
   "metadata": {},
   "outputs": [],
   "source": [
    "start_time = time.time()"
   ]
  },
  {
   "cell_type": "markdown",
   "metadata": {},
   "source": [
    "### Let's start off by looking at our data ###"
   ]
  },
  {
   "cell_type": "code",
   "execution_count": 3,
   "metadata": {},
   "outputs": [
    {
     "data": {
      "text/html": [
       "<div>\n",
       "<style scoped>\n",
       "    .dataframe tbody tr th:only-of-type {\n",
       "        vertical-align: middle;\n",
       "    }\n",
       "\n",
       "    .dataframe tbody tr th {\n",
       "        vertical-align: top;\n",
       "    }\n",
       "\n",
       "    .dataframe thead th {\n",
       "        text-align: right;\n",
       "    }\n",
       "</style>\n",
       "<table border=\"1\" class=\"dataframe\">\n",
       "  <thead>\n",
       "    <tr style=\"text-align: right;\">\n",
       "      <th></th>\n",
       "      <th>Report Number</th>\n",
       "      <th>Offense ID</th>\n",
       "      <th>Offense Start DateTime</th>\n",
       "      <th>Offense End DateTime</th>\n",
       "      <th>Report DateTime</th>\n",
       "      <th>Group A B</th>\n",
       "      <th>Crime Against Category</th>\n",
       "      <th>Offense Parent Group</th>\n",
       "      <th>Offense</th>\n",
       "      <th>Offense Code</th>\n",
       "      <th>Precinct</th>\n",
       "      <th>Sector</th>\n",
       "      <th>Beat</th>\n",
       "      <th>MCPP</th>\n",
       "      <th>100 Block Address</th>\n",
       "      <th>Longitude</th>\n",
       "      <th>Latitude</th>\n",
       "    </tr>\n",
       "  </thead>\n",
       "  <tbody>\n",
       "    <tr>\n",
       "      <th>0</th>\n",
       "      <td>2020-044620</td>\n",
       "      <td>12605873663</td>\n",
       "      <td>02/05/2020 10:10:00 AM</td>\n",
       "      <td>NaN</td>\n",
       "      <td>02/05/2020 11:24:31 AM</td>\n",
       "      <td>A</td>\n",
       "      <td>SOCIETY</td>\n",
       "      <td>DRUG/NARCOTIC OFFENSES</td>\n",
       "      <td>Drug/Narcotic Violations</td>\n",
       "      <td>35A</td>\n",
       "      <td>W</td>\n",
       "      <td>Q</td>\n",
       "      <td>Q1</td>\n",
       "      <td>MAGNOLIA</td>\n",
       "      <td>32XX BLOCK OF 23RD AVE W</td>\n",
       "      <td>-122.385974</td>\n",
       "      <td>47.649387</td>\n",
       "    </tr>\n",
       "    <tr>\n",
       "      <th>1</th>\n",
       "      <td>2020-044452</td>\n",
       "      <td>12605598696</td>\n",
       "      <td>02/03/2020 08:00:00 AM</td>\n",
       "      <td>02/04/2020 08:00:00 AM</td>\n",
       "      <td>02/05/2020 10:06:28 AM</td>\n",
       "      <td>A</td>\n",
       "      <td>PROPERTY</td>\n",
       "      <td>LARCENY-THEFT</td>\n",
       "      <td>Theft of Motor Vehicle Parts or Accessories</td>\n",
       "      <td>23G</td>\n",
       "      <td>N</td>\n",
       "      <td>J</td>\n",
       "      <td>J3</td>\n",
       "      <td>ROOSEVELT/RAVENNA</td>\n",
       "      <td>63XX BLOCK OF 5TH AVE NE</td>\n",
       "      <td>-122.323399</td>\n",
       "      <td>47.675118</td>\n",
       "    </tr>\n",
       "    <tr>\n",
       "      <th>2</th>\n",
       "      <td>2020-044465</td>\n",
       "      <td>12605567653</td>\n",
       "      <td>02/02/2020 08:30:00 PM</td>\n",
       "      <td>02/02/2020 09:30:00 PM</td>\n",
       "      <td>02/05/2020 09:39:33 AM</td>\n",
       "      <td>A</td>\n",
       "      <td>PROPERTY</td>\n",
       "      <td>ROBBERY</td>\n",
       "      <td>Robbery</td>\n",
       "      <td>120</td>\n",
       "      <td>N</td>\n",
       "      <td>U</td>\n",
       "      <td>U3</td>\n",
       "      <td>ROOSEVELT/RAVENNA</td>\n",
       "      <td>26TH AVE NE / NE BLAKELEY ST</td>\n",
       "      <td>-122.299552</td>\n",
       "      <td>47.666384</td>\n",
       "    </tr>\n",
       "    <tr>\n",
       "      <th>3</th>\n",
       "      <td>2020-044225</td>\n",
       "      <td>12605174036</td>\n",
       "      <td>02/05/2020 01:17:00 AM</td>\n",
       "      <td>02/05/2020 02:21:00 AM</td>\n",
       "      <td>02/05/2020 03:30:55 AM</td>\n",
       "      <td>A</td>\n",
       "      <td>PROPERTY</td>\n",
       "      <td>DESTRUCTION/DAMAGE/VANDALISM OF PROPERTY</td>\n",
       "      <td>Destruction/Damage/Vandalism of Property</td>\n",
       "      <td>290</td>\n",
       "      <td>W</td>\n",
       "      <td>Q</td>\n",
       "      <td>Q1</td>\n",
       "      <td>MAGNOLIA</td>\n",
       "      <td>22XX BLOCK OF W RAYE ST</td>\n",
       "      <td>-122.384865</td>\n",
       "      <td>47.642927</td>\n",
       "    </tr>\n",
       "    <tr>\n",
       "      <th>4</th>\n",
       "      <td>2020-044076</td>\n",
       "      <td>12605081469</td>\n",
       "      <td>02/05/2020 12:51:21 AM</td>\n",
       "      <td>NaN</td>\n",
       "      <td>02/05/2020 12:51:31 AM</td>\n",
       "      <td>B</td>\n",
       "      <td>SOCIETY</td>\n",
       "      <td>DRIVING UNDER THE INFLUENCE</td>\n",
       "      <td>Driving Under the Influence</td>\n",
       "      <td>90D</td>\n",
       "      <td>N</td>\n",
       "      <td>B</td>\n",
       "      <td>B2</td>\n",
       "      <td>BALLARD SOUTH</td>\n",
       "      <td>NW 46TH ST / 8TH AVE NW</td>\n",
       "      <td>-122.366195</td>\n",
       "      <td>47.662193</td>\n",
       "    </tr>\n",
       "  </tbody>\n",
       "</table>\n",
       "</div>"
      ],
      "text/plain": [
       "  Report Number   Offense ID  Offense Start DateTime    Offense End DateTime  \\\n",
       "0   2020-044620  12605873663  02/05/2020 10:10:00 AM                     NaN   \n",
       "1   2020-044452  12605598696  02/03/2020 08:00:00 AM  02/04/2020 08:00:00 AM   \n",
       "2   2020-044465  12605567653  02/02/2020 08:30:00 PM  02/02/2020 09:30:00 PM   \n",
       "3   2020-044225  12605174036  02/05/2020 01:17:00 AM  02/05/2020 02:21:00 AM   \n",
       "4   2020-044076  12605081469  02/05/2020 12:51:21 AM                     NaN   \n",
       "\n",
       "          Report DateTime Group A B Crime Against Category  \\\n",
       "0  02/05/2020 11:24:31 AM         A                SOCIETY   \n",
       "1  02/05/2020 10:06:28 AM         A               PROPERTY   \n",
       "2  02/05/2020 09:39:33 AM         A               PROPERTY   \n",
       "3  02/05/2020 03:30:55 AM         A               PROPERTY   \n",
       "4  02/05/2020 12:51:31 AM         B                SOCIETY   \n",
       "\n",
       "                       Offense Parent Group  \\\n",
       "0                    DRUG/NARCOTIC OFFENSES   \n",
       "1                             LARCENY-THEFT   \n",
       "2                                   ROBBERY   \n",
       "3  DESTRUCTION/DAMAGE/VANDALISM OF PROPERTY   \n",
       "4               DRIVING UNDER THE INFLUENCE   \n",
       "\n",
       "                                       Offense Offense Code Precinct Sector  \\\n",
       "0                     Drug/Narcotic Violations          35A        W      Q   \n",
       "1  Theft of Motor Vehicle Parts or Accessories          23G        N      J   \n",
       "2                                      Robbery          120        N      U   \n",
       "3     Destruction/Damage/Vandalism of Property          290        W      Q   \n",
       "4                  Driving Under the Influence          90D        N      B   \n",
       "\n",
       "  Beat               MCPP             100 Block Address   Longitude   Latitude  \n",
       "0   Q1           MAGNOLIA      32XX BLOCK OF 23RD AVE W -122.385974  47.649387  \n",
       "1   J3  ROOSEVELT/RAVENNA      63XX BLOCK OF 5TH AVE NE -122.323399  47.675118  \n",
       "2   U3  ROOSEVELT/RAVENNA  26TH AVE NE / NE BLAKELEY ST -122.299552  47.666384  \n",
       "3   Q1           MAGNOLIA       22XX BLOCK OF W RAYE ST -122.384865  47.642927  \n",
       "4   B2      BALLARD SOUTH       NW 46TH ST / 8TH AVE NW -122.366195  47.662193  "
      ]
     },
     "execution_count": 3,
     "metadata": {},
     "output_type": "execute_result"
    }
   ],
   "source": [
    "df = pd.read_csv(\"SPD_Crime_Data.csv\")\n",
    "df.head()"
   ]
  },
  {
   "cell_type": "code",
   "execution_count": 4,
   "metadata": {},
   "outputs": [
    {
     "name": "stdout",
     "output_type": "stream",
     "text": [
      "<class 'pandas.core.frame.DataFrame'>\n",
      "RangeIndex: 1036236 entries, 0 to 1036235\n",
      "Data columns (total 17 columns):\n",
      " #   Column                  Non-Null Count    Dtype  \n",
      "---  ------                  --------------    -----  \n",
      " 0   Report Number           1036236 non-null  object \n",
      " 1   Offense ID              1036236 non-null  int64  \n",
      " 2   Offense Start DateTime  1034989 non-null  object \n",
      " 3   Offense End DateTime    583385 non-null   object \n",
      " 4   Report DateTime         1036236 non-null  object \n",
      " 5   Group A B               1036236 non-null  object \n",
      " 6   Crime Against Category  1036236 non-null  object \n",
      " 7   Offense Parent Group    1036236 non-null  object \n",
      " 8   Offense                 1036236 non-null  object \n",
      " 9   Offense Code            1036236 non-null  object \n",
      " 10  Precinct                1036232 non-null  object \n",
      " 11  Sector                  1036234 non-null  object \n",
      " 12  Beat                    1036234 non-null  object \n",
      " 13  MCPP                    1036236 non-null  object \n",
      " 14  100 Block Address       992187 non-null   object \n",
      " 15  Longitude               1036236 non-null  float64\n",
      " 16  Latitude                1036236 non-null  float64\n",
      "dtypes: float64(2), int64(1), object(14)\n",
      "memory usage: 134.4+ MB\n"
     ]
    }
   ],
   "source": [
    "df.info()"
   ]
  },
  {
   "cell_type": "markdown",
   "metadata": {},
   "source": [
    "**Let's check for null values**"
   ]
  },
  {
   "cell_type": "code",
   "execution_count": 5,
   "metadata": {},
   "outputs": [
    {
     "data": {
      "text/plain": [
       "Report Number                  0\n",
       "Offense ID                     0\n",
       "Offense Start DateTime      1247\n",
       "Offense End DateTime      452851\n",
       "Report DateTime                0\n",
       "Group A B                      0\n",
       "Crime Against Category         0\n",
       "Offense Parent Group           0\n",
       "Offense                        0\n",
       "Offense Code                   0\n",
       "Precinct                       4\n",
       "Sector                         2\n",
       "Beat                           2\n",
       "MCPP                           0\n",
       "100 Block Address          44049\n",
       "Longitude                      0\n",
       "Latitude                       0\n",
       "dtype: int64"
      ]
     },
     "execution_count": 5,
     "metadata": {},
     "output_type": "execute_result"
    }
   ],
   "source": [
    "df.isnull().sum()"
   ]
  },
  {
   "cell_type": "markdown",
   "metadata": {},
   "source": [
    "**Let's check for duplicate values**"
   ]
  },
  {
   "cell_type": "code",
   "execution_count": 6,
   "metadata": {},
   "outputs": [
    {
     "name": "stdout",
     "output_type": "stream",
     "text": [
      "<class 'pandas.core.frame.DataFrame'>\n",
      "Int64Index: 1036236 entries, 0 to 1036235\n",
      "Data columns (total 17 columns):\n",
      " #   Column                  Non-Null Count    Dtype  \n",
      "---  ------                  --------------    -----  \n",
      " 0   Report Number           1036236 non-null  object \n",
      " 1   Offense ID              1036236 non-null  int64  \n",
      " 2   Offense Start DateTime  1034989 non-null  object \n",
      " 3   Offense End DateTime    583385 non-null   object \n",
      " 4   Report DateTime         1036236 non-null  object \n",
      " 5   Group A B               1036236 non-null  object \n",
      " 6   Crime Against Category  1036236 non-null  object \n",
      " 7   Offense Parent Group    1036236 non-null  object \n",
      " 8   Offense                 1036236 non-null  object \n",
      " 9   Offense Code            1036236 non-null  object \n",
      " 10  Precinct                1036232 non-null  object \n",
      " 11  Sector                  1036234 non-null  object \n",
      " 12  Beat                    1036234 non-null  object \n",
      " 13  MCPP                    1036236 non-null  object \n",
      " 14  100 Block Address       992187 non-null   object \n",
      " 15  Longitude               1036236 non-null  float64\n",
      " 16  Latitude                1036236 non-null  float64\n",
      "dtypes: float64(2), int64(1), object(14)\n",
      "memory usage: 142.3+ MB\n"
     ]
    }
   ],
   "source": [
    "df.drop_duplicates(inplace= True)\n",
    "df.info()"
   ]
  },
  {
   "cell_type": "markdown",
   "metadata": {},
   "source": [
    "## Preprocessing Our Data ##"
   ]
  },
  {
   "cell_type": "markdown",
   "metadata": {},
   "source": [
    "### 1) Null Values ###"
   ]
  },
  {
   "cell_type": "code",
   "execution_count": 7,
   "metadata": {},
   "outputs": [
    {
     "data": {
      "text/plain": [
       "Report Number                  0\n",
       "Offense ID                     0\n",
       "Offense Start DateTime      1247\n",
       "Offense End DateTime      452851\n",
       "Report DateTime                0\n",
       "Group A B                      0\n",
       "Crime Against Category         0\n",
       "Offense Parent Group           0\n",
       "Offense                        0\n",
       "Offense Code                   0\n",
       "Precinct                       4\n",
       "Sector                         2\n",
       "Beat                           2\n",
       "MCPP                           0\n",
       "100 Block Address          44049\n",
       "Longitude                      0\n",
       "Latitude                       0\n",
       "dtype: int64"
      ]
     },
     "execution_count": 7,
     "metadata": {},
     "output_type": "execute_result"
    }
   ],
   "source": [
    "df.isnull().sum()"
   ]
  },
  {
   "cell_type": "markdown",
   "metadata": {},
   "source": [
    "So we can see that we have null values in our \"Offense Start DateTime\", \"Offense End DateTime\", \"Precint\", \"Sector\", \"Beat\", and \"100 Block Address\" variables. Let's take a closer look at some of the variables, and decide whether we want to eliminate the column entirely, or just eliminate the null values."
   ]
  },
  {
   "cell_type": "markdown",
   "metadata": {},
   "source": [
    "**Offense Start DateTime**"
   ]
  },
  {
   "cell_type": "markdown",
   "metadata": {},
   "source": [
    "\"Offense Start DateTime\" is described as \"Start date and time the offense(s) occurred\". We are interested in seeing when the crime started, so we'll simply eliminate the null values. "
   ]
  },
  {
   "cell_type": "code",
   "execution_count": 8,
   "metadata": {
    "scrolled": false
   },
   "outputs": [],
   "source": [
    "df = df.dropna(subset = [\"Offense Start DateTime\"])"
   ]
  },
  {
   "cell_type": "markdown",
   "metadata": {},
   "source": [
    "Let's check the null values for \"Offense Start DateTime\" again to make sure we eliminated them"
   ]
  },
  {
   "cell_type": "code",
   "execution_count": 9,
   "metadata": {
    "scrolled": false
   },
   "outputs": [
    {
     "data": {
      "text/plain": [
       "Report Number                  0\n",
       "Offense ID                     0\n",
       "Offense Start DateTime         0\n",
       "Offense End DateTime      451752\n",
       "Report DateTime                0\n",
       "Group A B                      0\n",
       "Crime Against Category         0\n",
       "Offense Parent Group           0\n",
       "Offense                        0\n",
       "Offense Code                   0\n",
       "Precinct                       4\n",
       "Sector                         2\n",
       "Beat                           2\n",
       "MCPP                           0\n",
       "100 Block Address          43857\n",
       "Longitude                      0\n",
       "Latitude                       0\n",
       "dtype: int64"
      ]
     },
     "execution_count": 9,
     "metadata": {},
     "output_type": "execute_result"
    }
   ],
   "source": [
    "df.isnull().sum()"
   ]
  },
  {
   "cell_type": "markdown",
   "metadata": {},
   "source": [
    "**Offense End DateTime**"
   ]
  },
  {
   "cell_type": "markdown",
   "metadata": {},
   "source": [
    "The \"Offense End DateTime\" variable is described as the \"end date and time the offense(s) occurred..\". We are not interested in when the crime ended, so we'll eliminate the column entirely. "
   ]
  },
  {
   "cell_type": "code",
   "execution_count": 10,
   "metadata": {},
   "outputs": [
    {
     "data": {
      "text/html": [
       "<div>\n",
       "<style scoped>\n",
       "    .dataframe tbody tr th:only-of-type {\n",
       "        vertical-align: middle;\n",
       "    }\n",
       "\n",
       "    .dataframe tbody tr th {\n",
       "        vertical-align: top;\n",
       "    }\n",
       "\n",
       "    .dataframe thead th {\n",
       "        text-align: right;\n",
       "    }\n",
       "</style>\n",
       "<table border=\"1\" class=\"dataframe\">\n",
       "  <thead>\n",
       "    <tr style=\"text-align: right;\">\n",
       "      <th></th>\n",
       "      <th>Report Number</th>\n",
       "      <th>Offense ID</th>\n",
       "      <th>Offense Start DateTime</th>\n",
       "      <th>Report DateTime</th>\n",
       "      <th>Group A B</th>\n",
       "      <th>Crime Against Category</th>\n",
       "      <th>Offense Parent Group</th>\n",
       "      <th>Offense</th>\n",
       "      <th>Offense Code</th>\n",
       "      <th>Precinct</th>\n",
       "      <th>Sector</th>\n",
       "      <th>Beat</th>\n",
       "      <th>MCPP</th>\n",
       "      <th>100 Block Address</th>\n",
       "      <th>Longitude</th>\n",
       "      <th>Latitude</th>\n",
       "    </tr>\n",
       "  </thead>\n",
       "  <tbody>\n",
       "    <tr>\n",
       "      <th>0</th>\n",
       "      <td>2020-044620</td>\n",
       "      <td>12605873663</td>\n",
       "      <td>02/05/2020 10:10:00 AM</td>\n",
       "      <td>02/05/2020 11:24:31 AM</td>\n",
       "      <td>A</td>\n",
       "      <td>SOCIETY</td>\n",
       "      <td>DRUG/NARCOTIC OFFENSES</td>\n",
       "      <td>Drug/Narcotic Violations</td>\n",
       "      <td>35A</td>\n",
       "      <td>W</td>\n",
       "      <td>Q</td>\n",
       "      <td>Q1</td>\n",
       "      <td>MAGNOLIA</td>\n",
       "      <td>32XX BLOCK OF 23RD AVE W</td>\n",
       "      <td>-122.385974</td>\n",
       "      <td>47.649387</td>\n",
       "    </tr>\n",
       "    <tr>\n",
       "      <th>1</th>\n",
       "      <td>2020-044452</td>\n",
       "      <td>12605598696</td>\n",
       "      <td>02/03/2020 08:00:00 AM</td>\n",
       "      <td>02/05/2020 10:06:28 AM</td>\n",
       "      <td>A</td>\n",
       "      <td>PROPERTY</td>\n",
       "      <td>LARCENY-THEFT</td>\n",
       "      <td>Theft of Motor Vehicle Parts or Accessories</td>\n",
       "      <td>23G</td>\n",
       "      <td>N</td>\n",
       "      <td>J</td>\n",
       "      <td>J3</td>\n",
       "      <td>ROOSEVELT/RAVENNA</td>\n",
       "      <td>63XX BLOCK OF 5TH AVE NE</td>\n",
       "      <td>-122.323399</td>\n",
       "      <td>47.675118</td>\n",
       "    </tr>\n",
       "    <tr>\n",
       "      <th>2</th>\n",
       "      <td>2020-044465</td>\n",
       "      <td>12605567653</td>\n",
       "      <td>02/02/2020 08:30:00 PM</td>\n",
       "      <td>02/05/2020 09:39:33 AM</td>\n",
       "      <td>A</td>\n",
       "      <td>PROPERTY</td>\n",
       "      <td>ROBBERY</td>\n",
       "      <td>Robbery</td>\n",
       "      <td>120</td>\n",
       "      <td>N</td>\n",
       "      <td>U</td>\n",
       "      <td>U3</td>\n",
       "      <td>ROOSEVELT/RAVENNA</td>\n",
       "      <td>26TH AVE NE / NE BLAKELEY ST</td>\n",
       "      <td>-122.299552</td>\n",
       "      <td>47.666384</td>\n",
       "    </tr>\n",
       "    <tr>\n",
       "      <th>3</th>\n",
       "      <td>2020-044225</td>\n",
       "      <td>12605174036</td>\n",
       "      <td>02/05/2020 01:17:00 AM</td>\n",
       "      <td>02/05/2020 03:30:55 AM</td>\n",
       "      <td>A</td>\n",
       "      <td>PROPERTY</td>\n",
       "      <td>DESTRUCTION/DAMAGE/VANDALISM OF PROPERTY</td>\n",
       "      <td>Destruction/Damage/Vandalism of Property</td>\n",
       "      <td>290</td>\n",
       "      <td>W</td>\n",
       "      <td>Q</td>\n",
       "      <td>Q1</td>\n",
       "      <td>MAGNOLIA</td>\n",
       "      <td>22XX BLOCK OF W RAYE ST</td>\n",
       "      <td>-122.384865</td>\n",
       "      <td>47.642927</td>\n",
       "    </tr>\n",
       "    <tr>\n",
       "      <th>4</th>\n",
       "      <td>2020-044076</td>\n",
       "      <td>12605081469</td>\n",
       "      <td>02/05/2020 12:51:21 AM</td>\n",
       "      <td>02/05/2020 12:51:31 AM</td>\n",
       "      <td>B</td>\n",
       "      <td>SOCIETY</td>\n",
       "      <td>DRIVING UNDER THE INFLUENCE</td>\n",
       "      <td>Driving Under the Influence</td>\n",
       "      <td>90D</td>\n",
       "      <td>N</td>\n",
       "      <td>B</td>\n",
       "      <td>B2</td>\n",
       "      <td>BALLARD SOUTH</td>\n",
       "      <td>NW 46TH ST / 8TH AVE NW</td>\n",
       "      <td>-122.366195</td>\n",
       "      <td>47.662193</td>\n",
       "    </tr>\n",
       "    <tr>\n",
       "      <th>...</th>\n",
       "      <td>...</td>\n",
       "      <td>...</td>\n",
       "      <td>...</td>\n",
       "      <td>...</td>\n",
       "      <td>...</td>\n",
       "      <td>...</td>\n",
       "      <td>...</td>\n",
       "      <td>...</td>\n",
       "      <td>...</td>\n",
       "      <td>...</td>\n",
       "      <td>...</td>\n",
       "      <td>...</td>\n",
       "      <td>...</td>\n",
       "      <td>...</td>\n",
       "      <td>...</td>\n",
       "      <td>...</td>\n",
       "    </tr>\n",
       "    <tr>\n",
       "      <th>1036231</th>\n",
       "      <td>2013-247888</td>\n",
       "      <td>7687554356</td>\n",
       "      <td>07/13/2013 01:00:00 AM</td>\n",
       "      <td>07/13/2013 06:37:00 AM</td>\n",
       "      <td>A</td>\n",
       "      <td>PROPERTY</td>\n",
       "      <td>MOTOR VEHICLE THEFT</td>\n",
       "      <td>Motor Vehicle Theft</td>\n",
       "      <td>240</td>\n",
       "      <td>SW</td>\n",
       "      <td>F</td>\n",
       "      <td>F1</td>\n",
       "      <td>PIGEON POINT</td>\n",
       "      <td>41XX BLOCK OF 20TH AVE SW</td>\n",
       "      <td>-122.359028</td>\n",
       "      <td>47.565702</td>\n",
       "    </tr>\n",
       "    <tr>\n",
       "      <th>1036232</th>\n",
       "      <td>2013-227022</td>\n",
       "      <td>7682354808</td>\n",
       "      <td>06/26/2013 11:00:00 AM</td>\n",
       "      <td>06/29/2013 09:43:00 AM</td>\n",
       "      <td>A</td>\n",
       "      <td>PROPERTY</td>\n",
       "      <td>MOTOR VEHICLE THEFT</td>\n",
       "      <td>Motor Vehicle Theft</td>\n",
       "      <td>240</td>\n",
       "      <td>W</td>\n",
       "      <td>Q</td>\n",
       "      <td>Q3</td>\n",
       "      <td>QUEEN ANNE</td>\n",
       "      <td>1ST AVE N / VALLEY ST</td>\n",
       "      <td>-122.355386</td>\n",
       "      <td>47.626251</td>\n",
       "    </tr>\n",
       "    <tr>\n",
       "      <th>1036233</th>\n",
       "      <td>2012-045494</td>\n",
       "      <td>7672915592</td>\n",
       "      <td>02/14/2012 03:04:00 PM</td>\n",
       "      <td>02/14/2012 03:04:00 PM</td>\n",
       "      <td>A</td>\n",
       "      <td>PROPERTY</td>\n",
       "      <td>LARCENY-THEFT</td>\n",
       "      <td>Shoplifting</td>\n",
       "      <td>23C</td>\n",
       "      <td>N</td>\n",
       "      <td>U</td>\n",
       "      <td>U1</td>\n",
       "      <td>ROOSEVELT/RAVENNA</td>\n",
       "      <td>73XX BLOCK OF ROOSEVELT WAY NE</td>\n",
       "      <td>-122.317464</td>\n",
       "      <td>47.681894</td>\n",
       "    </tr>\n",
       "    <tr>\n",
       "      <th>1036234</th>\n",
       "      <td>2010-328592</td>\n",
       "      <td>7692227482</td>\n",
       "      <td>09/19/2010 04:59:00 PM</td>\n",
       "      <td>09/19/2010 04:59:00 PM</td>\n",
       "      <td>A</td>\n",
       "      <td>PROPERTY</td>\n",
       "      <td>LARCENY-THEFT</td>\n",
       "      <td>Shoplifting</td>\n",
       "      <td>23C</td>\n",
       "      <td>W</td>\n",
       "      <td>M</td>\n",
       "      <td>M3</td>\n",
       "      <td>DOWNTOWN COMMERCIAL</td>\n",
       "      <td>5XX BLOCK OF PIKE ST</td>\n",
       "      <td>-122.335018</td>\n",
       "      <td>47.610909</td>\n",
       "    </tr>\n",
       "    <tr>\n",
       "      <th>1036235</th>\n",
       "      <td>2010-064656</td>\n",
       "      <td>7686420892</td>\n",
       "      <td>02/25/2010 06:00:00 PM</td>\n",
       "      <td>02/26/2010 07:54:00 AM</td>\n",
       "      <td>A</td>\n",
       "      <td>PROPERTY</td>\n",
       "      <td>MOTOR VEHICLE THEFT</td>\n",
       "      <td>Motor Vehicle Theft</td>\n",
       "      <td>240</td>\n",
       "      <td>W</td>\n",
       "      <td>Q</td>\n",
       "      <td>Q2</td>\n",
       "      <td>QUEEN ANNE</td>\n",
       "      <td>26XX BLOCK OF 1ST AVE N</td>\n",
       "      <td>-122.355546</td>\n",
       "      <td>47.643681</td>\n",
       "    </tr>\n",
       "  </tbody>\n",
       "</table>\n",
       "<p>1034989 rows × 16 columns</p>\n",
       "</div>"
      ],
      "text/plain": [
       "        Report Number   Offense ID  Offense Start DateTime  \\\n",
       "0         2020-044620  12605873663  02/05/2020 10:10:00 AM   \n",
       "1         2020-044452  12605598696  02/03/2020 08:00:00 AM   \n",
       "2         2020-044465  12605567653  02/02/2020 08:30:00 PM   \n",
       "3         2020-044225  12605174036  02/05/2020 01:17:00 AM   \n",
       "4         2020-044076  12605081469  02/05/2020 12:51:21 AM   \n",
       "...               ...          ...                     ...   \n",
       "1036231   2013-247888   7687554356  07/13/2013 01:00:00 AM   \n",
       "1036232   2013-227022   7682354808  06/26/2013 11:00:00 AM   \n",
       "1036233   2012-045494   7672915592  02/14/2012 03:04:00 PM   \n",
       "1036234   2010-328592   7692227482  09/19/2010 04:59:00 PM   \n",
       "1036235   2010-064656   7686420892  02/25/2010 06:00:00 PM   \n",
       "\n",
       "                Report DateTime Group A B Crime Against Category  \\\n",
       "0        02/05/2020 11:24:31 AM         A                SOCIETY   \n",
       "1        02/05/2020 10:06:28 AM         A               PROPERTY   \n",
       "2        02/05/2020 09:39:33 AM         A               PROPERTY   \n",
       "3        02/05/2020 03:30:55 AM         A               PROPERTY   \n",
       "4        02/05/2020 12:51:31 AM         B                SOCIETY   \n",
       "...                         ...       ...                    ...   \n",
       "1036231  07/13/2013 06:37:00 AM         A               PROPERTY   \n",
       "1036232  06/29/2013 09:43:00 AM         A               PROPERTY   \n",
       "1036233  02/14/2012 03:04:00 PM         A               PROPERTY   \n",
       "1036234  09/19/2010 04:59:00 PM         A               PROPERTY   \n",
       "1036235  02/26/2010 07:54:00 AM         A               PROPERTY   \n",
       "\n",
       "                             Offense Parent Group  \\\n",
       "0                          DRUG/NARCOTIC OFFENSES   \n",
       "1                                   LARCENY-THEFT   \n",
       "2                                         ROBBERY   \n",
       "3        DESTRUCTION/DAMAGE/VANDALISM OF PROPERTY   \n",
       "4                     DRIVING UNDER THE INFLUENCE   \n",
       "...                                           ...   \n",
       "1036231                       MOTOR VEHICLE THEFT   \n",
       "1036232                       MOTOR VEHICLE THEFT   \n",
       "1036233                             LARCENY-THEFT   \n",
       "1036234                             LARCENY-THEFT   \n",
       "1036235                       MOTOR VEHICLE THEFT   \n",
       "\n",
       "                                             Offense Offense Code Precinct  \\\n",
       "0                           Drug/Narcotic Violations          35A        W   \n",
       "1        Theft of Motor Vehicle Parts or Accessories          23G        N   \n",
       "2                                            Robbery          120        N   \n",
       "3           Destruction/Damage/Vandalism of Property          290        W   \n",
       "4                        Driving Under the Influence          90D        N   \n",
       "...                                              ...          ...      ...   \n",
       "1036231                          Motor Vehicle Theft          240       SW   \n",
       "1036232                          Motor Vehicle Theft          240        W   \n",
       "1036233                                  Shoplifting          23C        N   \n",
       "1036234                                  Shoplifting          23C        W   \n",
       "1036235                          Motor Vehicle Theft          240        W   \n",
       "\n",
       "        Sector Beat                 MCPP               100 Block Address  \\\n",
       "0            Q   Q1             MAGNOLIA        32XX BLOCK OF 23RD AVE W   \n",
       "1            J   J3    ROOSEVELT/RAVENNA        63XX BLOCK OF 5TH AVE NE   \n",
       "2            U   U3    ROOSEVELT/RAVENNA    26TH AVE NE / NE BLAKELEY ST   \n",
       "3            Q   Q1             MAGNOLIA         22XX BLOCK OF W RAYE ST   \n",
       "4            B   B2        BALLARD SOUTH         NW 46TH ST / 8TH AVE NW   \n",
       "...        ...  ...                  ...                             ...   \n",
       "1036231      F   F1         PIGEON POINT       41XX BLOCK OF 20TH AVE SW   \n",
       "1036232      Q   Q3           QUEEN ANNE           1ST AVE N / VALLEY ST   \n",
       "1036233      U   U1    ROOSEVELT/RAVENNA  73XX BLOCK OF ROOSEVELT WAY NE   \n",
       "1036234      M   M3  DOWNTOWN COMMERCIAL            5XX BLOCK OF PIKE ST   \n",
       "1036235      Q   Q2           QUEEN ANNE         26XX BLOCK OF 1ST AVE N   \n",
       "\n",
       "          Longitude   Latitude  \n",
       "0       -122.385974  47.649387  \n",
       "1       -122.323399  47.675118  \n",
       "2       -122.299552  47.666384  \n",
       "3       -122.384865  47.642927  \n",
       "4       -122.366195  47.662193  \n",
       "...             ...        ...  \n",
       "1036231 -122.359028  47.565702  \n",
       "1036232 -122.355386  47.626251  \n",
       "1036233 -122.317464  47.681894  \n",
       "1036234 -122.335018  47.610909  \n",
       "1036235 -122.355546  47.643681  \n",
       "\n",
       "[1034989 rows x 16 columns]"
      ]
     },
     "execution_count": 10,
     "metadata": {},
     "output_type": "execute_result"
    }
   ],
   "source": [
    "df =df.drop([\"Offense End DateTime\"], axis = 1)\n",
    "df"
   ]
  },
  {
   "cell_type": "markdown",
   "metadata": {},
   "source": [
    "**Precint, Sector and Beat**"
   ]
  },
  {
   "cell_type": "markdown",
   "metadata": {},
   "source": [
    "Seattle has 5 precincts, or police station areas. They are: North, East, South, West and Southwest. Then, there are smaller geographical areas within the precints called sectors. Finally, each sector is divided into 3 smaller sections called beats, which individual patrol officers are assigned responsibility for. We'll eliminate the precinct column, to narrow down the location of crimes a little more. We'll keep the sector and beat column, but eliminate the null values."
   ]
  },
  {
   "cell_type": "code",
   "execution_count": 11,
   "metadata": {
    "scrolled": false
   },
   "outputs": [
    {
     "data": {
      "text/html": [
       "<div>\n",
       "<style scoped>\n",
       "    .dataframe tbody tr th:only-of-type {\n",
       "        vertical-align: middle;\n",
       "    }\n",
       "\n",
       "    .dataframe tbody tr th {\n",
       "        vertical-align: top;\n",
       "    }\n",
       "\n",
       "    .dataframe thead th {\n",
       "        text-align: right;\n",
       "    }\n",
       "</style>\n",
       "<table border=\"1\" class=\"dataframe\">\n",
       "  <thead>\n",
       "    <tr style=\"text-align: right;\">\n",
       "      <th></th>\n",
       "      <th>Report Number</th>\n",
       "      <th>Offense ID</th>\n",
       "      <th>Offense Start DateTime</th>\n",
       "      <th>Report DateTime</th>\n",
       "      <th>Group A B</th>\n",
       "      <th>Crime Against Category</th>\n",
       "      <th>Offense Parent Group</th>\n",
       "      <th>Offense</th>\n",
       "      <th>Offense Code</th>\n",
       "      <th>Sector</th>\n",
       "      <th>Beat</th>\n",
       "      <th>MCPP</th>\n",
       "      <th>100 Block Address</th>\n",
       "      <th>Longitude</th>\n",
       "      <th>Latitude</th>\n",
       "    </tr>\n",
       "  </thead>\n",
       "  <tbody>\n",
       "    <tr>\n",
       "      <th>0</th>\n",
       "      <td>2020-044620</td>\n",
       "      <td>12605873663</td>\n",
       "      <td>02/05/2020 10:10:00 AM</td>\n",
       "      <td>02/05/2020 11:24:31 AM</td>\n",
       "      <td>A</td>\n",
       "      <td>SOCIETY</td>\n",
       "      <td>DRUG/NARCOTIC OFFENSES</td>\n",
       "      <td>Drug/Narcotic Violations</td>\n",
       "      <td>35A</td>\n",
       "      <td>Q</td>\n",
       "      <td>Q1</td>\n",
       "      <td>MAGNOLIA</td>\n",
       "      <td>32XX BLOCK OF 23RD AVE W</td>\n",
       "      <td>-122.385974</td>\n",
       "      <td>47.649387</td>\n",
       "    </tr>\n",
       "    <tr>\n",
       "      <th>1</th>\n",
       "      <td>2020-044452</td>\n",
       "      <td>12605598696</td>\n",
       "      <td>02/03/2020 08:00:00 AM</td>\n",
       "      <td>02/05/2020 10:06:28 AM</td>\n",
       "      <td>A</td>\n",
       "      <td>PROPERTY</td>\n",
       "      <td>LARCENY-THEFT</td>\n",
       "      <td>Theft of Motor Vehicle Parts or Accessories</td>\n",
       "      <td>23G</td>\n",
       "      <td>J</td>\n",
       "      <td>J3</td>\n",
       "      <td>ROOSEVELT/RAVENNA</td>\n",
       "      <td>63XX BLOCK OF 5TH AVE NE</td>\n",
       "      <td>-122.323399</td>\n",
       "      <td>47.675118</td>\n",
       "    </tr>\n",
       "    <tr>\n",
       "      <th>2</th>\n",
       "      <td>2020-044465</td>\n",
       "      <td>12605567653</td>\n",
       "      <td>02/02/2020 08:30:00 PM</td>\n",
       "      <td>02/05/2020 09:39:33 AM</td>\n",
       "      <td>A</td>\n",
       "      <td>PROPERTY</td>\n",
       "      <td>ROBBERY</td>\n",
       "      <td>Robbery</td>\n",
       "      <td>120</td>\n",
       "      <td>U</td>\n",
       "      <td>U3</td>\n",
       "      <td>ROOSEVELT/RAVENNA</td>\n",
       "      <td>26TH AVE NE / NE BLAKELEY ST</td>\n",
       "      <td>-122.299552</td>\n",
       "      <td>47.666384</td>\n",
       "    </tr>\n",
       "    <tr>\n",
       "      <th>3</th>\n",
       "      <td>2020-044225</td>\n",
       "      <td>12605174036</td>\n",
       "      <td>02/05/2020 01:17:00 AM</td>\n",
       "      <td>02/05/2020 03:30:55 AM</td>\n",
       "      <td>A</td>\n",
       "      <td>PROPERTY</td>\n",
       "      <td>DESTRUCTION/DAMAGE/VANDALISM OF PROPERTY</td>\n",
       "      <td>Destruction/Damage/Vandalism of Property</td>\n",
       "      <td>290</td>\n",
       "      <td>Q</td>\n",
       "      <td>Q1</td>\n",
       "      <td>MAGNOLIA</td>\n",
       "      <td>22XX BLOCK OF W RAYE ST</td>\n",
       "      <td>-122.384865</td>\n",
       "      <td>47.642927</td>\n",
       "    </tr>\n",
       "    <tr>\n",
       "      <th>4</th>\n",
       "      <td>2020-044076</td>\n",
       "      <td>12605081469</td>\n",
       "      <td>02/05/2020 12:51:21 AM</td>\n",
       "      <td>02/05/2020 12:51:31 AM</td>\n",
       "      <td>B</td>\n",
       "      <td>SOCIETY</td>\n",
       "      <td>DRIVING UNDER THE INFLUENCE</td>\n",
       "      <td>Driving Under the Influence</td>\n",
       "      <td>90D</td>\n",
       "      <td>B</td>\n",
       "      <td>B2</td>\n",
       "      <td>BALLARD SOUTH</td>\n",
       "      <td>NW 46TH ST / 8TH AVE NW</td>\n",
       "      <td>-122.366195</td>\n",
       "      <td>47.662193</td>\n",
       "    </tr>\n",
       "    <tr>\n",
       "      <th>...</th>\n",
       "      <td>...</td>\n",
       "      <td>...</td>\n",
       "      <td>...</td>\n",
       "      <td>...</td>\n",
       "      <td>...</td>\n",
       "      <td>...</td>\n",
       "      <td>...</td>\n",
       "      <td>...</td>\n",
       "      <td>...</td>\n",
       "      <td>...</td>\n",
       "      <td>...</td>\n",
       "      <td>...</td>\n",
       "      <td>...</td>\n",
       "      <td>...</td>\n",
       "      <td>...</td>\n",
       "    </tr>\n",
       "    <tr>\n",
       "      <th>1036231</th>\n",
       "      <td>2013-247888</td>\n",
       "      <td>7687554356</td>\n",
       "      <td>07/13/2013 01:00:00 AM</td>\n",
       "      <td>07/13/2013 06:37:00 AM</td>\n",
       "      <td>A</td>\n",
       "      <td>PROPERTY</td>\n",
       "      <td>MOTOR VEHICLE THEFT</td>\n",
       "      <td>Motor Vehicle Theft</td>\n",
       "      <td>240</td>\n",
       "      <td>F</td>\n",
       "      <td>F1</td>\n",
       "      <td>PIGEON POINT</td>\n",
       "      <td>41XX BLOCK OF 20TH AVE SW</td>\n",
       "      <td>-122.359028</td>\n",
       "      <td>47.565702</td>\n",
       "    </tr>\n",
       "    <tr>\n",
       "      <th>1036232</th>\n",
       "      <td>2013-227022</td>\n",
       "      <td>7682354808</td>\n",
       "      <td>06/26/2013 11:00:00 AM</td>\n",
       "      <td>06/29/2013 09:43:00 AM</td>\n",
       "      <td>A</td>\n",
       "      <td>PROPERTY</td>\n",
       "      <td>MOTOR VEHICLE THEFT</td>\n",
       "      <td>Motor Vehicle Theft</td>\n",
       "      <td>240</td>\n",
       "      <td>Q</td>\n",
       "      <td>Q3</td>\n",
       "      <td>QUEEN ANNE</td>\n",
       "      <td>1ST AVE N / VALLEY ST</td>\n",
       "      <td>-122.355386</td>\n",
       "      <td>47.626251</td>\n",
       "    </tr>\n",
       "    <tr>\n",
       "      <th>1036233</th>\n",
       "      <td>2012-045494</td>\n",
       "      <td>7672915592</td>\n",
       "      <td>02/14/2012 03:04:00 PM</td>\n",
       "      <td>02/14/2012 03:04:00 PM</td>\n",
       "      <td>A</td>\n",
       "      <td>PROPERTY</td>\n",
       "      <td>LARCENY-THEFT</td>\n",
       "      <td>Shoplifting</td>\n",
       "      <td>23C</td>\n",
       "      <td>U</td>\n",
       "      <td>U1</td>\n",
       "      <td>ROOSEVELT/RAVENNA</td>\n",
       "      <td>73XX BLOCK OF ROOSEVELT WAY NE</td>\n",
       "      <td>-122.317464</td>\n",
       "      <td>47.681894</td>\n",
       "    </tr>\n",
       "    <tr>\n",
       "      <th>1036234</th>\n",
       "      <td>2010-328592</td>\n",
       "      <td>7692227482</td>\n",
       "      <td>09/19/2010 04:59:00 PM</td>\n",
       "      <td>09/19/2010 04:59:00 PM</td>\n",
       "      <td>A</td>\n",
       "      <td>PROPERTY</td>\n",
       "      <td>LARCENY-THEFT</td>\n",
       "      <td>Shoplifting</td>\n",
       "      <td>23C</td>\n",
       "      <td>M</td>\n",
       "      <td>M3</td>\n",
       "      <td>DOWNTOWN COMMERCIAL</td>\n",
       "      <td>5XX BLOCK OF PIKE ST</td>\n",
       "      <td>-122.335018</td>\n",
       "      <td>47.610909</td>\n",
       "    </tr>\n",
       "    <tr>\n",
       "      <th>1036235</th>\n",
       "      <td>2010-064656</td>\n",
       "      <td>7686420892</td>\n",
       "      <td>02/25/2010 06:00:00 PM</td>\n",
       "      <td>02/26/2010 07:54:00 AM</td>\n",
       "      <td>A</td>\n",
       "      <td>PROPERTY</td>\n",
       "      <td>MOTOR VEHICLE THEFT</td>\n",
       "      <td>Motor Vehicle Theft</td>\n",
       "      <td>240</td>\n",
       "      <td>Q</td>\n",
       "      <td>Q2</td>\n",
       "      <td>QUEEN ANNE</td>\n",
       "      <td>26XX BLOCK OF 1ST AVE N</td>\n",
       "      <td>-122.355546</td>\n",
       "      <td>47.643681</td>\n",
       "    </tr>\n",
       "  </tbody>\n",
       "</table>\n",
       "<p>1034989 rows × 15 columns</p>\n",
       "</div>"
      ],
      "text/plain": [
       "        Report Number   Offense ID  Offense Start DateTime  \\\n",
       "0         2020-044620  12605873663  02/05/2020 10:10:00 AM   \n",
       "1         2020-044452  12605598696  02/03/2020 08:00:00 AM   \n",
       "2         2020-044465  12605567653  02/02/2020 08:30:00 PM   \n",
       "3         2020-044225  12605174036  02/05/2020 01:17:00 AM   \n",
       "4         2020-044076  12605081469  02/05/2020 12:51:21 AM   \n",
       "...               ...          ...                     ...   \n",
       "1036231   2013-247888   7687554356  07/13/2013 01:00:00 AM   \n",
       "1036232   2013-227022   7682354808  06/26/2013 11:00:00 AM   \n",
       "1036233   2012-045494   7672915592  02/14/2012 03:04:00 PM   \n",
       "1036234   2010-328592   7692227482  09/19/2010 04:59:00 PM   \n",
       "1036235   2010-064656   7686420892  02/25/2010 06:00:00 PM   \n",
       "\n",
       "                Report DateTime Group A B Crime Against Category  \\\n",
       "0        02/05/2020 11:24:31 AM         A                SOCIETY   \n",
       "1        02/05/2020 10:06:28 AM         A               PROPERTY   \n",
       "2        02/05/2020 09:39:33 AM         A               PROPERTY   \n",
       "3        02/05/2020 03:30:55 AM         A               PROPERTY   \n",
       "4        02/05/2020 12:51:31 AM         B                SOCIETY   \n",
       "...                         ...       ...                    ...   \n",
       "1036231  07/13/2013 06:37:00 AM         A               PROPERTY   \n",
       "1036232  06/29/2013 09:43:00 AM         A               PROPERTY   \n",
       "1036233  02/14/2012 03:04:00 PM         A               PROPERTY   \n",
       "1036234  09/19/2010 04:59:00 PM         A               PROPERTY   \n",
       "1036235  02/26/2010 07:54:00 AM         A               PROPERTY   \n",
       "\n",
       "                             Offense Parent Group  \\\n",
       "0                          DRUG/NARCOTIC OFFENSES   \n",
       "1                                   LARCENY-THEFT   \n",
       "2                                         ROBBERY   \n",
       "3        DESTRUCTION/DAMAGE/VANDALISM OF PROPERTY   \n",
       "4                     DRIVING UNDER THE INFLUENCE   \n",
       "...                                           ...   \n",
       "1036231                       MOTOR VEHICLE THEFT   \n",
       "1036232                       MOTOR VEHICLE THEFT   \n",
       "1036233                             LARCENY-THEFT   \n",
       "1036234                             LARCENY-THEFT   \n",
       "1036235                       MOTOR VEHICLE THEFT   \n",
       "\n",
       "                                             Offense Offense Code Sector Beat  \\\n",
       "0                           Drug/Narcotic Violations          35A      Q   Q1   \n",
       "1        Theft of Motor Vehicle Parts or Accessories          23G      J   J3   \n",
       "2                                            Robbery          120      U   U3   \n",
       "3           Destruction/Damage/Vandalism of Property          290      Q   Q1   \n",
       "4                        Driving Under the Influence          90D      B   B2   \n",
       "...                                              ...          ...    ...  ...   \n",
       "1036231                          Motor Vehicle Theft          240      F   F1   \n",
       "1036232                          Motor Vehicle Theft          240      Q   Q3   \n",
       "1036233                                  Shoplifting          23C      U   U1   \n",
       "1036234                                  Shoplifting          23C      M   M3   \n",
       "1036235                          Motor Vehicle Theft          240      Q   Q2   \n",
       "\n",
       "                        MCPP               100 Block Address   Longitude  \\\n",
       "0                   MAGNOLIA        32XX BLOCK OF 23RD AVE W -122.385974   \n",
       "1          ROOSEVELT/RAVENNA        63XX BLOCK OF 5TH AVE NE -122.323399   \n",
       "2          ROOSEVELT/RAVENNA    26TH AVE NE / NE BLAKELEY ST -122.299552   \n",
       "3                   MAGNOLIA         22XX BLOCK OF W RAYE ST -122.384865   \n",
       "4              BALLARD SOUTH         NW 46TH ST / 8TH AVE NW -122.366195   \n",
       "...                      ...                             ...         ...   \n",
       "1036231         PIGEON POINT       41XX BLOCK OF 20TH AVE SW -122.359028   \n",
       "1036232           QUEEN ANNE           1ST AVE N / VALLEY ST -122.355386   \n",
       "1036233    ROOSEVELT/RAVENNA  73XX BLOCK OF ROOSEVELT WAY NE -122.317464   \n",
       "1036234  DOWNTOWN COMMERCIAL            5XX BLOCK OF PIKE ST -122.335018   \n",
       "1036235           QUEEN ANNE         26XX BLOCK OF 1ST AVE N -122.355546   \n",
       "\n",
       "          Latitude  \n",
       "0        47.649387  \n",
       "1        47.675118  \n",
       "2        47.666384  \n",
       "3        47.642927  \n",
       "4        47.662193  \n",
       "...            ...  \n",
       "1036231  47.565702  \n",
       "1036232  47.626251  \n",
       "1036233  47.681894  \n",
       "1036234  47.610909  \n",
       "1036235  47.643681  \n",
       "\n",
       "[1034989 rows x 15 columns]"
      ]
     },
     "execution_count": 11,
     "metadata": {},
     "output_type": "execute_result"
    }
   ],
   "source": [
    "#Dropping Precinct column\n",
    "df =df.drop([\"Precinct\"], axis = 1)\n",
    "df"
   ]
  },
  {
   "cell_type": "code",
   "execution_count": 12,
   "metadata": {},
   "outputs": [],
   "source": [
    "#Dropping null values in the sector and beat column\n",
    "df = df.dropna(subset = [\"Sector\", \"Beat\"])"
   ]
  },
  {
   "cell_type": "markdown",
   "metadata": {},
   "source": [
    "Let's check the null values again"
   ]
  },
  {
   "cell_type": "code",
   "execution_count": 13,
   "metadata": {},
   "outputs": [
    {
     "data": {
      "text/plain": [
       "Report Number                 0\n",
       "Offense ID                    0\n",
       "Offense Start DateTime        0\n",
       "Report DateTime               0\n",
       "Group A B                     0\n",
       "Crime Against Category        0\n",
       "Offense Parent Group          0\n",
       "Offense                       0\n",
       "Offense Code                  0\n",
       "Sector                        0\n",
       "Beat                          0\n",
       "MCPP                          0\n",
       "100 Block Address         43857\n",
       "Longitude                     0\n",
       "Latitude                      0\n",
       "dtype: int64"
      ]
     },
     "execution_count": 13,
     "metadata": {},
     "output_type": "execute_result"
    }
   ],
   "source": [
    "df.isnull().sum()"
   ]
  },
  {
   "cell_type": "markdown",
   "metadata": {},
   "source": [
    "**100 Block Address**"
   ]
  },
  {
   "cell_type": "markdown",
   "metadata": {},
   "source": [
    "Lastly, we have the \"100 Block Address\" column. Since the information in this column is censored and doesn't give us very accurate locations, we'll eliminate the entire column."
   ]
  },
  {
   "cell_type": "code",
   "execution_count": 14,
   "metadata": {},
   "outputs": [
    {
     "data": {
      "text/html": [
       "<div>\n",
       "<style scoped>\n",
       "    .dataframe tbody tr th:only-of-type {\n",
       "        vertical-align: middle;\n",
       "    }\n",
       "\n",
       "    .dataframe tbody tr th {\n",
       "        vertical-align: top;\n",
       "    }\n",
       "\n",
       "    .dataframe thead th {\n",
       "        text-align: right;\n",
       "    }\n",
       "</style>\n",
       "<table border=\"1\" class=\"dataframe\">\n",
       "  <thead>\n",
       "    <tr style=\"text-align: right;\">\n",
       "      <th></th>\n",
       "      <th>Report Number</th>\n",
       "      <th>Offense ID</th>\n",
       "      <th>Offense Start DateTime</th>\n",
       "      <th>Report DateTime</th>\n",
       "      <th>Group A B</th>\n",
       "      <th>Crime Against Category</th>\n",
       "      <th>Offense Parent Group</th>\n",
       "      <th>Offense</th>\n",
       "      <th>Offense Code</th>\n",
       "      <th>Sector</th>\n",
       "      <th>Beat</th>\n",
       "      <th>MCPP</th>\n",
       "      <th>Longitude</th>\n",
       "      <th>Latitude</th>\n",
       "    </tr>\n",
       "  </thead>\n",
       "  <tbody>\n",
       "    <tr>\n",
       "      <th>0</th>\n",
       "      <td>2020-044620</td>\n",
       "      <td>12605873663</td>\n",
       "      <td>02/05/2020 10:10:00 AM</td>\n",
       "      <td>02/05/2020 11:24:31 AM</td>\n",
       "      <td>A</td>\n",
       "      <td>SOCIETY</td>\n",
       "      <td>DRUG/NARCOTIC OFFENSES</td>\n",
       "      <td>Drug/Narcotic Violations</td>\n",
       "      <td>35A</td>\n",
       "      <td>Q</td>\n",
       "      <td>Q1</td>\n",
       "      <td>MAGNOLIA</td>\n",
       "      <td>-122.385974</td>\n",
       "      <td>47.649387</td>\n",
       "    </tr>\n",
       "    <tr>\n",
       "      <th>1</th>\n",
       "      <td>2020-044452</td>\n",
       "      <td>12605598696</td>\n",
       "      <td>02/03/2020 08:00:00 AM</td>\n",
       "      <td>02/05/2020 10:06:28 AM</td>\n",
       "      <td>A</td>\n",
       "      <td>PROPERTY</td>\n",
       "      <td>LARCENY-THEFT</td>\n",
       "      <td>Theft of Motor Vehicle Parts or Accessories</td>\n",
       "      <td>23G</td>\n",
       "      <td>J</td>\n",
       "      <td>J3</td>\n",
       "      <td>ROOSEVELT/RAVENNA</td>\n",
       "      <td>-122.323399</td>\n",
       "      <td>47.675118</td>\n",
       "    </tr>\n",
       "    <tr>\n",
       "      <th>2</th>\n",
       "      <td>2020-044465</td>\n",
       "      <td>12605567653</td>\n",
       "      <td>02/02/2020 08:30:00 PM</td>\n",
       "      <td>02/05/2020 09:39:33 AM</td>\n",
       "      <td>A</td>\n",
       "      <td>PROPERTY</td>\n",
       "      <td>ROBBERY</td>\n",
       "      <td>Robbery</td>\n",
       "      <td>120</td>\n",
       "      <td>U</td>\n",
       "      <td>U3</td>\n",
       "      <td>ROOSEVELT/RAVENNA</td>\n",
       "      <td>-122.299552</td>\n",
       "      <td>47.666384</td>\n",
       "    </tr>\n",
       "    <tr>\n",
       "      <th>3</th>\n",
       "      <td>2020-044225</td>\n",
       "      <td>12605174036</td>\n",
       "      <td>02/05/2020 01:17:00 AM</td>\n",
       "      <td>02/05/2020 03:30:55 AM</td>\n",
       "      <td>A</td>\n",
       "      <td>PROPERTY</td>\n",
       "      <td>DESTRUCTION/DAMAGE/VANDALISM OF PROPERTY</td>\n",
       "      <td>Destruction/Damage/Vandalism of Property</td>\n",
       "      <td>290</td>\n",
       "      <td>Q</td>\n",
       "      <td>Q1</td>\n",
       "      <td>MAGNOLIA</td>\n",
       "      <td>-122.384865</td>\n",
       "      <td>47.642927</td>\n",
       "    </tr>\n",
       "    <tr>\n",
       "      <th>4</th>\n",
       "      <td>2020-044076</td>\n",
       "      <td>12605081469</td>\n",
       "      <td>02/05/2020 12:51:21 AM</td>\n",
       "      <td>02/05/2020 12:51:31 AM</td>\n",
       "      <td>B</td>\n",
       "      <td>SOCIETY</td>\n",
       "      <td>DRIVING UNDER THE INFLUENCE</td>\n",
       "      <td>Driving Under the Influence</td>\n",
       "      <td>90D</td>\n",
       "      <td>B</td>\n",
       "      <td>B2</td>\n",
       "      <td>BALLARD SOUTH</td>\n",
       "      <td>-122.366195</td>\n",
       "      <td>47.662193</td>\n",
       "    </tr>\n",
       "    <tr>\n",
       "      <th>...</th>\n",
       "      <td>...</td>\n",
       "      <td>...</td>\n",
       "      <td>...</td>\n",
       "      <td>...</td>\n",
       "      <td>...</td>\n",
       "      <td>...</td>\n",
       "      <td>...</td>\n",
       "      <td>...</td>\n",
       "      <td>...</td>\n",
       "      <td>...</td>\n",
       "      <td>...</td>\n",
       "      <td>...</td>\n",
       "      <td>...</td>\n",
       "      <td>...</td>\n",
       "    </tr>\n",
       "    <tr>\n",
       "      <th>1036231</th>\n",
       "      <td>2013-247888</td>\n",
       "      <td>7687554356</td>\n",
       "      <td>07/13/2013 01:00:00 AM</td>\n",
       "      <td>07/13/2013 06:37:00 AM</td>\n",
       "      <td>A</td>\n",
       "      <td>PROPERTY</td>\n",
       "      <td>MOTOR VEHICLE THEFT</td>\n",
       "      <td>Motor Vehicle Theft</td>\n",
       "      <td>240</td>\n",
       "      <td>F</td>\n",
       "      <td>F1</td>\n",
       "      <td>PIGEON POINT</td>\n",
       "      <td>-122.359028</td>\n",
       "      <td>47.565702</td>\n",
       "    </tr>\n",
       "    <tr>\n",
       "      <th>1036232</th>\n",
       "      <td>2013-227022</td>\n",
       "      <td>7682354808</td>\n",
       "      <td>06/26/2013 11:00:00 AM</td>\n",
       "      <td>06/29/2013 09:43:00 AM</td>\n",
       "      <td>A</td>\n",
       "      <td>PROPERTY</td>\n",
       "      <td>MOTOR VEHICLE THEFT</td>\n",
       "      <td>Motor Vehicle Theft</td>\n",
       "      <td>240</td>\n",
       "      <td>Q</td>\n",
       "      <td>Q3</td>\n",
       "      <td>QUEEN ANNE</td>\n",
       "      <td>-122.355386</td>\n",
       "      <td>47.626251</td>\n",
       "    </tr>\n",
       "    <tr>\n",
       "      <th>1036233</th>\n",
       "      <td>2012-045494</td>\n",
       "      <td>7672915592</td>\n",
       "      <td>02/14/2012 03:04:00 PM</td>\n",
       "      <td>02/14/2012 03:04:00 PM</td>\n",
       "      <td>A</td>\n",
       "      <td>PROPERTY</td>\n",
       "      <td>LARCENY-THEFT</td>\n",
       "      <td>Shoplifting</td>\n",
       "      <td>23C</td>\n",
       "      <td>U</td>\n",
       "      <td>U1</td>\n",
       "      <td>ROOSEVELT/RAVENNA</td>\n",
       "      <td>-122.317464</td>\n",
       "      <td>47.681894</td>\n",
       "    </tr>\n",
       "    <tr>\n",
       "      <th>1036234</th>\n",
       "      <td>2010-328592</td>\n",
       "      <td>7692227482</td>\n",
       "      <td>09/19/2010 04:59:00 PM</td>\n",
       "      <td>09/19/2010 04:59:00 PM</td>\n",
       "      <td>A</td>\n",
       "      <td>PROPERTY</td>\n",
       "      <td>LARCENY-THEFT</td>\n",
       "      <td>Shoplifting</td>\n",
       "      <td>23C</td>\n",
       "      <td>M</td>\n",
       "      <td>M3</td>\n",
       "      <td>DOWNTOWN COMMERCIAL</td>\n",
       "      <td>-122.335018</td>\n",
       "      <td>47.610909</td>\n",
       "    </tr>\n",
       "    <tr>\n",
       "      <th>1036235</th>\n",
       "      <td>2010-064656</td>\n",
       "      <td>7686420892</td>\n",
       "      <td>02/25/2010 06:00:00 PM</td>\n",
       "      <td>02/26/2010 07:54:00 AM</td>\n",
       "      <td>A</td>\n",
       "      <td>PROPERTY</td>\n",
       "      <td>MOTOR VEHICLE THEFT</td>\n",
       "      <td>Motor Vehicle Theft</td>\n",
       "      <td>240</td>\n",
       "      <td>Q</td>\n",
       "      <td>Q2</td>\n",
       "      <td>QUEEN ANNE</td>\n",
       "      <td>-122.355546</td>\n",
       "      <td>47.643681</td>\n",
       "    </tr>\n",
       "  </tbody>\n",
       "</table>\n",
       "<p>1034987 rows × 14 columns</p>\n",
       "</div>"
      ],
      "text/plain": [
       "        Report Number   Offense ID  Offense Start DateTime  \\\n",
       "0         2020-044620  12605873663  02/05/2020 10:10:00 AM   \n",
       "1         2020-044452  12605598696  02/03/2020 08:00:00 AM   \n",
       "2         2020-044465  12605567653  02/02/2020 08:30:00 PM   \n",
       "3         2020-044225  12605174036  02/05/2020 01:17:00 AM   \n",
       "4         2020-044076  12605081469  02/05/2020 12:51:21 AM   \n",
       "...               ...          ...                     ...   \n",
       "1036231   2013-247888   7687554356  07/13/2013 01:00:00 AM   \n",
       "1036232   2013-227022   7682354808  06/26/2013 11:00:00 AM   \n",
       "1036233   2012-045494   7672915592  02/14/2012 03:04:00 PM   \n",
       "1036234   2010-328592   7692227482  09/19/2010 04:59:00 PM   \n",
       "1036235   2010-064656   7686420892  02/25/2010 06:00:00 PM   \n",
       "\n",
       "                Report DateTime Group A B Crime Against Category  \\\n",
       "0        02/05/2020 11:24:31 AM         A                SOCIETY   \n",
       "1        02/05/2020 10:06:28 AM         A               PROPERTY   \n",
       "2        02/05/2020 09:39:33 AM         A               PROPERTY   \n",
       "3        02/05/2020 03:30:55 AM         A               PROPERTY   \n",
       "4        02/05/2020 12:51:31 AM         B                SOCIETY   \n",
       "...                         ...       ...                    ...   \n",
       "1036231  07/13/2013 06:37:00 AM         A               PROPERTY   \n",
       "1036232  06/29/2013 09:43:00 AM         A               PROPERTY   \n",
       "1036233  02/14/2012 03:04:00 PM         A               PROPERTY   \n",
       "1036234  09/19/2010 04:59:00 PM         A               PROPERTY   \n",
       "1036235  02/26/2010 07:54:00 AM         A               PROPERTY   \n",
       "\n",
       "                             Offense Parent Group  \\\n",
       "0                          DRUG/NARCOTIC OFFENSES   \n",
       "1                                   LARCENY-THEFT   \n",
       "2                                         ROBBERY   \n",
       "3        DESTRUCTION/DAMAGE/VANDALISM OF PROPERTY   \n",
       "4                     DRIVING UNDER THE INFLUENCE   \n",
       "...                                           ...   \n",
       "1036231                       MOTOR VEHICLE THEFT   \n",
       "1036232                       MOTOR VEHICLE THEFT   \n",
       "1036233                             LARCENY-THEFT   \n",
       "1036234                             LARCENY-THEFT   \n",
       "1036235                       MOTOR VEHICLE THEFT   \n",
       "\n",
       "                                             Offense Offense Code Sector Beat  \\\n",
       "0                           Drug/Narcotic Violations          35A      Q   Q1   \n",
       "1        Theft of Motor Vehicle Parts or Accessories          23G      J   J3   \n",
       "2                                            Robbery          120      U   U3   \n",
       "3           Destruction/Damage/Vandalism of Property          290      Q   Q1   \n",
       "4                        Driving Under the Influence          90D      B   B2   \n",
       "...                                              ...          ...    ...  ...   \n",
       "1036231                          Motor Vehicle Theft          240      F   F1   \n",
       "1036232                          Motor Vehicle Theft          240      Q   Q3   \n",
       "1036233                                  Shoplifting          23C      U   U1   \n",
       "1036234                                  Shoplifting          23C      M   M3   \n",
       "1036235                          Motor Vehicle Theft          240      Q   Q2   \n",
       "\n",
       "                        MCPP   Longitude   Latitude  \n",
       "0                   MAGNOLIA -122.385974  47.649387  \n",
       "1          ROOSEVELT/RAVENNA -122.323399  47.675118  \n",
       "2          ROOSEVELT/RAVENNA -122.299552  47.666384  \n",
       "3                   MAGNOLIA -122.384865  47.642927  \n",
       "4              BALLARD SOUTH -122.366195  47.662193  \n",
       "...                      ...         ...        ...  \n",
       "1036231         PIGEON POINT -122.359028  47.565702  \n",
       "1036232           QUEEN ANNE -122.355386  47.626251  \n",
       "1036233    ROOSEVELT/RAVENNA -122.317464  47.681894  \n",
       "1036234  DOWNTOWN COMMERCIAL -122.335018  47.610909  \n",
       "1036235           QUEEN ANNE -122.355546  47.643681  \n",
       "\n",
       "[1034987 rows x 14 columns]"
      ]
     },
     "execution_count": 14,
     "metadata": {},
     "output_type": "execute_result"
    }
   ],
   "source": [
    "df =df.drop([\"100 Block Address\"], axis = 1)\n",
    "df"
   ]
  },
  {
   "cell_type": "markdown",
   "metadata": {},
   "source": [
    "Let's take another look at our null values"
   ]
  },
  {
   "cell_type": "code",
   "execution_count": 15,
   "metadata": {},
   "outputs": [
    {
     "data": {
      "text/plain": [
       "Report Number             0\n",
       "Offense ID                0\n",
       "Offense Start DateTime    0\n",
       "Report DateTime           0\n",
       "Group A B                 0\n",
       "Crime Against Category    0\n",
       "Offense Parent Group      0\n",
       "Offense                   0\n",
       "Offense Code              0\n",
       "Sector                    0\n",
       "Beat                      0\n",
       "MCPP                      0\n",
       "Longitude                 0\n",
       "Latitude                  0\n",
       "dtype: int64"
      ]
     },
     "execution_count": 15,
     "metadata": {},
     "output_type": "execute_result"
    }
   ],
   "source": [
    "df.isnull().sum()"
   ]
  },
  {
   "cell_type": "markdown",
   "metadata": {},
   "source": [
    "We can now move onto cleaning other parts of our data"
   ]
  },
  {
   "cell_type": "markdown",
   "metadata": {},
   "source": [
    "### 2) Eliminating Other Variables ###"
   ]
  },
  {
   "cell_type": "markdown",
   "metadata": {},
   "source": [
    "We can eliminate some of the following variables: "
   ]
  },
  {
   "cell_type": "markdown",
   "metadata": {},
   "source": [
    "* Report Number, since that won't help us with future predictions\n",
    "* Offense ID, a unique identifier that also won't help with future predictions\n",
    "* Report DateTime, since the time a crime is reported can differ from when it actually started\n",
    "* Group A B, since no additional information is given on what the different groups represent \n",
    "* Offense Parent Group, since we have a separate column for what the actual offense was\n",
    "* Offense Code, since we already have the title of the offense via our Offense variable\n",
    "* Longitude, since the actual longitude is censored to within 100 blocks\n",
    "* Latitude, since latitude is also censored to within 100 blocks"
   ]
  },
  {
   "cell_type": "code",
   "execution_count": 16,
   "metadata": {},
   "outputs": [
    {
     "data": {
      "text/html": [
       "<div>\n",
       "<style scoped>\n",
       "    .dataframe tbody tr th:only-of-type {\n",
       "        vertical-align: middle;\n",
       "    }\n",
       "\n",
       "    .dataframe tbody tr th {\n",
       "        vertical-align: top;\n",
       "    }\n",
       "\n",
       "    .dataframe thead th {\n",
       "        text-align: right;\n",
       "    }\n",
       "</style>\n",
       "<table border=\"1\" class=\"dataframe\">\n",
       "  <thead>\n",
       "    <tr style=\"text-align: right;\">\n",
       "      <th></th>\n",
       "      <th>Offense Start DateTime</th>\n",
       "      <th>Crime Against Category</th>\n",
       "      <th>Offense</th>\n",
       "      <th>Sector</th>\n",
       "      <th>Beat</th>\n",
       "      <th>MCPP</th>\n",
       "    </tr>\n",
       "  </thead>\n",
       "  <tbody>\n",
       "    <tr>\n",
       "      <th>0</th>\n",
       "      <td>02/05/2020 10:10:00 AM</td>\n",
       "      <td>SOCIETY</td>\n",
       "      <td>Drug/Narcotic Violations</td>\n",
       "      <td>Q</td>\n",
       "      <td>Q1</td>\n",
       "      <td>MAGNOLIA</td>\n",
       "    </tr>\n",
       "    <tr>\n",
       "      <th>1</th>\n",
       "      <td>02/03/2020 08:00:00 AM</td>\n",
       "      <td>PROPERTY</td>\n",
       "      <td>Theft of Motor Vehicle Parts or Accessories</td>\n",
       "      <td>J</td>\n",
       "      <td>J3</td>\n",
       "      <td>ROOSEVELT/RAVENNA</td>\n",
       "    </tr>\n",
       "    <tr>\n",
       "      <th>2</th>\n",
       "      <td>02/02/2020 08:30:00 PM</td>\n",
       "      <td>PROPERTY</td>\n",
       "      <td>Robbery</td>\n",
       "      <td>U</td>\n",
       "      <td>U3</td>\n",
       "      <td>ROOSEVELT/RAVENNA</td>\n",
       "    </tr>\n",
       "    <tr>\n",
       "      <th>3</th>\n",
       "      <td>02/05/2020 01:17:00 AM</td>\n",
       "      <td>PROPERTY</td>\n",
       "      <td>Destruction/Damage/Vandalism of Property</td>\n",
       "      <td>Q</td>\n",
       "      <td>Q1</td>\n",
       "      <td>MAGNOLIA</td>\n",
       "    </tr>\n",
       "    <tr>\n",
       "      <th>4</th>\n",
       "      <td>02/05/2020 12:51:21 AM</td>\n",
       "      <td>SOCIETY</td>\n",
       "      <td>Driving Under the Influence</td>\n",
       "      <td>B</td>\n",
       "      <td>B2</td>\n",
       "      <td>BALLARD SOUTH</td>\n",
       "    </tr>\n",
       "    <tr>\n",
       "      <th>...</th>\n",
       "      <td>...</td>\n",
       "      <td>...</td>\n",
       "      <td>...</td>\n",
       "      <td>...</td>\n",
       "      <td>...</td>\n",
       "      <td>...</td>\n",
       "    </tr>\n",
       "    <tr>\n",
       "      <th>1036231</th>\n",
       "      <td>07/13/2013 01:00:00 AM</td>\n",
       "      <td>PROPERTY</td>\n",
       "      <td>Motor Vehicle Theft</td>\n",
       "      <td>F</td>\n",
       "      <td>F1</td>\n",
       "      <td>PIGEON POINT</td>\n",
       "    </tr>\n",
       "    <tr>\n",
       "      <th>1036232</th>\n",
       "      <td>06/26/2013 11:00:00 AM</td>\n",
       "      <td>PROPERTY</td>\n",
       "      <td>Motor Vehicle Theft</td>\n",
       "      <td>Q</td>\n",
       "      <td>Q3</td>\n",
       "      <td>QUEEN ANNE</td>\n",
       "    </tr>\n",
       "    <tr>\n",
       "      <th>1036233</th>\n",
       "      <td>02/14/2012 03:04:00 PM</td>\n",
       "      <td>PROPERTY</td>\n",
       "      <td>Shoplifting</td>\n",
       "      <td>U</td>\n",
       "      <td>U1</td>\n",
       "      <td>ROOSEVELT/RAVENNA</td>\n",
       "    </tr>\n",
       "    <tr>\n",
       "      <th>1036234</th>\n",
       "      <td>09/19/2010 04:59:00 PM</td>\n",
       "      <td>PROPERTY</td>\n",
       "      <td>Shoplifting</td>\n",
       "      <td>M</td>\n",
       "      <td>M3</td>\n",
       "      <td>DOWNTOWN COMMERCIAL</td>\n",
       "    </tr>\n",
       "    <tr>\n",
       "      <th>1036235</th>\n",
       "      <td>02/25/2010 06:00:00 PM</td>\n",
       "      <td>PROPERTY</td>\n",
       "      <td>Motor Vehicle Theft</td>\n",
       "      <td>Q</td>\n",
       "      <td>Q2</td>\n",
       "      <td>QUEEN ANNE</td>\n",
       "    </tr>\n",
       "  </tbody>\n",
       "</table>\n",
       "<p>1034987 rows × 6 columns</p>\n",
       "</div>"
      ],
      "text/plain": [
       "         Offense Start DateTime Crime Against Category  \\\n",
       "0        02/05/2020 10:10:00 AM                SOCIETY   \n",
       "1        02/03/2020 08:00:00 AM               PROPERTY   \n",
       "2        02/02/2020 08:30:00 PM               PROPERTY   \n",
       "3        02/05/2020 01:17:00 AM               PROPERTY   \n",
       "4        02/05/2020 12:51:21 AM                SOCIETY   \n",
       "...                         ...                    ...   \n",
       "1036231  07/13/2013 01:00:00 AM               PROPERTY   \n",
       "1036232  06/26/2013 11:00:00 AM               PROPERTY   \n",
       "1036233  02/14/2012 03:04:00 PM               PROPERTY   \n",
       "1036234  09/19/2010 04:59:00 PM               PROPERTY   \n",
       "1036235  02/25/2010 06:00:00 PM               PROPERTY   \n",
       "\n",
       "                                             Offense Sector Beat  \\\n",
       "0                           Drug/Narcotic Violations      Q   Q1   \n",
       "1        Theft of Motor Vehicle Parts or Accessories      J   J3   \n",
       "2                                            Robbery      U   U3   \n",
       "3           Destruction/Damage/Vandalism of Property      Q   Q1   \n",
       "4                        Driving Under the Influence      B   B2   \n",
       "...                                              ...    ...  ...   \n",
       "1036231                          Motor Vehicle Theft      F   F1   \n",
       "1036232                          Motor Vehicle Theft      Q   Q3   \n",
       "1036233                                  Shoplifting      U   U1   \n",
       "1036234                                  Shoplifting      M   M3   \n",
       "1036235                          Motor Vehicle Theft      Q   Q2   \n",
       "\n",
       "                        MCPP  \n",
       "0                   MAGNOLIA  \n",
       "1          ROOSEVELT/RAVENNA  \n",
       "2          ROOSEVELT/RAVENNA  \n",
       "3                   MAGNOLIA  \n",
       "4              BALLARD SOUTH  \n",
       "...                      ...  \n",
       "1036231         PIGEON POINT  \n",
       "1036232           QUEEN ANNE  \n",
       "1036233    ROOSEVELT/RAVENNA  \n",
       "1036234  DOWNTOWN COMMERCIAL  \n",
       "1036235           QUEEN ANNE  \n",
       "\n",
       "[1034987 rows x 6 columns]"
      ]
     },
     "execution_count": 16,
     "metadata": {},
     "output_type": "execute_result"
    }
   ],
   "source": [
    "#Eliminating above mentioned variables\n",
    "df = df.drop(columns = [\"Report Number\", \"Offense ID\", \"Report DateTime\", \"Group A B\", \"Offense Parent Group\", \"Offense Code\", \"Longitude\", \"Latitude\"])\n",
    "df"
   ]
  },
  {
   "cell_type": "markdown",
   "metadata": {},
   "source": [
    "### 3) Data Types ###"
   ]
  },
  {
   "cell_type": "markdown",
   "metadata": {},
   "source": [
    "We need to make sure our data is in appropiate format, to use for our models. Let's take a look at the different types of data, and see if we can convert into usable formats."
   ]
  },
  {
   "cell_type": "code",
   "execution_count": 17,
   "metadata": {},
   "outputs": [
    {
     "name": "stdout",
     "output_type": "stream",
     "text": [
      "<class 'pandas.core.frame.DataFrame'>\n",
      "Int64Index: 1034987 entries, 0 to 1036235\n",
      "Data columns (total 6 columns):\n",
      " #   Column                  Non-Null Count    Dtype \n",
      "---  ------                  --------------    ----- \n",
      " 0   Offense Start DateTime  1034987 non-null  object\n",
      " 1   Crime Against Category  1034987 non-null  object\n",
      " 2   Offense                 1034987 non-null  object\n",
      " 3   Sector                  1034987 non-null  object\n",
      " 4   Beat                    1034987 non-null  object\n",
      " 5   MCPP                    1034987 non-null  object\n",
      "dtypes: object(6)\n",
      "memory usage: 55.3+ MB\n"
     ]
    }
   ],
   "source": [
    "df.info()"
   ]
  },
  {
   "cell_type": "markdown",
   "metadata": {},
   "source": [
    "**Offense Start Date Time**\n",
    "\n",
    "Let's start by converting our \"Offense Start Date Time\" into a datetime type."
   ]
  },
  {
   "cell_type": "code",
   "execution_count": 18,
   "metadata": {},
   "outputs": [],
   "source": [
    "df[\"Offense Start DateTime\"] = df[\"Offense Start DateTime\"].astype('datetime64[ns]')"
   ]
  },
  {
   "cell_type": "code",
   "execution_count": 19,
   "metadata": {},
   "outputs": [
    {
     "name": "stdout",
     "output_type": "stream",
     "text": [
      "<class 'pandas.core.frame.DataFrame'>\n",
      "Int64Index: 1034987 entries, 0 to 1036235\n",
      "Data columns (total 6 columns):\n",
      " #   Column                  Non-Null Count    Dtype         \n",
      "---  ------                  --------------    -----         \n",
      " 0   Offense Start DateTime  1034987 non-null  datetime64[ns]\n",
      " 1   Crime Against Category  1034987 non-null  object        \n",
      " 2   Offense                 1034987 non-null  object        \n",
      " 3   Sector                  1034987 non-null  object        \n",
      " 4   Beat                    1034987 non-null  object        \n",
      " 5   MCPP                    1034987 non-null  object        \n",
      "dtypes: datetime64[ns](1), object(5)\n",
      "memory usage: 55.3+ MB\n"
     ]
    }
   ],
   "source": [
    "df.info()"
   ]
  },
  {
   "cell_type": "markdown",
   "metadata": {},
   "source": [
    "Let's split our datetime column into separate columns for day and time that the crime occured."
   ]
  },
  {
   "cell_type": "code",
   "execution_count": 20,
   "metadata": {},
   "outputs": [],
   "source": [
    "df['Time'] = pd.to_datetime(df['Offense Start DateTime']).dt.time\n",
    "df['Day'] = pd.to_datetime(df['Offense Start DateTime']).dt.weekday\n",
    "df['Year'] = pd.to_datetime(df['Offense Start DateTime']).dt.year"
   ]
  },
  {
   "cell_type": "code",
   "execution_count": 21,
   "metadata": {
    "scrolled": true
   },
   "outputs": [
    {
     "data": {
      "text/html": [
       "<div>\n",
       "<style scoped>\n",
       "    .dataframe tbody tr th:only-of-type {\n",
       "        vertical-align: middle;\n",
       "    }\n",
       "\n",
       "    .dataframe tbody tr th {\n",
       "        vertical-align: top;\n",
       "    }\n",
       "\n",
       "    .dataframe thead th {\n",
       "        text-align: right;\n",
       "    }\n",
       "</style>\n",
       "<table border=\"1\" class=\"dataframe\">\n",
       "  <thead>\n",
       "    <tr style=\"text-align: right;\">\n",
       "      <th></th>\n",
       "      <th>Offense Start DateTime</th>\n",
       "      <th>Crime Against Category</th>\n",
       "      <th>Offense</th>\n",
       "      <th>Sector</th>\n",
       "      <th>Beat</th>\n",
       "      <th>MCPP</th>\n",
       "      <th>Time</th>\n",
       "      <th>Day</th>\n",
       "      <th>Year</th>\n",
       "    </tr>\n",
       "  </thead>\n",
       "  <tbody>\n",
       "    <tr>\n",
       "      <th>0</th>\n",
       "      <td>2020-02-05 10:10:00</td>\n",
       "      <td>SOCIETY</td>\n",
       "      <td>Drug/Narcotic Violations</td>\n",
       "      <td>Q</td>\n",
       "      <td>Q1</td>\n",
       "      <td>MAGNOLIA</td>\n",
       "      <td>10:10:00</td>\n",
       "      <td>2</td>\n",
       "      <td>2020</td>\n",
       "    </tr>\n",
       "    <tr>\n",
       "      <th>1</th>\n",
       "      <td>2020-02-03 08:00:00</td>\n",
       "      <td>PROPERTY</td>\n",
       "      <td>Theft of Motor Vehicle Parts or Accessories</td>\n",
       "      <td>J</td>\n",
       "      <td>J3</td>\n",
       "      <td>ROOSEVELT/RAVENNA</td>\n",
       "      <td>08:00:00</td>\n",
       "      <td>0</td>\n",
       "      <td>2020</td>\n",
       "    </tr>\n",
       "    <tr>\n",
       "      <th>2</th>\n",
       "      <td>2020-02-02 20:30:00</td>\n",
       "      <td>PROPERTY</td>\n",
       "      <td>Robbery</td>\n",
       "      <td>U</td>\n",
       "      <td>U3</td>\n",
       "      <td>ROOSEVELT/RAVENNA</td>\n",
       "      <td>20:30:00</td>\n",
       "      <td>6</td>\n",
       "      <td>2020</td>\n",
       "    </tr>\n",
       "    <tr>\n",
       "      <th>3</th>\n",
       "      <td>2020-02-05 01:17:00</td>\n",
       "      <td>PROPERTY</td>\n",
       "      <td>Destruction/Damage/Vandalism of Property</td>\n",
       "      <td>Q</td>\n",
       "      <td>Q1</td>\n",
       "      <td>MAGNOLIA</td>\n",
       "      <td>01:17:00</td>\n",
       "      <td>2</td>\n",
       "      <td>2020</td>\n",
       "    </tr>\n",
       "    <tr>\n",
       "      <th>4</th>\n",
       "      <td>2020-02-05 00:51:21</td>\n",
       "      <td>SOCIETY</td>\n",
       "      <td>Driving Under the Influence</td>\n",
       "      <td>B</td>\n",
       "      <td>B2</td>\n",
       "      <td>BALLARD SOUTH</td>\n",
       "      <td>00:51:21</td>\n",
       "      <td>2</td>\n",
       "      <td>2020</td>\n",
       "    </tr>\n",
       "    <tr>\n",
       "      <th>...</th>\n",
       "      <td>...</td>\n",
       "      <td>...</td>\n",
       "      <td>...</td>\n",
       "      <td>...</td>\n",
       "      <td>...</td>\n",
       "      <td>...</td>\n",
       "      <td>...</td>\n",
       "      <td>...</td>\n",
       "      <td>...</td>\n",
       "    </tr>\n",
       "    <tr>\n",
       "      <th>1036231</th>\n",
       "      <td>2013-07-13 01:00:00</td>\n",
       "      <td>PROPERTY</td>\n",
       "      <td>Motor Vehicle Theft</td>\n",
       "      <td>F</td>\n",
       "      <td>F1</td>\n",
       "      <td>PIGEON POINT</td>\n",
       "      <td>01:00:00</td>\n",
       "      <td>5</td>\n",
       "      <td>2013</td>\n",
       "    </tr>\n",
       "    <tr>\n",
       "      <th>1036232</th>\n",
       "      <td>2013-06-26 11:00:00</td>\n",
       "      <td>PROPERTY</td>\n",
       "      <td>Motor Vehicle Theft</td>\n",
       "      <td>Q</td>\n",
       "      <td>Q3</td>\n",
       "      <td>QUEEN ANNE</td>\n",
       "      <td>11:00:00</td>\n",
       "      <td>2</td>\n",
       "      <td>2013</td>\n",
       "    </tr>\n",
       "    <tr>\n",
       "      <th>1036233</th>\n",
       "      <td>2012-02-14 15:04:00</td>\n",
       "      <td>PROPERTY</td>\n",
       "      <td>Shoplifting</td>\n",
       "      <td>U</td>\n",
       "      <td>U1</td>\n",
       "      <td>ROOSEVELT/RAVENNA</td>\n",
       "      <td>15:04:00</td>\n",
       "      <td>1</td>\n",
       "      <td>2012</td>\n",
       "    </tr>\n",
       "    <tr>\n",
       "      <th>1036234</th>\n",
       "      <td>2010-09-19 16:59:00</td>\n",
       "      <td>PROPERTY</td>\n",
       "      <td>Shoplifting</td>\n",
       "      <td>M</td>\n",
       "      <td>M3</td>\n",
       "      <td>DOWNTOWN COMMERCIAL</td>\n",
       "      <td>16:59:00</td>\n",
       "      <td>6</td>\n",
       "      <td>2010</td>\n",
       "    </tr>\n",
       "    <tr>\n",
       "      <th>1036235</th>\n",
       "      <td>2010-02-25 18:00:00</td>\n",
       "      <td>PROPERTY</td>\n",
       "      <td>Motor Vehicle Theft</td>\n",
       "      <td>Q</td>\n",
       "      <td>Q2</td>\n",
       "      <td>QUEEN ANNE</td>\n",
       "      <td>18:00:00</td>\n",
       "      <td>3</td>\n",
       "      <td>2010</td>\n",
       "    </tr>\n",
       "  </tbody>\n",
       "</table>\n",
       "<p>1034987 rows × 9 columns</p>\n",
       "</div>"
      ],
      "text/plain": [
       "        Offense Start DateTime Crime Against Category  \\\n",
       "0          2020-02-05 10:10:00                SOCIETY   \n",
       "1          2020-02-03 08:00:00               PROPERTY   \n",
       "2          2020-02-02 20:30:00               PROPERTY   \n",
       "3          2020-02-05 01:17:00               PROPERTY   \n",
       "4          2020-02-05 00:51:21                SOCIETY   \n",
       "...                        ...                    ...   \n",
       "1036231    2013-07-13 01:00:00               PROPERTY   \n",
       "1036232    2013-06-26 11:00:00               PROPERTY   \n",
       "1036233    2012-02-14 15:04:00               PROPERTY   \n",
       "1036234    2010-09-19 16:59:00               PROPERTY   \n",
       "1036235    2010-02-25 18:00:00               PROPERTY   \n",
       "\n",
       "                                             Offense Sector Beat  \\\n",
       "0                           Drug/Narcotic Violations      Q   Q1   \n",
       "1        Theft of Motor Vehicle Parts or Accessories      J   J3   \n",
       "2                                            Robbery      U   U3   \n",
       "3           Destruction/Damage/Vandalism of Property      Q   Q1   \n",
       "4                        Driving Under the Influence      B   B2   \n",
       "...                                              ...    ...  ...   \n",
       "1036231                          Motor Vehicle Theft      F   F1   \n",
       "1036232                          Motor Vehicle Theft      Q   Q3   \n",
       "1036233                                  Shoplifting      U   U1   \n",
       "1036234                                  Shoplifting      M   M3   \n",
       "1036235                          Motor Vehicle Theft      Q   Q2   \n",
       "\n",
       "                        MCPP      Time  Day  Year  \n",
       "0                   MAGNOLIA  10:10:00    2  2020  \n",
       "1          ROOSEVELT/RAVENNA  08:00:00    0  2020  \n",
       "2          ROOSEVELT/RAVENNA  20:30:00    6  2020  \n",
       "3                   MAGNOLIA  01:17:00    2  2020  \n",
       "4              BALLARD SOUTH  00:51:21    2  2020  \n",
       "...                      ...       ...  ...   ...  \n",
       "1036231         PIGEON POINT  01:00:00    5  2013  \n",
       "1036232           QUEEN ANNE  11:00:00    2  2013  \n",
       "1036233    ROOSEVELT/RAVENNA  15:04:00    1  2012  \n",
       "1036234  DOWNTOWN COMMERCIAL  16:59:00    6  2010  \n",
       "1036235           QUEEN ANNE  18:00:00    3  2010  \n",
       "\n",
       "[1034987 rows x 9 columns]"
      ]
     },
     "execution_count": 21,
     "metadata": {},
     "output_type": "execute_result"
    }
   ],
   "source": [
    "df"
   ]
  },
  {
   "cell_type": "code",
   "execution_count": 22,
   "metadata": {},
   "outputs": [
    {
     "name": "stdout",
     "output_type": "stream",
     "text": [
      "<class 'pandas.core.frame.DataFrame'>\n",
      "Int64Index: 1034987 entries, 0 to 1036235\n",
      "Data columns (total 9 columns):\n",
      " #   Column                  Non-Null Count    Dtype         \n",
      "---  ------                  --------------    -----         \n",
      " 0   Offense Start DateTime  1034987 non-null  datetime64[ns]\n",
      " 1   Crime Against Category  1034987 non-null  object        \n",
      " 2   Offense                 1034987 non-null  object        \n",
      " 3   Sector                  1034987 non-null  object        \n",
      " 4   Beat                    1034987 non-null  object        \n",
      " 5   MCPP                    1034987 non-null  object        \n",
      " 6   Time                    1034987 non-null  object        \n",
      " 7   Day                     1034987 non-null  int64         \n",
      " 8   Year                    1034987 non-null  int64         \n",
      "dtypes: datetime64[ns](1), int64(2), object(6)\n",
      "memory usage: 79.0+ MB\n"
     ]
    }
   ],
   "source": [
    "df.info()"
   ]
  },
  {
   "cell_type": "code",
   "execution_count": 23,
   "metadata": {},
   "outputs": [],
   "source": [
    "df[\"Year\"] = df[\"Year\"].astype('str').astype('int64')"
   ]
  },
  {
   "cell_type": "code",
   "execution_count": 24,
   "metadata": {},
   "outputs": [],
   "source": [
    "df = df[df[\"Year\"] >= 2021]"
   ]
  },
  {
   "cell_type": "markdown",
   "metadata": {},
   "source": [
    "Let's remove the Offense Start DateTime column, since we split up our data"
   ]
  },
  {
   "cell_type": "code",
   "execution_count": 25,
   "metadata": {},
   "outputs": [],
   "source": [
    "df = df.drop([\"Offense Start DateTime\"], axis = 1)"
   ]
  },
  {
   "cell_type": "code",
   "execution_count": 26,
   "metadata": {},
   "outputs": [
    {
     "data": {
      "text/html": [
       "<div>\n",
       "<style scoped>\n",
       "    .dataframe tbody tr th:only-of-type {\n",
       "        vertical-align: middle;\n",
       "    }\n",
       "\n",
       "    .dataframe tbody tr th {\n",
       "        vertical-align: top;\n",
       "    }\n",
       "\n",
       "    .dataframe thead th {\n",
       "        text-align: right;\n",
       "    }\n",
       "</style>\n",
       "<table border=\"1\" class=\"dataframe\">\n",
       "  <thead>\n",
       "    <tr style=\"text-align: right;\">\n",
       "      <th></th>\n",
       "      <th>Crime Against Category</th>\n",
       "      <th>Offense</th>\n",
       "      <th>Sector</th>\n",
       "      <th>Beat</th>\n",
       "      <th>MCPP</th>\n",
       "      <th>Time</th>\n",
       "      <th>Day</th>\n",
       "      <th>Year</th>\n",
       "    </tr>\n",
       "  </thead>\n",
       "  <tbody>\n",
       "    <tr>\n",
       "      <th>851429</th>\n",
       "      <td>PROPERTY</td>\n",
       "      <td>Stolen Property Offenses</td>\n",
       "      <td>L</td>\n",
       "      <td>L3</td>\n",
       "      <td>LAKECITY</td>\n",
       "      <td>19:50:00</td>\n",
       "      <td>6</td>\n",
       "      <td>2021</td>\n",
       "    </tr>\n",
       "    <tr>\n",
       "      <th>853072</th>\n",
       "      <td>PROPERTY</td>\n",
       "      <td>Destruction/Damage/Vandalism of Property</td>\n",
       "      <td>N</td>\n",
       "      <td>N3</td>\n",
       "      <td>GREENWOOD</td>\n",
       "      <td>18:38:00</td>\n",
       "      <td>6</td>\n",
       "      <td>2021</td>\n",
       "    </tr>\n",
       "    <tr>\n",
       "      <th>853215</th>\n",
       "      <td>PROPERTY</td>\n",
       "      <td>Motor Vehicle Theft</td>\n",
       "      <td>W</td>\n",
       "      <td>W1</td>\n",
       "      <td>ALKI</td>\n",
       "      <td>23:59:00</td>\n",
       "      <td>0</td>\n",
       "      <td>2021</td>\n",
       "    </tr>\n",
       "    <tr>\n",
       "      <th>853440</th>\n",
       "      <td>PROPERTY</td>\n",
       "      <td>Stolen Property Offenses</td>\n",
       "      <td>F</td>\n",
       "      <td>F1</td>\n",
       "      <td>NORTH DELRIDGE</td>\n",
       "      <td>07:46:00</td>\n",
       "      <td>1</td>\n",
       "      <td>2021</td>\n",
       "    </tr>\n",
       "    <tr>\n",
       "      <th>853655</th>\n",
       "      <td>PROPERTY</td>\n",
       "      <td>Stolen Property Offenses</td>\n",
       "      <td>O</td>\n",
       "      <td>O2</td>\n",
       "      <td>SODO</td>\n",
       "      <td>04:16:00</td>\n",
       "      <td>4</td>\n",
       "      <td>2021</td>\n",
       "    </tr>\n",
       "    <tr>\n",
       "      <th>...</th>\n",
       "      <td>...</td>\n",
       "      <td>...</td>\n",
       "      <td>...</td>\n",
       "      <td>...</td>\n",
       "      <td>...</td>\n",
       "      <td>...</td>\n",
       "      <td>...</td>\n",
       "      <td>...</td>\n",
       "    </tr>\n",
       "    <tr>\n",
       "      <th>1036220</th>\n",
       "      <td>PROPERTY</td>\n",
       "      <td>Motor Vehicle Theft</td>\n",
       "      <td>R</td>\n",
       "      <td>R1</td>\n",
       "      <td>MID BEACON HILL</td>\n",
       "      <td>06:00:00</td>\n",
       "      <td>3</td>\n",
       "      <td>2022</td>\n",
       "    </tr>\n",
       "    <tr>\n",
       "      <th>1036221</th>\n",
       "      <td>PERSON</td>\n",
       "      <td>Simple Assault</td>\n",
       "      <td>F</td>\n",
       "      <td>F2</td>\n",
       "      <td>ROXHILL/WESTWOOD/ARBOR HEIGHTS</td>\n",
       "      <td>13:34:00</td>\n",
       "      <td>4</td>\n",
       "      <td>2022</td>\n",
       "    </tr>\n",
       "    <tr>\n",
       "      <th>1036222</th>\n",
       "      <td>PERSON</td>\n",
       "      <td>Simple Assault</td>\n",
       "      <td>F</td>\n",
       "      <td>F1</td>\n",
       "      <td>PIGEON POINT</td>\n",
       "      <td>11:24:00</td>\n",
       "      <td>1</td>\n",
       "      <td>2022</td>\n",
       "    </tr>\n",
       "    <tr>\n",
       "      <th>1036223</th>\n",
       "      <td>PERSON</td>\n",
       "      <td>Simple Assault</td>\n",
       "      <td>F</td>\n",
       "      <td>F2</td>\n",
       "      <td>SOUTH DELRIDGE</td>\n",
       "      <td>16:29:00</td>\n",
       "      <td>0</td>\n",
       "      <td>2022</td>\n",
       "    </tr>\n",
       "    <tr>\n",
       "      <th>1036224</th>\n",
       "      <td>PERSON</td>\n",
       "      <td>Fondling</td>\n",
       "      <td>D</td>\n",
       "      <td>D3</td>\n",
       "      <td>SLU/CASCADE</td>\n",
       "      <td>11:00:00</td>\n",
       "      <td>5</td>\n",
       "      <td>2021</td>\n",
       "    </tr>\n",
       "  </tbody>\n",
       "</table>\n",
       "<p>155575 rows × 8 columns</p>\n",
       "</div>"
      ],
      "text/plain": [
       "        Crime Against Category                                   Offense  \\\n",
       "851429                PROPERTY                  Stolen Property Offenses   \n",
       "853072                PROPERTY  Destruction/Damage/Vandalism of Property   \n",
       "853215                PROPERTY                       Motor Vehicle Theft   \n",
       "853440                PROPERTY                  Stolen Property Offenses   \n",
       "853655                PROPERTY                  Stolen Property Offenses   \n",
       "...                        ...                                       ...   \n",
       "1036220               PROPERTY                       Motor Vehicle Theft   \n",
       "1036221                 PERSON                            Simple Assault   \n",
       "1036222                 PERSON                            Simple Assault   \n",
       "1036223                 PERSON                            Simple Assault   \n",
       "1036224                 PERSON                                  Fondling   \n",
       "\n",
       "        Sector Beat                            MCPP      Time  Day  Year  \n",
       "851429       L   L3                        LAKECITY  19:50:00    6  2021  \n",
       "853072       N   N3                       GREENWOOD  18:38:00    6  2021  \n",
       "853215       W   W1                            ALKI  23:59:00    0  2021  \n",
       "853440       F   F1                  NORTH DELRIDGE  07:46:00    1  2021  \n",
       "853655       O   O2                            SODO  04:16:00    4  2021  \n",
       "...        ...  ...                             ...       ...  ...   ...  \n",
       "1036220      R   R1                 MID BEACON HILL  06:00:00    3  2022  \n",
       "1036221      F   F2  ROXHILL/WESTWOOD/ARBOR HEIGHTS  13:34:00    4  2022  \n",
       "1036222      F   F1                    PIGEON POINT  11:24:00    1  2022  \n",
       "1036223      F   F2                  SOUTH DELRIDGE  16:29:00    0  2022  \n",
       "1036224      D   D3                     SLU/CASCADE  11:00:00    5  2021  \n",
       "\n",
       "[155575 rows x 8 columns]"
      ]
     },
     "execution_count": 26,
     "metadata": {},
     "output_type": "execute_result"
    }
   ],
   "source": [
    "df"
   ]
  },
  {
   "cell_type": "code",
   "execution_count": 27,
   "metadata": {
    "scrolled": true
   },
   "outputs": [
    {
     "name": "stdout",
     "output_type": "stream",
     "text": [
      "<class 'pandas.core.frame.DataFrame'>\n",
      "Int64Index: 155575 entries, 851429 to 1036224\n",
      "Data columns (total 8 columns):\n",
      " #   Column                  Non-Null Count   Dtype \n",
      "---  ------                  --------------   ----- \n",
      " 0   Crime Against Category  155575 non-null  object\n",
      " 1   Offense                 155575 non-null  object\n",
      " 2   Sector                  155575 non-null  object\n",
      " 3   Beat                    155575 non-null  object\n",
      " 4   MCPP                    155575 non-null  object\n",
      " 5   Time                    155575 non-null  object\n",
      " 6   Day                     155575 non-null  int64 \n",
      " 7   Year                    155575 non-null  int64 \n",
      "dtypes: int64(2), object(6)\n",
      "memory usage: 10.7+ MB\n"
     ]
    }
   ],
   "source": [
    "df.info()"
   ]
  },
  {
   "cell_type": "markdown",
   "metadata": {},
   "source": [
    "**Crime Against Category**"
   ]
  },
  {
   "cell_type": "markdown",
   "metadata": {},
   "source": [
    "Let's look at the unique values of our Crime Against Category variable, and then convert those values into numerical categories."
   ]
  },
  {
   "cell_type": "code",
   "execution_count": 28,
   "metadata": {},
   "outputs": [
    {
     "data": {
      "text/plain": [
       "PROPERTY       120153\n",
       "PERSON          25576\n",
       "SOCIETY          9839\n",
       "NOT_A_CRIME         7\n",
       "Name: Crime Against Category, dtype: int64"
      ]
     },
     "execution_count": 28,
     "metadata": {},
     "output_type": "execute_result"
    }
   ],
   "source": [
    "df[\"Crime Against Category\"].value_counts()"
   ]
  },
  {
   "cell_type": "code",
   "execution_count": 29,
   "metadata": {},
   "outputs": [],
   "source": [
    "#Converting into categories\n",
    "df[\"Crime Against Category\"] = df[\"Crime Against Category\"].astype(\"category\").cat.codes"
   ]
  },
  {
   "cell_type": "code",
   "execution_count": 30,
   "metadata": {
    "scrolled": true
   },
   "outputs": [
    {
     "data": {
      "text/plain": [
       "array([2, 1, 3, 0], dtype=int8)"
      ]
     },
     "execution_count": 30,
     "metadata": {},
     "output_type": "execute_result"
    }
   ],
   "source": [
    "df[\"Crime Against Category\"].unique()"
   ]
  },
  {
   "cell_type": "markdown",
   "metadata": {},
   "source": [
    "**Sector, Beat, and MCPP**"
   ]
  },
  {
   "cell_type": "markdown",
   "metadata": {},
   "source": [
    "Let's do the same thing with our Sector, Beat, and MCPP variables"
   ]
  },
  {
   "cell_type": "code",
   "execution_count": 31,
   "metadata": {},
   "outputs": [],
   "source": [
    "#Converting values into categories\n",
    "df[\"Sector\"] = df[\"Sector\"].astype(\"category\").cat.codes\n",
    "df[\"Beat\"] = df[\"Beat\"].astype(\"category\").cat.codes\n",
    "df[\"MCPP\"] = df[\"MCPP\"].astype(\"category\").cat.codes"
   ]
  },
  {
   "cell_type": "markdown",
   "metadata": {},
   "source": [
    "Let's see what our data looks like so far"
   ]
  },
  {
   "cell_type": "code",
   "execution_count": 32,
   "metadata": {},
   "outputs": [
    {
     "data": {
      "text/html": [
       "<div>\n",
       "<style scoped>\n",
       "    .dataframe tbody tr th:only-of-type {\n",
       "        vertical-align: middle;\n",
       "    }\n",
       "\n",
       "    .dataframe tbody tr th {\n",
       "        vertical-align: top;\n",
       "    }\n",
       "\n",
       "    .dataframe thead th {\n",
       "        text-align: right;\n",
       "    }\n",
       "</style>\n",
       "<table border=\"1\" class=\"dataframe\">\n",
       "  <thead>\n",
       "    <tr style=\"text-align: right;\">\n",
       "      <th></th>\n",
       "      <th>Crime Against Category</th>\n",
       "      <th>Offense</th>\n",
       "      <th>Sector</th>\n",
       "      <th>Beat</th>\n",
       "      <th>MCPP</th>\n",
       "      <th>Time</th>\n",
       "      <th>Day</th>\n",
       "      <th>Year</th>\n",
       "    </tr>\n",
       "  </thead>\n",
       "  <tbody>\n",
       "    <tr>\n",
       "      <th>851429</th>\n",
       "      <td>2</td>\n",
       "      <td>Stolen Property Offenses</td>\n",
       "      <td>10</td>\n",
       "      <td>28</td>\n",
       "      <td>29</td>\n",
       "      <td>19:50:00</td>\n",
       "      <td>6</td>\n",
       "      <td>2021</td>\n",
       "    </tr>\n",
       "    <tr>\n",
       "      <th>853072</th>\n",
       "      <td>2</td>\n",
       "      <td>Destruction/Damage/Vandalism of Property</td>\n",
       "      <td>12</td>\n",
       "      <td>34</td>\n",
       "      <td>24</td>\n",
       "      <td>18:38:00</td>\n",
       "      <td>6</td>\n",
       "      <td>2021</td>\n",
       "    </tr>\n",
       "    <tr>\n",
       "      <th>853215</th>\n",
       "      <td>2</td>\n",
       "      <td>Motor Vehicle Theft</td>\n",
       "      <td>20</td>\n",
       "      <td>52</td>\n",
       "      <td>2</td>\n",
       "      <td>23:59:00</td>\n",
       "      <td>0</td>\n",
       "      <td>2021</td>\n",
       "    </tr>\n",
       "    <tr>\n",
       "      <th>853440</th>\n",
       "      <td>2</td>\n",
       "      <td>Stolen Property Offenses</td>\n",
       "      <td>6</td>\n",
       "      <td>14</td>\n",
       "      <td>42</td>\n",
       "      <td>07:46:00</td>\n",
       "      <td>1</td>\n",
       "      <td>2021</td>\n",
       "    </tr>\n",
       "    <tr>\n",
       "      <th>853655</th>\n",
       "      <td>2</td>\n",
       "      <td>Stolen Property Offenses</td>\n",
       "      <td>13</td>\n",
       "      <td>36</td>\n",
       "      <td>54</td>\n",
       "      <td>04:16:00</td>\n",
       "      <td>4</td>\n",
       "      <td>2021</td>\n",
       "    </tr>\n",
       "    <tr>\n",
       "      <th>...</th>\n",
       "      <td>...</td>\n",
       "      <td>...</td>\n",
       "      <td>...</td>\n",
       "      <td>...</td>\n",
       "      <td>...</td>\n",
       "      <td>...</td>\n",
       "      <td>...</td>\n",
       "      <td>...</td>\n",
       "    </tr>\n",
       "    <tr>\n",
       "      <th>1036220</th>\n",
       "      <td>2</td>\n",
       "      <td>Motor Vehicle Theft</td>\n",
       "      <td>16</td>\n",
       "      <td>42</td>\n",
       "      <td>34</td>\n",
       "      <td>06:00:00</td>\n",
       "      <td>3</td>\n",
       "      <td>2022</td>\n",
       "    </tr>\n",
       "    <tr>\n",
       "      <th>1036221</th>\n",
       "      <td>1</td>\n",
       "      <td>Simple Assault</td>\n",
       "      <td>6</td>\n",
       "      <td>15</td>\n",
       "      <td>51</td>\n",
       "      <td>13:34:00</td>\n",
       "      <td>4</td>\n",
       "      <td>2022</td>\n",
       "    </tr>\n",
       "    <tr>\n",
       "      <th>1036222</th>\n",
       "      <td>1</td>\n",
       "      <td>Simple Assault</td>\n",
       "      <td>6</td>\n",
       "      <td>14</td>\n",
       "      <td>45</td>\n",
       "      <td>11:24:00</td>\n",
       "      <td>1</td>\n",
       "      <td>2022</td>\n",
       "    </tr>\n",
       "    <tr>\n",
       "      <th>1036223</th>\n",
       "      <td>1</td>\n",
       "      <td>Simple Assault</td>\n",
       "      <td>6</td>\n",
       "      <td>15</td>\n",
       "      <td>56</td>\n",
       "      <td>16:29:00</td>\n",
       "      <td>0</td>\n",
       "      <td>2022</td>\n",
       "    </tr>\n",
       "    <tr>\n",
       "      <th>1036224</th>\n",
       "      <td>1</td>\n",
       "      <td>Fondling</td>\n",
       "      <td>4</td>\n",
       "      <td>10</td>\n",
       "      <td>53</td>\n",
       "      <td>11:00:00</td>\n",
       "      <td>5</td>\n",
       "      <td>2021</td>\n",
       "    </tr>\n",
       "  </tbody>\n",
       "</table>\n",
       "<p>155575 rows × 8 columns</p>\n",
       "</div>"
      ],
      "text/plain": [
       "         Crime Against Category                                   Offense  \\\n",
       "851429                        2                  Stolen Property Offenses   \n",
       "853072                        2  Destruction/Damage/Vandalism of Property   \n",
       "853215                        2                       Motor Vehicle Theft   \n",
       "853440                        2                  Stolen Property Offenses   \n",
       "853655                        2                  Stolen Property Offenses   \n",
       "...                         ...                                       ...   \n",
       "1036220                       2                       Motor Vehicle Theft   \n",
       "1036221                       1                            Simple Assault   \n",
       "1036222                       1                            Simple Assault   \n",
       "1036223                       1                            Simple Assault   \n",
       "1036224                       1                                  Fondling   \n",
       "\n",
       "         Sector  Beat  MCPP      Time  Day  Year  \n",
       "851429       10    28    29  19:50:00    6  2021  \n",
       "853072       12    34    24  18:38:00    6  2021  \n",
       "853215       20    52     2  23:59:00    0  2021  \n",
       "853440        6    14    42  07:46:00    1  2021  \n",
       "853655       13    36    54  04:16:00    4  2021  \n",
       "...         ...   ...   ...       ...  ...   ...  \n",
       "1036220      16    42    34  06:00:00    3  2022  \n",
       "1036221       6    15    51  13:34:00    4  2022  \n",
       "1036222       6    14    45  11:24:00    1  2022  \n",
       "1036223       6    15    56  16:29:00    0  2022  \n",
       "1036224       4    10    53  11:00:00    5  2021  \n",
       "\n",
       "[155575 rows x 8 columns]"
      ]
     },
     "execution_count": 32,
     "metadata": {},
     "output_type": "execute_result"
    }
   ],
   "source": [
    "df"
   ]
  },
  {
   "cell_type": "markdown",
   "metadata": {},
   "source": [
    "**Time, Day, and Year**"
   ]
  },
  {
   "cell_type": "markdown",
   "metadata": {},
   "source": [
    "Lastly, let's do the exact same thing to our Time and Day variables"
   ]
  },
  {
   "cell_type": "code",
   "execution_count": 33,
   "metadata": {},
   "outputs": [],
   "source": [
    "#Converting values into categories\n",
    "df[\"Time\"] = df[\"Time\"].astype(\"category\").cat.codes\n",
    "df[\"Day\"] = df[\"Day\"].astype(\"category\").cat.codes\n",
    "df[\"Year\"] = df[\"Year\"].astype(\"category\").cat.codes"
   ]
  },
  {
   "cell_type": "markdown",
   "metadata": {},
   "source": [
    "Let's take a look at our updated dataset"
   ]
  },
  {
   "cell_type": "code",
   "execution_count": 34,
   "metadata": {},
   "outputs": [
    {
     "data": {
      "text/html": [
       "<div>\n",
       "<style scoped>\n",
       "    .dataframe tbody tr th:only-of-type {\n",
       "        vertical-align: middle;\n",
       "    }\n",
       "\n",
       "    .dataframe tbody tr th {\n",
       "        vertical-align: top;\n",
       "    }\n",
       "\n",
       "    .dataframe thead th {\n",
       "        text-align: right;\n",
       "    }\n",
       "</style>\n",
       "<table border=\"1\" class=\"dataframe\">\n",
       "  <thead>\n",
       "    <tr style=\"text-align: right;\">\n",
       "      <th></th>\n",
       "      <th>Crime Against Category</th>\n",
       "      <th>Offense</th>\n",
       "      <th>Sector</th>\n",
       "      <th>Beat</th>\n",
       "      <th>MCPP</th>\n",
       "      <th>Time</th>\n",
       "      <th>Day</th>\n",
       "      <th>Year</th>\n",
       "    </tr>\n",
       "  </thead>\n",
       "  <tbody>\n",
       "    <tr>\n",
       "      <th>851429</th>\n",
       "      <td>2</td>\n",
       "      <td>Stolen Property Offenses</td>\n",
       "      <td>10</td>\n",
       "      <td>28</td>\n",
       "      <td>29</td>\n",
       "      <td>1190</td>\n",
       "      <td>6</td>\n",
       "      <td>0</td>\n",
       "    </tr>\n",
       "    <tr>\n",
       "      <th>853072</th>\n",
       "      <td>2</td>\n",
       "      <td>Destruction/Damage/Vandalism of Property</td>\n",
       "      <td>12</td>\n",
       "      <td>34</td>\n",
       "      <td>24</td>\n",
       "      <td>1118</td>\n",
       "      <td>6</td>\n",
       "      <td>0</td>\n",
       "    </tr>\n",
       "    <tr>\n",
       "      <th>853215</th>\n",
       "      <td>2</td>\n",
       "      <td>Motor Vehicle Theft</td>\n",
       "      <td>20</td>\n",
       "      <td>52</td>\n",
       "      <td>2</td>\n",
       "      <td>1439</td>\n",
       "      <td>0</td>\n",
       "      <td>0</td>\n",
       "    </tr>\n",
       "    <tr>\n",
       "      <th>853440</th>\n",
       "      <td>2</td>\n",
       "      <td>Stolen Property Offenses</td>\n",
       "      <td>6</td>\n",
       "      <td>14</td>\n",
       "      <td>42</td>\n",
       "      <td>466</td>\n",
       "      <td>1</td>\n",
       "      <td>0</td>\n",
       "    </tr>\n",
       "    <tr>\n",
       "      <th>853655</th>\n",
       "      <td>2</td>\n",
       "      <td>Stolen Property Offenses</td>\n",
       "      <td>13</td>\n",
       "      <td>36</td>\n",
       "      <td>54</td>\n",
       "      <td>256</td>\n",
       "      <td>4</td>\n",
       "      <td>0</td>\n",
       "    </tr>\n",
       "    <tr>\n",
       "      <th>...</th>\n",
       "      <td>...</td>\n",
       "      <td>...</td>\n",
       "      <td>...</td>\n",
       "      <td>...</td>\n",
       "      <td>...</td>\n",
       "      <td>...</td>\n",
       "      <td>...</td>\n",
       "      <td>...</td>\n",
       "    </tr>\n",
       "    <tr>\n",
       "      <th>1036220</th>\n",
       "      <td>2</td>\n",
       "      <td>Motor Vehicle Theft</td>\n",
       "      <td>16</td>\n",
       "      <td>42</td>\n",
       "      <td>34</td>\n",
       "      <td>360</td>\n",
       "      <td>3</td>\n",
       "      <td>1</td>\n",
       "    </tr>\n",
       "    <tr>\n",
       "      <th>1036221</th>\n",
       "      <td>1</td>\n",
       "      <td>Simple Assault</td>\n",
       "      <td>6</td>\n",
       "      <td>15</td>\n",
       "      <td>51</td>\n",
       "      <td>814</td>\n",
       "      <td>4</td>\n",
       "      <td>1</td>\n",
       "    </tr>\n",
       "    <tr>\n",
       "      <th>1036222</th>\n",
       "      <td>1</td>\n",
       "      <td>Simple Assault</td>\n",
       "      <td>6</td>\n",
       "      <td>14</td>\n",
       "      <td>45</td>\n",
       "      <td>684</td>\n",
       "      <td>1</td>\n",
       "      <td>1</td>\n",
       "    </tr>\n",
       "    <tr>\n",
       "      <th>1036223</th>\n",
       "      <td>1</td>\n",
       "      <td>Simple Assault</td>\n",
       "      <td>6</td>\n",
       "      <td>15</td>\n",
       "      <td>56</td>\n",
       "      <td>989</td>\n",
       "      <td>0</td>\n",
       "      <td>1</td>\n",
       "    </tr>\n",
       "    <tr>\n",
       "      <th>1036224</th>\n",
       "      <td>1</td>\n",
       "      <td>Fondling</td>\n",
       "      <td>4</td>\n",
       "      <td>10</td>\n",
       "      <td>53</td>\n",
       "      <td>660</td>\n",
       "      <td>5</td>\n",
       "      <td>0</td>\n",
       "    </tr>\n",
       "  </tbody>\n",
       "</table>\n",
       "<p>155575 rows × 8 columns</p>\n",
       "</div>"
      ],
      "text/plain": [
       "         Crime Against Category                                   Offense  \\\n",
       "851429                        2                  Stolen Property Offenses   \n",
       "853072                        2  Destruction/Damage/Vandalism of Property   \n",
       "853215                        2                       Motor Vehicle Theft   \n",
       "853440                        2                  Stolen Property Offenses   \n",
       "853655                        2                  Stolen Property Offenses   \n",
       "...                         ...                                       ...   \n",
       "1036220                       2                       Motor Vehicle Theft   \n",
       "1036221                       1                            Simple Assault   \n",
       "1036222                       1                            Simple Assault   \n",
       "1036223                       1                            Simple Assault   \n",
       "1036224                       1                                  Fondling   \n",
       "\n",
       "         Sector  Beat  MCPP  Time  Day  Year  \n",
       "851429       10    28    29  1190    6     0  \n",
       "853072       12    34    24  1118    6     0  \n",
       "853215       20    52     2  1439    0     0  \n",
       "853440        6    14    42   466    1     0  \n",
       "853655       13    36    54   256    4     0  \n",
       "...         ...   ...   ...   ...  ...   ...  \n",
       "1036220      16    42    34   360    3     1  \n",
       "1036221       6    15    51   814    4     1  \n",
       "1036222       6    14    45   684    1     1  \n",
       "1036223       6    15    56   989    0     1  \n",
       "1036224       4    10    53   660    5     0  \n",
       "\n",
       "[155575 rows x 8 columns]"
      ]
     },
     "execution_count": 34,
     "metadata": {},
     "output_type": "execute_result"
    }
   ],
   "source": [
    "df"
   ]
  },
  {
   "cell_type": "markdown",
   "metadata": {},
   "source": [
    "We can now start trying to create our initial model"
   ]
  },
  {
   "cell_type": "code",
   "execution_count": 35,
   "metadata": {},
   "outputs": [],
   "source": [
    "#df[\"Offense\"].value_counts()"
   ]
  },
  {
   "cell_type": "code",
   "execution_count": 36,
   "metadata": {},
   "outputs": [],
   "source": [
    "#df = df.drop(df[(df[\"Offense\"] == 'Gambling Equipment Violation') & (df[\"Offense\"] == 'Human Trafficking, Involuntary Servitude') & (df[\"Offense\"] == \"Operating/Promoting/Assisting Gambling\")].index, inplace = True)\n",
    "#df = df[df[\"Offense\"].str.contains(\"Gambling Equipment Violation\") == False]\n",
    "#df = df[df[\"Offense\"].str.contains(\"Human Trafficking, Involuntary Servitude\") == False]\n",
    "#df = df[df[\"Offense\"].str.contains(\"Operating/Promoting/Assisting Gambling\") == False]                             "
   ]
  },
  {
   "cell_type": "code",
   "execution_count": 37,
   "metadata": {},
   "outputs": [],
   "source": [
    "#df[\"Offense\"].value_counts()"
   ]
  },
  {
   "cell_type": "code",
   "execution_count": 38,
   "metadata": {
    "scrolled": true
   },
   "outputs": [],
   "source": [
    "df = df[~df['Offense'].isin(df['Offense'].value_counts().lt(5000).pipe(lambda s: s[s].index))]"
   ]
  },
  {
   "cell_type": "code",
   "execution_count": 39,
   "metadata": {
    "scrolled": false
   },
   "outputs": [
    {
     "data": {
      "text/plain": [
       "Burglary/Breaking & Entering                   19722\n",
       "Theft From Motor Vehicle                       19390\n",
       "Destruction/Damage/Vandalism of Property       15546\n",
       "All Other Larceny                              13767\n",
       "Motor Vehicle Theft                            13393\n",
       "Theft of Motor Vehicle Parts or Accessories    12853\n",
       "Simple Assault                                 10494\n",
       "Shoplifting                                     8736\n",
       "Aggravated Assault                              7258\n",
       "Intimidation                                    6225\n",
       "Name: Offense, dtype: int64"
      ]
     },
     "execution_count": 39,
     "metadata": {},
     "output_type": "execute_result"
    }
   ],
   "source": [
    "df[\"Offense\"].value_counts()"
   ]
  },
  {
   "cell_type": "code",
   "execution_count": 40,
   "metadata": {},
   "outputs": [
    {
     "data": {
      "text/html": [
       "<div>\n",
       "<style scoped>\n",
       "    .dataframe tbody tr th:only-of-type {\n",
       "        vertical-align: middle;\n",
       "    }\n",
       "\n",
       "    .dataframe tbody tr th {\n",
       "        vertical-align: top;\n",
       "    }\n",
       "\n",
       "    .dataframe thead th {\n",
       "        text-align: right;\n",
       "    }\n",
       "</style>\n",
       "<table border=\"1\" class=\"dataframe\">\n",
       "  <thead>\n",
       "    <tr style=\"text-align: right;\">\n",
       "      <th></th>\n",
       "      <th>Crime Against Category</th>\n",
       "      <th>Offense</th>\n",
       "      <th>Sector</th>\n",
       "      <th>Beat</th>\n",
       "      <th>MCPP</th>\n",
       "      <th>Time</th>\n",
       "      <th>Day</th>\n",
       "      <th>Year</th>\n",
       "    </tr>\n",
       "  </thead>\n",
       "  <tbody>\n",
       "    <tr>\n",
       "      <th>853072</th>\n",
       "      <td>2</td>\n",
       "      <td>Destruction/Damage/Vandalism of Property</td>\n",
       "      <td>12</td>\n",
       "      <td>34</td>\n",
       "      <td>24</td>\n",
       "      <td>1118</td>\n",
       "      <td>6</td>\n",
       "      <td>0</td>\n",
       "    </tr>\n",
       "    <tr>\n",
       "      <th>853215</th>\n",
       "      <td>2</td>\n",
       "      <td>Motor Vehicle Theft</td>\n",
       "      <td>20</td>\n",
       "      <td>52</td>\n",
       "      <td>2</td>\n",
       "      <td>1439</td>\n",
       "      <td>0</td>\n",
       "      <td>0</td>\n",
       "    </tr>\n",
       "    <tr>\n",
       "      <th>853796</th>\n",
       "      <td>2</td>\n",
       "      <td>Motor Vehicle Theft</td>\n",
       "      <td>3</td>\n",
       "      <td>7</td>\n",
       "      <td>31</td>\n",
       "      <td>44</td>\n",
       "      <td>1</td>\n",
       "      <td>0</td>\n",
       "    </tr>\n",
       "    <tr>\n",
       "      <th>853951</th>\n",
       "      <td>2</td>\n",
       "      <td>Destruction/Damage/Vandalism of Property</td>\n",
       "      <td>4</td>\n",
       "      <td>8</td>\n",
       "      <td>5</td>\n",
       "      <td>25</td>\n",
       "      <td>0</td>\n",
       "      <td>0</td>\n",
       "    </tr>\n",
       "    <tr>\n",
       "      <th>853952</th>\n",
       "      <td>2</td>\n",
       "      <td>All Other Larceny</td>\n",
       "      <td>2</td>\n",
       "      <td>2</td>\n",
       "      <td>4</td>\n",
       "      <td>874</td>\n",
       "      <td>1</td>\n",
       "      <td>0</td>\n",
       "    </tr>\n",
       "    <tr>\n",
       "      <th>...</th>\n",
       "      <td>...</td>\n",
       "      <td>...</td>\n",
       "      <td>...</td>\n",
       "      <td>...</td>\n",
       "      <td>...</td>\n",
       "      <td>...</td>\n",
       "      <td>...</td>\n",
       "      <td>...</td>\n",
       "    </tr>\n",
       "    <tr>\n",
       "      <th>1036218</th>\n",
       "      <td>2</td>\n",
       "      <td>Theft of Motor Vehicle Parts or Accessories</td>\n",
       "      <td>10</td>\n",
       "      <td>28</td>\n",
       "      <td>29</td>\n",
       "      <td>0</td>\n",
       "      <td>2</td>\n",
       "      <td>1</td>\n",
       "    </tr>\n",
       "    <tr>\n",
       "      <th>1036220</th>\n",
       "      <td>2</td>\n",
       "      <td>Motor Vehicle Theft</td>\n",
       "      <td>16</td>\n",
       "      <td>42</td>\n",
       "      <td>34</td>\n",
       "      <td>360</td>\n",
       "      <td>3</td>\n",
       "      <td>1</td>\n",
       "    </tr>\n",
       "    <tr>\n",
       "      <th>1036221</th>\n",
       "      <td>1</td>\n",
       "      <td>Simple Assault</td>\n",
       "      <td>6</td>\n",
       "      <td>15</td>\n",
       "      <td>51</td>\n",
       "      <td>814</td>\n",
       "      <td>4</td>\n",
       "      <td>1</td>\n",
       "    </tr>\n",
       "    <tr>\n",
       "      <th>1036222</th>\n",
       "      <td>1</td>\n",
       "      <td>Simple Assault</td>\n",
       "      <td>6</td>\n",
       "      <td>14</td>\n",
       "      <td>45</td>\n",
       "      <td>684</td>\n",
       "      <td>1</td>\n",
       "      <td>1</td>\n",
       "    </tr>\n",
       "    <tr>\n",
       "      <th>1036223</th>\n",
       "      <td>1</td>\n",
       "      <td>Simple Assault</td>\n",
       "      <td>6</td>\n",
       "      <td>15</td>\n",
       "      <td>56</td>\n",
       "      <td>989</td>\n",
       "      <td>0</td>\n",
       "      <td>1</td>\n",
       "    </tr>\n",
       "  </tbody>\n",
       "</table>\n",
       "<p>127384 rows × 8 columns</p>\n",
       "</div>"
      ],
      "text/plain": [
       "         Crime Against Category                                      Offense  \\\n",
       "853072                        2     Destruction/Damage/Vandalism of Property   \n",
       "853215                        2                          Motor Vehicle Theft   \n",
       "853796                        2                          Motor Vehicle Theft   \n",
       "853951                        2     Destruction/Damage/Vandalism of Property   \n",
       "853952                        2                            All Other Larceny   \n",
       "...                         ...                                          ...   \n",
       "1036218                       2  Theft of Motor Vehicle Parts or Accessories   \n",
       "1036220                       2                          Motor Vehicle Theft   \n",
       "1036221                       1                               Simple Assault   \n",
       "1036222                       1                               Simple Assault   \n",
       "1036223                       1                               Simple Assault   \n",
       "\n",
       "         Sector  Beat  MCPP  Time  Day  Year  \n",
       "853072       12    34    24  1118    6     0  \n",
       "853215       20    52     2  1439    0     0  \n",
       "853796        3     7    31    44    1     0  \n",
       "853951        4     8     5    25    0     0  \n",
       "853952        2     2     4   874    1     0  \n",
       "...         ...   ...   ...   ...  ...   ...  \n",
       "1036218      10    28    29     0    2     1  \n",
       "1036220      16    42    34   360    3     1  \n",
       "1036221       6    15    51   814    4     1  \n",
       "1036222       6    14    45   684    1     1  \n",
       "1036223       6    15    56   989    0     1  \n",
       "\n",
       "[127384 rows x 8 columns]"
      ]
     },
     "execution_count": 40,
     "metadata": {},
     "output_type": "execute_result"
    }
   ],
   "source": [
    "df"
   ]
  },
  {
   "cell_type": "markdown",
   "metadata": {},
   "source": [
    "## Initial Model ##"
   ]
  },
  {
   "cell_type": "markdown",
   "metadata": {},
   "source": [
    "Let's start off by first identifying our target variable"
   ]
  },
  {
   "cell_type": "code",
   "execution_count": 41,
   "metadata": {},
   "outputs": [],
   "source": [
    "X = df.drop(\"Offense\", axis = 1)\n",
    "\n",
    "#Target Variable\n",
    "y = df[\"Offense\"]"
   ]
  },
  {
   "cell_type": "markdown",
   "metadata": {},
   "source": [
    "Now we'll split our data using Train Test Split"
   ]
  },
  {
   "cell_type": "code",
   "execution_count": 42,
   "metadata": {},
   "outputs": [],
   "source": [
    "X_train, X_test, y_train, y_test = train_test_split(X, y, random_state = 1)"
   ]
  },
  {
   "cell_type": "markdown",
   "metadata": {},
   "source": [
    "We'll scale our data, to make it easier for the model to work with"
   ]
  },
  {
   "cell_type": "code",
   "execution_count": 43,
   "metadata": {},
   "outputs": [],
   "source": [
    "SS = StandardScaler()\n",
    "X_train = SS.fit_transform(X_train)\n",
    "X_test = SS.transform(X_test)"
   ]
  },
  {
   "cell_type": "code",
   "execution_count": 44,
   "metadata": {},
   "outputs": [],
   "source": [
    "sm = SMOTE(random_state = 1)\n",
    "X_train, y_train = sm.fit_sample(X_train, y_train)\n",
    "\n",
    "#ros = RandomOverSampler(random_state=1)\n",
    "#X_train, y_train = ros.fit_resample(X_train, y_train)"
   ]
  },
  {
   "cell_type": "markdown",
   "metadata": {},
   "source": [
    "Now it's time to initialize our model"
   ]
  },
  {
   "cell_type": "code",
   "execution_count": 45,
   "metadata": {},
   "outputs": [],
   "source": [
    "#Initializing our model\n",
    "#InitialModel = LogisticRegression(multi_class='ovr', random_state= 1)"
   ]
  },
  {
   "cell_type": "markdown",
   "metadata": {},
   "source": [
    "Now we'll fit our model"
   ]
  },
  {
   "cell_type": "code",
   "execution_count": 46,
   "metadata": {},
   "outputs": [],
   "source": [
    "#InitialModel.fit(X_train, y_train)"
   ]
  },
  {
   "cell_type": "code",
   "execution_count": 47,
   "metadata": {},
   "outputs": [],
   "source": [
    "#y_train_pred = InitialModel.predict(X_train)\n",
    "#y_test_pred = InitialModel.predict(X_test)"
   ]
  },
  {
   "cell_type": "code",
   "execution_count": 48,
   "metadata": {},
   "outputs": [],
   "source": [
    "#print(classification_report(y_train, y_train_pred))"
   ]
  },
  {
   "cell_type": "code",
   "execution_count": 49,
   "metadata": {},
   "outputs": [],
   "source": [
    "#print(classification_report(y_test, y_test_pred))"
   ]
  },
  {
   "cell_type": "markdown",
   "metadata": {},
   "source": [
    "## Random Forest Model ##"
   ]
  },
  {
   "cell_type": "code",
   "execution_count": 50,
   "metadata": {},
   "outputs": [],
   "source": [
    "rf = RandomForestClassifier(criterion= \"entropy\",random_state = 1,  max_depth = 5)\n",
    "\n",
    "rf.fit(X_train, y_train)\n",
    "rf_train_pred = rf.predict(X_train)\n",
    "rf_test_pred = rf.predict(X_test)"
   ]
  },
  {
   "cell_type": "code",
   "execution_count": 51,
   "metadata": {},
   "outputs": [
    {
     "name": "stdout",
     "output_type": "stream",
     "text": [
      "                                             precision    recall  f1-score   support\n",
      "\n",
      "                         Aggravated Assault       0.43      0.37      0.40     14827\n",
      "                          All Other Larceny       0.21      0.17      0.19     14827\n",
      "               Burglary/Breaking & Entering       0.25      0.38      0.30     14827\n",
      "   Destruction/Damage/Vandalism of Property       0.27      0.08      0.13     14827\n",
      "                               Intimidation       0.42      0.56      0.48     14827\n",
      "                        Motor Vehicle Theft       0.23      0.26      0.24     14827\n",
      "                                Shoplifting       0.27      0.73      0.40     14827\n",
      "                             Simple Assault       0.40      0.32      0.36     14827\n",
      "                   Theft From Motor Vehicle       0.28      0.05      0.09     14827\n",
      "Theft of Motor Vehicle Parts or Accessories       0.25      0.07      0.12     14827\n",
      "\n",
      "                                   accuracy                           0.30    148270\n",
      "                                  macro avg       0.30      0.30      0.27    148270\n",
      "                               weighted avg       0.30      0.30      0.27    148270\n",
      "\n"
     ]
    }
   ],
   "source": [
    "print(classification_report(y_train, rf_train_pred))"
   ]
  },
  {
   "cell_type": "code",
   "execution_count": 52,
   "metadata": {},
   "outputs": [
    {
     "name": "stdout",
     "output_type": "stream",
     "text": [
      "                                             precision    recall  f1-score   support\n",
      "\n",
      "                         Aggravated Assault       0.37      0.33      0.35      1840\n",
      "                          All Other Larceny       0.19      0.17      0.18      3412\n",
      "               Burglary/Breaking & Entering       0.29      0.37      0.32      4895\n",
      "   Destruction/Damage/Vandalism of Property       0.24      0.07      0.11      3862\n",
      "                               Intimidation       0.33      0.54      0.41      1559\n",
      "                        Motor Vehicle Theft       0.18      0.24      0.21      3344\n",
      "                                Shoplifting       0.17      0.72      0.28      2163\n",
      "                             Simple Assault       0.48      0.33      0.39      2611\n",
      "                   Theft From Motor Vehicle       0.31      0.05      0.09      4895\n",
      "Theft of Motor Vehicle Parts or Accessories       0.20      0.07      0.11      3265\n",
      "\n",
      "                                   accuracy                           0.25     31846\n",
      "                                  macro avg       0.28      0.29      0.24     31846\n",
      "                               weighted avg       0.27      0.25      0.22     31846\n",
      "\n"
     ]
    }
   ],
   "source": [
    "print(classification_report(y_test, rf_test_pred))"
   ]
  },
  {
   "cell_type": "code",
   "execution_count": 66,
   "metadata": {
    "scrolled": false
   },
   "outputs": [
    {
     "data": {
      "image/png": "[encoded data removed]",
      "text/plain": [
       "<Figure size 936x936 with 2 Axes>"
      ]
     },
     "metadata": {
      "needs_background": "light"
     },
     "output_type": "display_data"
    }
   ],
   "source": [
    "#fig, ax = plt.subplots(figsize=(15,15))\n",
    "#interp.plot_confusion_matrix(rf, X_test, y_test);\n",
    "\n",
    "#np.interp.plot_confusion_matrix(figsize=(10,10))\n",
    "\n",
    "cm = confusion_matrix(y_test, rf_test_pred);\n",
    "cmp = ConfusionMatrixDisplay(cm);\n",
    "fig, ax = plt.subplots(figsize=(13,13));\n",
    "cmp.plot(ax=ax);\n",
    "cmp.ax_.set_title(\"Confusion Matrix\");"
   ]
  },
  {
   "cell_type": "markdown",
   "metadata": {},
   "source": [
    "0) Aggravated Assault\n",
    "\n",
    "1) All Other Larceny\n",
    "\n",
    "2) Burglary/Breaking & Entering\n",
    "\n",
    "3) Destruction/Damage/Vandalism of Property\n",
    "\n",
    "4) Intimidation\n",
    "\n",
    "5) Motor Vehicle Theft\n",
    "\n",
    "6) Shoplifting\n",
    "\n",
    "7) Simple Assault\n",
    "\n",
    "8) Theft From Motor Vehicle\n",
    "\n",
    "9) Theft of Motor Vehicle Parts or Accessories\n"
   ]
  },
  {
   "cell_type": "markdown",
   "metadata": {},
   "source": [
    "### Crime Confusion Matrix ###"
   ]
  },
  {
   "cell_type": "markdown",
   "metadata": {},
   "source": [
    "**0) Aggravated Assault**"
   ]
  },
  {
   "cell_type": "markdown",
   "metadata": {},
   "source": [
    "* 615 crimes were correctly predicted as being \"aggravated assault\" crimes\n",
    "* 1,225 crimes were wrongly predicted as not being \"aggravated assault\" crimes\n",
    "* 1,030 crimes were wrongly predicted as being \"aggravated assault\" crimes\n",
    "* 28,976 crimes were correctly predicted as not being \"aggravated assault\" crimes"
   ]
  },
  {
   "cell_type": "markdown",
   "metadata": {},
   "source": [
    "**1) All Other Larceny**"
   ]
  },
  {
   "cell_type": "markdown",
   "metadata": {},
   "source": [
    "* 578 crimes were correctly predicted as being \"all other larceny\" crimes\n",
    "* 2,834 crimes were wrongly predicted as not being \"all other larceny\" crimes\n",
    "* 2,389 crimes were wrongly precicted as being \"all other larceny\" crimes\n",
    "* 26,045 crimes were correctly predicted as not being \"all other larceny\" crimes"
   ]
  },
  {
   "cell_type": "markdown",
   "metadata": {},
   "source": [
    "**2) Burglary/Breaking & Entering**"
   ]
  },
  {
   "cell_type": "markdown",
   "metadata": {},
   "source": [
    "* 1799 crimes were correctly predicted as being \"burglary/breaking & entering\" crimes\n",
    "* 3,096 crimes were wrongly predicted as not being \"burglary/breaking & entering\" crimes\n",
    "* 4,414 crimes were wrongly predicted as being \"burglary/breaking & entering\" crimes\n",
    "* 23,722 crimes were correctly predicted as not being \"burglary/breaking & entering\" crimes"
   ]
  },
  {
   "cell_type": "markdown",
   "metadata": {},
   "source": [
    "**3) Destruction/Damage/Vandalism of Property**"
   ]
  },
  {
   "cell_type": "markdown",
   "metadata": {},
   "source": [
    "* 283 crimes were correctly predicted as being \"destruction/damage/vandalism of property\" crimes\n",
    "* 3,579 crimes were wrongly predicted as not being \"destruction/damage/vandalism of property\" crimes\n",
    "* 891 crimes were wrongly predicted as being \"destruction/damage/vandalism of property\" crimes\n",
    "* 28,942 crimes were correctly predicted as not being \"destruction/damage/vandalism of property\" crimes"
   ]
  },
  {
   "cell_type": "markdown",
   "metadata": {},
   "source": [
    "**4) Intimidation**"
   ]
  },
  {
   "cell_type": "markdown",
   "metadata": {},
   "source": [
    "* 846 crimes were correctly predicted as being \"intimidation\" crimes\n",
    "* 713 crimes were wrongly predicted as not being \"intimidation\" crimes\n",
    "* 1,748 crimes were wrongly predicted as being \"intimidation\" crimes\n",
    "* 29, 559 crimes were correctly predicted as not being \"intimidation\" crimes"
   ]
  },
  {
   "cell_type": "markdown",
   "metadata": {},
   "source": [
    "**5) Motor Vehicle Theft**"
   ]
  },
  {
   "cell_type": "markdown",
   "metadata": {},
   "source": [
    "* 796 crimes were correctly predicted as being \"motor vehicle theft\" crimes\n",
    "* 2,548 crimes were wrongly predicted as not being \"motor vehicle theft\" crimes\n",
    "* 3,583 crimes were wrongly predicted as being \"motor vehicle theft\" crimes\n",
    "* 27,841 crimes were correctly predicted as not being \"motor vehicle theft\" crimes"
   ]
  },
  {
   "cell_type": "markdown",
   "metadata": {},
   "source": [
    "**6) Shoplifting**"
   ]
  },
  {
   "cell_type": "markdown",
   "metadata": {},
   "source": [
    "* 1559 crimes were correctly predicted as being \"shoplifting\" crimes\n",
    "* 424 crimes were wrongly predicted as not being \"shoplifting\" crimes\n",
    "* 7,522 crimes were wrongly predicted as being \"shoplifting\" crimes\n",
    "* 27,652 crimes were correctly predicted as not being \"shoplifting\" crimes"
   ]
  },
  {
   "cell_type": "markdown",
   "metadata": {},
   "source": [
    "**7) Simple Assault**"
   ]
  },
  {
   "cell_type": "markdown",
   "metadata": {},
   "source": [
    "* 853 crimes were correctly predicted as being \"simple assault\" crimes\n",
    "* 1,758 crimes were wrongly predicted as not being \"simple assault\" crimes\n",
    "* 918 crimes were wrongly predicted as being \"simple assault\" crimes\n",
    "* 30,993 crimes were correctly predicted as not being \"simple assault\" crimes"
   ]
  },
  {
   "cell_type": "markdown",
   "metadata": {},
   "source": [
    "**8) Theft From Motor Vehicle**"
   ]
  },
  {
   "cell_type": "markdown",
   "metadata": {},
   "source": [
    "* 244 crimes were correctly predicted as being \"theft from motor vehicle\" crimes\n",
    "* 4,651 crimes were wrongly predicted as not being \"theft from motor vehicle\" crimes\n",
    "* 549 crimes were wrongly predicted as being \"theft from motor vehicle\" crimes\n",
    "* 31,282 crimes were correctly predicted as not being \"theft from motor vehicle\" crimes"
   ]
  },
  {
   "cell_type": "markdown",
   "metadata": {},
   "source": [
    "**9)  Theft of Motor Vehicle Parts or Accessories**"
   ]
  },
  {
   "cell_type": "markdown",
   "metadata": {},
   "source": [
    "* 244 crimes were correctly predicted as being \"theft of motor vehicle parts or accessories\" crimes\n",
    "* 3,021 crimes were wrongly predicted as not being \"theft of motor vehicle parts or accessories\" crimes\n",
    "* 985 crimes were wrongly predicted as not being \"theft of motor vehicle parts or accessories\" crimes\n",
    "* 26,966 crimes were correctly predicted as not being \"theft of motor vehicle parts or accessories\" crimes"
   ]
  },
  {
   "cell_type": "markdown",
   "metadata": {},
   "source": [
    "### Crime Classification Report ###"
   ]
  },
  {
   "cell_type": "markdown",
   "metadata": {},
   "source": [
    "## Random Forest Tuning ##"
   ]
  },
  {
   "cell_type": "code",
   "execution_count": null,
   "metadata": {},
   "outputs": [],
   "source": []
  },
  {
   "cell_type": "code",
   "execution_count": 54,
   "metadata": {},
   "outputs": [
    {
     "data": {
      "text/plain": [
       "{'criterion': 'entropy',\n",
       " 'max_depth': 3,\n",
       " 'min_samples_leaf': 0.1,\n",
       " 'min_samples_split': 0.2,\n",
       " 'random_state': 1}"
      ]
     },
     "execution_count": 54,
     "metadata": {},
     "output_type": "execute_result"
    }
   ],
   "source": [
    "rf2 = RandomForestClassifier()\n",
    "\n",
    "param_grid = {\n",
    "    'criterion': ['entropy'],\n",
    "    'random_state': [1],\n",
    "    'max_depth': [1, 2, 3, 4, 5],\n",
    "    'min_samples_split': [0.2, 0.25, 0.3, 0.35, 0.4 ],\n",
    "    'min_samples_leaf': [0.1, 0.2, 0.3]\n",
    "}\n",
    "\n",
    "\n",
    "gs_rf = GridSearchCV(rf2, param_grid)\n",
    "gs_rf.fit(X_train, y_train)\n",
    "gs_rf.best_params_"
   ]
  },
  {
   "cell_type": "code",
   "execution_count": 55,
   "metadata": {},
   "outputs": [],
   "source": [
    "#gs_forest_train_pred = gs_rf.predict(X_train)\n",
    "#print(classification_report(y_train, gs_forest_train_pred))"
   ]
  },
  {
   "cell_type": "code",
   "execution_count": 56,
   "metadata": {},
   "outputs": [],
   "source": [
    "#gs_forest_test_pred = gs_rf.predict(X_test)\n",
    "#print(classification_report(y_test, gs_forest_test_pred))"
   ]
  },
  {
   "cell_type": "code",
   "execution_count": 57,
   "metadata": {},
   "outputs": [
    {
     "data": {
      "text/plain": [
       "{'criterion': 'entropy',\n",
       " 'max_depth': 3,\n",
       " 'min_samples_leaf': 0.1,\n",
       " 'min_samples_split': 0.2,\n",
       " 'random_state': 1}"
      ]
     },
     "execution_count": 57,
     "metadata": {},
     "output_type": "execute_result"
    }
   ],
   "source": [
    "rf3 = RandomForestClassifier()\n",
    "\n",
    "param_grid2 = {\n",
    "    'criterion': ['entropy'],\n",
    "    'random_state': [1],\n",
    "    'max_depth': [2, 3, 4],\n",
    "    'min_samples_split': [0.24, 0.25, 0.26],\n",
    "    'min_samples_leaf': [0.1, 0.12, 0.13]\n",
    "}\n",
    "\n",
    "\n",
    "gs_rf2 = GridSearchCV(rf2, param_grid)\n",
    "gs_rf2.fit(X_train, y_train)\n",
    "gs_rf2.best_params_"
   ]
  },
  {
   "cell_type": "code",
   "execution_count": 58,
   "metadata": {},
   "outputs": [],
   "source": [
    "rf4 = RandomForestClassifier(criterion= \"entropy\", random_state = 1,  max_depth = 3, min_samples_split= 0.2, min_samples_leaf = 0.1,  )\n",
    "\n",
    "rf4.fit(X_train, y_train)\n",
    "rf_train_pred2 = rf4.predict(X_train)\n",
    "rf_test_pred2 = rf4.predict(X_test)"
   ]
  },
  {
   "cell_type": "code",
   "execution_count": 59,
   "metadata": {},
   "outputs": [
    {
     "data": {
      "image/png": "[encoded data removed]",
      "text/plain": [
       "<Figure size 936x936 with 2 Axes>"
      ]
     },
     "metadata": {
      "needs_background": "light"
     },
     "output_type": "display_data"
    }
   ],
   "source": [
    "cm2 = confusion_matrix(y_test, rf_test_pred2);\n",
    "cmp2 = ConfusionMatrixDisplay(cm2);\n",
    "fig, ax = plt.subplots(figsize=(13,13));\n",
    "cmp2.plot(ax=ax);\n",
    "cmp2.ax_.set_title(\"Confusion Matrix\");"
   ]
  },
  {
   "cell_type": "code",
   "execution_count": 60,
   "metadata": {},
   "outputs": [
    {
     "name": "stderr",
     "output_type": "stream",
     "text": [
      "C:\\Users\\aleja\\anaconda3\\envs\\learn-env\\lib\\site-packages\\sklearn\\metrics\\_classification.py:1221: UndefinedMetricWarning: Precision and F-score are ill-defined and being set to 0.0 in labels with no predicted samples. Use `zero_division` parameter to control this behavior.\n",
      "  _warn_prf(average, modifier, msg_start, len(result))\n"
     ]
    },
    {
     "name": "stdout",
     "output_type": "stream",
     "text": [
      "                                             precision    recall  f1-score   support\n",
      "\n",
      "                         Aggravated Assault       0.37      0.32      0.34     14827\n",
      "                          All Other Larceny       0.19      0.24      0.21     14827\n",
      "               Burglary/Breaking & Entering       0.23      0.44      0.30     14827\n",
      "   Destruction/Damage/Vandalism of Property       0.18      0.02      0.03     14827\n",
      "                               Intimidation       0.38      0.45      0.41     14827\n",
      "                        Motor Vehicle Theft       0.20      0.18      0.19     14827\n",
      "                                Shoplifting       0.23      0.65      0.34     14827\n",
      "                             Simple Assault       0.35      0.34      0.35     14827\n",
      "                   Theft From Motor Vehicle       0.00      0.00      0.00     14827\n",
      "Theft of Motor Vehicle Parts or Accessories       0.11      0.00      0.00     14827\n",
      "\n",
      "                                   accuracy                           0.26    148270\n",
      "                                  macro avg       0.22      0.26      0.22    148270\n",
      "                               weighted avg       0.22      0.26      0.22    148270\n",
      "\n"
     ]
    }
   ],
   "source": [
    "print(classification_report(y_train, rf_train_pred2))"
   ]
  },
  {
   "cell_type": "code",
   "execution_count": 61,
   "metadata": {},
   "outputs": [
    {
     "name": "stdout",
     "output_type": "stream",
     "text": [
      "                                             precision    recall  f1-score   support\n",
      "\n",
      "                         Aggravated Assault       0.35      0.32      0.33      1840\n",
      "                          All Other Larceny       0.18      0.23      0.20      3412\n",
      "               Burglary/Breaking & Entering       0.27      0.43      0.33      4895\n",
      "   Destruction/Damage/Vandalism of Property       0.18      0.02      0.03      3862\n",
      "                               Intimidation       0.28      0.43      0.34      1559\n",
      "                        Motor Vehicle Theft       0.17      0.17      0.17      3344\n",
      "                                Shoplifting       0.14      0.64      0.23      2163\n",
      "                             Simple Assault       0.45      0.33      0.38      2611\n",
      "                   Theft From Motor Vehicle       0.00      0.00      0.00      4895\n",
      "Theft of Motor Vehicle Parts or Accessories       0.00      0.00      0.00      3265\n",
      "\n",
      "                                   accuracy                           0.22     31846\n",
      "                                  macro avg       0.20      0.26      0.20     31846\n",
      "                               weighted avg       0.18      0.22      0.18     31846\n",
      "\n"
     ]
    }
   ],
   "source": [
    "print(classification_report(y_test, rf_test_pred2))"
   ]
  },
  {
   "cell_type": "code",
   "execution_count": 62,
   "metadata": {},
   "outputs": [
    {
     "name": "stdout",
     "output_type": "stream",
     "text": [
      "My program took 2517.303290605545 to run\n"
     ]
    }
   ],
   "source": [
    "print (\"My program took\", time.time() - start_time, \"to run\")"
   ]
  },
  {
   "cell_type": "code",
   "execution_count": null,
   "metadata": {},
   "outputs": [],
   "source": []
  }
 ],
 "metadata": {
  "kernelspec": {
   "display_name": "Python 3",
   "language": "python",
   "name": "python3"
  },
  "language_info": {
   "codemirror_mode": {
    "name": "ipython",
    "version": 3
   },
   "file_extension": ".py",
   "mimetype": "text/x-python",
   "name": "python",
   "nbconvert_exporter": "python",
   "pygments_lexer": "ipython3",
   "version": "3.8.5"
  }
 },
 "nbformat": 4,
 "nbformat_minor": 4
}
