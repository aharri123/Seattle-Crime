{
 "cells": [
  {
   "cell_type": "markdown",
   "metadata": {},
   "source": [
    "# Seattle Crime #"
   ]
  },
  {
   "cell_type": "code",
   "execution_count": 24,
   "metadata": {},
   "outputs": [
    {
     "ename": "ModuleNotFoundError",
     "evalue": "No module named 'catboost'",
     "output_type": "error",
     "traceback": [
      "\u001b[1;31m---------------------------------------------------------------------------\u001b[0m",
      "\u001b[1;31mModuleNotFoundError\u001b[0m                       Traceback (most recent call last)",
      "\u001b[1;32m<ipython-input-24-54884ef731cd>\u001b[0m in \u001b[0;36m<module>\u001b[1;34m\u001b[0m\n\u001b[0;32m     11\u001b[0m \u001b[1;32mfrom\u001b[0m \u001b[0msklearn\u001b[0m\u001b[1;33m.\u001b[0m\u001b[0mmetrics\u001b[0m \u001b[1;32mimport\u001b[0m \u001b[0mplot_confusion_matrix\u001b[0m\u001b[1;33m,\u001b[0m \u001b[0mConfusionMatrixDisplay\u001b[0m\u001b[1;33m,\u001b[0m \u001b[0mconfusion_matrix\u001b[0m\u001b[1;33m\u001b[0m\u001b[1;33m\u001b[0m\u001b[0m\n\u001b[0;32m     12\u001b[0m \u001b[1;32mfrom\u001b[0m \u001b[0msklearn\u001b[0m\u001b[1;33m.\u001b[0m\u001b[0mmodel_selection\u001b[0m \u001b[1;32mimport\u001b[0m \u001b[0mGridSearchCV\u001b[0m\u001b[1;33m\u001b[0m\u001b[1;33m\u001b[0m\u001b[0m\n\u001b[1;32m---> 13\u001b[1;33m \u001b[1;32mfrom\u001b[0m \u001b[0mcatboost\u001b[0m \u001b[1;32mimport\u001b[0m \u001b[0mCatBoostClassifier\u001b[0m\u001b[1;33m,\u001b[0m \u001b[0mPool\u001b[0m\u001b[1;33m,\u001b[0m \u001b[0mmetrics\u001b[0m\u001b[1;33m,\u001b[0m \u001b[0mcv\u001b[0m\u001b[1;33m\u001b[0m\u001b[1;33m\u001b[0m\u001b[0m\n\u001b[0m\u001b[0;32m     14\u001b[0m \u001b[1;32mfrom\u001b[0m \u001b[0msklearn\u001b[0m\u001b[1;33m.\u001b[0m\u001b[0mmetrics\u001b[0m \u001b[1;32mimport\u001b[0m \u001b[0maccuracy_score\u001b[0m\u001b[1;33m\u001b[0m\u001b[1;33m\u001b[0m\u001b[0m\n\u001b[0;32m     15\u001b[0m \u001b[1;32mimport\u001b[0m \u001b[0mtime\u001b[0m\u001b[1;33m\u001b[0m\u001b[1;33m\u001b[0m\u001b[0m\n",
      "\u001b[1;31mModuleNotFoundError\u001b[0m: No module named 'catboost'"
     ]
    }
   ],
   "source": [
    "import matplotlib.pyplot as plt\n",
    "import pandas as pd\n",
    "import numpy as np\n",
    "from sklearn.model_selection import train_test_split\n",
    "from sklearn.linear_model import LogisticRegression\n",
    "from sklearn.preprocessing import StandardScaler\n",
    "from sklearn.metrics import classification_report\n",
    "from imblearn.over_sampling import SMOTE\n",
    "from imblearn.over_sampling import RandomOverSampler\n",
    "from sklearn.ensemble import RandomForestClassifier\n",
    "from sklearn.metrics import plot_confusion_matrix, ConfusionMatrixDisplay, confusion_matrix\n",
    "from sklearn.model_selection import GridSearchCV\n",
    "from catboost import CatBoostClassifier, Pool, metrics, cv\n",
    "from sklearn.metrics import accuracy_score\n",
    "import time"
   ]
  },
  {
   "cell_type": "code",
   "execution_count": 2,
   "metadata": {},
   "outputs": [],
   "source": [
    "start_time = time.time()"
   ]
  },
  {
   "cell_type": "markdown",
   "metadata": {},
   "source": [
    "## Opening Datafile ##"
   ]
  },
  {
   "cell_type": "markdown",
   "metadata": {},
   "source": [
    "In a separate notebook, we preprocessed our \"SPD_Crime_Data\" file, and saved it as a new CSV file. We'll now open that file to use for our models."
   ]
  },
  {
   "cell_type": "code",
   "execution_count": 3,
   "metadata": {
    "scrolled": true
   },
   "outputs": [
    {
     "data": {
      "text/html": [
       "<div>\n",
       "<style scoped>\n",
       "    .dataframe tbody tr th:only-of-type {\n",
       "        vertical-align: middle;\n",
       "    }\n",
       "\n",
       "    .dataframe tbody tr th {\n",
       "        vertical-align: top;\n",
       "    }\n",
       "\n",
       "    .dataframe thead th {\n",
       "        text-align: right;\n",
       "    }\n",
       "</style>\n",
       "<table border=\"1\" class=\"dataframe\">\n",
       "  <thead>\n",
       "    <tr style=\"text-align: right;\">\n",
       "      <th></th>\n",
       "      <th>Unnamed: 0</th>\n",
       "      <th>Crime Against Category</th>\n",
       "      <th>Offense</th>\n",
       "      <th>Sector</th>\n",
       "      <th>Beat</th>\n",
       "      <th>MCPP</th>\n",
       "      <th>Time</th>\n",
       "      <th>Day</th>\n",
       "      <th>Year</th>\n",
       "    </tr>\n",
       "  </thead>\n",
       "  <tbody>\n",
       "    <tr>\n",
       "      <th>0</th>\n",
       "      <td>1</td>\n",
       "      <td>2</td>\n",
       "      <td>Theft of Motor Vehicle Parts or Accessories</td>\n",
       "      <td>11</td>\n",
       "      <td>22</td>\n",
       "      <td>50</td>\n",
       "      <td>661</td>\n",
       "      <td>0</td>\n",
       "      <td>0</td>\n",
       "    </tr>\n",
       "    <tr>\n",
       "      <th>1</th>\n",
       "      <td>2</td>\n",
       "      <td>2</td>\n",
       "      <td>Robbery</td>\n",
       "      <td>22</td>\n",
       "      <td>50</td>\n",
       "      <td>50</td>\n",
       "      <td>1753</td>\n",
       "      <td>6</td>\n",
       "      <td>0</td>\n",
       "    </tr>\n",
       "    <tr>\n",
       "      <th>2</th>\n",
       "      <td>3</td>\n",
       "      <td>2</td>\n",
       "      <td>Destruction/Damage/Vandalism of Property</td>\n",
       "      <td>18</td>\n",
       "      <td>39</td>\n",
       "      <td>33</td>\n",
       "      <td>124</td>\n",
       "      <td>2</td>\n",
       "      <td>0</td>\n",
       "    </tr>\n",
       "    <tr>\n",
       "      <th>3</th>\n",
       "      <td>5</td>\n",
       "      <td>2</td>\n",
       "      <td>Shoplifting</td>\n",
       "      <td>14</td>\n",
       "      <td>29</td>\n",
       "      <td>16</td>\n",
       "      <td>2005</td>\n",
       "      <td>1</td>\n",
       "      <td>0</td>\n",
       "    </tr>\n",
       "    <tr>\n",
       "      <th>4</th>\n",
       "      <td>6</td>\n",
       "      <td>2</td>\n",
       "      <td>Destruction/Damage/Vandalism of Property</td>\n",
       "      <td>11</td>\n",
       "      <td>22</td>\n",
       "      <td>44</td>\n",
       "      <td>1753</td>\n",
       "      <td>1</td>\n",
       "      <td>0</td>\n",
       "    </tr>\n",
       "  </tbody>\n",
       "</table>\n",
       "</div>"
      ],
      "text/plain": [
       "   Unnamed: 0  Crime Against Category  \\\n",
       "0           1                       2   \n",
       "1           2                       2   \n",
       "2           3                       2   \n",
       "3           5                       2   \n",
       "4           6                       2   \n",
       "\n",
       "                                       Offense  Sector  Beat  MCPP  Time  Day  \\\n",
       "0  Theft of Motor Vehicle Parts or Accessories      11    22    50   661    0   \n",
       "1                                      Robbery      22    50    50  1753    6   \n",
       "2     Destruction/Damage/Vandalism of Property      18    39    33   124    2   \n",
       "3                                  Shoplifting      14    29    16  2005    1   \n",
       "4     Destruction/Damage/Vandalism of Property      11    22    44  1753    1   \n",
       "\n",
       "   Year  \n",
       "0     0  \n",
       "1     0  \n",
       "2     0  \n",
       "3     0  \n",
       "4     0  "
      ]
     },
     "execution_count": 3,
     "metadata": {},
     "output_type": "execute_result"
    }
   ],
   "source": [
    "df = pd.read_csv(\"preprocessed_data.csv\")\n",
    "df.head()"
   ]
  },
  {
   "cell_type": "code",
   "execution_count": 4,
   "metadata": {},
   "outputs": [
    {
     "name": "stdout",
     "output_type": "stream",
     "text": [
      "<class 'pandas.core.frame.DataFrame'>\n",
      "RangeIndex: 210259 entries, 0 to 210258\n",
      "Data columns (total 9 columns):\n",
      " #   Column                  Non-Null Count   Dtype \n",
      "---  ------                  --------------   ----- \n",
      " 0   Unnamed: 0              210259 non-null  int64 \n",
      " 1   Crime Against Category  210259 non-null  int64 \n",
      " 2   Offense                 210259 non-null  object\n",
      " 3   Sector                  210259 non-null  int64 \n",
      " 4   Beat                    210259 non-null  int64 \n",
      " 5   MCPP                    210259 non-null  int64 \n",
      " 6   Time                    210259 non-null  int64 \n",
      " 7   Day                     210259 non-null  int64 \n",
      " 8   Year                    210259 non-null  int64 \n",
      "dtypes: int64(8), object(1)\n",
      "memory usage: 14.4+ MB\n"
     ]
    }
   ],
   "source": [
    "df.info()"
   ]
  },
  {
   "cell_type": "markdown",
   "metadata": {},
   "source": [
    "## Setting Up For Initial Model ##"
   ]
  },
  {
   "cell_type": "markdown",
   "metadata": {},
   "source": [
    "Let's start off by first identifying our target variable"
   ]
  },
  {
   "cell_type": "code",
   "execution_count": 5,
   "metadata": {},
   "outputs": [],
   "source": [
    "X = df.drop(\"Offense\", axis = 1)\n",
    "\n",
    "#Target Variable\n",
    "y = df[\"Offense\"]"
   ]
  },
  {
   "cell_type": "markdown",
   "metadata": {},
   "source": [
    "Now we'll split our data using Train Test Split"
   ]
  },
  {
   "cell_type": "code",
   "execution_count": 6,
   "metadata": {},
   "outputs": [],
   "source": [
    "X_train, X_test, y_train, y_test = train_test_split(X, y, random_state = 1)"
   ]
  },
  {
   "cell_type": "markdown",
   "metadata": {},
   "source": [
    "We'll scale our data, to make it easier for the model to work with"
   ]
  },
  {
   "cell_type": "code",
   "execution_count": 7,
   "metadata": {},
   "outputs": [],
   "source": [
    "SS = StandardScaler()\n",
    "X_train = SS.fit_transform(X_train)\n",
    "X_test = SS.transform(X_test)"
   ]
  },
  {
   "cell_type": "markdown",
   "metadata": {},
   "source": [
    "Let's look at the value counts for our dependent variable"
   ]
  },
  {
   "cell_type": "code",
   "execution_count": 8,
   "metadata": {},
   "outputs": [
    {
     "data": {
      "image/png": "[encoded data removed]",
      "text/plain": [
       "<Figure size 1080x576 with 1 Axes>"
      ]
     },
     "metadata": {
      "needs_background": "light"
     },
     "output_type": "display_data"
    }
   ],
   "source": [
    "ax = df.value_counts('Offense').plot.barh(figsize = (15,8), title = \"Value counts of offenses\");\n",
    "ax.set_xlabel(\"Number of Occurences Over the Past 2 Years\");"
   ]
  },
  {
   "cell_type": "markdown",
   "metadata": {},
   "source": [
    "We can see that there's an imbalance, so let's use SMOTE to address that"
   ]
  },
  {
   "cell_type": "code",
   "execution_count": 9,
   "metadata": {},
   "outputs": [],
   "source": [
    "sm = SMOTE(random_state = 1)\n",
    "X_train, y_train = sm.fit_sample(X_train, y_train)"
   ]
  },
  {
   "cell_type": "markdown",
   "metadata": {},
   "source": [
    "Now it's time to initialize our model"
   ]
  },
  {
   "cell_type": "markdown",
   "metadata": {},
   "source": [
    "## Random Forest Model ##"
   ]
  },
  {
   "cell_type": "code",
   "execution_count": 10,
   "metadata": {},
   "outputs": [],
   "source": [
    "#rf = RandomForestClassifier(criterion= \"entropy\",random_state = 1,  max_depth = 5)\n",
    "\n",
    "#rf.fit(X_train, y_train)\n",
    "#rf_train_pred = rf.predict(X_train)\n",
    "#rf_test_pred = rf.predict(X_test)"
   ]
  },
  {
   "cell_type": "code",
   "execution_count": 11,
   "metadata": {},
   "outputs": [],
   "source": [
    "#print(classification_report(y_train, rf_train_pred))"
   ]
  },
  {
   "cell_type": "code",
   "execution_count": 12,
   "metadata": {},
   "outputs": [],
   "source": [
    "#print(classification_report(y_test, rf_test_pred))"
   ]
  },
  {
   "cell_type": "code",
   "execution_count": 13,
   "metadata": {
    "scrolled": false
   },
   "outputs": [],
   "source": [
    "#fig, ax = plt.subplots(figsize=(15,15))\n",
    "#interp.plot_confusion_matrix(rf, X_test, y_test);\n",
    "\n",
    "#np.interp.plot_confusion_matrix(figsize=(10,10))\n",
    "\n",
    "#cm = confusion_matrix(y_test, rf_test_pred);\n",
    "#cmp = ConfusionMatrixDisplay(cm);\n",
    "#fig, ax = plt.subplots(figsize=(13,13));\n",
    "#cmp.plot(ax=ax);\n",
    "#cmp.ax_.set_title(\"Confusion Matrix\");"
   ]
  },
  {
   "cell_type": "markdown",
   "metadata": {},
   "source": [
    "0) Aggravated Assault\n",
    "\n",
    "1) All Other Larceny\n",
    "\n",
    "2) Burglary/Breaking & Entering\n",
    "\n",
    "3) Destruction/Damage/Vandalism of Property\n",
    "\n",
    "4) Intimidation\n",
    "\n",
    "5) Motor Vehicle Theft\n",
    "\n",
    "6) Shoplifting\n",
    "\n",
    "7) Simple Assault\n",
    "\n",
    "8) Theft From Motor Vehicle\n",
    "\n",
    "9) Theft of Motor Vehicle Parts or Accessories\n"
   ]
  },
  {
   "cell_type": "markdown",
   "metadata": {},
   "source": [
    "### Crime Confusion Matrix ###"
   ]
  },
  {
   "cell_type": "markdown",
   "metadata": {},
   "source": [
    "**0) Aggravated Assault**"
   ]
  },
  {
   "cell_type": "markdown",
   "metadata": {},
   "source": [
    "* 615 crimes were correctly predicted as being \"aggravated assault\" crimes\n",
    "* 1,225 crimes were wrongly predicted as not being \"aggravated assault\" crimes\n",
    "* 1,030 crimes were wrongly predicted as being \"aggravated assault\" crimes\n",
    "* 28,976 crimes were correctly predicted as not being \"aggravated assault\" crimes"
   ]
  },
  {
   "cell_type": "markdown",
   "metadata": {},
   "source": [
    "**1) All Other Larceny**"
   ]
  },
  {
   "cell_type": "markdown",
   "metadata": {},
   "source": [
    "* 578 crimes were correctly predicted as being \"all other larceny\" crimes\n",
    "* 2,834 crimes were wrongly predicted as not being \"all other larceny\" crimes\n",
    "* 2,389 crimes were wrongly precicted as being \"all other larceny\" crimes\n",
    "* 26,045 crimes were correctly predicted as not being \"all other larceny\" crimes"
   ]
  },
  {
   "cell_type": "markdown",
   "metadata": {},
   "source": [
    "**2) Burglary/Breaking & Entering**"
   ]
  },
  {
   "cell_type": "markdown",
   "metadata": {},
   "source": [
    "* 1799 crimes were correctly predicted as being \"burglary/breaking & entering\" crimes\n",
    "* 3,096 crimes were wrongly predicted as not being \"burglary/breaking & entering\" crimes\n",
    "* 4,414 crimes were wrongly predicted as being \"burglary/breaking & entering\" crimes\n",
    "* 23,722 crimes were correctly predicted as not being \"burglary/breaking & entering\" crimes"
   ]
  },
  {
   "cell_type": "markdown",
   "metadata": {},
   "source": [
    "**3) Destruction/Damage/Vandalism of Property**"
   ]
  },
  {
   "cell_type": "markdown",
   "metadata": {},
   "source": [
    "* 283 crimes were correctly predicted as being \"destruction/damage/vandalism of property\" crimes\n",
    "* 3,579 crimes were wrongly predicted as not being \"destruction/damage/vandalism of property\" crimes\n",
    "* 891 crimes were wrongly predicted as being \"destruction/damage/vandalism of property\" crimes\n",
    "* 28,942 crimes were correctly predicted as not being \"destruction/damage/vandalism of property\" crimes"
   ]
  },
  {
   "cell_type": "markdown",
   "metadata": {},
   "source": [
    "**4) Intimidation**"
   ]
  },
  {
   "cell_type": "markdown",
   "metadata": {},
   "source": [
    "* 846 crimes were correctly predicted as being \"intimidation\" crimes\n",
    "* 713 crimes were wrongly predicted as not being \"intimidation\" crimes\n",
    "* 1,748 crimes were wrongly predicted as being \"intimidation\" crimes\n",
    "* 29, 559 crimes were correctly predicted as not being \"intimidation\" crimes"
   ]
  },
  {
   "cell_type": "markdown",
   "metadata": {},
   "source": [
    "**5) Motor Vehicle Theft**"
   ]
  },
  {
   "cell_type": "markdown",
   "metadata": {},
   "source": [
    "* 796 crimes were correctly predicted as being \"motor vehicle theft\" crimes\n",
    "* 2,548 crimes were wrongly predicted as not being \"motor vehicle theft\" crimes\n",
    "* 3,583 crimes were wrongly predicted as being \"motor vehicle theft\" crimes\n",
    "* 27,841 crimes were correctly predicted as not being \"motor vehicle theft\" crimes"
   ]
  },
  {
   "cell_type": "markdown",
   "metadata": {},
   "source": [
    "**6) Shoplifting**"
   ]
  },
  {
   "cell_type": "markdown",
   "metadata": {},
   "source": [
    "* 1559 crimes were correctly predicted as being \"shoplifting\" crimes\n",
    "* 424 crimes were wrongly predicted as not being \"shoplifting\" crimes\n",
    "* 7,522 crimes were wrongly predicted as being \"shoplifting\" crimes\n",
    "* 27,652 crimes were correctly predicted as not being \"shoplifting\" crimes"
   ]
  },
  {
   "cell_type": "markdown",
   "metadata": {},
   "source": [
    "**7) Simple Assault**"
   ]
  },
  {
   "cell_type": "markdown",
   "metadata": {},
   "source": [
    "* 853 crimes were correctly predicted as being \"simple assault\" crimes\n",
    "* 1,758 crimes were wrongly predicted as not being \"simple assault\" crimes\n",
    "* 918 crimes were wrongly predicted as being \"simple assault\" crimes\n",
    "* 30,993 crimes were correctly predicted as not being \"simple assault\" crimes"
   ]
  },
  {
   "cell_type": "markdown",
   "metadata": {},
   "source": [
    "**8) Theft From Motor Vehicle**"
   ]
  },
  {
   "cell_type": "markdown",
   "metadata": {},
   "source": [
    "* 244 crimes were correctly predicted as being \"theft from motor vehicle\" crimes\n",
    "* 4,651 crimes were wrongly predicted as not being \"theft from motor vehicle\" crimes\n",
    "* 549 crimes were wrongly predicted as being \"theft from motor vehicle\" crimes\n",
    "* 31,282 crimes were correctly predicted as not being \"theft from motor vehicle\" crimes"
   ]
  },
  {
   "cell_type": "markdown",
   "metadata": {},
   "source": [
    "**9)  Theft of Motor Vehicle Parts or Accessories**"
   ]
  },
  {
   "cell_type": "markdown",
   "metadata": {},
   "source": [
    "* 244 crimes were correctly predicted as being \"theft of motor vehicle parts or accessories\" crimes\n",
    "* 3,021 crimes were wrongly predicted as not being \"theft of motor vehicle parts or accessories\" crimes\n",
    "* 985 crimes were wrongly predicted as not being \"theft of motor vehicle parts or accessories\" crimes\n",
    "* 26,966 crimes were correctly predicted as not being \"theft of motor vehicle parts or accessories\" crimes"
   ]
  },
  {
   "cell_type": "markdown",
   "metadata": {},
   "source": [
    "### Crime Classification Report ###"
   ]
  },
  {
   "cell_type": "markdown",
   "metadata": {},
   "source": [
    "## Random Forest Tuning ##"
   ]
  },
  {
   "cell_type": "code",
   "execution_count": null,
   "metadata": {},
   "outputs": [],
   "source": []
  },
  {
   "cell_type": "code",
   "execution_count": 14,
   "metadata": {},
   "outputs": [],
   "source": [
    "#rf2 = RandomForestClassifier()\n",
    "\n",
    "#param_grid = {\n",
    "   # 'criterion': ['entropy'],\n",
    "   # 'random_state': [1],\n",
    "   # 'max_depth': [1, 2, 3, 4, 5],\n",
    "   # 'min_samples_split': [0.2, 0.25, 0.3, 0.35, 0.4 ],\n",
    "   # 'min_samples_leaf': [0.1, 0.2, 0.3]\n",
    "#}\n",
    "\n",
    "\n",
    "#gs_rf = GridSearchCV(rf2, param_grid)\n",
    "#gs_rf.fit(X_train, y_train)\n",
    "#gs_rf.best_params_"
   ]
  },
  {
   "cell_type": "code",
   "execution_count": 15,
   "metadata": {},
   "outputs": [],
   "source": [
    "#gs_forest_train_pred = gs_rf.predict(X_train)\n",
    "#print(classification_report(y_train, gs_forest_train_pred))"
   ]
  },
  {
   "cell_type": "code",
   "execution_count": 16,
   "metadata": {},
   "outputs": [],
   "source": [
    "#gs_forest_test_pred = gs_rf.predict(X_test)\n",
    "#print(classification_report(y_test, gs_forest_test_pred))"
   ]
  },
  {
   "cell_type": "code",
   "execution_count": 17,
   "metadata": {},
   "outputs": [],
   "source": [
    "#rf3 = RandomForestClassifier()\n",
    "\n",
    "#param_grid2 = {\n",
    "   # 'criterion': ['entropy'],\n",
    "   # 'random_state': [1],\n",
    "   # 'max_depth': [2, 3, 4],\n",
    "    #'min_samples_split': [0.24, 0.25, 0.26],\n",
    "   # 'min_samples_leaf': [0.1, 0.12, 0.13]\n",
    "#}\n",
    "\n",
    "\n",
    "#gs_rf2 = GridSearchCV(rf2, param_grid)\n",
    "#gs_rf2.fit(X_train, y_train)\n",
    "#gs_rf2.best_params_"
   ]
  },
  {
   "cell_type": "code",
   "execution_count": 18,
   "metadata": {},
   "outputs": [],
   "source": [
    "#rf4 = RandomForestClassifier(criterion= \"entropy\", random_state = 1,  max_depth = 3, min_samples_split= 0.2, min_samples_leaf = 0.1,  )\n",
    "\n",
    "#rf4.fit(X_train, y_train)\n",
    "#rf_train_pred2 = rf4.predict(X_train)\n",
    "#rf_test_pred2 = rf4.predict(X_test)"
   ]
  },
  {
   "cell_type": "code",
   "execution_count": 19,
   "metadata": {},
   "outputs": [],
   "source": [
    "#cm2 = confusion_matrix(y_test, rf_test_pred2);\n",
    "#cmp2 = ConfusionMatrixDisplay(cm2);\n",
    "#fig, ax = plt.subplots(figsize=(13,13));\n",
    "#cmp2.plot(ax=ax);\n",
    "#cmp2.ax_.set_title(\"Confusion Matrix\");"
   ]
  },
  {
   "cell_type": "code",
   "execution_count": 20,
   "metadata": {},
   "outputs": [],
   "source": [
    "#print(classification_report(y_train, rf_train_pred2))"
   ]
  },
  {
   "cell_type": "code",
   "execution_count": 21,
   "metadata": {},
   "outputs": [],
   "source": [
    "#print(classification_report(y_test, rf_test_pred2))"
   ]
  },
  {
   "cell_type": "code",
   "execution_count": 22,
   "metadata": {},
   "outputs": [],
   "source": [
    "#print (\"My program took\", time.time() - start_time, \"to run\")"
   ]
  },
  {
   "cell_type": "markdown",
   "metadata": {},
   "source": [
    "## CatBoost Model ##"
   ]
  },
  {
   "cell_type": "code",
   "execution_count": 23,
   "metadata": {},
   "outputs": [
    {
     "ename": "NameError",
     "evalue": "name 'CatBoostClassifier' is not defined",
     "output_type": "error",
     "traceback": [
      "\u001b[1;31m---------------------------------------------------------------------------\u001b[0m",
      "\u001b[1;31mNameError\u001b[0m                                 Traceback (most recent call last)",
      "\u001b[1;32m<ipython-input-23-8199b30652c2>\u001b[0m in \u001b[0;36m<module>\u001b[1;34m\u001b[0m\n\u001b[1;32m----> 1\u001b[1;33m model = CatBoostClassifier(\n\u001b[0m\u001b[0;32m      2\u001b[0m     \u001b[0mrandom_state\u001b[0m \u001b[1;33m=\u001b[0m \u001b[1;36m1\u001b[0m\u001b[1;33m,\u001b[0m\u001b[1;33m\u001b[0m\u001b[1;33m\u001b[0m\u001b[0m\n\u001b[0;32m      3\u001b[0m     \u001b[0mloss_function\u001b[0m \u001b[1;33m=\u001b[0m \u001b[1;34m'MultiClass'\u001b[0m\u001b[1;33m,\u001b[0m\u001b[1;33m\u001b[0m\u001b[1;33m\u001b[0m\u001b[0m\n\u001b[0;32m      4\u001b[0m )\n",
      "\u001b[1;31mNameError\u001b[0m: name 'CatBoostClassifier' is not defined"
     ]
    }
   ],
   "source": [
    "model = CatBoostClassifier(\n",
    "    random_state = 1,\n",
    "    loss_function = 'MultiClass',\n",
    ")"
   ]
  },
  {
   "cell_type": "code",
   "execution_count": null,
   "metadata": {},
   "outputs": [],
   "source": []
  }
 ],
 "metadata": {
  "kernelspec": {
   "display_name": "Python 3",
   "language": "python",
   "name": "python3"
  },
  "language_info": {
   "codemirror_mode": {
    "name": "ipython",
    "version": 3
   },
   "file_extension": ".py",
   "mimetype": "text/x-python",
   "name": "python",
   "nbconvert_exporter": "python",
   "pygments_lexer": "ipython3",
   "version": "3.8.5"
  }
 },
 "nbformat": 4,
 "nbformat_minor": 4
}
