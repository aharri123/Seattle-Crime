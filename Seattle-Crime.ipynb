{
 "cells": [
  {
   "cell_type": "markdown",
   "metadata": {},
   "source": [
    "# Seattle Crime #"
   ]
  },
  {
   "cell_type": "code",
   "execution_count": null,
   "metadata": {},
   "outputs": [],
   "source": []
  },
  {
   "cell_type": "code",
   "execution_count": 1,
   "metadata": {},
   "outputs": [],
   "source": [
    "import matplotlib.pyplot as plt\n",
    "import pandas as pd\n",
    "import numpy as np\n",
    "from sklearn.model_selection import train_test_split\n",
    "from sklearn.linear_model import LogisticRegression\n",
    "from sklearn.preprocessing import StandardScaler\n",
    "from sklearn.metrics import classification_report\n",
    "from imblearn.over_sampling import SMOTE\n",
    "from imblearn.over_sampling import RandomOverSampler\n",
    "from sklearn.ensemble import RandomForestClassifier\n",
    "from sklearn.metrics import plot_confusion_matrix, ConfusionMatrixDisplay, confusion_matrix\n",
    "from sklearn.model_selection import GridSearchCV\n",
    "import time"
   ]
  },
  {
   "cell_type": "code",
   "execution_count": 2,
   "metadata": {},
   "outputs": [],
   "source": [
    "start_time = time.time()"
   ]
  },
  {
   "cell_type": "markdown",
   "metadata": {},
   "source": [
    "## Setting Up For Initial Model ##"
   ]
  },
  {
   "cell_type": "markdown",
   "metadata": {},
   "source": [
    "Let's start off by first identifying our target variable"
   ]
  },
  {
   "cell_type": "code",
   "execution_count": 37,
   "metadata": {},
   "outputs": [],
   "source": [
    "X = df.drop(\"Offense\", axis = 1)\n",
    "\n",
    "#Target Variable\n",
    "y = df[\"Offense\"]"
   ]
  },
  {
   "cell_type": "markdown",
   "metadata": {},
   "source": [
    "Now we'll split our data using Train Test Split"
   ]
  },
  {
   "cell_type": "code",
   "execution_count": 38,
   "metadata": {},
   "outputs": [],
   "source": [
    "X_train, X_test, y_train, y_test = train_test_split(X, y, random_state = 1)"
   ]
  },
  {
   "cell_type": "markdown",
   "metadata": {},
   "source": [
    "We'll scale our data, to make it easier for the model to work with"
   ]
  },
  {
   "cell_type": "code",
   "execution_count": 39,
   "metadata": {},
   "outputs": [],
   "source": [
    "SS = StandardScaler()\n",
    "X_train = SS.fit_transform(X_train)\n",
    "X_test = SS.transform(X_test)"
   ]
  },
  {
   "cell_type": "markdown",
   "metadata": {},
   "source": [
    "Let's look at the value counts for our dependent variable"
   ]
  },
  {
   "cell_type": "code",
   "execution_count": 40,
   "metadata": {},
   "outputs": [
    {
     "data": {
      "image/png": "[encoded data removed]",
      "text/plain": [
       "<Figure size 1080x576 with 1 Axes>"
      ]
     },
     "metadata": {
      "needs_background": "light"
     },
     "output_type": "display_data"
    }
   ],
   "source": [
    "ax = df.value_counts('Offense').plot.barh(figsize = (15,8), title = \"Value counts of offenses\");\n",
    "ax.set_xlabel(\"Number of Occurences Over the Past 2 Years\");"
   ]
  },
  {
   "cell_type": "markdown",
   "metadata": {},
   "source": [
    "We can see that there's an imbalance, so let's use SMOTE to address that"
   ]
  },
  {
   "cell_type": "code",
   "execution_count": 41,
   "metadata": {},
   "outputs": [],
   "source": [
    "sm = SMOTE(random_state = 1)\n",
    "X_train, y_train = sm.fit_sample(X_train, y_train)"
   ]
  },
  {
   "cell_type": "code",
   "execution_count": 42,
   "metadata": {},
   "outputs": [],
   "source": [
    "#Initializing our model\n",
    "#InitialModel = LogisticRegression(multi_class='ovr', random_state= 1)"
   ]
  },
  {
   "cell_type": "markdown",
   "metadata": {},
   "source": [
    "Now we'll fit our model"
   ]
  },
  {
   "cell_type": "code",
   "execution_count": 43,
   "metadata": {},
   "outputs": [],
   "source": [
    "#InitialModel.fit(X_train, y_train)"
   ]
  },
  {
   "cell_type": "code",
   "execution_count": 44,
   "metadata": {},
   "outputs": [],
   "source": [
    "#y_train_pred = InitialModel.predict(X_train)\n",
    "#y_test_pred = InitialModel.predict(X_test)"
   ]
  },
  {
   "cell_type": "code",
   "execution_count": 45,
   "metadata": {},
   "outputs": [],
   "source": [
    "#print(classification_report(y_train, y_train_pred))"
   ]
  },
  {
   "cell_type": "code",
   "execution_count": 46,
   "metadata": {},
   "outputs": [],
   "source": [
    "#print(classification_report(y_test, y_test_pred))"
   ]
  },
  {
   "cell_type": "markdown",
   "metadata": {},
   "source": [
    "Now it's time to initialize our model"
   ]
  },
  {
   "cell_type": "markdown",
   "metadata": {},
   "source": [
    "## Random Forest Model ##"
   ]
  },
  {
   "cell_type": "code",
   "execution_count": 47,
   "metadata": {},
   "outputs": [],
   "source": [
    "rf = RandomForestClassifier(criterion= \"entropy\",random_state = 1,  max_depth = 5)\n",
    "\n",
    "rf.fit(X_train, y_train)\n",
    "rf_train_pred = rf.predict(X_train)\n",
    "rf_test_pred = rf.predict(X_test)"
   ]
  },
  {
   "cell_type": "code",
   "execution_count": 48,
   "metadata": {},
   "outputs": [
    {
     "name": "stdout",
     "output_type": "stream",
     "text": [
      "                                             precision    recall  f1-score   support\n",
      "\n",
      "                         Aggravated Assault       0.43      0.37      0.40     14827\n",
      "                          All Other Larceny       0.21      0.17      0.19     14827\n",
      "               Burglary/Breaking & Entering       0.25      0.38      0.30     14827\n",
      "   Destruction/Damage/Vandalism of Property       0.27      0.08      0.13     14827\n",
      "                               Intimidation       0.42      0.56      0.48     14827\n",
      "                        Motor Vehicle Theft       0.23      0.26      0.24     14827\n",
      "                                Shoplifting       0.27      0.73      0.40     14827\n",
      "                             Simple Assault       0.40      0.32      0.36     14827\n",
      "                   Theft From Motor Vehicle       0.28      0.05      0.09     14827\n",
      "Theft of Motor Vehicle Parts or Accessories       0.25      0.07      0.12     14827\n",
      "\n",
      "                                   accuracy                           0.30    148270\n",
      "                                  macro avg       0.30      0.30      0.27    148270\n",
      "                               weighted avg       0.30      0.30      0.27    148270\n",
      "\n"
     ]
    }
   ],
   "source": [
    "print(classification_report(y_train, rf_train_pred))"
   ]
  },
  {
   "cell_type": "code",
   "execution_count": 49,
   "metadata": {},
   "outputs": [
    {
     "name": "stdout",
     "output_type": "stream",
     "text": [
      "                                             precision    recall  f1-score   support\n",
      "\n",
      "                         Aggravated Assault       0.37      0.33      0.35      1840\n",
      "                          All Other Larceny       0.19      0.17      0.18      3412\n",
      "               Burglary/Breaking & Entering       0.29      0.37      0.32      4895\n",
      "   Destruction/Damage/Vandalism of Property       0.24      0.07      0.11      3862\n",
      "                               Intimidation       0.33      0.54      0.41      1559\n",
      "                        Motor Vehicle Theft       0.18      0.24      0.21      3344\n",
      "                                Shoplifting       0.17      0.72      0.28      2163\n",
      "                             Simple Assault       0.48      0.33      0.39      2611\n",
      "                   Theft From Motor Vehicle       0.31      0.05      0.09      4895\n",
      "Theft of Motor Vehicle Parts or Accessories       0.20      0.07      0.11      3265\n",
      "\n",
      "                                   accuracy                           0.25     31846\n",
      "                                  macro avg       0.28      0.29      0.24     31846\n",
      "                               weighted avg       0.27      0.25      0.22     31846\n",
      "\n"
     ]
    }
   ],
   "source": [
    "print(classification_report(y_test, rf_test_pred))"
   ]
  },
  {
   "cell_type": "code",
   "execution_count": 50,
   "metadata": {
    "scrolled": false
   },
   "outputs": [
    {
     "data": {
      "image/png": "[encoded data removed]",
      "text/plain": [
       "<Figure size 936x936 with 2 Axes>"
      ]
     },
     "metadata": {
      "needs_background": "light"
     },
     "output_type": "display_data"
    }
   ],
   "source": [
    "#fig, ax = plt.subplots(figsize=(15,15))\n",
    "#interp.plot_confusion_matrix(rf, X_test, y_test);\n",
    "\n",
    "#np.interp.plot_confusion_matrix(figsize=(10,10))\n",
    "\n",
    "cm = confusion_matrix(y_test, rf_test_pred);\n",
    "cmp = ConfusionMatrixDisplay(cm);\n",
    "fig, ax = plt.subplots(figsize=(13,13));\n",
    "cmp.plot(ax=ax);\n",
    "cmp.ax_.set_title(\"Confusion Matrix\");"
   ]
  },
  {
   "cell_type": "markdown",
   "metadata": {},
   "source": [
    "0) Aggravated Assault\n",
    "\n",
    "1) All Other Larceny\n",
    "\n",
    "2) Burglary/Breaking & Entering\n",
    "\n",
    "3) Destruction/Damage/Vandalism of Property\n",
    "\n",
    "4) Intimidation\n",
    "\n",
    "5) Motor Vehicle Theft\n",
    "\n",
    "6) Shoplifting\n",
    "\n",
    "7) Simple Assault\n",
    "\n",
    "8) Theft From Motor Vehicle\n",
    "\n",
    "9) Theft of Motor Vehicle Parts or Accessories\n"
   ]
  },
  {
   "cell_type": "markdown",
   "metadata": {},
   "source": [
    "### Crime Confusion Matrix ###"
   ]
  },
  {
   "cell_type": "markdown",
   "metadata": {},
   "source": [
    "**0) Aggravated Assault**"
   ]
  },
  {
   "cell_type": "markdown",
   "metadata": {},
   "source": [
    "* 615 crimes were correctly predicted as being \"aggravated assault\" crimes\n",
    "* 1,225 crimes were wrongly predicted as not being \"aggravated assault\" crimes\n",
    "* 1,030 crimes were wrongly predicted as being \"aggravated assault\" crimes\n",
    "* 28,976 crimes were correctly predicted as not being \"aggravated assault\" crimes"
   ]
  },
  {
   "cell_type": "markdown",
   "metadata": {},
   "source": [
    "**1) All Other Larceny**"
   ]
  },
  {
   "cell_type": "markdown",
   "metadata": {},
   "source": [
    "* 578 crimes were correctly predicted as being \"all other larceny\" crimes\n",
    "* 2,834 crimes were wrongly predicted as not being \"all other larceny\" crimes\n",
    "* 2,389 crimes were wrongly precicted as being \"all other larceny\" crimes\n",
    "* 26,045 crimes were correctly predicted as not being \"all other larceny\" crimes"
   ]
  },
  {
   "cell_type": "markdown",
   "metadata": {},
   "source": [
    "**2) Burglary/Breaking & Entering**"
   ]
  },
  {
   "cell_type": "markdown",
   "metadata": {},
   "source": [
    "* 1799 crimes were correctly predicted as being \"burglary/breaking & entering\" crimes\n",
    "* 3,096 crimes were wrongly predicted as not being \"burglary/breaking & entering\" crimes\n",
    "* 4,414 crimes were wrongly predicted as being \"burglary/breaking & entering\" crimes\n",
    "* 23,722 crimes were correctly predicted as not being \"burglary/breaking & entering\" crimes"
   ]
  },
  {
   "cell_type": "markdown",
   "metadata": {},
   "source": [
    "**3) Destruction/Damage/Vandalism of Property**"
   ]
  },
  {
   "cell_type": "markdown",
   "metadata": {},
   "source": [
    "* 283 crimes were correctly predicted as being \"destruction/damage/vandalism of property\" crimes\n",
    "* 3,579 crimes were wrongly predicted as not being \"destruction/damage/vandalism of property\" crimes\n",
    "* 891 crimes were wrongly predicted as being \"destruction/damage/vandalism of property\" crimes\n",
    "* 28,942 crimes were correctly predicted as not being \"destruction/damage/vandalism of property\" crimes"
   ]
  },
  {
   "cell_type": "markdown",
   "metadata": {},
   "source": [
    "**4) Intimidation**"
   ]
  },
  {
   "cell_type": "markdown",
   "metadata": {},
   "source": [
    "* 846 crimes were correctly predicted as being \"intimidation\" crimes\n",
    "* 713 crimes were wrongly predicted as not being \"intimidation\" crimes\n",
    "* 1,748 crimes were wrongly predicted as being \"intimidation\" crimes\n",
    "* 29, 559 crimes were correctly predicted as not being \"intimidation\" crimes"
   ]
  },
  {
   "cell_type": "markdown",
   "metadata": {},
   "source": [
    "**5) Motor Vehicle Theft**"
   ]
  },
  {
   "cell_type": "markdown",
   "metadata": {},
   "source": [
    "* 796 crimes were correctly predicted as being \"motor vehicle theft\" crimes\n",
    "* 2,548 crimes were wrongly predicted as not being \"motor vehicle theft\" crimes\n",
    "* 3,583 crimes were wrongly predicted as being \"motor vehicle theft\" crimes\n",
    "* 27,841 crimes were correctly predicted as not being \"motor vehicle theft\" crimes"
   ]
  },
  {
   "cell_type": "markdown",
   "metadata": {},
   "source": [
    "**6) Shoplifting**"
   ]
  },
  {
   "cell_type": "markdown",
   "metadata": {},
   "source": [
    "* 1559 crimes were correctly predicted as being \"shoplifting\" crimes\n",
    "* 424 crimes were wrongly predicted as not being \"shoplifting\" crimes\n",
    "* 7,522 crimes were wrongly predicted as being \"shoplifting\" crimes\n",
    "* 27,652 crimes were correctly predicted as not being \"shoplifting\" crimes"
   ]
  },
  {
   "cell_type": "markdown",
   "metadata": {},
   "source": [
    "**7) Simple Assault**"
   ]
  },
  {
   "cell_type": "markdown",
   "metadata": {},
   "source": [
    "* 853 crimes were correctly predicted as being \"simple assault\" crimes\n",
    "* 1,758 crimes were wrongly predicted as not being \"simple assault\" crimes\n",
    "* 918 crimes were wrongly predicted as being \"simple assault\" crimes\n",
    "* 30,993 crimes were correctly predicted as not being \"simple assault\" crimes"
   ]
  },
  {
   "cell_type": "markdown",
   "metadata": {},
   "source": [
    "**8) Theft From Motor Vehicle**"
   ]
  },
  {
   "cell_type": "markdown",
   "metadata": {},
   "source": [
    "* 244 crimes were correctly predicted as being \"theft from motor vehicle\" crimes\n",
    "* 4,651 crimes were wrongly predicted as not being \"theft from motor vehicle\" crimes\n",
    "* 549 crimes were wrongly predicted as being \"theft from motor vehicle\" crimes\n",
    "* 31,282 crimes were correctly predicted as not being \"theft from motor vehicle\" crimes"
   ]
  },
  {
   "cell_type": "markdown",
   "metadata": {},
   "source": [
    "**9)  Theft of Motor Vehicle Parts or Accessories**"
   ]
  },
  {
   "cell_type": "markdown",
   "metadata": {},
   "source": [
    "* 244 crimes were correctly predicted as being \"theft of motor vehicle parts or accessories\" crimes\n",
    "* 3,021 crimes were wrongly predicted as not being \"theft of motor vehicle parts or accessories\" crimes\n",
    "* 985 crimes were wrongly predicted as not being \"theft of motor vehicle parts or accessories\" crimes\n",
    "* 26,966 crimes were correctly predicted as not being \"theft of motor vehicle parts or accessories\" crimes"
   ]
  },
  {
   "cell_type": "markdown",
   "metadata": {},
   "source": [
    "### Crime Classification Report ###"
   ]
  },
  {
   "cell_type": "markdown",
   "metadata": {},
   "source": [
    "## Random Forest Tuning ##"
   ]
  },
  {
   "cell_type": "code",
   "execution_count": null,
   "metadata": {},
   "outputs": [],
   "source": []
  },
  {
   "cell_type": "code",
   "execution_count": 51,
   "metadata": {},
   "outputs": [
    {
     "data": {
      "text/plain": [
       "{'criterion': 'entropy',\n",
       " 'max_depth': 3,\n",
       " 'min_samples_leaf': 0.1,\n",
       " 'min_samples_split': 0.2,\n",
       " 'random_state': 1}"
      ]
     },
     "execution_count": 51,
     "metadata": {},
     "output_type": "execute_result"
    }
   ],
   "source": [
    "rf2 = RandomForestClassifier()\n",
    "\n",
    "param_grid = {\n",
    "    'criterion': ['entropy'],\n",
    "    'random_state': [1],\n",
    "    'max_depth': [1, 2, 3, 4, 5],\n",
    "    'min_samples_split': [0.2, 0.25, 0.3, 0.35, 0.4 ],\n",
    "    'min_samples_leaf': [0.1, 0.2, 0.3]\n",
    "}\n",
    "\n",
    "\n",
    "gs_rf = GridSearchCV(rf2, param_grid)\n",
    "gs_rf.fit(X_train, y_train)\n",
    "gs_rf.best_params_"
   ]
  },
  {
   "cell_type": "code",
   "execution_count": 52,
   "metadata": {},
   "outputs": [],
   "source": [
    "#gs_forest_train_pred = gs_rf.predict(X_train)\n",
    "#print(classification_report(y_train, gs_forest_train_pred))"
   ]
  },
  {
   "cell_type": "code",
   "execution_count": 53,
   "metadata": {},
   "outputs": [],
   "source": [
    "#gs_forest_test_pred = gs_rf.predict(X_test)\n",
    "#print(classification_report(y_test, gs_forest_test_pred))"
   ]
  },
  {
   "cell_type": "code",
   "execution_count": 54,
   "metadata": {},
   "outputs": [
    {
     "data": {
      "text/plain": [
       "{'criterion': 'entropy',\n",
       " 'max_depth': 3,\n",
       " 'min_samples_leaf': 0.1,\n",
       " 'min_samples_split': 0.2,\n",
       " 'random_state': 1}"
      ]
     },
     "execution_count": 54,
     "metadata": {},
     "output_type": "execute_result"
    }
   ],
   "source": [
    "rf3 = RandomForestClassifier()\n",
    "\n",
    "param_grid2 = {\n",
    "    'criterion': ['entropy'],\n",
    "    'random_state': [1],\n",
    "    'max_depth': [2, 3, 4],\n",
    "    'min_samples_split': [0.24, 0.25, 0.26],\n",
    "    'min_samples_leaf': [0.1, 0.12, 0.13]\n",
    "}\n",
    "\n",
    "\n",
    "gs_rf2 = GridSearchCV(rf2, param_grid)\n",
    "gs_rf2.fit(X_train, y_train)\n",
    "gs_rf2.best_params_"
   ]
  },
  {
   "cell_type": "code",
   "execution_count": 55,
   "metadata": {},
   "outputs": [],
   "source": [
    "rf4 = RandomForestClassifier(criterion= \"entropy\", random_state = 1,  max_depth = 3, min_samples_split= 0.2, min_samples_leaf = 0.1,  )\n",
    "\n",
    "rf4.fit(X_train, y_train)\n",
    "rf_train_pred2 = rf4.predict(X_train)\n",
    "rf_test_pred2 = rf4.predict(X_test)"
   ]
  },
  {
   "cell_type": "code",
   "execution_count": 56,
   "metadata": {},
   "outputs": [
    {
     "data": {
      "image/png": "[encoded data removed]",
      "text/plain": [
       "<Figure size 936x936 with 2 Axes>"
      ]
     },
     "metadata": {
      "needs_background": "light"
     },
     "output_type": "display_data"
    }
   ],
   "source": [
    "cm2 = confusion_matrix(y_test, rf_test_pred2);\n",
    "cmp2 = ConfusionMatrixDisplay(cm2);\n",
    "fig, ax = plt.subplots(figsize=(13,13));\n",
    "cmp2.plot(ax=ax);\n",
    "cmp2.ax_.set_title(\"Confusion Matrix\");"
   ]
  },
  {
   "cell_type": "code",
   "execution_count": 57,
   "metadata": {},
   "outputs": [
    {
     "name": "stderr",
     "output_type": "stream",
     "text": [
      "C:\\Users\\aleja\\anaconda3\\envs\\learn-env\\lib\\site-packages\\sklearn\\metrics\\_classification.py:1221: UndefinedMetricWarning: Precision and F-score are ill-defined and being set to 0.0 in labels with no predicted samples. Use `zero_division` parameter to control this behavior.\n",
      "  _warn_prf(average, modifier, msg_start, len(result))\n"
     ]
    },
    {
     "name": "stdout",
     "output_type": "stream",
     "text": [
      "                                             precision    recall  f1-score   support\n",
      "\n",
      "                         Aggravated Assault       0.37      0.32      0.34     14827\n",
      "                          All Other Larceny       0.19      0.24      0.21     14827\n",
      "               Burglary/Breaking & Entering       0.23      0.44      0.30     14827\n",
      "   Destruction/Damage/Vandalism of Property       0.18      0.02      0.03     14827\n",
      "                               Intimidation       0.38      0.45      0.41     14827\n",
      "                        Motor Vehicle Theft       0.20      0.18      0.19     14827\n",
      "                                Shoplifting       0.23      0.65      0.34     14827\n",
      "                             Simple Assault       0.35      0.34      0.35     14827\n",
      "                   Theft From Motor Vehicle       0.00      0.00      0.00     14827\n",
      "Theft of Motor Vehicle Parts or Accessories       0.11      0.00      0.00     14827\n",
      "\n",
      "                                   accuracy                           0.26    148270\n",
      "                                  macro avg       0.22      0.26      0.22    148270\n",
      "                               weighted avg       0.22      0.26      0.22    148270\n",
      "\n"
     ]
    }
   ],
   "source": [
    "print(classification_report(y_train, rf_train_pred2))"
   ]
  },
  {
   "cell_type": "code",
   "execution_count": 58,
   "metadata": {},
   "outputs": [
    {
     "name": "stdout",
     "output_type": "stream",
     "text": [
      "                                             precision    recall  f1-score   support\n",
      "\n",
      "                         Aggravated Assault       0.35      0.32      0.33      1840\n",
      "                          All Other Larceny       0.18      0.23      0.20      3412\n",
      "               Burglary/Breaking & Entering       0.27      0.43      0.33      4895\n",
      "   Destruction/Damage/Vandalism of Property       0.18      0.02      0.03      3862\n",
      "                               Intimidation       0.28      0.43      0.34      1559\n",
      "                        Motor Vehicle Theft       0.17      0.17      0.17      3344\n",
      "                                Shoplifting       0.14      0.64      0.23      2163\n",
      "                             Simple Assault       0.45      0.33      0.38      2611\n",
      "                   Theft From Motor Vehicle       0.00      0.00      0.00      4895\n",
      "Theft of Motor Vehicle Parts or Accessories       0.00      0.00      0.00      3265\n",
      "\n",
      "                                   accuracy                           0.22     31846\n",
      "                                  macro avg       0.20      0.26      0.20     31846\n",
      "                               weighted avg       0.18      0.22      0.18     31846\n",
      "\n"
     ]
    }
   ],
   "source": [
    "print(classification_report(y_test, rf_test_pred2))"
   ]
  },
  {
   "cell_type": "code",
   "execution_count": 59,
   "metadata": {},
   "outputs": [
    {
     "name": "stdout",
     "output_type": "stream",
     "text": [
      "My program took 2613.8911769390106 to run\n"
     ]
    }
   ],
   "source": [
    "print (\"My program took\", time.time() - start_time, \"to run\")"
   ]
  },
  {
   "cell_type": "code",
   "execution_count": null,
   "metadata": {},
   "outputs": [],
   "source": []
  }
 ],
 "metadata": {
  "kernelspec": {
   "display_name": "Python 3",
   "language": "python",
   "name": "python3"
  },
  "language_info": {
   "codemirror_mode": {
    "name": "ipython",
    "version": 3
   },
   "file_extension": ".py",
   "mimetype": "text/x-python",
   "name": "python",
   "nbconvert_exporter": "python",
   "pygments_lexer": "ipython3",
   "version": "3.8.5"
  }
 },
 "nbformat": 4,
 "nbformat_minor": 4
}
