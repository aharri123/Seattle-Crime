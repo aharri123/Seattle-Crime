{
 "cells": [
  {
   "cell_type": "code",
   "execution_count": 2,
   "metadata": {},
   "outputs": [
    {
     "name": "stdout",
     "output_type": "stream",
     "text": [
      "<class 'pandas.core.frame.DataFrame'>\n",
      "RangeIndex: 1035352 entries, 0 to 1035351\n",
      "Data columns (total 17 columns):\n",
      " #   Column                  Non-Null Count    Dtype  \n",
      "---  ------                  --------------    -----  \n",
      " 0   Report Number           1035352 non-null  object \n",
      " 1   Offense ID              1035352 non-null  int64  \n",
      " 2   Offense Start DateTime  1034113 non-null  object \n",
      " 3   Offense End DateTime    582754 non-null   object \n",
      " 4   Report DateTime         1035352 non-null  object \n",
      " 5   Group A B               1035352 non-null  object \n",
      " 6   Crime Against Category  1035352 non-null  object \n",
      " 7   Offense Parent Group    1035352 non-null  object \n",
      " 8   Offense                 1035352 non-null  object \n",
      " 9   Offense Code            1035352 non-null  object \n",
      " 10  Precinct                1035348 non-null  object \n",
      " 11  Sector                  1035350 non-null  object \n",
      " 12  Beat                    1035350 non-null  object \n",
      " 13  MCPP                    1035352 non-null  object \n",
      " 14  100 Block Address       991360 non-null   object \n",
      " 15  Longitude               1035352 non-null  float64\n",
      " 16  Latitude                1035352 non-null  float64\n",
      "dtypes: float64(2), int64(1), object(14)\n",
      "memory usage: 134.3+ MB\n"
     ]
    }
   ],
   "source": [
    "import pandas as pd\n",
    "\n",
    "\n",
    "df = pd.read_csv(\"SPD_Crime_Data.csv\")\n",
    "df.info()"
   ]
  },
  {
   "cell_type": "code",
   "execution_count": null,
   "metadata": {},
   "outputs": [],
   "source": []
  }
 ],
 "metadata": {
  "kernelspec": {
   "display_name": "Python 3",
   "language": "python",
   "name": "python3"
  },
  "language_info": {
   "codemirror_mode": {
    "name": "ipython",
    "version": 3
   },
   "file_extension": ".py",
   "mimetype": "text/x-python",
   "name": "python",
   "nbconvert_exporter": "python",
   "pygments_lexer": "ipython3",
   "version": "3.8.5"
  }
 },
 "nbformat": 4,
 "nbformat_minor": 4
}
