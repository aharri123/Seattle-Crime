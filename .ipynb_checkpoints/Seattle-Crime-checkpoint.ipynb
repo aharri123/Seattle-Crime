{
 "cells": [
  {
   "cell_type": "markdown",
   "metadata": {},
   "source": [
    "# Seattle Crime #"
   ]
  },
  {
   "cell_type": "code",
   "execution_count": null,
   "metadata": {},
   "outputs": [],
   "source": [
    "import matplotlib.pyplot as plt\n",
    "import pandas as pd\n",
    "import numpy as np\n",
    "from sklearn.model_selection import train_test_split\n",
    "from sklearn.preprocessing import StandardScaler\n",
    "from sklearn.metrics import classification_report\n",
    "from imblearn.over_sampling import SMOTE\n",
    "from imblearn.over_sampling import RandomOverSampler\n",
    "from sklearn.ensemble import RandomForestClassifier\n",
    "from sklearn.metrics import plot_confusion_matrix, ConfusionMatrixDisplay, confusion_matrix\n",
    "from sklearn.model_selection import GridSearchCV\n",
    "from catboost import CatBoostClassifier, Pool, metrics, cv\n",
    "from IPython.display import IFrame\n",
    "import time"
   ]
  },
  {
   "cell_type": "code",
   "execution_count": null,
   "metadata": {},
   "outputs": [],
   "source": [
    "start_time = time.time()"
   ]
  },
  {
   "cell_type": "markdown",
   "metadata": {},
   "source": [
    "## Opening Datafile ##"
   ]
  },
  {
   "cell_type": "markdown",
   "metadata": {},
   "source": [
    "In a separate notebook, we preprocessed our \"SPD_Crime_Data\" file, and saved it as a new CSV file. We'll now open that file to use for our models."
   ]
  },
  {
   "cell_type": "code",
   "execution_count": null,
   "metadata": {
    "scrolled": true
   },
   "outputs": [],
   "source": [
    "df = pd.read_csv(\"preprocessed_data.csv\")\n",
    "df.head()"
   ]
  },
  {
   "cell_type": "code",
   "execution_count": null,
   "metadata": {},
   "outputs": [],
   "source": [
    "# Make a copy of the df for future models\n",
    "#df2 = df"
   ]
  },
  {
   "cell_type": "code",
   "execution_count": null,
   "metadata": {},
   "outputs": [],
   "source": [
    "#df.info()"
   ]
  },
  {
   "cell_type": "markdown",
   "metadata": {},
   "source": [
    "## Setting Up For Initial Model ##"
   ]
  },
  {
   "cell_type": "markdown",
   "metadata": {},
   "source": [
    "Let's start off by first identifying our target variable"
   ]
  },
  {
   "cell_type": "code",
   "execution_count": null,
   "metadata": {},
   "outputs": [],
   "source": [
    "X = df.drop(\"Offense\", axis = 1)\n",
    "\n",
    "#Target Variable\n",
    "y = df[\"Offense\"]"
   ]
  },
  {
   "cell_type": "markdown",
   "metadata": {},
   "source": [
    "Now we'll split our data using Train Test Split"
   ]
  },
  {
   "cell_type": "code",
   "execution_count": null,
   "metadata": {},
   "outputs": [],
   "source": [
    "X_train, X_test, y_train, y_test = train_test_split(X, y, random_state = 1)"
   ]
  },
  {
   "cell_type": "markdown",
   "metadata": {},
   "source": [
    "We'll scale our data, to make it easier for the model to work with"
   ]
  },
  {
   "cell_type": "code",
   "execution_count": null,
   "metadata": {},
   "outputs": [],
   "source": [
    "SS = StandardScaler()\n",
    "X_train = SS.fit_transform(X_train)\n",
    "X_test = SS.transform(X_test)"
   ]
  },
  {
   "cell_type": "markdown",
   "metadata": {},
   "source": [
    "Let's look at the value counts for our dependent variable"
   ]
  },
  {
   "cell_type": "code",
   "execution_count": null,
   "metadata": {},
   "outputs": [],
   "source": [
    "ax = df.value_counts('Offense').plot.barh(figsize = (15,8), title = \"Value counts of offenses\");\n",
    "ax.set_xlabel(\"Number of Occurences Over the Past 2 Years\");"
   ]
  },
  {
   "cell_type": "markdown",
   "metadata": {},
   "source": [
    "We can see that there's an imbalance, so let's use SMOTE to address that"
   ]
  },
  {
   "cell_type": "code",
   "execution_count": null,
   "metadata": {},
   "outputs": [],
   "source": [
    "sm = SMOTE(random_state = 1)\n",
    "X_train, y_train = sm.fit_sample(X_train, y_train)"
   ]
  },
  {
   "cell_type": "markdown",
   "metadata": {},
   "source": [
    "Now it's time to initialize our model"
   ]
  },
  {
   "cell_type": "markdown",
   "metadata": {},
   "source": [
    "## Random Forest Model ##"
   ]
  },
  {
   "cell_type": "code",
   "execution_count": null,
   "metadata": {},
   "outputs": [],
   "source": [
    "rf = RandomForestClassifier(criterion= \"entropy\",random_state = 1,  max_depth = 5)\n",
    "\n",
    "rf.fit(X_train, y_train)\n",
    "rf_train_pred = rf.predict(X_train)\n",
    "rf_test_pred = rf.predict(X_test)"
   ]
  },
  {
   "cell_type": "code",
   "execution_count": null,
   "metadata": {},
   "outputs": [],
   "source": [
    "print(classification_report(y_train, rf_train_pred))"
   ]
  },
  {
   "cell_type": "code",
   "execution_count": null,
   "metadata": {},
   "outputs": [],
   "source": [
    "print(classification_report(y_test, rf_test_pred))"
   ]
  },
  {
   "cell_type": "code",
   "execution_count": null,
   "metadata": {
    "scrolled": false
   },
   "outputs": [],
   "source": [
    "cm = confusion_matrix(y_test, rf_test_pred);\n",
    "cmp = ConfusionMatrixDisplay(cm);\n",
    "fig, ax = plt.subplots(figsize=(13,13));\n",
    "cmp.plot(ax=ax);\n",
    "cmp.ax_.set_title(\"Confusion Matrix\");"
   ]
  },
  {
   "cell_type": "markdown",
   "metadata": {},
   "source": [
    "### Crime Key ###"
   ]
  },
  {
   "cell_type": "markdown",
   "metadata": {},
   "source": [
    "**To make our confusion matrix more readable, we represented the crimes as numeric values. Below is a key that matches the numeric value to the crime**"
   ]
  },
  {
   "cell_type": "markdown",
   "metadata": {},
   "source": [
    "0) Aggravated Assault\n",
    "\n",
    "1) All Other Larceny\n",
    "\n",
    "2) Burglary/Breaking & Entering\n",
    "\n",
    "3) Destruction/Damage/Vandalism of Property\n",
    "\n",
    "4) Intimidation\n",
    "\n",
    "5) Motor Vehicle Theft\n",
    "\n",
    "6) Shoplifting\n",
    "\n",
    "7) Simple Assault\n",
    "\n",
    "8) Theft From Motor Vehicle\n",
    "\n",
    "9) Theft of Motor Vehicle Parts or Accessories\n"
   ]
  },
  {
   "cell_type": "markdown",
   "metadata": {},
   "source": [
    "### Classification Report ###"
   ]
  },
  {
   "cell_type": "markdown",
   "metadata": {},
   "source": [
    "Let's take a look at our test model classification report results for each crime:"
   ]
  },
  {
   "cell_type": "markdown",
   "metadata": {},
   "source": [
    "**0) Aggravated Assault**"
   ]
  },
  {
   "cell_type": "markdown",
   "metadata": {},
   "source": [
    "For our \"Aggravated Assault\" results, we have a precision score of .33, a recall score of .57, and an f1 score of .42. This means that:\n",
    "\n",
    "\n",
    "* Out of all the crimes that the model predicted would be Aggravated Assault crimes, 33% were actually Aggravated Assault crimes.\n",
    "* Out of all the crimes that were Aggravated Assault crimes, the model correctly predicted 57% of them.\n",
    "* There is an f1 score of .42, indicating poor performance on predicting probability of the crime being an Aggravated Assault crime."
   ]
  },
  {
   "cell_type": "markdown",
   "metadata": {},
   "source": [
    "**1) All Other Larceny**"
   ]
  },
  {
   "cell_type": "markdown",
   "metadata": {},
   "source": [
    "For our \"All Other Larceny\" results, we have a precision score of .0, a recall score of .0, and an f1 score of .0. This means that:\n",
    "\n",
    "* Out of all the crimes that the model predicted would be Larceny crimes, 0% were actually Larceny crimes.\n",
    "* Out of all the crimes that were Larceny crimes, the model correctly predicted 0% of them.\n",
    "* There is an f1 score of 0, indicating the worst possible performance on predicting probability of the crime being a Larceny crime."
   ]
  },
  {
   "cell_type": "markdown",
   "metadata": {},
   "source": [
    "**2) Burglary/Breaking & Entering**"
   ]
  },
  {
   "cell_type": "markdown",
   "metadata": {},
   "source": [
    "For our \"Burglary/Breaking & Entering\" results, we have a precision score of .30, a recall score of .13, and an f1 score of .18. This means that:\n",
    "\n",
    "* Out of all the crimes that the model predicted would be Burglary/Breaking & Entering crimes, 30% were actually Burglary/Breaking & Entering crimes.\n",
    "* Out of all the crimes that were Burglary/Breaking & Entering crimes, the model correctly predicted 13% of them.\n",
    "* There is an f1 score of .18, indicating poor performance on predicting probability of the crime being a Burglary/Breaking & Entering crime."
   ]
  },
  {
   "cell_type": "markdown",
   "metadata": {},
   "source": [
    "**3) Destruction/Damage/Vandalism of Property**"
   ]
  },
  {
   "cell_type": "markdown",
   "metadata": {},
   "source": [
    "For our \"Destruction/Damage/Vandalism of Property\" results, we have a precision score of .20, a recall score of 0, and an f1 score of 0. This means that:\n",
    "\n",
    "* Out of all the crimes that the model predicted would be Destruction/Damage/Vandalism of Property crimes, 20% were actually Destruction/Damage/Vandalism of Property crimes.\n",
    "* Out of all the crimes that were Destruction/Damage/Vandalism of Property crimes, the model correctly predicted 0% of them.\n",
    "* There is an f1 score of 0, indicating the worst possible performance on predicting probability of the crime being a Destruction/Damage/Vandalism of Property crime."
   ]
  },
  {
   "cell_type": "markdown",
   "metadata": {},
   "source": [
    "**4) Identity Theft**"
   ]
  },
  {
   "cell_type": "markdown",
   "metadata": {},
   "source": [
    "For our \"Identity Theft\" results, we have a precision score of .18, a recall score of .86, and an f1 score of .29. This means that:\n",
    "\n",
    "* Out of all the crimes that the model predicted would be Identity Theft crimes, 18% were actually Identity Theft crimes.\n",
    "* Out of all the crimes that were Identity Theft crimes, the model correctly predicted 86% of them.\n",
    "* There is an f1 score of .29, indicating poor performance on predicting probability of the crime being an Identity Theft crime."
   ]
  },
  {
   "cell_type": "markdown",
   "metadata": {},
   "source": [
    "**5) Intimidation**"
   ]
  },
  {
   "cell_type": "markdown",
   "metadata": {},
   "source": [
    "For our \"Intimidation\" results, we have a precision score of .37, a recall score of .31, and an f1 score of .34. This means that:\n",
    "\n",
    "* Out of all the crimes that the model predicted would be Intimidation crimes, 37% were actually Intimidation crimes.\n",
    "* Out of all the crimes that were Intimidation crimes, the model correctly predicted 31% of them.\n",
    "* There is an f1 score of .34, indicating poor performance on predicting probability of the crime being an Intimidation crime."
   ]
  },
  {
   "cell_type": "markdown",
   "metadata": {},
   "source": [
    "**6) Motor Vehicle Theft**"
   ]
  },
  {
   "cell_type": "markdown",
   "metadata": {},
   "source": [
    "For our \"Motor Vehicle Theft\" results, we have a precision score of .22, a recall score of .06, and an f1 score of .10. This means that:\n",
    "\n",
    "* Out of all the crimes that the model predicted would be Motor Vehicle Theft crimes, 22% were actually Motor Vehicle Theft crimes.\n",
    "* Out of all the crimes that were Motor Vehicle Theft crimes, the model correctly predicted 6% of them.\n",
    "* There is an f1 score of .10, indicating poor performance on predicting probability of the crime being a Motor Vehicle Theft crime."
   ]
  },
  {
   "cell_type": "markdown",
   "metadata": {},
   "source": [
    "**7) Robbery**"
   ]
  },
  {
   "cell_type": "markdown",
   "metadata": {},
   "source": [
    "For our \"Robbery\" results, we have a precision score of .07, a recall score of .10, and an f1 score of .08. This means that:\n",
    "\n",
    "* Out of all the crimes that the model predicted would be Robbery crimes, 7% were actually Robbery crimes.\n",
    "* Out of all the crimes that were Robbery crimes, the model correctly predicted 10% of them.\n",
    "* There is an f1 score of .08, indicating poor performance on predicting probability of the crime being a Robbery crime."
   ]
  },
  {
   "cell_type": "markdown",
   "metadata": {},
   "source": [
    "**8) Shoplifting**"
   ]
  },
  {
   "cell_type": "markdown",
   "metadata": {},
   "source": [
    "For our \"Shoplifting\" results, we have a precision score of .14, a recall score of .46, and an f1 score of .22. This means that:\n",
    "\n",
    "* Out of all the crimes that the model predicted would be Shoplifting crimes, 14% were actually Shoplifting crimes.\n",
    "* Out of all the crimes that were Shoplifting crimes, the model correctly predicted 46% of them.\n",
    "* There is an f1 score of .22, indicating poor performance on predicting probability of the crime being a Shoplifting crime."
   ]
  },
  {
   "cell_type": "markdown",
   "metadata": {},
   "source": [
    "**9) Simple Assault**"
   ]
  },
  {
   "cell_type": "markdown",
   "metadata": {},
   "source": [
    "For our \"Simple Assault\" results, we have a precision score of .48, a recall score of .29, and an f1 score of .36. This means that:\n",
    "\n",
    "* Out of all the crimes that the model predicted would be Simple Assault crimes, 48% were actually Simple Assault crimes.\n",
    "* Out of all the crimes that were Simple Assault crimes, the model correctly predicted 29% of them.\n",
    "* There is an f1 score of .36, indicating poor performance on predicting probability of the crime being a Simple Assault crime."
   ]
  },
  {
   "cell_type": "markdown",
   "metadata": {},
   "source": [
    "**10) Theft From Building**"
   ]
  },
  {
   "cell_type": "markdown",
   "metadata": {},
   "source": [
    "For our \"Theft From Building\" results, we have a precision score of .05, a recall score of .22, and an f1 score of .09. This means that:\n",
    "\n",
    "* Out of all the crimes that the model predicted would be Theft From Building crimes, 5% were actually Theft From Building crimes.\n",
    "* Out of all the crimes that were Theft From Building crimes, the model correctly predicted 22% of them.\n",
    "* There is an f1 score of .09, indicating extremely poor performance on predicting probability of the crime being a Theft From Building crime."
   ]
  },
  {
   "cell_type": "markdown",
   "metadata": {},
   "source": [
    "**11) Theft From Motor Vehicle**"
   ]
  },
  {
   "cell_type": "markdown",
   "metadata": {},
   "source": [
    "For our \"Theft From Motor Vehicle\" results, we have a precision score of .37, a recall score of .01, and an f1 score of .02. This means that:\n",
    "\n",
    "* Out of all the crimes that the model predicted would be Theft From Motor Vehicle crimes, 37% were actually Theft From Motor Vehicle crimes.\n",
    "* Out of all the crimes that were Theft From Motor Vehicle crimes, the model correctly predicted 1% of them.\n",
    "* There is an f1 score of .02, indicating poor performance on predicting probability of the crime being a Theft From Motor Vehicle crime."
   ]
  },
  {
   "cell_type": "markdown",
   "metadata": {},
   "source": [
    "**12) Theft of Motor Vehicle Parts or Accessories**"
   ]
  },
  {
   "cell_type": "markdown",
   "metadata": {},
   "source": [
    "For our \"Theft of Motor Vehicle Parts or Accessories\" results, we have a precision score of .15, a recall score of .22, and an f1 score of .18. This means that:\n",
    "\n",
    "* Out of all the crimes that the model predicted would be Theft of Motor Vehicle Parts or Accessories crimes, 15% were actually Theft of Motor Vehicle Parts or Accessories crimes.\n",
    "* Out of all the crimes that were Theft of Motor Vehicle Parts or Accessories crimes, the model correctly predicted 22% of them.\n",
    "* There is an f1 score of .18, indicating poor performance on predicting probability of the crime being a Theft of Motor Vehicle Parts or Accessories crime."
   ]
  },
  {
   "cell_type": "markdown",
   "metadata": {},
   "source": [
    "**13) Trespass of Real Property**"
   ]
  },
  {
   "cell_type": "markdown",
   "metadata": {},
   "source": [
    "For our \"Trespass of Real Property\" results, we have a precision score of 1.0, a recall score of 1.0, and an f1 score of 1.0. This means that:\n",
    "\n",
    "* Out of all the crimes that the model predicted would be Trespass of Real Property crimes, 100% were actually Trespass of Real Property crimes.\n",
    "* Out of all the crimes that were Trespass of Real Property crimes, the model correctly predicted 100% of them.\n",
    "* There is an f1 score of 1, indicating perfect performance on predicting probability of the crime being a Trespass of Real Property crime."
   ]
  },
  {
   "cell_type": "markdown",
   "metadata": {},
   "source": [
    "### Crime Confusion Matrix ###"
   ]
  },
  {
   "cell_type": "markdown",
   "metadata": {},
   "source": [
    "**0) Aggravated Assault**"
   ]
  },
  {
   "cell_type": "markdown",
   "metadata": {},
   "source": [
    "* 1422 crimes were correctly predicted as being \"Aggravated Assault\" crimes\n",
    "* 1,071 crimes were wrongly predicted as not being \"Aggravated Assault\" crimes\n",
    "* 2,932 crimes were wrongly predicted as being \"Aggravated Assault\" crimes\n",
    "* 48,851 crimes were correctly predicted as not being \"Aggravated Assault\" crimes"
   ]
  },
  {
   "cell_type": "markdown",
   "metadata": {},
   "source": [
    "**1) All Other Larceny**"
   ]
  },
  {
   "cell_type": "markdown",
   "metadata": {},
   "source": [
    "* 0 crimes were correctly predicted as being \"All Other Larceny\" crimes\n",
    "* 4,879 crimes were wrongly predicted as not being \"All Other Larceny\" crimes\n",
    "* 0 crimes were wrongly predicted as being \"All Other Larceny\" crimes\n",
    "* 47,686 crimes were correctly predicted as not being \"All Other Larceny\" crimes"
   ]
  },
  {
   "cell_type": "markdown",
   "metadata": {},
   "source": [
    "**2) Burglary/Breaking & Entering**"
   ]
  },
  {
   "cell_type": "markdown",
   "metadata": {},
   "source": [
    "* 997 crimes were correctly predicted as being \"Burglary/Breaking & Entering\" crimes\n",
    "* 6,463 crimes were wrongly predicted as not being \"Burglary/Breaking & Entering\" crimes\n",
    "* 2,378 crimes were wrongly predicted as being \"Burglary/Breaking & Entering\" crimes\n",
    "* 43,091 crimes were correctly predicted as not being \"Burglary/Breaking & Entering\" crimes"
   ]
  },
  {
   "cell_type": "markdown",
   "metadata": {},
   "source": [
    "**3) Destruction/Damage/Vandalism of Property**"
   ]
  },
  {
   "cell_type": "markdown",
   "metadata": {},
   "source": [
    "* 7 crimes were correctly predicted as being \"Destruction/Damage/Vandalism of Property\" crimes\n",
    "* 5,533 crimes were wrongly predicted as not being \"Destruction/Damage/Vandalism of Property\" crimes\n",
    "* 28 crimes were wrongly predicted as being \"Destruction/Damage/Vandalism of Property\" crimes\n",
    "* 47,525 crimes were correctly predicted as not being \"Destruction/Damage/Vandalism of Property\" crimes"
   ]
  },
  {
   "cell_type": "markdown",
   "metadata": {},
   "source": [
    "**4) Identity Theft**"
   ]
  },
  {
   "cell_type": "markdown",
   "metadata": {},
   "source": [
    "* 2,501 crimes were correctly predicted as being \"Identity Theft\" crimes\n",
    "* 420 crimes were wrongly predicted as not being \"Identity Theft\" crimes\n",
    "* 11,563 crimes were wrongly predicted as being \"Identity Theft\" crimes\n",
    "* 44,701 crimes were correctly predicted as not being \"Identity Theft\" crimes"
   ]
  },
  {
   "cell_type": "markdown",
   "metadata": {},
   "source": [
    "**5) Intimidation**"
   ]
  },
  {
   "cell_type": "markdown",
   "metadata": {},
   "source": [
    "* 696 crimes were correctly predicted as being \"Intimidation\" crimes\n",
    "* 1,554 crimes were wrongly predicted as not being \"Intimidation\" crimes\n",
    "* 1,206 crimes were wrongly predicted as being \"Intimidation\" crimes\n",
    "* 50,554 crimes were correctly predicted as not being \"Intimidation\" crimes"
   ]
  },
  {
   "cell_type": "markdown",
   "metadata": {},
   "source": [
    "**6) Motor Vehicle Theft**"
   ]
  },
  {
   "cell_type": "markdown",
   "metadata": {},
   "source": [
    "* 285 crimes were correctly predicted as being \"Motor Vehicle Theft\" crimes\n",
    "* 4,278 crimes were wrongly predicted as not being \"Motor Vehicle Theft\" crimes\n",
    "* 1,007 crimes were wrongly predicted as being \"Motor Vehicle Theft\" crimes\n",
    "* 49,056 crimes were correctly predicted as not being \"Motor Vehicle Theft\" crimes"
   ]
  },
  {
   "cell_type": "markdown",
   "metadata": {},
   "source": [
    "**7) Robbery**"
   ]
  },
  {
   "cell_type": "markdown",
   "metadata": {},
   "source": [
    "* 128 crimes were correctly predicted as being \"Robbery\" crimes\n",
    "* 1,191 crimes were wrongly predicted as not being \"Robbery\" crimes\n",
    "* 1,751 crimes were wrongly predicted as being \"Robbery\" crimes\n",
    "* 51,015 crimes were correctly predicted as not being \"Robbery\" crimes"
   ]
  },
  {
   "cell_type": "markdown",
   "metadata": {},
   "source": [
    "**8) Shoplifting**"
   ]
  },
  {
   "cell_type": "markdown",
   "metadata": {},
   "source": [
    "* 1,364 crimes were correctly predicted as being \"Shoplifting\" crimes\n",
    "* 1,611 crimes were wrongly predicted as not being \"Shoplifting\" crimes\n",
    "* 8,274 crimes were wrongly predicted as being \"Shoplifting\" crimes\n",
    "* 47,567 crimes were correctly predicted as not being \"Shoplifting\" crimes"
   ]
  },
  {
   "cell_type": "markdown",
   "metadata": {},
   "source": [
    "**9) Simple Assault**"
   ]
  },
  {
   "cell_type": "markdown",
   "metadata": {},
   "source": [
    "* 1,097 crimes were correctly predicted as being \"Simple Assault\" crimes\n",
    "* 2,693 crimes were wrongly predicted as not being \"Simple Assault\" crimes\n",
    "* 1,180 crimes were wrongly predicted as being \"Simple Assault\" crimes\n",
    "* 51,465 crimes were correctly predicted as not being \"Simple Assault\" crimes"
   ]
  },
  {
   "cell_type": "markdown",
   "metadata": {},
   "source": [
    "**10) Theft From Building**"
   ]
  },
  {
   "cell_type": "markdown",
   "metadata": {},
   "source": [
    "* 323 crimes were correctly predicted as being \"Theft From Building\" crimes\n",
    "* 1,169 crimes were wrongly predicted as not being \"Theft From Building\" crimes\n",
    "* 5,698 crimes were wrongly predicted as being \"Theft From Building\" crimes\n",
    "* 50,519 crimes were correctly predicted as not being \"Theft From Building\" crimes"
   ]
  },
  {
   "cell_type": "markdown",
   "metadata": {},
   "source": [
    "**11) Theft From Motor Vehicle**"
   ]
  },
  {
   "cell_type": "markdown",
   "metadata": {},
   "source": [
    "* 61 crimes were correctly predicted as being \"Theft From Motor Vehicle\" crimes\n",
    "* 7,050 crimes were wrongly predicted as not being \"Theft From Motor Vehicle\" crimes\n",
    "* 105 crimes were wrongly predicted as being \"Theft From Motor Vehicle\" crimes\n",
    "* 51,383 crimes were correctly predicted as not being \"Theft From Motor Vehicle\" crimes"
   ]
  },
  {
   "cell_type": "markdown",
   "metadata": {},
   "source": [
    "**12) Theft of Motor Vehicle Parts or Accessories**"
   ]
  },
  {
   "cell_type": "markdown",
   "metadata": {},
   "source": [
    "* 883 crimes were correctly predicted as being \"Theft of Motor Vehicle Parts or Accessories\" crimes\n",
    "* 3,178 crimes were wrongly predicted as not being \"Theft of Motor Vehicle Parts or Accessories\" crimes\n",
    "* 4,968 crimes were wrongly predicted as being \"Theft of Motor Vehicle Parts or Accessories\" crimes\n",
    "* 51,679 crimes were correctly predicted as not being \"Theft of Motor Vehicle Parts or Accessories\" crimes"
   ]
  },
  {
   "cell_type": "markdown",
   "metadata": {},
   "source": [
    "**13) Trespass of Real Property**"
   ]
  },
  {
   "cell_type": "markdown",
   "metadata": {},
   "source": [
    "* 1,711 crimes were correctly predicted as being \"Trespass of Real Property\" crimes\n",
    "* 0 crimes were wrongly predicted as not being \"Trespass of Real Property\" crimes\n",
    "* 0 crimes were wrongly predicted as being \"Trespass of Real Property\" crimes\n",
    "* 50,851 crimes were correctly predicted as not being \"Trespass of Real Property\" crimes"
   ]
  },
  {
   "cell_type": "markdown",
   "metadata": {},
   "source": [
    "## Random Forest Tuning ##"
   ]
  },
  {
   "cell_type": "code",
   "execution_count": null,
   "metadata": {
    "scrolled": true
   },
   "outputs": [],
   "source": [
    "rf2 = RandomForestClassifier()\n",
    "\n",
    "param_grid = {\n",
    "    'criterion': ['entropy'],\n",
    "    'random_state': [1],\n",
    "    'max_depth': [1, 3, 5],\n",
    "    'min_samples_split': [0.2, 0.3, 0.4 ],\n",
    "    'min_samples_leaf': [0.1, 0.2, 0.3]\n",
    "}\n",
    "\n",
    "\n",
    "gs_rf = GridSearchCV(rf2, param_grid)\n",
    "gs_rf.fit(X_train, y_train)\n",
    "gs_rf.best_params_"
   ]
  },
  {
   "cell_type": "code",
   "execution_count": null,
   "metadata": {},
   "outputs": [],
   "source": [
    "rf2 = RandomForestClassifier(criterion= \"entropy\",random_state = 1,  max_depth = 3, min_samples_leaf = 0.1, min_samples_split = 0.3)\n",
    "\n",
    "rf2.fit(X_train, y_train)\n",
    "rf_train_pred2 = rf2.predict(X_train)\n",
    "rf_test_pred2 = rf2.predict(X_test)"
   ]
  },
  {
   "cell_type": "code",
   "execution_count": null,
   "metadata": {},
   "outputs": [],
   "source": [
    "rf_train_pred2 = rf2.predict(X_train)\n",
    "rf_test_pred2 = rf2.predict(X_test)"
   ]
  },
  {
   "cell_type": "code",
   "execution_count": null,
   "metadata": {},
   "outputs": [],
   "source": [
    "print(classification_report(y_train, rf_train_pred2))"
   ]
  },
  {
   "cell_type": "code",
   "execution_count": null,
   "metadata": {},
   "outputs": [],
   "source": [
    "print(classification_report(y_test, rf_test_pred2))"
   ]
  },
  {
   "cell_type": "code",
   "execution_count": null,
   "metadata": {},
   "outputs": [],
   "source": [
    "cm2 = confusion_matrix(y_test, rf_test_pred2);\n",
    "cmp2 = ConfusionMatrixDisplay(cm2);\n",
    "fig, ax = plt.subplots(figsize=(13,13));\n",
    "cmp2.plot(ax=ax);\n",
    "cmp2.ax_.set_title(\"Confusion Matrix\");"
   ]
  },
  {
   "cell_type": "markdown",
   "metadata": {},
   "source": [
    "### Crime Key ###"
   ]
  },
  {
   "cell_type": "markdown",
   "metadata": {},
   "source": [
    "**To make our confusion matrix more readable, we represented the crimes as numeric values. Below is a key that matches the numeric value to the crime**"
   ]
  },
  {
   "cell_type": "markdown",
   "metadata": {},
   "source": [
    "0) Aggravated Assault\n",
    "\n",
    "1) All Other Larceny\n",
    "\n",
    "2) Burglary/Breaking & Entering\n",
    "\n",
    "3) Destruction/Damage/Vandalism of Property\n",
    "\n",
    "4) Intimidation\n",
    "\n",
    "5) Motor Vehicle Theft\n",
    "\n",
    "6) Shoplifting\n",
    "\n",
    "7) Simple Assault\n",
    "\n",
    "8) Theft From Motor Vehicle\n",
    "\n",
    "9) Theft of Motor Vehicle Parts or Accessories\n"
   ]
  },
  {
   "cell_type": "markdown",
   "metadata": {},
   "source": [
    "### Classification Report ###"
   ]
  },
  {
   "cell_type": "markdown",
   "metadata": {},
   "source": [
    "Let's take a look at our test model classification report results for each crime:"
   ]
  },
  {
   "cell_type": "markdown",
   "metadata": {},
   "source": [
    "**0) Aggravated Assault**"
   ]
  },
  {
   "cell_type": "markdown",
   "metadata": {},
   "source": [
    "For our \"Aggravated Assault\" results, we have a precision score of .31, a recall score of .58, and an f1 score of .41. This means that:\n",
    "\n",
    "\n",
    "* Out of all the crimes that the model predicted would be Aggravated Assault crimes, 31% were actually Aggravated Assault crimes.\n",
    "* Out of all the crimes that were Aggravated Assault crimes, the model correctly predicted 58% of them.\n",
    "* There is an f1 score of .41, indicating poor performance on predicting probability of the crime being an Aggravated Assault crime."
   ]
  },
  {
   "cell_type": "markdown",
   "metadata": {},
   "source": [
    "**1) All Other Larceny**"
   ]
  },
  {
   "cell_type": "markdown",
   "metadata": {},
   "source": [
    "For our \"All Other Larceny\" results, we have a precision score of 0, a recall score of 0, and an f1 score of 0. This means that:\n",
    "\n",
    "* Out of all the crimes that the model predicted would be Larceny crimes, 0% were actually Larceny crimes.\n",
    "* Out of all the crimes that were Larceny crimes, the model correctly predicted 0% of them.\n",
    "* There is an f1 score of 0, indicating the worst possible performance on predicting probability of the crime being a Larceny crime."
   ]
  },
  {
   "cell_type": "markdown",
   "metadata": {},
   "source": [
    "**2) Burglary/Breaking & Entering**"
   ]
  },
  {
   "cell_type": "markdown",
   "metadata": {},
   "source": [
    "For our \"Burglary/Breaking & Entering\" results, we have a precision score of .24, a recall score of .19, and an f1 score of .22. This means that:\n",
    "\n",
    "* Out of all the crimes that the model predicted would be Burglary/Breaking & Entering crimes, 24% were actually Burglary/Breaking & Entering crimes.\n",
    "* Out of all the crimes that were Burglary/Breaking & Entering crimes, the model correctly predicted 19% of them.\n",
    "* There is an f1 score of .22, indicating poor performance on predicting probability of the crime being a Burglary/Breaking & Entering crime."
   ]
  },
  {
   "cell_type": "markdown",
   "metadata": {},
   "source": [
    "**3) Destruction/Damage/Vandalism of Property**"
   ]
  },
  {
   "cell_type": "markdown",
   "metadata": {},
   "source": [
    "For our \"Destruction/Damage/Vandalism of Property\" results, we have a precision score of 0, a recall score of 0, and an f1 score of 0. This means that:\n",
    "\n",
    "* Out of all the crimes that the model predicted would be Destruction/Damage/Vandalism of Property crimes, 0% were actually Destruction/Damage/Vandalism of Property crimes.\n",
    "* Out of all the crimes that were Destruction/Damage/Vandalism of Property crimes, the model correctly predicted 0% of them.\n",
    "* There is an f1 score of 0, indicating worst possible performance on predicting probability of the crime being a Destruction/Damage/Vandalism of Property crime."
   ]
  },
  {
   "cell_type": "markdown",
   "metadata": {},
   "source": [
    "**4) Identity Theft**"
   ]
  },
  {
   "cell_type": "markdown",
   "metadata": {},
   "source": [
    "For our \"Identity Theft\" results, we have a precision score of .17, a recall score of .85, and an f1 score of .28. This means that:\n",
    "\n",
    "* Out of all the crimes that the model predicted would be Identity Theft crimes, 17% were actually Identity Theft crimes.\n",
    "* Out of all the crimes that were Identity Theft crimes, the model correctly predicted 85% of them.\n",
    "* There is an f1 score of .28, indicating poor performance on predicting probability of the crime being an Identity Theft crime."
   ]
  },
  {
   "cell_type": "markdown",
   "metadata": {},
   "source": [
    "**5) Intimidation**"
   ]
  },
  {
   "cell_type": "markdown",
   "metadata": {},
   "source": [
    "For our \"Intimidation\" results, we have a precision score of .30, a recall score of .29, and an f1 score of .29. This means that:\n",
    "\n",
    "* Out of all the crimes that the model predicted would be Intimidation crimes, 30% were actually Intimidation crimes.\n",
    "* Out of all the crimes that were Intimidation crimes, the model correctly predicted 29% of them.\n",
    "* There is an f1 score of .29, indicating poor performance on predicting probability of the crime being an Intimidation crime."
   ]
  },
  {
   "cell_type": "markdown",
   "metadata": {},
   "source": [
    "**6) Motor Vehicle Theft**"
   ]
  },
  {
   "cell_type": "markdown",
   "metadata": {},
   "source": [
    "For our \"Motor Vehicle Theft\" results, we have a precision score of .17, a recall score of .07, and an f1 score of .10. This means that:\n",
    "\n",
    "* Out of all the crimes that the model predicted would be Motor Vehicle Theft crimes, 17% were actually Motor Vehicle Theft crimes.\n",
    "* Out of all the crimes that were Motor Vehicle Theft crimes, the model correctly predicted 7% of them.\n",
    "* There is an f1 score of .10, indicating poor performance on predicting probability of the crime being a Motor Vehicle Theft crime."
   ]
  },
  {
   "cell_type": "markdown",
   "metadata": {},
   "source": [
    "**7) Robbery**"
   ]
  },
  {
   "cell_type": "markdown",
   "metadata": {},
   "source": [
    "For our \"Robbery\" results, we have a precision score of .04, a recall score of .06, and an f1 score of .05. This means that:\n",
    "\n",
    "* Out of all the crimes that the model predicted would be Robbery crimes, 4% were actually Robbery crimes.\n",
    "* Out of all the crimes that were Robbery crimes, the model correctly predicted 6% of them.\n",
    "* There is an f1 score of .05, indicating poor performance on predicting probability of the crime being a Robbery crime."
   ]
  },
  {
   "cell_type": "markdown",
   "metadata": {},
   "source": [
    "**8) Shoplifting**"
   ]
  },
  {
   "cell_type": "markdown",
   "metadata": {},
   "source": [
    "For our \"Shoplifting\" results, we have a precision score of .13, a recall score of .44, and an f1 score of .20. This means that:\n",
    "\n",
    "* Out of all the crimes that the model predicted would be Shoplifting crimes, 13% were actually Shoplifting crimes.\n",
    "* Out of all the crimes that were Shoplifting crimes, the model correctly predicted 44% of them.\n",
    "* There is an f1 score of .20, indicating poor performance on predicting probability of the crime being a Shoplifting crime."
   ]
  },
  {
   "cell_type": "markdown",
   "metadata": {},
   "source": [
    "**9) Simple Assault**"
   ]
  },
  {
   "cell_type": "markdown",
   "metadata": {},
   "source": [
    "For our \"Simple Assault\" results, we have a precision score of .47, a recall score of .21, and an f1 score of .29. This means that:\n",
    "\n",
    "* Out of all the crimes that the model predicted would be Simple Assault crimes, 47% were actually Simple Assault crimes.\n",
    "* Out of all the crimes that were Simple Assault crimes, the model correctly predicted 21% of them.\n",
    "* There is an f1 score of .29, indicating poor performance on predicting probability of the crime being a Simple Assault crime."
   ]
  },
  {
   "cell_type": "markdown",
   "metadata": {},
   "source": [
    "**10) Theft From Building**"
   ]
  },
  {
   "cell_type": "markdown",
   "metadata": {},
   "source": [
    "For our \"Theft From Building\" results, we have a precision score of .06, a recall score of .11, and an f1 score of .08. This means that:\n",
    "\n",
    "* Out of all the crimes that the model predicted would be Theft From Building crimes, 6% were actually Theft From Building crimes.\n",
    "* Out of all the crimes that were Theft From Building crimes, the model correctly predicted 11% of them.\n",
    "* There is an f1 score of .08, indicating extremely poor performance on predicting probability of the crime being a Theft From Building crime."
   ]
  },
  {
   "cell_type": "markdown",
   "metadata": {},
   "source": [
    "**11) Theft From Motor Vehicle**"
   ]
  },
  {
   "cell_type": "markdown",
   "metadata": {},
   "source": [
    "For our \"Theft From Motor Vehicle\" results, we have a precision score of 0, a recall score of 0, and an f1 score of 0. This means that:\n",
    "\n",
    "* Out of all the crimes that the model predicted would be Theft From Motor Vehicle crimes, 0% were actually Theft From Motor Vehicle crimes.\n",
    "* Out of all the crimes that were Theft From Motor Vehicle crimes, the model correctly predicted 0% of them.\n",
    "* There is an f1 score of .0, indicating poor performance on predicting probability of the crime being a Theft From Motor Vehicle crime."
   ]
  },
  {
   "cell_type": "markdown",
   "metadata": {},
   "source": [
    "**12) Theft of Motor Vehicle Parts or Accessories**"
   ]
  },
  {
   "cell_type": "markdown",
   "metadata": {},
   "source": [
    "For our \"Theft of Motor Vehicle Parts or Accessories\" results, we have a precision score of .13, a recall score of .21, and an f1 score of .16. This means that:\n",
    "\n",
    "* Out of all the crimes that the model predicted would be Theft of Motor Vehicle Parts or Accessories crimes, 13% were actually Theft of Motor Vehicle Parts or Accessories crimes.\n",
    "* Out of all the crimes that were Theft of Motor Vehicle Parts or Accessories crimes, the model correctly predicted 21% of them.\n",
    "* There is an f1 score of .16, indicating poor performance on predicting probability of the crime being a Theft of Motor Vehicle Parts or Accessories crime."
   ]
  },
  {
   "cell_type": "markdown",
   "metadata": {},
   "source": [
    "**13) Trespass of Real Property**"
   ]
  },
  {
   "cell_type": "markdown",
   "metadata": {},
   "source": [
    "For our \"Trespass of Real Property\" results, we have a precision score of .09, a recall score of .01, and an f1 score of 0.1. This means that:\n",
    "\n",
    "* Out of all the crimes that the model predicted would be Trespass of Real Property crimes, 9% were actually Trespass of Real Property crimes.\n",
    "* Out of all the crimes that were Trespass of Real Property crimes, the model correctly predicted 1% of them.\n",
    "* There is an f1 score of 0.1, indicating poor performance on predicting probability of the crime being a Trespass of Real Property crime."
   ]
  },
  {
   "cell_type": "markdown",
   "metadata": {},
   "source": [
    "### Crime Confusion Matrix ###"
   ]
  },
  {
   "cell_type": "markdown",
   "metadata": {},
   "source": [
    "**0) Aggravated Assault**"
   ]
  },
  {
   "cell_type": "markdown",
   "metadata": {},
   "source": [
    "* 1,453 crimes were correctly predicted as being \"Aggravated Assault\" crimes\n",
    "* 1,040 crimes were wrongly predicted as not being \"Aggravated Assault\" crimes\n",
    "* 3,214 crimes were wrongly predicted as being \"Aggravated Assault\" crimes\n",
    "* 46,858 crimes were correctly predicted as not being \"Aggravated Assault\" crimes"
   ]
  },
  {
   "cell_type": "markdown",
   "metadata": {},
   "source": [
    "**1) All Other Larceny**"
   ]
  },
  {
   "cell_type": "markdown",
   "metadata": {},
   "source": [
    "* 0 crimes were correctly predicted as being \"All Other Larceny\" crimes\n",
    "* 4,879 crimes were wrongly predicted as not being \"All Other Larceny\" crimes\n",
    "* 0 crimes were wrongly predicted as being \"All Other Larceny\" crimes\n",
    "* 47,686 crimes were correctly predicted as not being \"All Other Larceny\" crimes"
   ]
  },
  {
   "cell_type": "markdown",
   "metadata": {},
   "source": [
    "**2) Burglary/Breaking & Entering**"
   ]
  },
  {
   "cell_type": "markdown",
   "metadata": {},
   "source": [
    "* 1,442 crimes were correctly predicted as being \"Burglary/Breaking & Entering\" crimes\n",
    "* 6,018 crimes were wrongly predicted as not being \"Burglary/Breaking & Entering\" crimes\n",
    "* 4,457 crimes were wrongly predicted as being \"Burglary/Breaking & Entering\" crimes\n",
    "* 41,253 crimes were correctly predicted as not being \"Burglary/Breaking & Entering\" crimes"
   ]
  },
  {
   "cell_type": "markdown",
   "metadata": {},
   "source": [
    "**3) Destruction/Damage/Vandalism of Property**"
   ]
  },
  {
   "cell_type": "markdown",
   "metadata": {},
   "source": [
    "* 0 crimes were correctly predicted as being \"Destruction/Damage/Vandalism of Property\" crimes\n",
    "* 5,540 crimes were wrongly predicted as not being \"Destruction/Damage/Vandalism of Property\" crimes\n",
    "* 0 crimes were wrongly predicted as being \"Destruction/Damage/Vandalism of Property\" crimes\n",
    "* 47,924 crimes were correctly predicted as not being \"Destruction/Damage/Vandalism of Property\" crimes"
   ]
  },
  {
   "cell_type": "markdown",
   "metadata": {},
   "source": [
    "**4) Identity Theft**"
   ]
  },
  {
   "cell_type": "markdown",
   "metadata": {},
   "source": [
    "* 2,489 crimes were correctly predicted as being \"Identity Theft\" crimes\n",
    "* 432 crimes were wrongly predicted as not being \"Identity Theft\" crimes\n",
    "* 12,478 crimes were wrongly predicted as being \"Identity Theft\" crimes\n",
    "* 43,132 crimes were correctly predicted as not being \"Identity Theft\" crimes"
   ]
  },
  {
   "cell_type": "markdown",
   "metadata": {},
   "source": [
    "**5) Intimidation**"
   ]
  },
  {
   "cell_type": "markdown",
   "metadata": {},
   "source": [
    "* 650 crimes were correctly predicted as being \"Intimidation\" crimes\n",
    "* 1,600 crimes were wrongly predicted as not being \"Intimidation\" crimes\n",
    "* 1,521 crimes were wrongly predicted as being \"Intimidation\" crimes\n",
    "* 50,530 crimes were correctly predicted as not being \"Intimidation\" crimes"
   ]
  },
  {
   "cell_type": "markdown",
   "metadata": {},
   "source": [
    "**6) Motor Vehicle Theft**"
   ]
  },
  {
   "cell_type": "markdown",
   "metadata": {},
   "source": [
    "* 316 crimes were correctly predicted as being \"Motor Vehicle Theft\" crimes\n",
    "* 4,247 crimes were wrongly predicted as not being \"Motor Vehicle Theft\" crimes\n",
    "* 1,511 crimes were wrongly predicted as being \"Motor Vehicle Theft\" crimes\n",
    "* 49,010 crimes were correctly predicted as not being \"Motor Vehicle Theft\" crimes"
   ]
  },
  {
   "cell_type": "markdown",
   "metadata": {},
   "source": [
    "**7) Robbery**"
   ]
  },
  {
   "cell_type": "markdown",
   "metadata": {},
   "source": [
    "* 80 crimes were correctly predicted as being \"Robbery\" crimes\n",
    "* 1,239 crimes were wrongly predicted as not being \"Robbery\" crimes\n",
    "* 1,947 crimes were wrongly predicted as being \"Robbery\" crimes\n",
    "* 50,905 crimes were correctly predicted as not being \"Robbery\" crimes"
   ]
  },
  {
   "cell_type": "markdown",
   "metadata": {},
   "source": [
    "**8) Shoplifting**"
   ]
  },
  {
   "cell_type": "markdown",
   "metadata": {},
   "source": [
    "* 1,308 crimes were correctly predicted as being \"Shoplifting\" crimes\n",
    "* 1,611 crimes were wrongly predicted as not being \"Shoplifting\" crimes\n",
    "* 8,274 crimes were wrongly predicted as being \"Shoplifting\" crimes\n",
    "* 66,801 crimes were correctly predicted as not being \"Shoplifting\" crimes"
   ]
  },
  {
   "cell_type": "markdown",
   "metadata": {},
   "source": [
    "**9) Simple Assault**"
   ]
  },
  {
   "cell_type": "markdown",
   "metadata": {},
   "source": [
    "* 791 crimes were correctly predicted as being \"Simple Assault\" crimes\n",
    "* 2,999 crimes were wrongly predicted as not being \"Simple Assault\" crimes\n",
    "* 904 crimes were wrongly predicted as being \"Simple Assault\" crimes\n",
    "* 51,771 crimes were correctly predicted as not being \"Simple Assault\" crimes"
   ]
  },
  {
   "cell_type": "markdown",
   "metadata": {},
   "source": [
    "**10) Theft From Building**"
   ]
  },
  {
   "cell_type": "markdown",
   "metadata": {},
   "source": [
    "* 171 crimes were correctly predicted as being \"Theft From Building\" crimes\n",
    "* 1,312 crimes were wrongly predicted as not being \"Theft From Building\" crimes\n",
    "* 2,569 crimes were wrongly predicted as being \"Theft From Building\" crimes\n",
    "* 51,433 crimes were correctly predicted as not being \"Theft From Building\" crimes"
   ]
  },
  {
   "cell_type": "markdown",
   "metadata": {},
   "source": [
    "**11) Theft From Motor Vehicle**"
   ]
  },
  {
   "cell_type": "markdown",
   "metadata": {},
   "source": [
    "* 0 crimes were correctly predicted as being \"Theft From Motor Vehicle\" crimes\n",
    "* 7,111 crimes were wrongly predicted as not being \"Theft From Motor Vehicle\" crimes\n",
    "* 0 crimes were wrongly predicted as being \"Theft From Motor Vehicle\" crimes\n",
    "* 51,470 crimes were correctly predicted as not being \"Theft From Motor Vehicle\" crimes"
   ]
  },
  {
   "cell_type": "markdown",
   "metadata": {},
   "source": [
    "**12) Theft of Motor Vehicle Parts or Accessories**"
   ]
  },
  {
   "cell_type": "markdown",
   "metadata": {},
   "source": [
    "* 850 crimes were correctly predicted as being \"Theft of Motor Vehicle Parts or Accessories\" crimes\n",
    "* 3,211 crimes were wrongly predicted as not being \"Theft of Motor Vehicle Parts or Accessories\" crimes\n",
    "* 5,541 crimes were wrongly predicted as being \"Theft of Motor Vehicle Parts or Accessories\" crimes\n",
    "* 51,489 crimes were correctly predicted as not being \"Theft of Motor Vehicle Parts or Accessories\" crimes"
   ]
  },
  {
   "cell_type": "markdown",
   "metadata": {},
   "source": [
    "**13) Trespass of Real Property**"
   ]
  },
  {
   "cell_type": "markdown",
   "metadata": {},
   "source": [
    "* 14 crimes were correctly predicted as being \"Trespass of Real Property\" crimes\n",
    "* 1,697 crimes were wrongly predicted as not being \"Trespass of Real Property\" crimes\n",
    "* 149 crimes were wrongly predicted as being \"Trespass of Real Property\" crimes\n",
    "* 50,854 crimes were correctly predicted as not being \"Trespass of Real Property\" crimes"
   ]
  },
  {
   "cell_type": "markdown",
   "metadata": {},
   "source": [
    "## CatBoost Model ##"
   ]
  },
  {
   "cell_type": "code",
   "execution_count": null,
   "metadata": {},
   "outputs": [],
   "source": [
    "CBC = CatBoostClassifier(\n",
    "    random_state = 1,\n",
    "    loss_function = 'MultiClass',\n",
    ")"
   ]
  },
  {
   "cell_type": "code",
   "execution_count": null,
   "metadata": {
    "scrolled": false
   },
   "outputs": [],
   "source": [
    "CBC.fit(\n",
    "    X_train, y_train,\n",
    "    early_stopping_rounds=5,\n",
    "    plot = True\n",
    ")"
   ]
  },
  {
   "cell_type": "code",
   "execution_count": null,
   "metadata": {},
   "outputs": [],
   "source": [
    "CBC_train_pred = CBC.predict(X_train)\n",
    "CBC_test_pred = CBC.predict(X_test)"
   ]
  },
  {
   "cell_type": "code",
   "execution_count": null,
   "metadata": {},
   "outputs": [],
   "source": [
    "print(classification_report(y_train, CBC_train_pred))"
   ]
  },
  {
   "cell_type": "code",
   "execution_count": null,
   "metadata": {},
   "outputs": [],
   "source": [
    "print(classification_report(y_test, CBC_test_pred))"
   ]
  },
  {
   "cell_type": "code",
   "execution_count": null,
   "metadata": {},
   "outputs": [],
   "source": [
    "cm = confusion_matrix(y_test, CBC_test_pred);\n",
    "cmp = ConfusionMatrixDisplay(cm);\n",
    "fig, ax = plt.subplots(figsize=(13,13));\n",
    "cmp.plot(ax=ax);\n",
    "cmp.ax_.set_title(\"Confusion Matrix\");"
   ]
  },
  {
   "cell_type": "markdown",
   "metadata": {},
   "source": [
    "### Crime Key ###"
   ]
  },
  {
   "cell_type": "markdown",
   "metadata": {},
   "source": [
    "**To make our confusion matrix more readable, we represented the crimes as numeric values. Below is a key that matches the numeric value to the crime**"
   ]
  },
  {
   "cell_type": "markdown",
   "metadata": {},
   "source": [
    "0) Aggravated Assault\n",
    "\n",
    "1) All Other Larceny\n",
    "\n",
    "2) Burglary/Breaking & Entering\n",
    "\n",
    "3) Destruction/Damage/Vandalism of Property\n",
    "\n",
    "4) Identity Theft\n",
    "\n",
    "5) Intimidation\n",
    "\n",
    "6) Motor Vehicle Theft\n",
    "\n",
    "7) Robbery\n",
    "\n",
    "8) Shoplifting\n",
    "\n",
    "9) Simple Assault\n",
    "\n",
    "10) Theft From Building\n",
    "\n",
    "11) Theft From Motor Vehicle\n",
    "\n",
    "12) Theft of Motor Vehicle Parts or Accessories\n",
    "\n",
    "13) Trespass of Real Property "
   ]
  },
  {
   "cell_type": "markdown",
   "metadata": {},
   "source": [
    "### Classification Report ###"
   ]
  },
  {
   "cell_type": "markdown",
   "metadata": {},
   "source": [
    "Let's take a look at our test model classification report results for each crime:"
   ]
  },
  {
   "cell_type": "markdown",
   "metadata": {},
   "source": [
    "**0) Aggravated Assault**"
   ]
  },
  {
   "cell_type": "markdown",
   "metadata": {},
   "source": [
    "For our \"Aggravated Assault\" results, we have a precision score of .36, a recall score of .28, and an f1 score of .32. This means that:\n",
    "\n",
    "\n",
    "* Out of all the crimes that the model predicted would be Aggravated Assault crimes, 36% were actually Aggravated Assault crimes.\n",
    "* Out of all the crimes that were Aggravated Assault crimes, the model correctly predicted 28% of them.\n",
    "* There is an f1 score of .32, indicating poor performance on predicting probability of the crime being an Aggravated Assault crime."
   ]
  },
  {
   "cell_type": "markdown",
   "metadata": {},
   "source": [
    "**1) All Other Larceny**"
   ]
  },
  {
   "cell_type": "markdown",
   "metadata": {},
   "source": [
    "For our \"All Other Larceny\" results, we have a precision score of .20, a recall score of .10, and an f1 score of .14. This means that:\n",
    "\n",
    "* Out of all the crimes that the model predicted would be Larceny crimes, 20% were actually Larceny crimes.\n",
    "* Out of all the crimes that were Larceny crimes, the model correctly predicted 10% of them.\n",
    "* There is an f1 score of .14, indicating poor performance on predicting probability of the crime being a Larceny crime."
   ]
  },
  {
   "cell_type": "markdown",
   "metadata": {},
   "source": [
    "**2) Burglary/Breaking & Entering**"
   ]
  },
  {
   "cell_type": "markdown",
   "metadata": {},
   "source": [
    "For our \"Burglary/Breaking & Entering\" results, we have a precision score of .32, a recall score of .33, and an f1 score of .32. This means that:\n",
    "\n",
    "* Out of all the crimes that the model predicted would be Burglary/Breaking & Entering crimes, 32% were actually Burglary/Breaking & Entering crimes.\n",
    "* Out of all the crimes that were Burglary/Breaking & Entering crimes, the model correctly predicted 33% of them.\n",
    "* There is an f1 score of .32, indicating poor performance on predicting probability of the crime being a Burglary/Breaking & Entering crime."
   ]
  },
  {
   "cell_type": "markdown",
   "metadata": {},
   "source": [
    "**3) Destruction/Damage/Vandalism of Property**"
   ]
  },
  {
   "cell_type": "markdown",
   "metadata": {},
   "source": [
    "For our \"Destruction/Damage/Vandalism of Property\" results, we have a precision score of .22, a recall score of .10, and an f1 score of .14. This means that:\n",
    "\n",
    "* Out of all the crimes that the model predicted would be Destruction/Damage/Vandalism of Property crimes, 22% were actually Destruction/Damage/Vandalism of Property crimes.\n",
    "* Out of all the crimes that were Destruction/Damage/Vandalism of Property crimes, the model correctly predicted 10% of them.\n",
    "* There is an f1 score of .14, indicating poor performance on predicting probability of the crime being a Destruction/Damage/Vandalism of Property crime."
   ]
  },
  {
   "cell_type": "markdown",
   "metadata": {},
   "source": [
    "**4) Identity Theft**"
   ]
  },
  {
   "cell_type": "markdown",
   "metadata": {},
   "source": [
    "For our \"Identity Theft\" results, we have a precision score of .36, a recall score of .73, and an f1 score of .48. This means that:\n",
    "\n",
    "* Out of all the crimes that the model predicted would be Identity Theft crimes, 36% were actually Identity Theft crimes.\n",
    "* Out of all the crimes that were Identity Theft crimes, the model correctly predicted 73% of them.\n",
    "* There is an f1 score of .48, indicating poor performance on predicting probability of the crime being an Identity Theft crime."
   ]
  },
  {
   "cell_type": "markdown",
   "metadata": {},
   "source": [
    "**5) Intimidation**"
   ]
  },
  {
   "cell_type": "markdown",
   "metadata": {},
   "source": [
    "For our \"Intimidation\" results, we have a precision score of .35, a recall score of .32, and an f1 score of .33. This means that:\n",
    "\n",
    "* Out of all the crimes that the model predicted would be Intimidation crimes, 35% were actually Intimidation crimes.\n",
    "* Out of all the crimes that were Intimidation crimes, the model correctly predicted 32% of them.\n",
    "* There is an f1 score of .33, indicating poor performance on predicting probability of the crime being an Intimidation crime."
   ]
  },
  {
   "cell_type": "markdown",
   "metadata": {},
   "source": [
    "**6) Motor Vehicle Theft**"
   ]
  },
  {
   "cell_type": "markdown",
   "metadata": {},
   "source": [
    "For our \"Motor Vehicle Theft\" results, we have a precision score of .24, a recall score of .29, and an f1 score of .26. This means that:\n",
    "\n",
    "* Out of all the crimes that the model predicted would be Motor Vehicle Theft crimes, 24% were actually Motor Vehicle Theft crimes.\n",
    "* Out of all the crimes that were Motor Vehicle Theft crimes, the model correctly predicted 29% of them.\n",
    "* There is an f1 score of .26, indicating poor performance on predicting probability of the crime being a Motor Vehicle Theft crime."
   ]
  },
  {
   "cell_type": "markdown",
   "metadata": {},
   "source": [
    "**7) Robbery**"
   ]
  },
  {
   "cell_type": "markdown",
   "metadata": {},
   "source": [
    "For our \"Robbery\" results, we have a precision score of .12, a recall score of .08, and an f1 score of .10. This means that:\n",
    "\n",
    "* Out of all the crimes that the model predicted would be Robbery crimes, 12% were actually Robbery crimes.\n",
    "* Out of all the crimes that were Robbery crimes, the model correctly predicted 8% of them.\n",
    "* There is an f1 score of .10, indicating poor performance on predicting probability of the crime being a Robbery crime."
   ]
  },
  {
   "cell_type": "markdown",
   "metadata": {},
   "source": [
    "**8) Shoplifting**"
   ]
  },
  {
   "cell_type": "markdown",
   "metadata": {},
   "source": [
    "For our \"Shoplifting\" results, we have a precision score of .32, a recall score of .62, and an f1 score of .42. This means that:\n",
    "\n",
    "* Out of all the crimes that the model predicted would be Shoplifting crimes, 32% were actually Shoplifting crimes.\n",
    "* Out of all the crimes that were Shoplifting crimes, the model correctly predicted 62% of them.\n",
    "* There is an f1 score of .42, indicating poor performance on predicting probability of the crime being a Shoplifting crime."
   ]
  },
  {
   "cell_type": "markdown",
   "metadata": {},
   "source": [
    "**9) Simple Assault**"
   ]
  },
  {
   "cell_type": "markdown",
   "metadata": {},
   "source": [
    "For our \"Simple Assault\" results, we have a precision score of .47, a recall score of .56, and an f1 score of .51. This means that:\n",
    "\n",
    "* Out of all the crimes that the model predicted would be Simple Assault crimes, 47% were actually Simple Assault crimes.\n",
    "* Out of all the crimes that were Simple Assault crimes, the model correctly predicted 56% of them.\n",
    "* There is an f1 score of .51, indicating poor performance on predicting probability of the crime being a Simple Assault crime."
   ]
  },
  {
   "cell_type": "markdown",
   "metadata": {},
   "source": [
    "**10) Theft From Building**"
   ]
  },
  {
   "cell_type": "markdown",
   "metadata": {},
   "source": [
    "For our \"Theft From Building\" results, we have a precision score of .09, a recall score of .09, and an f1 score of .09. This means that:\n",
    "\n",
    "* Out of all the crimes that the model predicted would be Theft From Building crimes, 9% were actually Theft From Building crimes.\n",
    "* Out of all the crimes that were Theft From Building crimes, the model correctly predicted 9% of them.\n",
    "* There is an f1 score of .09, indicating extremely poor performance on predicting probability of the crime being a Theft From Building crime."
   ]
  },
  {
   "cell_type": "markdown",
   "metadata": {},
   "source": [
    "**11) Theft From Motor Vehicle**"
   ]
  },
  {
   "cell_type": "markdown",
   "metadata": {},
   "source": [
    "For our \"Theft From Motor Vehicle\" results, we have a precision score of .30, a recall score of .24, and an f1 score of .26. This means that:\n",
    "\n",
    "* Out of all the crimes that the model predicted would be Theft From Motor Vehicle crimes, 30% were actually Theft From Motor Vehicle crimes.\n",
    "* Out of all the crimes that were Theft From Motor Vehicle crimes, the model correctly predicted 24% of them.\n",
    "* There is an f1 score of .26, indicating poor performance on predicting probability of the crime being a Theft From Motor Vehicle crime."
   ]
  },
  {
   "cell_type": "markdown",
   "metadata": {},
   "source": [
    "**12) Theft of Motor Vehicle Parts or Accessories**"
   ]
  },
  {
   "cell_type": "markdown",
   "metadata": {},
   "source": [
    "For our \"Theft of Motor Vehicle Parts or Accessories\" results, we have a precision score of .17, a recall score of .17, and an f1 score of .17. This means that:\n",
    "\n",
    "* Out of all the crimes that the model predicted would be Theft of Motor Vehicle Parts or Accessories crimes, 17% were actually Theft of Motor Vehicle Parts or Accessories crimes.\n",
    "* Out of all the crimes that were Theft of Motor Vehicle Parts or Accessories crimes, the model correctly predicted 17% of them.\n",
    "* There is an f1 score of .17, indicating poor performance on predicting probability of the crime being a Theft of Motor Vehicle Parts or Accessories crime."
   ]
  },
  {
   "cell_type": "markdown",
   "metadata": {},
   "source": [
    "**13) Trespass of Real Property**"
   ]
  },
  {
   "cell_type": "markdown",
   "metadata": {},
   "source": [
    "For our \"Trespass of Real Property\" results, we have a precision score of 1.0, a recall score of 1.0, and an f1 score of 1.0. This means that:\n",
    "\n",
    "* Out of all the crimes that the model predicted would be Trespass of Real Property crimes, 100% were actually Trespass of Real Property crimes.\n",
    "* Out of all the crimes that were Trespass of Real Property crimes, the model correctly predicted 100% of them.\n",
    "* There is an f1 score of 1, indicating perfect performance on predicting probability of the crime being a Trespass of Real Property crime."
   ]
  },
  {
   "cell_type": "markdown",
   "metadata": {},
   "source": [
    "### Crime Confusion Matrix ###"
   ]
  },
  {
   "cell_type": "markdown",
   "metadata": {},
   "source": [
    "**0) Aggravated Assault**"
   ]
  },
  {
   "cell_type": "markdown",
   "metadata": {},
   "source": [
    "* 700 crimes were correctly predicted as being \"Aggravated Assault\" crimes\n",
    "* 1,793 crimes were wrongly predicted as not being \"Aggravated Assault\" crimes\n",
    "* 1,225 crimes were wrongly predicted as being \"Aggravated Assault\" crimes\n",
    "* 48,252 crimes were correctly predicted as not being \"Aggravated Assault\" crimes"
   ]
  },
  {
   "cell_type": "markdown",
   "metadata": {},
   "source": [
    "**1) All Other Larceny**"
   ]
  },
  {
   "cell_type": "markdown",
   "metadata": {},
   "source": [
    "* 512 crimes were correctly predicted as being \"All Other Larceny\" crimes\n",
    "* 4,367 crimes were wrongly predicted as not being \"All Other Larceny\" crimes\n",
    "* 2,071 crimes were wrongly predicted as being \"All Other Larceny\" crimes\n",
    "* 44,863 crimes were correctly predicted as not being \"All Other Larceny\" crimes"
   ]
  },
  {
   "cell_type": "markdown",
   "metadata": {},
   "source": [
    "**2) Burglary/Breaking & Entering**"
   ]
  },
  {
   "cell_type": "markdown",
   "metadata": {},
   "source": [
    "* 2,474 crimes were correctly predicted as being \"Burglary/Breaking & Entering\" crimes\n",
    "* 4,986 crimes were wrongly predicted as not being \"Burglary/Breaking & Entering\" crimes\n",
    "* 5,332 crimes were wrongly predicted as being \"Burglary/Breaking & Entering\" crimes\n",
    "* 40,973 crimes were correctly predicted as not being \"Burglary/Breaking & Entering\" crimes"
   ]
  },
  {
   "cell_type": "markdown",
   "metadata": {},
   "source": [
    "**3) Destruction/Damage/Vandalism of Property**"
   ]
  },
  {
   "cell_type": "markdown",
   "metadata": {},
   "source": [
    "* 577 crimes were correctly predicted as being \"Destruction/Damage/Vandalism of Property\" crimes\n",
    "* 4,963 crimes were wrongly predicted as not being \"Destruction/Damage/Vandalism of Property\" crimes\n",
    "* 2,088 crimes were wrongly predicted as being \"Destruction/Damage/Vandalism of Property\" crimes\n",
    "* 47,221 crimes were correctly predicted as not being \"Destruction/Damage/Vandalism of Property\" crimes"
   ]
  },
  {
   "cell_type": "markdown",
   "metadata": {},
   "source": [
    "**4) Identity Theft**"
   ]
  },
  {
   "cell_type": "markdown",
   "metadata": {},
   "source": [
    "* 2,118 crimes were correctly predicted as being \"Identity Theft\" crimes\n",
    "* 803 crimes were wrongly predicted as not being \"Identity Theft\" crimes\n",
    "* 3,754 crimes were wrongly predicted as being \"Identity Theft\" crimes\n",
    "* 48,064 crimes were correctly predicted as not being \"Identity Theft\" crimes"
   ]
  },
  {
   "cell_type": "markdown",
   "metadata": {},
   "source": [
    "**5) Intimidation**"
   ]
  },
  {
   "cell_type": "markdown",
   "metadata": {},
   "source": [
    "* 723 crimes were correctly predicted as being \"Intimidation\" crimes\n",
    "* 1,527 crimes were wrongly predicted as not being \"Intimidation\" crimes\n",
    "* 1,344 crimes were wrongly predicted as being \"Intimidation\" crimes\n",
    "* 49,889 crimes were correctly predicted as not being \"Intimidation\" crimes"
   ]
  },
  {
   "cell_type": "markdown",
   "metadata": {},
   "source": [
    "**6) Motor Vehicle Theft**"
   ]
  },
  {
   "cell_type": "markdown",
   "metadata": {},
   "source": [
    "* 1,314 crimes were correctly predicted as being \"Motor Vehicle Theft\" crimes\n",
    "* 3,249 crimes were wrongly predicted as not being \"Motor Vehicle Theft\" crimes\n",
    "* 4,127 crimes were wrongly predicted as being \"Motor Vehicle Theft\" crimes\n",
    "* 47,531 crimes were correctly predicted as not being \"Motor Vehicle Theft\" crimes"
   ]
  },
  {
   "cell_type": "markdown",
   "metadata": {},
   "source": [
    "**7) Robbery**"
   ]
  },
  {
   "cell_type": "markdown",
   "metadata": {},
   "source": [
    "* 112 crimes were correctly predicted as being \"Robbery\" crimes\n",
    "* 1,207 crimes were wrongly predicted as not being \"Robbery\" crimes\n",
    "* 826 crimes were wrongly predicted as being \"Robbery\" crimes\n",
    "* 51,532 crimes were correctly predicted as not being \"Robbery\" crimes"
   ]
  },
  {
   "cell_type": "markdown",
   "metadata": {},
   "source": [
    "**8) Shoplifting**"
   ]
  },
  {
   "cell_type": "markdown",
   "metadata": {},
   "source": [
    "* 1,859 crimes were correctly predicted as being \"Shoplifting\" crimes\n",
    "* 1,116 crimes were wrongly predicted as not being \"Shoplifting\" crimes\n",
    "* 3,966 crimes were wrongly predicted as being \"Shoplifting\" crimes\n",
    "* 49,098 crimes were correctly predicted as not being \"Shoplifting\" crimes"
   ]
  },
  {
   "cell_type": "markdown",
   "metadata": {},
   "source": [
    "**9) Simple Assault**"
   ]
  },
  {
   "cell_type": "markdown",
   "metadata": {},
   "source": [
    "* 2,139 crimes were correctly predicted as being \"Simple Assault\" crimes\n",
    "* 1,651 crimes were wrongly predicted as not being \"Simple Assault\" crimes\n",
    "* 3,409 crimes were wrongly predicted as being \"Simple Assault\" crimes\n",
    "* 50,423 crimes were correctly predicted as not being \"Simple Assault\" crimes"
   ]
  },
  {
   "cell_type": "markdown",
   "metadata": {},
   "source": [
    "**10) Theft From Building**"
   ]
  },
  {
   "cell_type": "markdown",
   "metadata": {},
   "source": [
    "* 128 crimes were correctly predicted as being \"Theft From Building\" crimes\n",
    "* 1,364 crimes were wrongly predicted as not being \"Theft From Building\" crimes\n",
    "* 1,309 crimes were wrongly predicted as being \"Theft From Building\" crimes\n",
    "* 51,929 crimes were correctly predicted as not being \"Theft From Building\" crimes"
   ]
  },
  {
   "cell_type": "markdown",
   "metadata": {},
   "source": [
    "**11) Theft From Motor Vehicle**"
   ]
  },
  {
   "cell_type": "markdown",
   "metadata": {},
   "source": [
    "* 1,694 crimes were correctly predicted as being \"Theft From Motor Vehicle\" crimes\n",
    "* 7,111 crimes were wrongly predicted as not being \"Theft From Motor Vehicle\" crimes\n",
    "* 3,995 crimes were wrongly predicted as being \"Theft From Motor Vehicle\" crimes\n",
    "* 49,631 crimes were correctly predicted as not being \"Theft From Motor Vehicle\" crimes"
   ]
  },
  {
   "cell_type": "markdown",
   "metadata": {},
   "source": [
    "**12) Theft of Motor Vehicle Parts or Accessories**"
   ]
  },
  {
   "cell_type": "markdown",
   "metadata": {},
   "source": [
    "* 699 crimes were correctly predicted as being \"Theft of Motor Vehicle Parts or Accessories\" crimes\n",
    "* 3,362 crimes were wrongly predicted as not being \"Theft of Motor Vehicle Parts or Accessories\" crimes\n",
    "* 3,366 crimes were wrongly predicted as being \"Theft of Motor Vehicle Parts or Accessories\" crimes\n",
    "* 51,863 crimes were correctly predicted as not being \"Theft of Motor Vehicle Parts or Accessories\" crimes"
   ]
  },
  {
   "cell_type": "markdown",
   "metadata": {},
   "source": [
    "**13) Trespass of Real Property**"
   ]
  },
  {
   "cell_type": "markdown",
   "metadata": {},
   "source": [
    "* 1,711 crimes were correctly predicted as being \"Trespass of Real Property\" crimes\n",
    "* 0 crimes were wrongly predicted as not being \"Trespass of Real Property\" crimes\n",
    "* 0 crimes were wrongly predicted as being \"Trespass of Real Property\" crimes\n",
    "* 50,851 crimes were correctly predicted as not being \"Trespass of Real Property\" crimes"
   ]
  },
  {
   "cell_type": "code",
   "execution_count": null,
   "metadata": {},
   "outputs": [],
   "source": [
    "params = {'learning_rate': [0.05, 0.1, 0.5],\n",
    "          'loss_function': ['MultiClass'],\n",
    "          'task_type': ['GPU'],\n",
    "          'random_state' : [1],\n",
    "          'depth': [2, 4, 6],\n",
    "          'iterations': [100, 500, 1000]\n",
    "         }"
   ]
  },
  {
   "cell_type": "code",
   "execution_count": null,
   "metadata": {
    "scrolled": false
   },
   "outputs": [],
   "source": [
    "CBC_gs = GridSearchCV(CBC, params)\n",
    "CBC_gs.fit(X_train, y_train, early_stopping_rounds=5, plot = True)\n",
    "CBC_gs.best_params_"
   ]
  },
  {
   "cell_type": "code",
   "execution_count": null,
   "metadata": {},
   "outputs": [],
   "source": [
    "CBC2 = CatBoostClassifier(\n",
    "    random_state = 1,\n",
    "    task_type = 'GPU',\n",
    "    loss_function = 'MultiClass',\n",
    "    learning_rate=0.5,\n",
    "    depth = 6,\n",
    "    iterations = 1000\n",
    ")"
   ]
  },
  {
   "cell_type": "code",
   "execution_count": null,
   "metadata": {
    "scrolled": false
   },
   "outputs": [],
   "source": [
    "CBC2.fit(\n",
    "    X_train, y_train,\n",
    "    early_stopping_rounds=5,\n",
    "    plot = True\n",
    ")"
   ]
  },
  {
   "cell_type": "code",
   "execution_count": null,
   "metadata": {},
   "outputs": [],
   "source": [
    "CBC_train_pred2 = CBC2.predict(X_train)\n",
    "CBC_test_pred2 = CBC2.predict(X_test)"
   ]
  },
  {
   "cell_type": "code",
   "execution_count": null,
   "metadata": {},
   "outputs": [],
   "source": [
    "print(classification_report(y_train, CBC_train_pred2))"
   ]
  },
  {
   "cell_type": "code",
   "execution_count": null,
   "metadata": {},
   "outputs": [],
   "source": [
    "print(classification_report(y_test, CBC_test_pred2))"
   ]
  },
  {
   "cell_type": "code",
   "execution_count": null,
   "metadata": {},
   "outputs": [],
   "source": [
    "cm2 = confusion_matrix(y_test, CBC_test_pred2);\n",
    "cmp2 = ConfusionMatrixDisplay(cm2);\n",
    "fig, ax = plt.subplots(figsize=(13,13));\n",
    "cmp2.plot(ax=ax);\n",
    "cmp2.ax_.set_title(\"Confusion Matrix\");"
   ]
  },
  {
   "cell_type": "markdown",
   "metadata": {},
   "source": [
    "### Classification Report ###"
   ]
  },
  {
   "cell_type": "markdown",
   "metadata": {},
   "source": [
    "Let's take a look at our classification report test results for each crime:"
   ]
  },
  {
   "cell_type": "markdown",
   "metadata": {},
   "source": [
    "**0) Aggravated Assault**"
   ]
  },
  {
   "cell_type": "markdown",
   "metadata": {},
   "source": [
    "For our \"Aggravated Assault\" results, we have a precision score of .35, a recall score of .30, and an f1 score of .32. This means that:\n",
    "\n",
    "\n",
    "* Out of all the crimes that the model predicted would be Aggravated Assault crimes, 35% were actually Aggravated Assault crimes.\n",
    "* Out of all the crimes that were Aggravated Assault crimes, the model correctly predicted 30% of them.\n",
    "* There is an f1 score of .32, indicating poor performance on predicting probability of the crime being an Aggravated Assault crime."
   ]
  },
  {
   "cell_type": "markdown",
   "metadata": {},
   "source": [
    "**1) All Other Larceny**"
   ]
  },
  {
   "cell_type": "markdown",
   "metadata": {},
   "source": [
    "For our \"All Other Larceny\" results, we have a precision score of .19, a recall score of .12, and an f1 score of .15. This means that:\n",
    "\n",
    "* Out of all the crimes that the model predicted would be Larceny crimes, 19% were actually Larceny crimes.\n",
    "* Out of all the crimes that were Larceny crimes, the model correctly predicted 12% of them.\n",
    "* There is an f1 score of .15, indicating poor performance on predicting probability of the crime being a Larceny crime."
   ]
  },
  {
   "cell_type": "markdown",
   "metadata": {},
   "source": [
    "**2) Burglary/Breaking & Entering**"
   ]
  },
  {
   "cell_type": "markdown",
   "metadata": {},
   "source": [
    "For our \"Burglary/Breaking & Entering\" results, we have a precision score of .31, a recall score of .32, and an f1 score of .31. This means that:\n",
    "\n",
    "* Out of all the crimes that the model predicted would be Burglary/Breaking & Entering crimes, 31% were actually Burglary/Breaking & Entering crimes.\n",
    "* Out of all the crimes that were Burglary/Breaking & Entering crimes, the model correctly predicted 32% of them.\n",
    "* There is an f1 score of .31, indicating poor performance on predicting probability of the crime being a Burglary/Breaking & Entering crime."
   ]
  },
  {
   "cell_type": "markdown",
   "metadata": {},
   "source": [
    "**3) Destruction/Damage/Vandalism of Property**"
   ]
  },
  {
   "cell_type": "markdown",
   "metadata": {},
   "source": [
    "For our \"Destruction/Damage/Vandalism of Property\" results, we have a precision score of .21, a recall score of .14, and an f1 score of .17. This means that:\n",
    "\n",
    "* Out of all the crimes that the model predicted would be Destruction/Damage/Vandalism of Property crimes, 21% were actually Destruction/Damage/Vandalism of Property crimes.\n",
    "* Out of all the crimes that were Destruction/Damage/Vandalism of Property crimes, the model correctly predicted 14% of them.\n",
    "* There is an f1 score of .17, indicating poor performance on predicting probability of the crime being a Destruction/Damage/Vandalism of Property crime."
   ]
  },
  {
   "cell_type": "markdown",
   "metadata": {},
   "source": [
    "**4) Identity Theft**"
   ]
  },
  {
   "cell_type": "markdown",
   "metadata": {},
   "source": [
    "For our \"Identity Theft\" results, we have a precision score of .38, a recall score of .68, and an f1 score of .49. This means that:\n",
    "\n",
    "* Out of all the crimes that the model predicted would be Identity Theft crimes, 38% were actually Identity Theft crimes.\n",
    "* Out of all the crimes that were Identity Theft crimes, the model correctly predicted 68% of them.\n",
    "* There is an f1 score of .49, indicating poor performance on predicting probability of the crime being an Identity Theft crime."
   ]
  },
  {
   "cell_type": "markdown",
   "metadata": {},
   "source": [
    "**5) Intimidation**"
   ]
  },
  {
   "cell_type": "markdown",
   "metadata": {},
   "source": [
    "For our \"Intimidation\" results, we have a precision score of .32, a recall score of .29, and an f1 score of .31. This means that:\n",
    "\n",
    "* Out of all the crimes that the model predicted would be Intimidation crimes, 32% were actually Intimidation crimes.\n",
    "* Out of all the crimes that were Intimidation crimes, the model correctly predicted 29% of them.\n",
    "* There is an f1 score of .31, indicating poor performance on predicting probability of the crime being an Intimidation crime."
   ]
  },
  {
   "cell_type": "markdown",
   "metadata": {},
   "source": [
    "**6) Motor Vehicle Theft**"
   ]
  },
  {
   "cell_type": "markdown",
   "metadata": {},
   "source": [
    "For our \"Motor Vehicle Theft\" results, we have a precision score of .22, a recall score of .24, and an f1 score of .23. This means that:\n",
    "\n",
    "* Out of all the crimes that the model predicted would be Motor Vehicle Theft crimes, 22% were actually Motor Vehicle Theft crimes.\n",
    "* Out of all the crimes that were Motor Vehicle Theft crimes, the model correctly predicted 24% of them.\n",
    "* There is an f1 score of .23, indicating poor performance on predicting probability of the crime being a Motor Vehicle Theft crime."
   ]
  },
  {
   "cell_type": "markdown",
   "metadata": {},
   "source": [
    "**7) Robbery**"
   ]
  },
  {
   "cell_type": "markdown",
   "metadata": {},
   "source": [
    "For our \"Robbery\" results, we have a precision score of .11, a recall score of .08, and an f1 score of .09. This means that:\n",
    "\n",
    "* Out of all the crimes that the model predicted would be Robbery crimes, 11% were actually Robbery crimes.\n",
    "* Out of all the crimes that were Robbery crimes, the model correctly predicted 8% of them.\n",
    "* There is an f1 score of .09, indicating poor performance on predicting probability of the crime being a Robbery crime."
   ]
  },
  {
   "cell_type": "markdown",
   "metadata": {},
   "source": [
    "**8) Shoplifting**"
   ]
  },
  {
   "cell_type": "markdown",
   "metadata": {},
   "source": [
    "For our \"Shoplifting\" results, we have a precision score of .34, a recall score of .61, and an f1 score of .44. This means that:\n",
    "\n",
    "* Out of all the crimes that the model predicted would be Shoplifting crimes, 34% were actually Shoplifting crimes.\n",
    "* Out of all the crimes that were Shoplifting crimes, the model correctly predicted 61% of them.\n",
    "* There is an f1 score of .44, indicating poor performance on predicting probability of the crime being a Shoplifting crime."
   ]
  },
  {
   "cell_type": "markdown",
   "metadata": {},
   "source": [
    "**9) Simple Assault**"
   ]
  },
  {
   "cell_type": "markdown",
   "metadata": {},
   "source": [
    "For our \"Simple Assault\" results, we have a precision score of .46, a recall score of .52, and an f1 score of .49. This means that:\n",
    "\n",
    "* Out of all the crimes that the model predicted would be Simple Assault crimes, 46% were actually Simple Assault crimes.\n",
    "* Out of all the crimes that were Simple Assault crimes, the model correctly predicted 52% of them.\n",
    "* There is an f1 score of .49, indicating poor performance on predicting probability of the crime being a Simple Assault crime."
   ]
  },
  {
   "cell_type": "markdown",
   "metadata": {},
   "source": [
    "**10) Theft From Building**"
   ]
  },
  {
   "cell_type": "markdown",
   "metadata": {},
   "source": [
    "For our \"Theft From Building\" results, we have a precision score of .07, a recall score of .06, and an f1 score of .07. This means that:\n",
    "\n",
    "* Out of all the crimes that the model predicted would be Theft From Building crimes, 7% were actually Theft From Building crimes.\n",
    "* Out of all the crimes that were Theft From Building crimes, the model correctly predicted 6% of them.\n",
    "* There is an f1 score of .07, indicating extremely poor performance on predicting probability of the crime being a Theft From Building crime."
   ]
  },
  {
   "cell_type": "markdown",
   "metadata": {},
   "source": [
    "**11) Theft From Motor Vehicle**"
   ]
  },
  {
   "cell_type": "markdown",
   "metadata": {},
   "source": [
    "For our \"Theft From Motor Vehicle\" results, we have a precision score of .28, a recall score of .25, and an f1 score of .27. This means that:\n",
    "\n",
    "* Out of all the crimes that the model predicted would be Theft From Motor Vehicle crimes, 28% were actually Theft From Motor Vehicle crimes.\n",
    "* Out of all the crimes that were Theft From Motor Vehicle crimes, the model correctly predicted 25% of them.\n",
    "* There is an f1 score of .27, indicating poor performance on predicting probability of the crime being a Theft From Motor Vehicle crime."
   ]
  },
  {
   "cell_type": "markdown",
   "metadata": {},
   "source": [
    "**12) Theft of Motor Vehicle Parts or Accessories**"
   ]
  },
  {
   "cell_type": "markdown",
   "metadata": {},
   "source": [
    "For our \"Theft of Motor Vehicle Parts or Accessories\" results, we have a precision score of .17, a recall score of .16, and an f1 score of .16. This means that:\n",
    "\n",
    "* Out of all the crimes that the model predicted would be Theft of Motor Vehicle Parts or Accessories crimes, 17% were actually Theft of Motor Vehicle Parts or Accessories crimes.\n",
    "* Out of all the crimes that were Theft of Motor Vehicle Parts or Accessories crimes, the model correctly predicted 16% of them.\n",
    "* There is an f1 score of .16, indicating poor performance on predicting probability of the crime being a Theft of Motor Vehicle Parts or Accessories crime."
   ]
  },
  {
   "cell_type": "markdown",
   "metadata": {},
   "source": [
    "**13) Trespass of Real Property**"
   ]
  },
  {
   "cell_type": "markdown",
   "metadata": {},
   "source": [
    "For our \"Trespass of Real Property\" results, we have a precision score of 1.0, a recall score of 1.0, and an f1 score of 1.0. This means that:\n",
    "\n",
    "* Out of all the crimes that the model predicted would be Trespass of Real Property crimes, 100% were actually Trespass of Real Property crimes.\n",
    "* Out of all the crimes that were Trespass of Real Property crimes, the model correctly predicted 100% of them.\n",
    "* There is an f1 score of 1, indicating perfect performance on predicting probability of the crime being a Trespass of Real Property crime."
   ]
  },
  {
   "cell_type": "markdown",
   "metadata": {},
   "source": [
    "### Crime Confusion Matrix ###"
   ]
  },
  {
   "cell_type": "markdown",
   "metadata": {},
   "source": [
    "**0) Aggravated Assault**"
   ]
  },
  {
   "cell_type": "markdown",
   "metadata": {},
   "source": [
    "* 739 crimes were correctly predicted as being \"Aggravated Assault\" crimes\n",
    "* 1,754 crimes were wrongly predicted as not being \"Aggravated Assault\" crimes\n",
    "* 1,399 crimes were wrongly predicted as being \"Aggravated Assault\" crimes\n",
    "* 48,673 crimes were correctly predicted as not being \"Aggravated Assault\" crimes"
   ]
  },
  {
   "cell_type": "markdown",
   "metadata": {},
   "source": [
    "**1) All Other Larceny**"
   ]
  },
  {
   "cell_type": "markdown",
   "metadata": {},
   "source": [
    "* 588 crimes were correctly predicted as being \"All Other Larceny\" crimes\n",
    "* 4,291 crimes were wrongly predicted as not being \"All Other Larceny\" crimes\n",
    "* 2,572 crimes were wrongly predicted as being \"All Other Larceny\" crimes\n",
    "* 45,114 crimes were correctly predicted as not being \"All Other Larceny\" crimes"
   ]
  },
  {
   "cell_type": "markdown",
   "metadata": {},
   "source": [
    "**2) Burglary/Breaking & Entering**"
   ]
  },
  {
   "cell_type": "markdown",
   "metadata": {},
   "source": [
    "* 2,356 crimes were correctly predicted as being \"Burglary/Breaking & Entering\" crimes\n",
    "* 5,104 crimes were wrongly predicted as not being \"Burglary/Breaking & Entering\" crimes\n",
    "* 5,205 crimes were wrongly predicted as being \"Burglary/Breaking & Entering\" crimes\n",
    "* 42,440 crimes were correctly predicted as not being \"Burglary/Breaking & Entering\" crimes"
   ]
  },
  {
   "cell_type": "markdown",
   "metadata": {},
   "source": [
    "**3) Destruction/Damage/Vandalism of Property**"
   ]
  },
  {
   "cell_type": "markdown",
   "metadata": {},
   "source": [
    "* 800 crimes were correctly predicted as being \"Destruction/Damage/Vandalism of Property\" crimes\n",
    "* 4,740 crimes were wrongly predicted as not being \"Destruction/Damage/Vandalism of Property\" crimes\n",
    "* 2,988 crimes were wrongly predicted as being \"Destruction/Damage/Vandalism of Property\" crimes\n",
    "* 46,650 crimes were correctly predicted as not being \"Destruction/Damage/Vandalism of Property\" crimes"
   ]
  },
  {
   "cell_type": "markdown",
   "metadata": {},
   "source": [
    "**4) Identity Theft**"
   ]
  },
  {
   "cell_type": "markdown",
   "metadata": {},
   "source": [
    "* 1,989 crimes were correctly predicted as being \"Identity Theft\" crimes\n",
    "* 932 crimes were wrongly predicted as not being \"Identity Theft\" crimes\n",
    "* 3,187 crimes were wrongly predicted as being \"Identity Theft\" crimes\n",
    "* 48,454 crimes were correctly predicted as not being \"Identity Theft\" crimes"
   ]
  },
  {
   "cell_type": "markdown",
   "metadata": {},
   "source": [
    "**5) Intimidation**"
   ]
  },
  {
   "cell_type": "markdown",
   "metadata": {},
   "source": [
    "* 659 crimes were correctly predicted as being \"Intimidation\" crimes\n",
    "* 1,591 crimes were wrongly predicted as not being \"Intimidation\" crimes\n",
    "* 1,400 crimes were wrongly predicted as being \"Intimidation\" crimes\n",
    "* 49,903 crimes were correctly predicted as not being \"Intimidation\" crimes"
   ]
  },
  {
   "cell_type": "markdown",
   "metadata": {},
   "source": [
    "**6) Motor Vehicle Theft**"
   ]
  },
  {
   "cell_type": "markdown",
   "metadata": {},
   "source": [
    "* 1,103 crimes were correctly predicted as being \"Motor Vehicle Theft\" crimes\n",
    "* 3,460 crimes were wrongly predicted as not being \"Motor Vehicle Theft\" crimes\n",
    "* 3,860 crimes were wrongly predicted as being \"Motor Vehicle Theft\" crimes\n",
    "* 47,655 crimes were correctly predicted as not being \"Motor Vehicle Theft\" crimes"
   ]
  },
  {
   "cell_type": "markdown",
   "metadata": {},
   "source": [
    "**7) Robbery**"
   ]
  },
  {
   "cell_type": "markdown",
   "metadata": {},
   "source": [
    "* 104 crimes were correctly predicted as being \"Robbery\" crimes\n",
    "* 1,215 crimes were wrongly predicted as not being \"Robbery\" crimes\n",
    "* 884 crimes were wrongly predicted as being \"Robbery\" crimes\n",
    "* 51,586 crimes were correctly predicted as not being \"Robbery\" crimes"
   ]
  },
  {
   "cell_type": "markdown",
   "metadata": {},
   "source": [
    "**8) Shoplifting*** "
   ]
  },
  {
   "cell_type": "markdown",
   "metadata": {},
   "source": [
    "* 1,803 crimes were correctly predicted as being \"Shoplifting\" crimes\n",
    "* 1,172 crimes were wrongly predicted as not being \"Shoplifting\" crimes\n",
    "* 3,516 crimes were wrongly predicted as being \"Shoplifting\" crimes\n",
    "* 47,366 crimes were correctly predicted as not being \"Shoplifting\" crimes"
   ]
  },
  {
   "cell_type": "markdown",
   "metadata": {},
   "source": [
    "**9) Simple Assault**"
   ]
  },
  {
   "cell_type": "markdown",
   "metadata": {},
   "source": [
    "* 1,979 crimes were correctly predicted as being \"Simple Assault\" crimes\n",
    "* 1,811 crimes were wrongly predicted as not being \"Simple Assault\" crimes\n",
    "* 2,357 crimes were wrongly predicted as being \"Simple Assault\" crimes\n",
    "* 50,583 crimes were correctly predicted as not being \"Simple Assault\" crimes"
   ]
  },
  {
   "cell_type": "markdown",
   "metadata": {},
   "source": [
    "**10) Theft From Building**"
   ]
  },
  {
   "cell_type": "markdown",
   "metadata": {},
   "source": [
    "* 89 crimes were correctly predicted as being \"Theft From Building\" crimes\n",
    "* 1,403 crimes were wrongly predicted as not being \"Theft From Building\" crimes\n",
    "* 1,151 crimes were wrongly predicted as being \"Theft From Building\" crimes\n",
    "* 51,918 crimes were correctly predicted as not being \"Theft From Building\" crimes"
   ]
  },
  {
   "cell_type": "markdown",
   "metadata": {},
   "source": [
    "**11) Theft From Motor Vehicle**"
   ]
  },
  {
   "cell_type": "markdown",
   "metadata": {},
   "source": [
    "* 1,794 crimes were correctly predicted as being \"Theft From Motor Vehicle\" crimes\n",
    "* 5,317 crimes were wrongly predicted as not being \"Theft From Motor Vehicle\" crimes\n",
    "* 4,597 crimes were wrongly predicted as being \"Theft From Motor Vehicle\" crimes\n",
    "* 49,469 crimes were correctly predicted as not being \"Theft From Motor Vehicle\" crimes"
   ]
  },
  {
   "cell_type": "markdown",
   "metadata": {},
   "source": [
    "**12) Theft of Motor Vehicle Parts or Accessories**"
   ]
  },
  {
   "cell_type": "markdown",
   "metadata": {},
   "source": [
    "* 630 crimes were correctly predicted as being \"Theft of Motor Vehicle Parts or Accessories\" crimes\n",
    "* 3,431 crimes were wrongly predicted as not being \"Theft of Motor Vehicle Parts or Accessories\" crimes\n",
    "* 3,162 crimes were wrongly predicted as being \"Theft of Motor Vehicle Parts or Accessories\" crimes\n",
    "* 51,932 crimes were correctly predicted as not being \"Theft of Motor Vehicle Parts or Accessories\" crimes"
   ]
  },
  {
   "cell_type": "markdown",
   "metadata": {},
   "source": [
    "**13) Trespass of Real Property**"
   ]
  },
  {
   "cell_type": "markdown",
   "metadata": {},
   "source": [
    "* 1,711 crimes were correctly predicted as being \"Trespass of Real Property\" crimes\n",
    "* 0 crimes were wrongly predicted as not being \"Trespass of Real Property\" crimes\n",
    "* 0 crimes were wrongly predicted as being \"Trespass of Real Property\" crimes\n",
    "* 50,851 crimes were correctly predicted as not being \"Trespass of Real Property\" crimes"
   ]
  },
  {
   "cell_type": "markdown",
   "metadata": {},
   "source": [
    "## Seattle Crime Location ##"
   ]
  },
  {
   "cell_type": "code",
   "execution_count": null,
   "metadata": {},
   "outputs": [],
   "source": [
    "url = 'https://seattlecitygis.maps.arcgis.com/apps/instant/lookup/index.html?appid=cf1b0198a1b94db5a8152c9f93232fa5'"
   ]
  },
  {
   "cell_type": "code",
   "execution_count": null,
   "metadata": {},
   "outputs": [],
   "source": [
    "IFrame(url, width='100%', height=500)"
   ]
  },
  {
   "cell_type": "markdown",
   "metadata": {},
   "source": [
    "## 1) Beat ##"
   ]
  },
  {
   "cell_type": "code",
   "execution_count": null,
   "metadata": {},
   "outputs": [],
   "source": [
    "df_beat = pd.read_csv(\"seattle_crime_beat.csv\")"
   ]
  },
  {
   "cell_type": "code",
   "execution_count": null,
   "metadata": {},
   "outputs": [],
   "source": [
    "df_beat"
   ]
  },
  {
   "cell_type": "code",
   "execution_count": null,
   "metadata": {},
   "outputs": [],
   "source": [
    "X_location = df_beat.drop(\"Beat\", axis = 1)\n",
    "\n",
    "#Target Variable\n",
    "y_location = df_beat[\"Beat\"]"
   ]
  },
  {
   "cell_type": "code",
   "execution_count": null,
   "metadata": {},
   "outputs": [],
   "source": [
    "X_location_train, X_location_test, y_location_train, y_location_test = train_test_split(X_location, y_location, random_state = 1)"
   ]
  },
  {
   "cell_type": "code",
   "execution_count": null,
   "metadata": {},
   "outputs": [],
   "source": []
  },
  {
   "cell_type": "code",
   "execution_count": null,
   "metadata": {},
   "outputs": [],
   "source": [
    "SS = StandardScaler()\n",
    "X_location_train = SS.fit_transform(X_location_train)\n",
    "X_location_test = SS.transform(X_location_test)"
   ]
  },
  {
   "cell_type": "code",
   "execution_count": null,
   "metadata": {},
   "outputs": [],
   "source": [
    "sm = SMOTE(random_state = 1)\n",
    "X_location_train, y_location_train = sm.fit_sample(X_location_train, y_location_train)"
   ]
  },
  {
   "cell_type": "markdown",
   "metadata": {},
   "source": [
    "### CatBoost Model ###"
   ]
  },
  {
   "cell_type": "code",
   "execution_count": null,
   "metadata": {},
   "outputs": [],
   "source": [
    "CBC_beat = CatBoostClassifier(\n",
    "    random_state = 1,\n",
    "    loss_function = 'MultiClass',\n",
    ")"
   ]
  },
  {
   "cell_type": "code",
   "execution_count": null,
   "metadata": {
    "scrolled": false
   },
   "outputs": [],
   "source": [
    "CBC_beat.fit(\n",
    "    X_location_train, y_location_train,\n",
    "    early_stopping_rounds=5,\n",
    "    plot = True\n",
    ")"
   ]
  },
  {
   "cell_type": "code",
   "execution_count": null,
   "metadata": {},
   "outputs": [],
   "source": [
    "CBC_location_train_pred = CBC_beat.predict(X_location_train)\n",
    "CBC_location_test_pred = CBC_beat.predict(X_location_test)"
   ]
  },
  {
   "cell_type": "code",
   "execution_count": null,
   "metadata": {},
   "outputs": [],
   "source": [
    "print(classification_report(y_location_train, CBC_location_train_pred))"
   ]
  },
  {
   "cell_type": "code",
   "execution_count": null,
   "metadata": {},
   "outputs": [],
   "source": [
    "print(classification_report(y_location_test, CBC_location_test_pred))"
   ]
  },
  {
   "cell_type": "code",
   "execution_count": null,
   "metadata": {},
   "outputs": [],
   "source": [
    "cm = confusion_matrix(y_location_test, CBC_location_test_pred);\n",
    "cmp = ConfusionMatrixDisplay(cm, display_labels = CBC.classes_);\n",
    "fig, ax = plt.subplots(figsize=(13,13));\n",
    "cmp.plot(ax=ax);\n",
    "cmp.ax_.set_title(\"Confusion Matrix\");"
   ]
  },
  {
   "cell_type": "code",
   "execution_count": null,
   "metadata": {},
   "outputs": [],
   "source": [
    "params = {'learning_rate': [0.05, 0.1, 0.5],\n",
    "          'loss_function': ['MultiClass'],\n",
    "          'random_state' : [1],\n",
    "          'depth': [2, 4, 6],\n",
    "          'iterations': [100, 500, 1000]\n",
    "         }"
   ]
  },
  {
   "cell_type": "code",
   "execution_count": null,
   "metadata": {
    "scrolled": false
   },
   "outputs": [],
   "source": [
    "CBC_gs2 = GridSearchCV(CBC_beat, params)\n",
    "CBC_gs2.fit(X_location_train, y_location_train, early_stopping_rounds=5, plot = True)\n",
    "CBC_gs2.best_params_"
   ]
  },
  {
   "cell_type": "code",
   "execution_count": null,
   "metadata": {},
   "outputs": [],
   "source": []
  },
  {
   "cell_type": "code",
   "execution_count": null,
   "metadata": {},
   "outputs": [],
   "source": [
    "print (\"My program took\", time.time() - start_time, \"to run\")"
   ]
  }
 ],
 "metadata": {
  "kernelspec": {
   "display_name": "Python 3",
   "language": "python",
   "name": "python3"
  },
  "language_info": {
   "codemirror_mode": {
    "name": "ipython",
    "version": 3
   },
   "file_extension": ".py",
   "mimetype": "text/x-python",
   "name": "python",
   "nbconvert_exporter": "python",
   "pygments_lexer": "ipython3",
   "version": "3.8.5"
  }
 },
 "nbformat": 4,
 "nbformat_minor": 4
}
