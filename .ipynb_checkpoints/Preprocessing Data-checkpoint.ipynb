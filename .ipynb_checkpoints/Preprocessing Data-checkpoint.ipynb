{
 "cells": [
  {
   "cell_type": "code",
   "execution_count": 1,
   "metadata": {},
   "outputs": [],
   "source": [
    "import pandas as pd\n",
    "import os\n",
    "import numpy as np\n",
    "import matplotlib.pyplot as plt\n",
    "import seaborn as sns"
   ]
  },
  {
   "cell_type": "markdown",
   "metadata": {},
   "source": [
    "## Let's start off by looking at our data ##"
   ]
  },
  {
   "cell_type": "code",
   "execution_count": 2,
   "metadata": {
    "scrolled": false
   },
   "outputs": [],
   "source": [
    "#Open up CSV\n",
    "df = pd.read_csv(\"SPD_Crime_Data.csv\")\n",
    "supp_df = df.copy()"
   ]
  },
  {
   "cell_type": "code",
   "execution_count": 3,
   "metadata": {
    "scrolled": false
   },
   "outputs": [
    {
     "data": {
      "text/html": [
       "<div>\n",
       "<style scoped>\n",
       "    .dataframe tbody tr th:only-of-type {\n",
       "        vertical-align: middle;\n",
       "    }\n",
       "\n",
       "    .dataframe tbody tr th {\n",
       "        vertical-align: top;\n",
       "    }\n",
       "\n",
       "    .dataframe thead th {\n",
       "        text-align: right;\n",
       "    }\n",
       "</style>\n",
       "<table border=\"1\" class=\"dataframe\">\n",
       "  <thead>\n",
       "    <tr style=\"text-align: right;\">\n",
       "      <th></th>\n",
       "      <th>Report Number</th>\n",
       "      <th>Offense ID</th>\n",
       "      <th>Offense Start DateTime</th>\n",
       "      <th>Offense End DateTime</th>\n",
       "      <th>Report DateTime</th>\n",
       "      <th>Group A B</th>\n",
       "      <th>Crime Against Category</th>\n",
       "      <th>Offense Parent Group</th>\n",
       "      <th>Offense</th>\n",
       "      <th>Offense Code</th>\n",
       "      <th>Precinct</th>\n",
       "      <th>Sector</th>\n",
       "      <th>Beat</th>\n",
       "      <th>MCPP</th>\n",
       "      <th>100 Block Address</th>\n",
       "      <th>Longitude</th>\n",
       "      <th>Latitude</th>\n",
       "    </tr>\n",
       "  </thead>\n",
       "  <tbody>\n",
       "    <tr>\n",
       "      <th>0</th>\n",
       "      <td>2020-044620</td>\n",
       "      <td>12605873663</td>\n",
       "      <td>02/05/2020 10:10:00 AM</td>\n",
       "      <td>NaN</td>\n",
       "      <td>02/05/2020 11:24:31 AM</td>\n",
       "      <td>A</td>\n",
       "      <td>SOCIETY</td>\n",
       "      <td>DRUG/NARCOTIC OFFENSES</td>\n",
       "      <td>Drug/Narcotic Violations</td>\n",
       "      <td>35A</td>\n",
       "      <td>W</td>\n",
       "      <td>Q</td>\n",
       "      <td>Q1</td>\n",
       "      <td>MAGNOLIA</td>\n",
       "      <td>32XX BLOCK OF 23RD AVE W</td>\n",
       "      <td>-122.385974</td>\n",
       "      <td>47.649387</td>\n",
       "    </tr>\n",
       "    <tr>\n",
       "      <th>1</th>\n",
       "      <td>2020-044452</td>\n",
       "      <td>12605598696</td>\n",
       "      <td>02/03/2020 08:00:00 AM</td>\n",
       "      <td>02/04/2020 08:00:00 AM</td>\n",
       "      <td>02/05/2020 10:06:28 AM</td>\n",
       "      <td>A</td>\n",
       "      <td>PROPERTY</td>\n",
       "      <td>LARCENY-THEFT</td>\n",
       "      <td>Theft of Motor Vehicle Parts or Accessories</td>\n",
       "      <td>23G</td>\n",
       "      <td>N</td>\n",
       "      <td>J</td>\n",
       "      <td>J3</td>\n",
       "      <td>ROOSEVELT/RAVENNA</td>\n",
       "      <td>63XX BLOCK OF 5TH AVE NE</td>\n",
       "      <td>-122.323399</td>\n",
       "      <td>47.675118</td>\n",
       "    </tr>\n",
       "    <tr>\n",
       "      <th>2</th>\n",
       "      <td>2020-044465</td>\n",
       "      <td>12605567653</td>\n",
       "      <td>02/02/2020 08:30:00 PM</td>\n",
       "      <td>02/02/2020 09:30:00 PM</td>\n",
       "      <td>02/05/2020 09:39:33 AM</td>\n",
       "      <td>A</td>\n",
       "      <td>PROPERTY</td>\n",
       "      <td>ROBBERY</td>\n",
       "      <td>Robbery</td>\n",
       "      <td>120</td>\n",
       "      <td>N</td>\n",
       "      <td>U</td>\n",
       "      <td>U3</td>\n",
       "      <td>ROOSEVELT/RAVENNA</td>\n",
       "      <td>26TH AVE NE / NE BLAKELEY ST</td>\n",
       "      <td>-122.299552</td>\n",
       "      <td>47.666384</td>\n",
       "    </tr>\n",
       "    <tr>\n",
       "      <th>3</th>\n",
       "      <td>2020-044225</td>\n",
       "      <td>12605174036</td>\n",
       "      <td>02/05/2020 01:17:00 AM</td>\n",
       "      <td>02/05/2020 02:21:00 AM</td>\n",
       "      <td>02/05/2020 03:30:55 AM</td>\n",
       "      <td>A</td>\n",
       "      <td>PROPERTY</td>\n",
       "      <td>DESTRUCTION/DAMAGE/VANDALISM OF PROPERTY</td>\n",
       "      <td>Destruction/Damage/Vandalism of Property</td>\n",
       "      <td>290</td>\n",
       "      <td>W</td>\n",
       "      <td>Q</td>\n",
       "      <td>Q1</td>\n",
       "      <td>MAGNOLIA</td>\n",
       "      <td>22XX BLOCK OF W RAYE ST</td>\n",
       "      <td>-122.384865</td>\n",
       "      <td>47.642927</td>\n",
       "    </tr>\n",
       "    <tr>\n",
       "      <th>4</th>\n",
       "      <td>2020-044076</td>\n",
       "      <td>12605081469</td>\n",
       "      <td>02/05/2020 12:51:21 AM</td>\n",
       "      <td>NaN</td>\n",
       "      <td>02/05/2020 12:51:31 AM</td>\n",
       "      <td>B</td>\n",
       "      <td>SOCIETY</td>\n",
       "      <td>DRIVING UNDER THE INFLUENCE</td>\n",
       "      <td>Driving Under the Influence</td>\n",
       "      <td>90D</td>\n",
       "      <td>N</td>\n",
       "      <td>B</td>\n",
       "      <td>B2</td>\n",
       "      <td>BALLARD SOUTH</td>\n",
       "      <td>NW 46TH ST / 8TH AVE NW</td>\n",
       "      <td>-122.366195</td>\n",
       "      <td>47.662193</td>\n",
       "    </tr>\n",
       "  </tbody>\n",
       "</table>\n",
       "</div>"
      ],
      "text/plain": [
       "  Report Number   Offense ID  Offense Start DateTime    Offense End DateTime  \\\n",
       "0   2020-044620  12605873663  02/05/2020 10:10:00 AM                     NaN   \n",
       "1   2020-044452  12605598696  02/03/2020 08:00:00 AM  02/04/2020 08:00:00 AM   \n",
       "2   2020-044465  12605567653  02/02/2020 08:30:00 PM  02/02/2020 09:30:00 PM   \n",
       "3   2020-044225  12605174036  02/05/2020 01:17:00 AM  02/05/2020 02:21:00 AM   \n",
       "4   2020-044076  12605081469  02/05/2020 12:51:21 AM                     NaN   \n",
       "\n",
       "          Report DateTime Group A B Crime Against Category  \\\n",
       "0  02/05/2020 11:24:31 AM         A                SOCIETY   \n",
       "1  02/05/2020 10:06:28 AM         A               PROPERTY   \n",
       "2  02/05/2020 09:39:33 AM         A               PROPERTY   \n",
       "3  02/05/2020 03:30:55 AM         A               PROPERTY   \n",
       "4  02/05/2020 12:51:31 AM         B                SOCIETY   \n",
       "\n",
       "                       Offense Parent Group  \\\n",
       "0                    DRUG/NARCOTIC OFFENSES   \n",
       "1                             LARCENY-THEFT   \n",
       "2                                   ROBBERY   \n",
       "3  DESTRUCTION/DAMAGE/VANDALISM OF PROPERTY   \n",
       "4               DRIVING UNDER THE INFLUENCE   \n",
       "\n",
       "                                       Offense Offense Code Precinct Sector  \\\n",
       "0                     Drug/Narcotic Violations          35A        W      Q   \n",
       "1  Theft of Motor Vehicle Parts or Accessories          23G        N      J   \n",
       "2                                      Robbery          120        N      U   \n",
       "3     Destruction/Damage/Vandalism of Property          290        W      Q   \n",
       "4                  Driving Under the Influence          90D        N      B   \n",
       "\n",
       "  Beat               MCPP             100 Block Address   Longitude   Latitude  \n",
       "0   Q1           MAGNOLIA      32XX BLOCK OF 23RD AVE W -122.385974  47.649387  \n",
       "1   J3  ROOSEVELT/RAVENNA      63XX BLOCK OF 5TH AVE NE -122.323399  47.675118  \n",
       "2   U3  ROOSEVELT/RAVENNA  26TH AVE NE / NE BLAKELEY ST -122.299552  47.666384  \n",
       "3   Q1           MAGNOLIA       22XX BLOCK OF W RAYE ST -122.384865  47.642927  \n",
       "4   B2      BALLARD SOUTH       NW 46TH ST / 8TH AVE NW -122.366195  47.662193  "
      ]
     },
     "execution_count": 3,
     "metadata": {},
     "output_type": "execute_result"
    }
   ],
   "source": [
    "df.head()"
   ]
  },
  {
   "cell_type": "markdown",
   "metadata": {},
   "source": [
    "**Looking at data types**"
   ]
  },
  {
   "cell_type": "code",
   "execution_count": 4,
   "metadata": {},
   "outputs": [
    {
     "name": "stdout",
     "output_type": "stream",
     "text": [
      "<class 'pandas.core.frame.DataFrame'>\n",
      "RangeIndex: 1036236 entries, 0 to 1036235\n",
      "Data columns (total 17 columns):\n",
      " #   Column                  Non-Null Count    Dtype  \n",
      "---  ------                  --------------    -----  \n",
      " 0   Report Number           1036236 non-null  object \n",
      " 1   Offense ID              1036236 non-null  int64  \n",
      " 2   Offense Start DateTime  1034989 non-null  object \n",
      " 3   Offense End DateTime    583385 non-null   object \n",
      " 4   Report DateTime         1036236 non-null  object \n",
      " 5   Group A B               1036236 non-null  object \n",
      " 6   Crime Against Category  1036236 non-null  object \n",
      " 7   Offense Parent Group    1036236 non-null  object \n",
      " 8   Offense                 1036236 non-null  object \n",
      " 9   Offense Code            1036236 non-null  object \n",
      " 10  Precinct                1036232 non-null  object \n",
      " 11  Sector                  1036234 non-null  object \n",
      " 12  Beat                    1036234 non-null  object \n",
      " 13  MCPP                    1036236 non-null  object \n",
      " 14  100 Block Address       992187 non-null   object \n",
      " 15  Longitude               1036236 non-null  float64\n",
      " 16  Latitude                1036236 non-null  float64\n",
      "dtypes: float64(2), int64(1), object(14)\n",
      "memory usage: 134.4+ MB\n"
     ]
    }
   ],
   "source": [
    "df.info()"
   ]
  },
  {
   "cell_type": "markdown",
   "metadata": {},
   "source": [
    "**Let's check for null values**"
   ]
  },
  {
   "cell_type": "code",
   "execution_count": 5,
   "metadata": {},
   "outputs": [
    {
     "data": {
      "text/plain": [
       "Report Number                  0\n",
       "Offense ID                     0\n",
       "Offense Start DateTime      1247\n",
       "Offense End DateTime      452851\n",
       "Report DateTime                0\n",
       "Group A B                      0\n",
       "Crime Against Category         0\n",
       "Offense Parent Group           0\n",
       "Offense                        0\n",
       "Offense Code                   0\n",
       "Precinct                       4\n",
       "Sector                         2\n",
       "Beat                           2\n",
       "MCPP                           0\n",
       "100 Block Address          44049\n",
       "Longitude                      0\n",
       "Latitude                       0\n",
       "dtype: int64"
      ]
     },
     "execution_count": 5,
     "metadata": {},
     "output_type": "execute_result"
    }
   ],
   "source": [
    "df.isnull().sum()"
   ]
  },
  {
   "cell_type": "markdown",
   "metadata": {},
   "source": [
    "**Let's check for duplicate values**"
   ]
  },
  {
   "cell_type": "code",
   "execution_count": 6,
   "metadata": {},
   "outputs": [
    {
     "name": "stdout",
     "output_type": "stream",
     "text": [
      "<class 'pandas.core.frame.DataFrame'>\n",
      "Int64Index: 1036236 entries, 0 to 1036235\n",
      "Data columns (total 17 columns):\n",
      " #   Column                  Non-Null Count    Dtype  \n",
      "---  ------                  --------------    -----  \n",
      " 0   Report Number           1036236 non-null  object \n",
      " 1   Offense ID              1036236 non-null  int64  \n",
      " 2   Offense Start DateTime  1034989 non-null  object \n",
      " 3   Offense End DateTime    583385 non-null   object \n",
      " 4   Report DateTime         1036236 non-null  object \n",
      " 5   Group A B               1036236 non-null  object \n",
      " 6   Crime Against Category  1036236 non-null  object \n",
      " 7   Offense Parent Group    1036236 non-null  object \n",
      " 8   Offense                 1036236 non-null  object \n",
      " 9   Offense Code            1036236 non-null  object \n",
      " 10  Precinct                1036232 non-null  object \n",
      " 11  Sector                  1036234 non-null  object \n",
      " 12  Beat                    1036234 non-null  object \n",
      " 13  MCPP                    1036236 non-null  object \n",
      " 14  100 Block Address       992187 non-null   object \n",
      " 15  Longitude               1036236 non-null  float64\n",
      " 16  Latitude                1036236 non-null  float64\n",
      "dtypes: float64(2), int64(1), object(14)\n",
      "memory usage: 142.3+ MB\n"
     ]
    }
   ],
   "source": [
    "df.drop_duplicates(inplace= True)\n",
    "df.info()"
   ]
  },
  {
   "cell_type": "markdown",
   "metadata": {},
   "source": [
    "## Preprocessing Our Data For Type of Crime ##"
   ]
  },
  {
   "cell_type": "markdown",
   "metadata": {},
   "source": [
    "### 1) Null Values ###"
   ]
  },
  {
   "cell_type": "markdown",
   "metadata": {},
   "source": [
    "Let's check how many null values we have for each column"
   ]
  },
  {
   "cell_type": "code",
   "execution_count": 7,
   "metadata": {},
   "outputs": [
    {
     "data": {
      "text/plain": [
       "Report Number                  0\n",
       "Offense ID                     0\n",
       "Offense Start DateTime      1247\n",
       "Offense End DateTime      452851\n",
       "Report DateTime                0\n",
       "Group A B                      0\n",
       "Crime Against Category         0\n",
       "Offense Parent Group           0\n",
       "Offense                        0\n",
       "Offense Code                   0\n",
       "Precinct                       4\n",
       "Sector                         2\n",
       "Beat                           2\n",
       "MCPP                           0\n",
       "100 Block Address          44049\n",
       "Longitude                      0\n",
       "Latitude                       0\n",
       "dtype: int64"
      ]
     },
     "execution_count": 7,
     "metadata": {},
     "output_type": "execute_result"
    }
   ],
   "source": [
    "df.isnull().sum()"
   ]
  },
  {
   "cell_type": "markdown",
   "metadata": {},
   "source": [
    "So we can see that we have null values in our \"Offense Start DateTime\", \"Offense End DateTime\", \"Precint\", \"Sector\", \"Beat\", and \"100 Block Address\" variables. Let's take a closer look at some of the variables, and decide whether we want to eliminate the column entirely, or just eliminate the null values."
   ]
  },
  {
   "cell_type": "markdown",
   "metadata": {},
   "source": [
    "**Offense Start DateTime**"
   ]
  },
  {
   "cell_type": "markdown",
   "metadata": {},
   "source": [
    "\"Offense Start DateTime\" is described as \"Start date and time the offense(s) occurred\". We are interested in seeing when the crime started, so we'll simply eliminate the null values. "
   ]
  },
  {
   "cell_type": "code",
   "execution_count": 8,
   "metadata": {},
   "outputs": [],
   "source": [
    "df = df.dropna(subset = [\"Offense Start DateTime\"])"
   ]
  },
  {
   "cell_type": "markdown",
   "metadata": {},
   "source": [
    "Let's check the null values for \"Offense Start DateTime\" again to make sure we eliminated them"
   ]
  },
  {
   "cell_type": "code",
   "execution_count": 9,
   "metadata": {},
   "outputs": [
    {
     "data": {
      "text/plain": [
       "Report Number                  0\n",
       "Offense ID                     0\n",
       "Offense Start DateTime         0\n",
       "Offense End DateTime      451752\n",
       "Report DateTime                0\n",
       "Group A B                      0\n",
       "Crime Against Category         0\n",
       "Offense Parent Group           0\n",
       "Offense                        0\n",
       "Offense Code                   0\n",
       "Precinct                       4\n",
       "Sector                         2\n",
       "Beat                           2\n",
       "MCPP                           0\n",
       "100 Block Address          43857\n",
       "Longitude                      0\n",
       "Latitude                       0\n",
       "dtype: int64"
      ]
     },
     "execution_count": 9,
     "metadata": {},
     "output_type": "execute_result"
    }
   ],
   "source": [
    "df.isnull().sum()"
   ]
  },
  {
   "cell_type": "markdown",
   "metadata": {},
   "source": [
    "**Offense End DateTime**"
   ]
  },
  {
   "cell_type": "markdown",
   "metadata": {},
   "source": [
    "The \"Offense End DateTime\" variable is described as the \"end date and time the offense(s) occurred..\". We are not interested in when the crime ended, so we'll eliminate the column entirely. "
   ]
  },
  {
   "cell_type": "code",
   "execution_count": 10,
   "metadata": {},
   "outputs": [
    {
     "data": {
      "text/plain": [
       "Report Number                 0\n",
       "Offense ID                    0\n",
       "Offense Start DateTime        0\n",
       "Report DateTime               0\n",
       "Group A B                     0\n",
       "Crime Against Category        0\n",
       "Offense Parent Group          0\n",
       "Offense                       0\n",
       "Offense Code                  0\n",
       "Precinct                      4\n",
       "Sector                        2\n",
       "Beat                          2\n",
       "MCPP                          0\n",
       "100 Block Address         43857\n",
       "Longitude                     0\n",
       "Latitude                      0\n",
       "dtype: int64"
      ]
     },
     "execution_count": 10,
     "metadata": {},
     "output_type": "execute_result"
    }
   ],
   "source": [
    "df =df.drop([\"Offense End DateTime\"], axis = 1)\n",
    "df.isnull().sum()"
   ]
  },
  {
   "cell_type": "markdown",
   "metadata": {},
   "source": [
    "**Precint, Sector and Beat**"
   ]
  },
  {
   "cell_type": "markdown",
   "metadata": {},
   "source": [
    "Seattle has 5 precincts, or police station areas. They are: North, East, South, West and Southwest. Then, there are smaller geographical areas within the precints called sectors. Finally, each sector is divided into 3 smaller sections called beats, which individual patrol officers are assigned responsibility for. We'll eliminate the precinct column, to narrow down the location of crimes a little more. We'll keep the sector and beat column, but eliminate the null values."
   ]
  },
  {
   "cell_type": "code",
   "execution_count": 11,
   "metadata": {},
   "outputs": [],
   "source": [
    "#Dropping Precinct column\n",
    "df =df.drop([\"Precinct\"], axis = 1)"
   ]
  },
  {
   "cell_type": "code",
   "execution_count": 12,
   "metadata": {},
   "outputs": [],
   "source": [
    "#Dropping null values in the sector and beat column\n",
    "df = df.dropna(subset = [\"Sector\", \"Beat\"])"
   ]
  },
  {
   "cell_type": "markdown",
   "metadata": {},
   "source": [
    "Let's check the null values again"
   ]
  },
  {
   "cell_type": "code",
   "execution_count": 13,
   "metadata": {},
   "outputs": [
    {
     "data": {
      "text/plain": [
       "Report Number                 0\n",
       "Offense ID                    0\n",
       "Offense Start DateTime        0\n",
       "Report DateTime               0\n",
       "Group A B                     0\n",
       "Crime Against Category        0\n",
       "Offense Parent Group          0\n",
       "Offense                       0\n",
       "Offense Code                  0\n",
       "Sector                        0\n",
       "Beat                          0\n",
       "MCPP                          0\n",
       "100 Block Address         43857\n",
       "Longitude                     0\n",
       "Latitude                      0\n",
       "dtype: int64"
      ]
     },
     "execution_count": 13,
     "metadata": {},
     "output_type": "execute_result"
    }
   ],
   "source": [
    "df.isnull().sum()"
   ]
  },
  {
   "cell_type": "markdown",
   "metadata": {},
   "source": [
    "**100 Block Address**"
   ]
  },
  {
   "cell_type": "markdown",
   "metadata": {},
   "source": [
    "Lastly, we have the \"100 Block Address\" column. Since the information in this column is censored and doesn't give us very accurate locations, we'll eliminate the entire column."
   ]
  },
  {
   "cell_type": "code",
   "execution_count": 14,
   "metadata": {},
   "outputs": [],
   "source": [
    "df =df.drop([\"100 Block Address\"], axis = 1)"
   ]
  },
  {
   "cell_type": "code",
   "execution_count": 15,
   "metadata": {},
   "outputs": [
    {
     "data": {
      "text/plain": [
       "Report Number             0\n",
       "Offense ID                0\n",
       "Offense Start DateTime    0\n",
       "Report DateTime           0\n",
       "Group A B                 0\n",
       "Crime Against Category    0\n",
       "Offense Parent Group      0\n",
       "Offense                   0\n",
       "Offense Code              0\n",
       "Sector                    0\n",
       "Beat                      0\n",
       "MCPP                      0\n",
       "Longitude                 0\n",
       "Latitude                  0\n",
       "dtype: int64"
      ]
     },
     "execution_count": 15,
     "metadata": {},
     "output_type": "execute_result"
    }
   ],
   "source": [
    "df.isnull().sum()"
   ]
  },
  {
   "cell_type": "markdown",
   "metadata": {},
   "source": [
    "We can now move onto cleaning other parts of our data"
   ]
  },
  {
   "cell_type": "markdown",
   "metadata": {},
   "source": [
    "### 2) Correlation Heatmap ###"
   ]
  },
  {
   "cell_type": "code",
   "execution_count": 16,
   "metadata": {},
   "outputs": [
    {
     "data": {
      "image/png": "[encoded data removed]",
      "text/plain": [
       "<Figure size 720x720 with 2 Axes>"
      ]
     },
     "metadata": {
      "needs_background": "light"
     },
     "output_type": "display_data"
    }
   ],
   "source": [
    "correlation = df.corr()\n",
    "#Set up axes\n",
    "fig, ax = plt.subplots(figsize=(10, 10))\n",
    "\n",
    "#Create heatmap\n",
    "sns.heatmap(data = correlation, \n",
    "            annot = True, \n",
    "            ax = ax, \n",
    "            mask= np.triu(np.ones_like(correlation, dtype=bool)),\n",
    "            cbar_kws={\"label\": \"Correlation\",\"orientation\": \"horizontal\"});\n",
    "\n",
    "ax.set_title(\"Heatmap of Correlation Between All Variables\");"
   ]
  },
  {
   "cell_type": "markdown",
   "metadata": {},
   "source": [
    "### 2) Eliminating Other Variables ###"
   ]
  },
  {
   "cell_type": "markdown",
   "metadata": {},
   "source": [
    "We can eliminate some of the following variables: "
   ]
  },
  {
   "cell_type": "markdown",
   "metadata": {},
   "source": [
    "* Report Number, since that won't help us with future predictions\n",
    "* Offense ID, a unique identifier that also won't help with future predictions\n",
    "* Report DateTime, since the time a crime is reported can differ from when it actually started\n",
    "* Group A B, since no additional information is given on what the different groups represent \n",
    "* Offense Parent Group, since we have a separate column for what the actual offense was\n",
    "* Offense Code, since we already have the title of the offense via our Offense variable\n",
    "* Longitude, since the actual longitude is censored to within 100 blocks\n",
    "* Latitude, since latitude is also censored to within 100 blocks"
   ]
  },
  {
   "cell_type": "code",
   "execution_count": 17,
   "metadata": {},
   "outputs": [
    {
     "data": {
      "text/html": [
       "<div>\n",
       "<style scoped>\n",
       "    .dataframe tbody tr th:only-of-type {\n",
       "        vertical-align: middle;\n",
       "    }\n",
       "\n",
       "    .dataframe tbody tr th {\n",
       "        vertical-align: top;\n",
       "    }\n",
       "\n",
       "    .dataframe thead th {\n",
       "        text-align: right;\n",
       "    }\n",
       "</style>\n",
       "<table border=\"1\" class=\"dataframe\">\n",
       "  <thead>\n",
       "    <tr style=\"text-align: right;\">\n",
       "      <th></th>\n",
       "      <th>Offense Start DateTime</th>\n",
       "      <th>Crime Against Category</th>\n",
       "      <th>Offense</th>\n",
       "      <th>Sector</th>\n",
       "      <th>Beat</th>\n",
       "      <th>MCPP</th>\n",
       "    </tr>\n",
       "  </thead>\n",
       "  <tbody>\n",
       "    <tr>\n",
       "      <th>0</th>\n",
       "      <td>02/05/2020 10:10:00 AM</td>\n",
       "      <td>SOCIETY</td>\n",
       "      <td>Drug/Narcotic Violations</td>\n",
       "      <td>Q</td>\n",
       "      <td>Q1</td>\n",
       "      <td>MAGNOLIA</td>\n",
       "    </tr>\n",
       "    <tr>\n",
       "      <th>1</th>\n",
       "      <td>02/03/2020 08:00:00 AM</td>\n",
       "      <td>PROPERTY</td>\n",
       "      <td>Theft of Motor Vehicle Parts or Accessories</td>\n",
       "      <td>J</td>\n",
       "      <td>J3</td>\n",
       "      <td>ROOSEVELT/RAVENNA</td>\n",
       "    </tr>\n",
       "    <tr>\n",
       "      <th>2</th>\n",
       "      <td>02/02/2020 08:30:00 PM</td>\n",
       "      <td>PROPERTY</td>\n",
       "      <td>Robbery</td>\n",
       "      <td>U</td>\n",
       "      <td>U3</td>\n",
       "      <td>ROOSEVELT/RAVENNA</td>\n",
       "    </tr>\n",
       "    <tr>\n",
       "      <th>3</th>\n",
       "      <td>02/05/2020 01:17:00 AM</td>\n",
       "      <td>PROPERTY</td>\n",
       "      <td>Destruction/Damage/Vandalism of Property</td>\n",
       "      <td>Q</td>\n",
       "      <td>Q1</td>\n",
       "      <td>MAGNOLIA</td>\n",
       "    </tr>\n",
       "    <tr>\n",
       "      <th>4</th>\n",
       "      <td>02/05/2020 12:51:21 AM</td>\n",
       "      <td>SOCIETY</td>\n",
       "      <td>Driving Under the Influence</td>\n",
       "      <td>B</td>\n",
       "      <td>B2</td>\n",
       "      <td>BALLARD SOUTH</td>\n",
       "    </tr>\n",
       "    <tr>\n",
       "      <th>...</th>\n",
       "      <td>...</td>\n",
       "      <td>...</td>\n",
       "      <td>...</td>\n",
       "      <td>...</td>\n",
       "      <td>...</td>\n",
       "      <td>...</td>\n",
       "    </tr>\n",
       "    <tr>\n",
       "      <th>1036231</th>\n",
       "      <td>07/13/2013 01:00:00 AM</td>\n",
       "      <td>PROPERTY</td>\n",
       "      <td>Motor Vehicle Theft</td>\n",
       "      <td>F</td>\n",
       "      <td>F1</td>\n",
       "      <td>PIGEON POINT</td>\n",
       "    </tr>\n",
       "    <tr>\n",
       "      <th>1036232</th>\n",
       "      <td>06/26/2013 11:00:00 AM</td>\n",
       "      <td>PROPERTY</td>\n",
       "      <td>Motor Vehicle Theft</td>\n",
       "      <td>Q</td>\n",
       "      <td>Q3</td>\n",
       "      <td>QUEEN ANNE</td>\n",
       "    </tr>\n",
       "    <tr>\n",
       "      <th>1036233</th>\n",
       "      <td>02/14/2012 03:04:00 PM</td>\n",
       "      <td>PROPERTY</td>\n",
       "      <td>Shoplifting</td>\n",
       "      <td>U</td>\n",
       "      <td>U1</td>\n",
       "      <td>ROOSEVELT/RAVENNA</td>\n",
       "    </tr>\n",
       "    <tr>\n",
       "      <th>1036234</th>\n",
       "      <td>09/19/2010 04:59:00 PM</td>\n",
       "      <td>PROPERTY</td>\n",
       "      <td>Shoplifting</td>\n",
       "      <td>M</td>\n",
       "      <td>M3</td>\n",
       "      <td>DOWNTOWN COMMERCIAL</td>\n",
       "    </tr>\n",
       "    <tr>\n",
       "      <th>1036235</th>\n",
       "      <td>02/25/2010 06:00:00 PM</td>\n",
       "      <td>PROPERTY</td>\n",
       "      <td>Motor Vehicle Theft</td>\n",
       "      <td>Q</td>\n",
       "      <td>Q2</td>\n",
       "      <td>QUEEN ANNE</td>\n",
       "    </tr>\n",
       "  </tbody>\n",
       "</table>\n",
       "<p>1034987 rows × 6 columns</p>\n",
       "</div>"
      ],
      "text/plain": [
       "         Offense Start DateTime Crime Against Category  \\\n",
       "0        02/05/2020 10:10:00 AM                SOCIETY   \n",
       "1        02/03/2020 08:00:00 AM               PROPERTY   \n",
       "2        02/02/2020 08:30:00 PM               PROPERTY   \n",
       "3        02/05/2020 01:17:00 AM               PROPERTY   \n",
       "4        02/05/2020 12:51:21 AM                SOCIETY   \n",
       "...                         ...                    ...   \n",
       "1036231  07/13/2013 01:00:00 AM               PROPERTY   \n",
       "1036232  06/26/2013 11:00:00 AM               PROPERTY   \n",
       "1036233  02/14/2012 03:04:00 PM               PROPERTY   \n",
       "1036234  09/19/2010 04:59:00 PM               PROPERTY   \n",
       "1036235  02/25/2010 06:00:00 PM               PROPERTY   \n",
       "\n",
       "                                             Offense Sector Beat  \\\n",
       "0                           Drug/Narcotic Violations      Q   Q1   \n",
       "1        Theft of Motor Vehicle Parts or Accessories      J   J3   \n",
       "2                                            Robbery      U   U3   \n",
       "3           Destruction/Damage/Vandalism of Property      Q   Q1   \n",
       "4                        Driving Under the Influence      B   B2   \n",
       "...                                              ...    ...  ...   \n",
       "1036231                          Motor Vehicle Theft      F   F1   \n",
       "1036232                          Motor Vehicle Theft      Q   Q3   \n",
       "1036233                                  Shoplifting      U   U1   \n",
       "1036234                                  Shoplifting      M   M3   \n",
       "1036235                          Motor Vehicle Theft      Q   Q2   \n",
       "\n",
       "                        MCPP  \n",
       "0                   MAGNOLIA  \n",
       "1          ROOSEVELT/RAVENNA  \n",
       "2          ROOSEVELT/RAVENNA  \n",
       "3                   MAGNOLIA  \n",
       "4              BALLARD SOUTH  \n",
       "...                      ...  \n",
       "1036231         PIGEON POINT  \n",
       "1036232           QUEEN ANNE  \n",
       "1036233    ROOSEVELT/RAVENNA  \n",
       "1036234  DOWNTOWN COMMERCIAL  \n",
       "1036235           QUEEN ANNE  \n",
       "\n",
       "[1034987 rows x 6 columns]"
      ]
     },
     "execution_count": 17,
     "metadata": {},
     "output_type": "execute_result"
    }
   ],
   "source": [
    "#Eliminating above mentioned variables\n",
    "df = df.drop(columns = [\"Report Number\", \"Offense ID\", \"Report DateTime\", \"Group A B\", \"Offense Parent Group\", \"Offense Code\", \"Longitude\", \"Latitude\"])\n",
    "df"
   ]
  },
  {
   "cell_type": "markdown",
   "metadata": {},
   "source": [
    "### 3) Data Types ###"
   ]
  },
  {
   "cell_type": "markdown",
   "metadata": {},
   "source": [
    "We need to make sure our data is in appropiate format, to use for our models. Let's take a look at the different types of data, and see if we can convert into usable formats."
   ]
  },
  {
   "cell_type": "code",
   "execution_count": 18,
   "metadata": {},
   "outputs": [
    {
     "name": "stdout",
     "output_type": "stream",
     "text": [
      "<class 'pandas.core.frame.DataFrame'>\n",
      "Int64Index: 1034987 entries, 0 to 1036235\n",
      "Data columns (total 6 columns):\n",
      " #   Column                  Non-Null Count    Dtype \n",
      "---  ------                  --------------    ----- \n",
      " 0   Offense Start DateTime  1034987 non-null  object\n",
      " 1   Crime Against Category  1034987 non-null  object\n",
      " 2   Offense                 1034987 non-null  object\n",
      " 3   Sector                  1034987 non-null  object\n",
      " 4   Beat                    1034987 non-null  object\n",
      " 5   MCPP                    1034987 non-null  object\n",
      "dtypes: object(6)\n",
      "memory usage: 55.3+ MB\n"
     ]
    }
   ],
   "source": [
    "df.info()"
   ]
  },
  {
   "cell_type": "markdown",
   "metadata": {},
   "source": [
    "**Offense Start Date Time**\n",
    "\n",
    "Let's start by converting our \"Offense Start Date Time\" into a datetime type."
   ]
  },
  {
   "cell_type": "code",
   "execution_count": 19,
   "metadata": {},
   "outputs": [],
   "source": [
    "df[\"Offense Start DateTime\"] = df[\"Offense Start DateTime\"].astype('datetime64[ns]')"
   ]
  },
  {
   "cell_type": "code",
   "execution_count": 20,
   "metadata": {},
   "outputs": [
    {
     "name": "stdout",
     "output_type": "stream",
     "text": [
      "<class 'pandas.core.frame.DataFrame'>\n",
      "Int64Index: 1034987 entries, 0 to 1036235\n",
      "Data columns (total 6 columns):\n",
      " #   Column                  Non-Null Count    Dtype         \n",
      "---  ------                  --------------    -----         \n",
      " 0   Offense Start DateTime  1034987 non-null  datetime64[ns]\n",
      " 1   Crime Against Category  1034987 non-null  object        \n",
      " 2   Offense                 1034987 non-null  object        \n",
      " 3   Sector                  1034987 non-null  object        \n",
      " 4   Beat                    1034987 non-null  object        \n",
      " 5   MCPP                    1034987 non-null  object        \n",
      "dtypes: datetime64[ns](1), object(5)\n",
      "memory usage: 55.3+ MB\n"
     ]
    }
   ],
   "source": [
    "df.info()"
   ]
  },
  {
   "cell_type": "markdown",
   "metadata": {},
   "source": [
    "Let's split our Offense Start DateTime column into separate columns for day, time, and year that the crime occured."
   ]
  },
  {
   "cell_type": "code",
   "execution_count": 21,
   "metadata": {},
   "outputs": [],
   "source": [
    "df['Time'] = pd.to_datetime(df['Offense Start DateTime']).dt.time\n",
    "df['Day'] = pd.to_datetime(df['Offense Start DateTime']).dt.weekday\n",
    "df['Year'] = pd.to_datetime(df['Offense Start DateTime']).dt.year"
   ]
  },
  {
   "cell_type": "markdown",
   "metadata": {},
   "source": [
    "Let's remove the Offense Start DateTime column, since we split up our data"
   ]
  },
  {
   "cell_type": "code",
   "execution_count": 22,
   "metadata": {},
   "outputs": [],
   "source": [
    "df = df.drop([\"Offense Start DateTime\"], axis = 1)"
   ]
  },
  {
   "cell_type": "markdown",
   "metadata": {},
   "source": [
    "Let's take a look at our new columns"
   ]
  },
  {
   "cell_type": "code",
   "execution_count": 23,
   "metadata": {},
   "outputs": [
    {
     "data": {
      "text/html": [
       "<div>\n",
       "<style scoped>\n",
       "    .dataframe tbody tr th:only-of-type {\n",
       "        vertical-align: middle;\n",
       "    }\n",
       "\n",
       "    .dataframe tbody tr th {\n",
       "        vertical-align: top;\n",
       "    }\n",
       "\n",
       "    .dataframe thead th {\n",
       "        text-align: right;\n",
       "    }\n",
       "</style>\n",
       "<table border=\"1\" class=\"dataframe\">\n",
       "  <thead>\n",
       "    <tr style=\"text-align: right;\">\n",
       "      <th></th>\n",
       "      <th>Crime Against Category</th>\n",
       "      <th>Offense</th>\n",
       "      <th>Sector</th>\n",
       "      <th>Beat</th>\n",
       "      <th>MCPP</th>\n",
       "      <th>Time</th>\n",
       "      <th>Day</th>\n",
       "      <th>Year</th>\n",
       "    </tr>\n",
       "  </thead>\n",
       "  <tbody>\n",
       "    <tr>\n",
       "      <th>0</th>\n",
       "      <td>SOCIETY</td>\n",
       "      <td>Drug/Narcotic Violations</td>\n",
       "      <td>Q</td>\n",
       "      <td>Q1</td>\n",
       "      <td>MAGNOLIA</td>\n",
       "      <td>10:10:00</td>\n",
       "      <td>2</td>\n",
       "      <td>2020</td>\n",
       "    </tr>\n",
       "    <tr>\n",
       "      <th>1</th>\n",
       "      <td>PROPERTY</td>\n",
       "      <td>Theft of Motor Vehicle Parts or Accessories</td>\n",
       "      <td>J</td>\n",
       "      <td>J3</td>\n",
       "      <td>ROOSEVELT/RAVENNA</td>\n",
       "      <td>08:00:00</td>\n",
       "      <td>0</td>\n",
       "      <td>2020</td>\n",
       "    </tr>\n",
       "    <tr>\n",
       "      <th>2</th>\n",
       "      <td>PROPERTY</td>\n",
       "      <td>Robbery</td>\n",
       "      <td>U</td>\n",
       "      <td>U3</td>\n",
       "      <td>ROOSEVELT/RAVENNA</td>\n",
       "      <td>20:30:00</td>\n",
       "      <td>6</td>\n",
       "      <td>2020</td>\n",
       "    </tr>\n",
       "    <tr>\n",
       "      <th>3</th>\n",
       "      <td>PROPERTY</td>\n",
       "      <td>Destruction/Damage/Vandalism of Property</td>\n",
       "      <td>Q</td>\n",
       "      <td>Q1</td>\n",
       "      <td>MAGNOLIA</td>\n",
       "      <td>01:17:00</td>\n",
       "      <td>2</td>\n",
       "      <td>2020</td>\n",
       "    </tr>\n",
       "    <tr>\n",
       "      <th>4</th>\n",
       "      <td>SOCIETY</td>\n",
       "      <td>Driving Under the Influence</td>\n",
       "      <td>B</td>\n",
       "      <td>B2</td>\n",
       "      <td>BALLARD SOUTH</td>\n",
       "      <td>00:51:21</td>\n",
       "      <td>2</td>\n",
       "      <td>2020</td>\n",
       "    </tr>\n",
       "    <tr>\n",
       "      <th>...</th>\n",
       "      <td>...</td>\n",
       "      <td>...</td>\n",
       "      <td>...</td>\n",
       "      <td>...</td>\n",
       "      <td>...</td>\n",
       "      <td>...</td>\n",
       "      <td>...</td>\n",
       "      <td>...</td>\n",
       "    </tr>\n",
       "    <tr>\n",
       "      <th>1036231</th>\n",
       "      <td>PROPERTY</td>\n",
       "      <td>Motor Vehicle Theft</td>\n",
       "      <td>F</td>\n",
       "      <td>F1</td>\n",
       "      <td>PIGEON POINT</td>\n",
       "      <td>01:00:00</td>\n",
       "      <td>5</td>\n",
       "      <td>2013</td>\n",
       "    </tr>\n",
       "    <tr>\n",
       "      <th>1036232</th>\n",
       "      <td>PROPERTY</td>\n",
       "      <td>Motor Vehicle Theft</td>\n",
       "      <td>Q</td>\n",
       "      <td>Q3</td>\n",
       "      <td>QUEEN ANNE</td>\n",
       "      <td>11:00:00</td>\n",
       "      <td>2</td>\n",
       "      <td>2013</td>\n",
       "    </tr>\n",
       "    <tr>\n",
       "      <th>1036233</th>\n",
       "      <td>PROPERTY</td>\n",
       "      <td>Shoplifting</td>\n",
       "      <td>U</td>\n",
       "      <td>U1</td>\n",
       "      <td>ROOSEVELT/RAVENNA</td>\n",
       "      <td>15:04:00</td>\n",
       "      <td>1</td>\n",
       "      <td>2012</td>\n",
       "    </tr>\n",
       "    <tr>\n",
       "      <th>1036234</th>\n",
       "      <td>PROPERTY</td>\n",
       "      <td>Shoplifting</td>\n",
       "      <td>M</td>\n",
       "      <td>M3</td>\n",
       "      <td>DOWNTOWN COMMERCIAL</td>\n",
       "      <td>16:59:00</td>\n",
       "      <td>6</td>\n",
       "      <td>2010</td>\n",
       "    </tr>\n",
       "    <tr>\n",
       "      <th>1036235</th>\n",
       "      <td>PROPERTY</td>\n",
       "      <td>Motor Vehicle Theft</td>\n",
       "      <td>Q</td>\n",
       "      <td>Q2</td>\n",
       "      <td>QUEEN ANNE</td>\n",
       "      <td>18:00:00</td>\n",
       "      <td>3</td>\n",
       "      <td>2010</td>\n",
       "    </tr>\n",
       "  </tbody>\n",
       "</table>\n",
       "<p>1034987 rows × 8 columns</p>\n",
       "</div>"
      ],
      "text/plain": [
       "        Crime Against Category                                      Offense  \\\n",
       "0                      SOCIETY                     Drug/Narcotic Violations   \n",
       "1                     PROPERTY  Theft of Motor Vehicle Parts or Accessories   \n",
       "2                     PROPERTY                                      Robbery   \n",
       "3                     PROPERTY     Destruction/Damage/Vandalism of Property   \n",
       "4                      SOCIETY                  Driving Under the Influence   \n",
       "...                        ...                                          ...   \n",
       "1036231               PROPERTY                          Motor Vehicle Theft   \n",
       "1036232               PROPERTY                          Motor Vehicle Theft   \n",
       "1036233               PROPERTY                                  Shoplifting   \n",
       "1036234               PROPERTY                                  Shoplifting   \n",
       "1036235               PROPERTY                          Motor Vehicle Theft   \n",
       "\n",
       "        Sector Beat                 MCPP      Time  Day  Year  \n",
       "0            Q   Q1             MAGNOLIA  10:10:00    2  2020  \n",
       "1            J   J3    ROOSEVELT/RAVENNA  08:00:00    0  2020  \n",
       "2            U   U3    ROOSEVELT/RAVENNA  20:30:00    6  2020  \n",
       "3            Q   Q1             MAGNOLIA  01:17:00    2  2020  \n",
       "4            B   B2        BALLARD SOUTH  00:51:21    2  2020  \n",
       "...        ...  ...                  ...       ...  ...   ...  \n",
       "1036231      F   F1         PIGEON POINT  01:00:00    5  2013  \n",
       "1036232      Q   Q3           QUEEN ANNE  11:00:00    2  2013  \n",
       "1036233      U   U1    ROOSEVELT/RAVENNA  15:04:00    1  2012  \n",
       "1036234      M   M3  DOWNTOWN COMMERCIAL  16:59:00    6  2010  \n",
       "1036235      Q   Q2           QUEEN ANNE  18:00:00    3  2010  \n",
       "\n",
       "[1034987 rows x 8 columns]"
      ]
     },
     "execution_count": 23,
     "metadata": {},
     "output_type": "execute_result"
    }
   ],
   "source": [
    "df"
   ]
  },
  {
   "cell_type": "markdown",
   "metadata": {},
   "source": [
    "**Crime Against Category**"
   ]
  },
  {
   "cell_type": "markdown",
   "metadata": {},
   "source": [
    "Let's look at the unique values of our Crime Against Category variable, and then convert those values into numerical categories."
   ]
  },
  {
   "cell_type": "code",
   "execution_count": 24,
   "metadata": {},
   "outputs": [
    {
     "data": {
      "text/plain": [
       "PROPERTY       771419\n",
       "PERSON         157102\n",
       "SOCIETY        106433\n",
       "NOT_A_CRIME        33\n",
       "Name: Crime Against Category, dtype: int64"
      ]
     },
     "execution_count": 24,
     "metadata": {},
     "output_type": "execute_result"
    }
   ],
   "source": [
    "df[\"Crime Against Category\"].value_counts()"
   ]
  },
  {
   "cell_type": "code",
   "execution_count": 25,
   "metadata": {},
   "outputs": [],
   "source": [
    "#Converting into categories\n",
    "df[\"Crime Against Category\"] = df[\"Crime Against Category\"].astype(\"category\").cat.codes"
   ]
  },
  {
   "cell_type": "markdown",
   "metadata": {},
   "source": [
    "Up to this point, we've been prepping the data for our model that will be used to classify the type of crime. However, let's also make a copy of the df so that we can make a different preprocessed df. We'll use this df later to classify location (Beat) of the crime."
   ]
  },
  {
   "cell_type": "code",
   "execution_count": 26,
   "metadata": {},
   "outputs": [],
   "source": [
    "df_beat = df.copy()"
   ]
  },
  {
   "cell_type": "markdown",
   "metadata": {},
   "source": [
    "**Sector, Beat, and MCPP**"
   ]
  },
  {
   "cell_type": "markdown",
   "metadata": {},
   "source": [
    "Let's do the same thing with our Sector, Beat, and MCPP variables"
   ]
  },
  {
   "cell_type": "code",
   "execution_count": 27,
   "metadata": {},
   "outputs": [],
   "source": [
    "#Converting values into categories\n",
    "df[\"Sector\"] = df[\"Sector\"].astype(\"category\").cat.codes\n",
    "df[\"Beat\"] = df[\"Beat\"].astype(\"category\").cat.codes\n",
    "df[\"MCPP\"] = df[\"MCPP\"].astype(\"category\").cat.codes"
   ]
  },
  {
   "cell_type": "markdown",
   "metadata": {},
   "source": [
    "**Time, Day, and Year**"
   ]
  },
  {
   "cell_type": "markdown",
   "metadata": {},
   "source": [
    "Let's change year to a int type"
   ]
  },
  {
   "cell_type": "code",
   "execution_count": 28,
   "metadata": {},
   "outputs": [],
   "source": [
    "df[\"Year\"] = df[\"Year\"].astype('str').astype('int64')"
   ]
  },
  {
   "cell_type": "markdown",
   "metadata": {},
   "source": [
    "Let's also filter our data and only look at the past 3 years, to make analysis easier, and to reduce runtime."
   ]
  },
  {
   "cell_type": "code",
   "execution_count": 29,
   "metadata": {},
   "outputs": [],
   "source": [
    "df = df[df[\"Year\"] >= 2020]"
   ]
  },
  {
   "cell_type": "markdown",
   "metadata": {},
   "source": [
    "Let's convert our Time, Day and Year variables into categorical type"
   ]
  },
  {
   "cell_type": "code",
   "execution_count": 30,
   "metadata": {},
   "outputs": [],
   "source": [
    "#Converting values into categories\n",
    "pd.options.mode.chained_assignment = None\n",
    "df[\"Time\"] = df[\"Time\"].astype(\"category\").cat.codes\n",
    "df[\"Day\"] = df[\"Day\"].astype(\"category\").cat.codes\n",
    "df[\"Year\"] = df[\"Year\"].astype(\"category\").cat.codes"
   ]
  },
  {
   "cell_type": "markdown",
   "metadata": {},
   "source": [
    "Let's take a look at our dataset so far "
   ]
  },
  {
   "cell_type": "code",
   "execution_count": 31,
   "metadata": {},
   "outputs": [
    {
     "data": {
      "text/html": [
       "<div>\n",
       "<style scoped>\n",
       "    .dataframe tbody tr th:only-of-type {\n",
       "        vertical-align: middle;\n",
       "    }\n",
       "\n",
       "    .dataframe tbody tr th {\n",
       "        vertical-align: top;\n",
       "    }\n",
       "\n",
       "    .dataframe thead th {\n",
       "        text-align: right;\n",
       "    }\n",
       "</style>\n",
       "<table border=\"1\" class=\"dataframe\">\n",
       "  <thead>\n",
       "    <tr style=\"text-align: right;\">\n",
       "      <th></th>\n",
       "      <th>Crime Against Category</th>\n",
       "      <th>Offense</th>\n",
       "      <th>Sector</th>\n",
       "      <th>Beat</th>\n",
       "      <th>MCPP</th>\n",
       "      <th>Time</th>\n",
       "      <th>Day</th>\n",
       "      <th>Year</th>\n",
       "    </tr>\n",
       "  </thead>\n",
       "  <tbody>\n",
       "    <tr>\n",
       "      <th>0</th>\n",
       "      <td>3</td>\n",
       "      <td>Drug/Narcotic Violations</td>\n",
       "      <td>18</td>\n",
       "      <td>39</td>\n",
       "      <td>33</td>\n",
       "      <td>835</td>\n",
       "      <td>2</td>\n",
       "      <td>0</td>\n",
       "    </tr>\n",
       "    <tr>\n",
       "      <th>1</th>\n",
       "      <td>2</td>\n",
       "      <td>Theft of Motor Vehicle Parts or Accessories</td>\n",
       "      <td>11</td>\n",
       "      <td>22</td>\n",
       "      <td>50</td>\n",
       "      <td>661</td>\n",
       "      <td>0</td>\n",
       "      <td>0</td>\n",
       "    </tr>\n",
       "    <tr>\n",
       "      <th>2</th>\n",
       "      <td>2</td>\n",
       "      <td>Robbery</td>\n",
       "      <td>22</td>\n",
       "      <td>50</td>\n",
       "      <td>50</td>\n",
       "      <td>1753</td>\n",
       "      <td>6</td>\n",
       "      <td>0</td>\n",
       "    </tr>\n",
       "    <tr>\n",
       "      <th>3</th>\n",
       "      <td>2</td>\n",
       "      <td>Destruction/Damage/Vandalism of Property</td>\n",
       "      <td>18</td>\n",
       "      <td>39</td>\n",
       "      <td>33</td>\n",
       "      <td>124</td>\n",
       "      <td>2</td>\n",
       "      <td>0</td>\n",
       "    </tr>\n",
       "    <tr>\n",
       "      <th>4</th>\n",
       "      <td>3</td>\n",
       "      <td>Driving Under the Influence</td>\n",
       "      <td>5</td>\n",
       "      <td>3</td>\n",
       "      <td>4</td>\n",
       "      <td>77</td>\n",
       "      <td>2</td>\n",
       "      <td>0</td>\n",
       "    </tr>\n",
       "    <tr>\n",
       "      <th>...</th>\n",
       "      <td>...</td>\n",
       "      <td>...</td>\n",
       "      <td>...</td>\n",
       "      <td>...</td>\n",
       "      <td>...</td>\n",
       "      <td>...</td>\n",
       "      <td>...</td>\n",
       "      <td>...</td>\n",
       "    </tr>\n",
       "    <tr>\n",
       "      <th>1036220</th>\n",
       "      <td>2</td>\n",
       "      <td>Motor Vehicle Theft</td>\n",
       "      <td>19</td>\n",
       "      <td>42</td>\n",
       "      <td>34</td>\n",
       "      <td>508</td>\n",
       "      <td>3</td>\n",
       "      <td>2</td>\n",
       "    </tr>\n",
       "    <tr>\n",
       "      <th>1036221</th>\n",
       "      <td>1</td>\n",
       "      <td>Simple Assault</td>\n",
       "      <td>9</td>\n",
       "      <td>15</td>\n",
       "      <td>51</td>\n",
       "      <td>1121</td>\n",
       "      <td>4</td>\n",
       "      <td>2</td>\n",
       "    </tr>\n",
       "    <tr>\n",
       "      <th>1036222</th>\n",
       "      <td>1</td>\n",
       "      <td>Simple Assault</td>\n",
       "      <td>9</td>\n",
       "      <td>14</td>\n",
       "      <td>45</td>\n",
       "      <td>938</td>\n",
       "      <td>1</td>\n",
       "      <td>2</td>\n",
       "    </tr>\n",
       "    <tr>\n",
       "      <th>1036223</th>\n",
       "      <td>1</td>\n",
       "      <td>Simple Assault</td>\n",
       "      <td>9</td>\n",
       "      <td>15</td>\n",
       "      <td>56</td>\n",
       "      <td>1378</td>\n",
       "      <td>0</td>\n",
       "      <td>2</td>\n",
       "    </tr>\n",
       "    <tr>\n",
       "      <th>1036224</th>\n",
       "      <td>1</td>\n",
       "      <td>Fondling</td>\n",
       "      <td>7</td>\n",
       "      <td>10</td>\n",
       "      <td>53</td>\n",
       "      <td>905</td>\n",
       "      <td>5</td>\n",
       "      <td>1</td>\n",
       "    </tr>\n",
       "  </tbody>\n",
       "</table>\n",
       "<p>231807 rows × 8 columns</p>\n",
       "</div>"
      ],
      "text/plain": [
       "         Crime Against Category                                      Offense  \\\n",
       "0                             3                     Drug/Narcotic Violations   \n",
       "1                             2  Theft of Motor Vehicle Parts or Accessories   \n",
       "2                             2                                      Robbery   \n",
       "3                             2     Destruction/Damage/Vandalism of Property   \n",
       "4                             3                  Driving Under the Influence   \n",
       "...                         ...                                          ...   \n",
       "1036220                       2                          Motor Vehicle Theft   \n",
       "1036221                       1                               Simple Assault   \n",
       "1036222                       1                               Simple Assault   \n",
       "1036223                       1                               Simple Assault   \n",
       "1036224                       1                                     Fondling   \n",
       "\n",
       "         Sector  Beat  MCPP  Time  Day  Year  \n",
       "0            18    39    33   835    2     0  \n",
       "1            11    22    50   661    0     0  \n",
       "2            22    50    50  1753    6     0  \n",
       "3            18    39    33   124    2     0  \n",
       "4             5     3     4    77    2     0  \n",
       "...         ...   ...   ...   ...  ...   ...  \n",
       "1036220      19    42    34   508    3     2  \n",
       "1036221       9    15    51  1121    4     2  \n",
       "1036222       9    14    45   938    1     2  \n",
       "1036223       9    15    56  1378    0     2  \n",
       "1036224       7    10    53   905    5     1  \n",
       "\n",
       "[231807 rows x 8 columns]"
      ]
     },
     "execution_count": 31,
     "metadata": {},
     "output_type": "execute_result"
    }
   ],
   "source": [
    "df"
   ]
  },
  {
   "cell_type": "markdown",
   "metadata": {},
   "source": [
    "**Offense**"
   ]
  },
  {
   "cell_type": "markdown",
   "metadata": {},
   "source": [
    "Let's look at our value counts for our \"Offense column\""
   ]
  },
  {
   "cell_type": "code",
   "execution_count": 32,
   "metadata": {},
   "outputs": [
    {
     "data": {
      "text/plain": [
       "Burglary/Breaking & Entering                   30163\n",
       "Theft From Motor Vehicle                       28530\n",
       "Destruction/Damage/Vandalism of Property       22204\n",
       "All Other Larceny                              19870\n",
       "Motor Vehicle Theft                            18335\n",
       "Theft of Motor Vehicle Parts or Accessories    16005\n",
       "Simple Assault                                 15249\n",
       "Shoplifting                                    11902\n",
       "Identity Theft                                 11193\n",
       "Aggravated Assault                              9922\n",
       "Intimidation                                    9103\n",
       "Trespass of Real Property                       6785\n",
       "Theft From Building                             5759\n",
       "Robbery                                         5239\n",
       "Driving Under the Influence                     3523\n",
       "Credit Card/Automated Teller Machine Fraud      2271\n",
       "Stolen Property Offenses                        2231\n",
       "Weapon Law Violations                           2130\n",
       "Drug/Narcotic Violations                        2045\n",
       "False Pretenses/Swindle/Confidence Game         1699\n",
       "Wire Fraud                                      1461\n",
       "Counterfeiting/Forgery                           951\n",
       "Arson                                            604\n",
       "Kidnapping/Abduction                             554\n",
       "Rape                                             548\n",
       "Fondling                                         542\n",
       "Extortion/Blackmail                              348\n",
       "Impersonation                                    322\n",
       "Sodomy                                           276\n",
       "Pocket-picking                                   265\n",
       "Hacking/Computer Invasion                        207\n",
       "Family Offenses, Nonviolent                      187\n",
       "Embezzlement                                     148\n",
       "Murder & Nonnegligent Manslaughter               147\n",
       "Sexual Assault With An Object                    142\n",
       "Drug Equipment Violations                        128\n",
       "Pornography/Obscene Material                     123\n",
       "Animal Cruelty                                   107\n",
       "Bad Checks                                       104\n",
       "Purchasing Prostitution                           83\n",
       "Purse-snatching                                   73\n",
       "Liquor Law Violations                             52\n",
       "Theft From Coin-Operated Machine or Device        51\n",
       "Curfew/Loitering/Vagrancy Violations              42\n",
       "Peeping Tom                                       30\n",
       "Welfare Fraud                                     29\n",
       "Human Trafficking, Commercial Sex Acts            28\n",
       "Prostitution                                      24\n",
       "Statutory Rape                                    20\n",
       "Drunkenness                                       17\n",
       "Assisting or Promoting Prostitution               11\n",
       "Justifiable Homicide                               9\n",
       "Negligent Manslaughter                             8\n",
       "Bribery                                            2\n",
       "Betting/Wagering                                   2\n",
       "Human Trafficking, Involuntary Servitude           2\n",
       "Operating/Promoting/Assisting Gambling             1\n",
       "Incest                                             1\n",
       "Name: Offense, dtype: int64"
      ]
     },
     "execution_count": 32,
     "metadata": {},
     "output_type": "execute_result"
    }
   ],
   "source": [
    "df[\"Offense\"].value_counts()"
   ]
  },
  {
   "cell_type": "markdown",
   "metadata": {},
   "source": [
    "Let's filter our data by only including offenses with more than 5000 counts"
   ]
  },
  {
   "cell_type": "code",
   "execution_count": 33,
   "metadata": {},
   "outputs": [],
   "source": [
    "df = df[~df['Offense'].isin(df['Offense'].value_counts().lt(5000).pipe(lambda s: s[s].index))]"
   ]
  },
  {
   "cell_type": "markdown",
   "metadata": {},
   "source": [
    "Let's take a look at our final data"
   ]
  },
  {
   "cell_type": "code",
   "execution_count": 34,
   "metadata": {
    "scrolled": false
   },
   "outputs": [
    {
     "data": {
      "text/html": [
       "<div>\n",
       "<style scoped>\n",
       "    .dataframe tbody tr th:only-of-type {\n",
       "        vertical-align: middle;\n",
       "    }\n",
       "\n",
       "    .dataframe tbody tr th {\n",
       "        vertical-align: top;\n",
       "    }\n",
       "\n",
       "    .dataframe thead th {\n",
       "        text-align: right;\n",
       "    }\n",
       "</style>\n",
       "<table border=\"1\" class=\"dataframe\">\n",
       "  <thead>\n",
       "    <tr style=\"text-align: right;\">\n",
       "      <th></th>\n",
       "      <th>Crime Against Category</th>\n",
       "      <th>Offense</th>\n",
       "      <th>Sector</th>\n",
       "      <th>Beat</th>\n",
       "      <th>MCPP</th>\n",
       "      <th>Time</th>\n",
       "      <th>Day</th>\n",
       "      <th>Year</th>\n",
       "    </tr>\n",
       "  </thead>\n",
       "  <tbody>\n",
       "    <tr>\n",
       "      <th>1</th>\n",
       "      <td>2</td>\n",
       "      <td>Theft of Motor Vehicle Parts or Accessories</td>\n",
       "      <td>11</td>\n",
       "      <td>22</td>\n",
       "      <td>50</td>\n",
       "      <td>661</td>\n",
       "      <td>0</td>\n",
       "      <td>0</td>\n",
       "    </tr>\n",
       "    <tr>\n",
       "      <th>2</th>\n",
       "      <td>2</td>\n",
       "      <td>Robbery</td>\n",
       "      <td>22</td>\n",
       "      <td>50</td>\n",
       "      <td>50</td>\n",
       "      <td>1753</td>\n",
       "      <td>6</td>\n",
       "      <td>0</td>\n",
       "    </tr>\n",
       "    <tr>\n",
       "      <th>3</th>\n",
       "      <td>2</td>\n",
       "      <td>Destruction/Damage/Vandalism of Property</td>\n",
       "      <td>18</td>\n",
       "      <td>39</td>\n",
       "      <td>33</td>\n",
       "      <td>124</td>\n",
       "      <td>2</td>\n",
       "      <td>0</td>\n",
       "    </tr>\n",
       "    <tr>\n",
       "      <th>5</th>\n",
       "      <td>2</td>\n",
       "      <td>Shoplifting</td>\n",
       "      <td>14</td>\n",
       "      <td>29</td>\n",
       "      <td>16</td>\n",
       "      <td>2005</td>\n",
       "      <td>1</td>\n",
       "      <td>0</td>\n",
       "    </tr>\n",
       "    <tr>\n",
       "      <th>6</th>\n",
       "      <td>2</td>\n",
       "      <td>Destruction/Damage/Vandalism of Property</td>\n",
       "      <td>11</td>\n",
       "      <td>22</td>\n",
       "      <td>44</td>\n",
       "      <td>1753</td>\n",
       "      <td>1</td>\n",
       "      <td>0</td>\n",
       "    </tr>\n",
       "    <tr>\n",
       "      <th>...</th>\n",
       "      <td>...</td>\n",
       "      <td>...</td>\n",
       "      <td>...</td>\n",
       "      <td>...</td>\n",
       "      <td>...</td>\n",
       "      <td>...</td>\n",
       "      <td>...</td>\n",
       "      <td>...</td>\n",
       "    </tr>\n",
       "    <tr>\n",
       "      <th>1036218</th>\n",
       "      <td>2</td>\n",
       "      <td>Theft of Motor Vehicle Parts or Accessories</td>\n",
       "      <td>13</td>\n",
       "      <td>28</td>\n",
       "      <td>29</td>\n",
       "      <td>0</td>\n",
       "      <td>2</td>\n",
       "      <td>2</td>\n",
       "    </tr>\n",
       "    <tr>\n",
       "      <th>1036220</th>\n",
       "      <td>2</td>\n",
       "      <td>Motor Vehicle Theft</td>\n",
       "      <td>19</td>\n",
       "      <td>42</td>\n",
       "      <td>34</td>\n",
       "      <td>508</td>\n",
       "      <td>3</td>\n",
       "      <td>2</td>\n",
       "    </tr>\n",
       "    <tr>\n",
       "      <th>1036221</th>\n",
       "      <td>1</td>\n",
       "      <td>Simple Assault</td>\n",
       "      <td>9</td>\n",
       "      <td>15</td>\n",
       "      <td>51</td>\n",
       "      <td>1121</td>\n",
       "      <td>4</td>\n",
       "      <td>2</td>\n",
       "    </tr>\n",
       "    <tr>\n",
       "      <th>1036222</th>\n",
       "      <td>1</td>\n",
       "      <td>Simple Assault</td>\n",
       "      <td>9</td>\n",
       "      <td>14</td>\n",
       "      <td>45</td>\n",
       "      <td>938</td>\n",
       "      <td>1</td>\n",
       "      <td>2</td>\n",
       "    </tr>\n",
       "    <tr>\n",
       "      <th>1036223</th>\n",
       "      <td>1</td>\n",
       "      <td>Simple Assault</td>\n",
       "      <td>9</td>\n",
       "      <td>15</td>\n",
       "      <td>56</td>\n",
       "      <td>1378</td>\n",
       "      <td>0</td>\n",
       "      <td>2</td>\n",
       "    </tr>\n",
       "  </tbody>\n",
       "</table>\n",
       "<p>210259 rows × 8 columns</p>\n",
       "</div>"
      ],
      "text/plain": [
       "         Crime Against Category                                      Offense  \\\n",
       "1                             2  Theft of Motor Vehicle Parts or Accessories   \n",
       "2                             2                                      Robbery   \n",
       "3                             2     Destruction/Damage/Vandalism of Property   \n",
       "5                             2                                  Shoplifting   \n",
       "6                             2     Destruction/Damage/Vandalism of Property   \n",
       "...                         ...                                          ...   \n",
       "1036218                       2  Theft of Motor Vehicle Parts or Accessories   \n",
       "1036220                       2                          Motor Vehicle Theft   \n",
       "1036221                       1                               Simple Assault   \n",
       "1036222                       1                               Simple Assault   \n",
       "1036223                       1                               Simple Assault   \n",
       "\n",
       "         Sector  Beat  MCPP  Time  Day  Year  \n",
       "1            11    22    50   661    0     0  \n",
       "2            22    50    50  1753    6     0  \n",
       "3            18    39    33   124    2     0  \n",
       "5            14    29    16  2005    1     0  \n",
       "6            11    22    44  1753    1     0  \n",
       "...         ...   ...   ...   ...  ...   ...  \n",
       "1036218      13    28    29     0    2     2  \n",
       "1036220      19    42    34   508    3     2  \n",
       "1036221       9    15    51  1121    4     2  \n",
       "1036222       9    14    45   938    1     2  \n",
       "1036223       9    15    56  1378    0     2  \n",
       "\n",
       "[210259 rows x 8 columns]"
      ]
     },
     "execution_count": 34,
     "metadata": {},
     "output_type": "execute_result"
    }
   ],
   "source": [
    "df"
   ]
  },
  {
   "cell_type": "code",
   "execution_count": 35,
   "metadata": {},
   "outputs": [
    {
     "name": "stdout",
     "output_type": "stream",
     "text": [
      "<class 'pandas.core.frame.DataFrame'>\n",
      "Int64Index: 210259 entries, 1 to 1036223\n",
      "Data columns (total 8 columns):\n",
      " #   Column                  Non-Null Count   Dtype \n",
      "---  ------                  --------------   ----- \n",
      " 0   Crime Against Category  210259 non-null  int8  \n",
      " 1   Offense                 210259 non-null  object\n",
      " 2   Sector                  210259 non-null  int8  \n",
      " 3   Beat                    210259 non-null  int8  \n",
      " 4   MCPP                    210259 non-null  int8  \n",
      " 5   Time                    210259 non-null  int16 \n",
      " 6   Day                     210259 non-null  int8  \n",
      " 7   Year                    210259 non-null  int8  \n",
      "dtypes: int16(1), int8(6), object(1)\n",
      "memory usage: 4.8+ MB\n"
     ]
    }
   ],
   "source": [
    "df.info()"
   ]
  },
  {
   "cell_type": "markdown",
   "metadata": {},
   "source": [
    "**Saving As CSV File**"
   ]
  },
  {
   "cell_type": "markdown",
   "metadata": {},
   "source": [
    "We'll save the updated dataframe, for use in our other jupyter notebook"
   ]
  },
  {
   "cell_type": "code",
   "execution_count": 36,
   "metadata": {},
   "outputs": [],
   "source": [
    "df.to_csv('preprocessed_data.csv', encoding='utf-8', index=False)  "
   ]
  },
  {
   "cell_type": "markdown",
   "metadata": {},
   "source": [
    "## Preprocessing Our Data For Location of Crime ##"
   ]
  },
  {
   "cell_type": "markdown",
   "metadata": {},
   "source": [
    "Let's take a look at our df:"
   ]
  },
  {
   "cell_type": "code",
   "execution_count": 37,
   "metadata": {
    "scrolled": true
   },
   "outputs": [
    {
     "data": {
      "text/html": [
       "<div>\n",
       "<style scoped>\n",
       "    .dataframe tbody tr th:only-of-type {\n",
       "        vertical-align: middle;\n",
       "    }\n",
       "\n",
       "    .dataframe tbody tr th {\n",
       "        vertical-align: top;\n",
       "    }\n",
       "\n",
       "    .dataframe thead th {\n",
       "        text-align: right;\n",
       "    }\n",
       "</style>\n",
       "<table border=\"1\" class=\"dataframe\">\n",
       "  <thead>\n",
       "    <tr style=\"text-align: right;\">\n",
       "      <th></th>\n",
       "      <th>Crime Against Category</th>\n",
       "      <th>Offense</th>\n",
       "      <th>Sector</th>\n",
       "      <th>Beat</th>\n",
       "      <th>MCPP</th>\n",
       "      <th>Time</th>\n",
       "      <th>Day</th>\n",
       "      <th>Year</th>\n",
       "    </tr>\n",
       "  </thead>\n",
       "  <tbody>\n",
       "    <tr>\n",
       "      <th>0</th>\n",
       "      <td>3</td>\n",
       "      <td>Drug/Narcotic Violations</td>\n",
       "      <td>Q</td>\n",
       "      <td>Q1</td>\n",
       "      <td>MAGNOLIA</td>\n",
       "      <td>10:10:00</td>\n",
       "      <td>2</td>\n",
       "      <td>2020</td>\n",
       "    </tr>\n",
       "    <tr>\n",
       "      <th>1</th>\n",
       "      <td>2</td>\n",
       "      <td>Theft of Motor Vehicle Parts or Accessories</td>\n",
       "      <td>J</td>\n",
       "      <td>J3</td>\n",
       "      <td>ROOSEVELT/RAVENNA</td>\n",
       "      <td>08:00:00</td>\n",
       "      <td>0</td>\n",
       "      <td>2020</td>\n",
       "    </tr>\n",
       "    <tr>\n",
       "      <th>2</th>\n",
       "      <td>2</td>\n",
       "      <td>Robbery</td>\n",
       "      <td>U</td>\n",
       "      <td>U3</td>\n",
       "      <td>ROOSEVELT/RAVENNA</td>\n",
       "      <td>20:30:00</td>\n",
       "      <td>6</td>\n",
       "      <td>2020</td>\n",
       "    </tr>\n",
       "    <tr>\n",
       "      <th>3</th>\n",
       "      <td>2</td>\n",
       "      <td>Destruction/Damage/Vandalism of Property</td>\n",
       "      <td>Q</td>\n",
       "      <td>Q1</td>\n",
       "      <td>MAGNOLIA</td>\n",
       "      <td>01:17:00</td>\n",
       "      <td>2</td>\n",
       "      <td>2020</td>\n",
       "    </tr>\n",
       "    <tr>\n",
       "      <th>4</th>\n",
       "      <td>3</td>\n",
       "      <td>Driving Under the Influence</td>\n",
       "      <td>B</td>\n",
       "      <td>B2</td>\n",
       "      <td>BALLARD SOUTH</td>\n",
       "      <td>00:51:21</td>\n",
       "      <td>2</td>\n",
       "      <td>2020</td>\n",
       "    </tr>\n",
       "    <tr>\n",
       "      <th>...</th>\n",
       "      <td>...</td>\n",
       "      <td>...</td>\n",
       "      <td>...</td>\n",
       "      <td>...</td>\n",
       "      <td>...</td>\n",
       "      <td>...</td>\n",
       "      <td>...</td>\n",
       "      <td>...</td>\n",
       "    </tr>\n",
       "    <tr>\n",
       "      <th>1036231</th>\n",
       "      <td>2</td>\n",
       "      <td>Motor Vehicle Theft</td>\n",
       "      <td>F</td>\n",
       "      <td>F1</td>\n",
       "      <td>PIGEON POINT</td>\n",
       "      <td>01:00:00</td>\n",
       "      <td>5</td>\n",
       "      <td>2013</td>\n",
       "    </tr>\n",
       "    <tr>\n",
       "      <th>1036232</th>\n",
       "      <td>2</td>\n",
       "      <td>Motor Vehicle Theft</td>\n",
       "      <td>Q</td>\n",
       "      <td>Q3</td>\n",
       "      <td>QUEEN ANNE</td>\n",
       "      <td>11:00:00</td>\n",
       "      <td>2</td>\n",
       "      <td>2013</td>\n",
       "    </tr>\n",
       "    <tr>\n",
       "      <th>1036233</th>\n",
       "      <td>2</td>\n",
       "      <td>Shoplifting</td>\n",
       "      <td>U</td>\n",
       "      <td>U1</td>\n",
       "      <td>ROOSEVELT/RAVENNA</td>\n",
       "      <td>15:04:00</td>\n",
       "      <td>1</td>\n",
       "      <td>2012</td>\n",
       "    </tr>\n",
       "    <tr>\n",
       "      <th>1036234</th>\n",
       "      <td>2</td>\n",
       "      <td>Shoplifting</td>\n",
       "      <td>M</td>\n",
       "      <td>M3</td>\n",
       "      <td>DOWNTOWN COMMERCIAL</td>\n",
       "      <td>16:59:00</td>\n",
       "      <td>6</td>\n",
       "      <td>2010</td>\n",
       "    </tr>\n",
       "    <tr>\n",
       "      <th>1036235</th>\n",
       "      <td>2</td>\n",
       "      <td>Motor Vehicle Theft</td>\n",
       "      <td>Q</td>\n",
       "      <td>Q2</td>\n",
       "      <td>QUEEN ANNE</td>\n",
       "      <td>18:00:00</td>\n",
       "      <td>3</td>\n",
       "      <td>2010</td>\n",
       "    </tr>\n",
       "  </tbody>\n",
       "</table>\n",
       "<p>1034987 rows × 8 columns</p>\n",
       "</div>"
      ],
      "text/plain": [
       "         Crime Against Category                                      Offense  \\\n",
       "0                             3                     Drug/Narcotic Violations   \n",
       "1                             2  Theft of Motor Vehicle Parts or Accessories   \n",
       "2                             2                                      Robbery   \n",
       "3                             2     Destruction/Damage/Vandalism of Property   \n",
       "4                             3                  Driving Under the Influence   \n",
       "...                         ...                                          ...   \n",
       "1036231                       2                          Motor Vehicle Theft   \n",
       "1036232                       2                          Motor Vehicle Theft   \n",
       "1036233                       2                                  Shoplifting   \n",
       "1036234                       2                                  Shoplifting   \n",
       "1036235                       2                          Motor Vehicle Theft   \n",
       "\n",
       "        Sector Beat                 MCPP      Time  Day  Year  \n",
       "0            Q   Q1             MAGNOLIA  10:10:00    2  2020  \n",
       "1            J   J3    ROOSEVELT/RAVENNA  08:00:00    0  2020  \n",
       "2            U   U3    ROOSEVELT/RAVENNA  20:30:00    6  2020  \n",
       "3            Q   Q1             MAGNOLIA  01:17:00    2  2020  \n",
       "4            B   B2        BALLARD SOUTH  00:51:21    2  2020  \n",
       "...        ...  ...                  ...       ...  ...   ...  \n",
       "1036231      F   F1         PIGEON POINT  01:00:00    5  2013  \n",
       "1036232      Q   Q3           QUEEN ANNE  11:00:00    2  2013  \n",
       "1036233      U   U1    ROOSEVELT/RAVENNA  15:04:00    1  2012  \n",
       "1036234      M   M3  DOWNTOWN COMMERCIAL  16:59:00    6  2010  \n",
       "1036235      Q   Q2           QUEEN ANNE  18:00:00    3  2010  \n",
       "\n",
       "[1034987 rows x 8 columns]"
      ]
     },
     "execution_count": 37,
     "metadata": {},
     "output_type": "execute_result"
    }
   ],
   "source": [
    "df_beat"
   ]
  },
  {
   "cell_type": "markdown",
   "metadata": {},
   "source": [
    "Let's preprocess our df for use in our sector model:"
   ]
  },
  {
   "cell_type": "markdown",
   "metadata": {},
   "source": [
    "**Offense**"
   ]
  },
  {
   "cell_type": "markdown",
   "metadata": {},
   "source": [
    "Let's convert our offense types into categories"
   ]
  },
  {
   "cell_type": "code",
   "execution_count": 38,
   "metadata": {},
   "outputs": [],
   "source": [
    "df_beat[\"Offense\"] = df_beat[\"Offense\"].astype(\"category\").cat.codes"
   ]
  },
  {
   "cell_type": "markdown",
   "metadata": {},
   "source": [
    "**Sector, MCPP**"
   ]
  },
  {
   "cell_type": "markdown",
   "metadata": {},
   "source": [
    "Let's convert these variables into categories:"
   ]
  },
  {
   "cell_type": "code",
   "execution_count": 39,
   "metadata": {},
   "outputs": [],
   "source": [
    "df_beat[\"Sector\"] = df_beat[\"Sector\"].astype(\"category\").cat.codes\n",
    "df_beat[\"MCPP\"] = df_beat[\"MCPP\"].astype(\"category\").cat.codes"
   ]
  },
  {
   "cell_type": "markdown",
   "metadata": {},
   "source": [
    "Let's look at our df so far:"
   ]
  },
  {
   "cell_type": "code",
   "execution_count": 40,
   "metadata": {
    "scrolled": true
   },
   "outputs": [
    {
     "data": {
      "text/html": [
       "<div>\n",
       "<style scoped>\n",
       "    .dataframe tbody tr th:only-of-type {\n",
       "        vertical-align: middle;\n",
       "    }\n",
       "\n",
       "    .dataframe tbody tr th {\n",
       "        vertical-align: top;\n",
       "    }\n",
       "\n",
       "    .dataframe thead th {\n",
       "        text-align: right;\n",
       "    }\n",
       "</style>\n",
       "<table border=\"1\" class=\"dataframe\">\n",
       "  <thead>\n",
       "    <tr style=\"text-align: right;\">\n",
       "      <th></th>\n",
       "      <th>Crime Against Category</th>\n",
       "      <th>Offense</th>\n",
       "      <th>Sector</th>\n",
       "      <th>Beat</th>\n",
       "      <th>MCPP</th>\n",
       "      <th>Time</th>\n",
       "      <th>Day</th>\n",
       "      <th>Year</th>\n",
       "    </tr>\n",
       "  </thead>\n",
       "  <tbody>\n",
       "    <tr>\n",
       "      <th>0</th>\n",
       "      <td>3</td>\n",
       "      <td>15</td>\n",
       "      <td>18</td>\n",
       "      <td>Q1</td>\n",
       "      <td>33</td>\n",
       "      <td>10:10:00</td>\n",
       "      <td>2</td>\n",
       "      <td>2020</td>\n",
       "    </tr>\n",
       "    <tr>\n",
       "      <th>1</th>\n",
       "      <td>2</td>\n",
       "      <td>54</td>\n",
       "      <td>11</td>\n",
       "      <td>J3</td>\n",
       "      <td>50</td>\n",
       "      <td>08:00:00</td>\n",
       "      <td>0</td>\n",
       "      <td>2020</td>\n",
       "    </tr>\n",
       "    <tr>\n",
       "      <th>2</th>\n",
       "      <td>2</td>\n",
       "      <td>44</td>\n",
       "      <td>22</td>\n",
       "      <td>U3</td>\n",
       "      <td>50</td>\n",
       "      <td>20:30:00</td>\n",
       "      <td>6</td>\n",
       "      <td>2020</td>\n",
       "    </tr>\n",
       "    <tr>\n",
       "      <th>3</th>\n",
       "      <td>2</td>\n",
       "      <td>12</td>\n",
       "      <td>18</td>\n",
       "      <td>Q1</td>\n",
       "      <td>33</td>\n",
       "      <td>01:17:00</td>\n",
       "      <td>2</td>\n",
       "      <td>2020</td>\n",
       "    </tr>\n",
       "    <tr>\n",
       "      <th>4</th>\n",
       "      <td>3</td>\n",
       "      <td>13</td>\n",
       "      <td>5</td>\n",
       "      <td>B2</td>\n",
       "      <td>4</td>\n",
       "      <td>00:51:21</td>\n",
       "      <td>2</td>\n",
       "      <td>2020</td>\n",
       "    </tr>\n",
       "    <tr>\n",
       "      <th>...</th>\n",
       "      <td>...</td>\n",
       "      <td>...</td>\n",
       "      <td>...</td>\n",
       "      <td>...</td>\n",
       "      <td>...</td>\n",
       "      <td>...</td>\n",
       "      <td>...</td>\n",
       "      <td>...</td>\n",
       "    </tr>\n",
       "    <tr>\n",
       "      <th>1036231</th>\n",
       "      <td>2</td>\n",
       "      <td>33</td>\n",
       "      <td>9</td>\n",
       "      <td>F1</td>\n",
       "      <td>45</td>\n",
       "      <td>01:00:00</td>\n",
       "      <td>5</td>\n",
       "      <td>2013</td>\n",
       "    </tr>\n",
       "    <tr>\n",
       "      <th>1036232</th>\n",
       "      <td>2</td>\n",
       "      <td>33</td>\n",
       "      <td>18</td>\n",
       "      <td>Q3</td>\n",
       "      <td>47</td>\n",
       "      <td>11:00:00</td>\n",
       "      <td>2</td>\n",
       "      <td>2013</td>\n",
       "    </tr>\n",
       "    <tr>\n",
       "      <th>1036233</th>\n",
       "      <td>2</td>\n",
       "      <td>46</td>\n",
       "      <td>22</td>\n",
       "      <td>U1</td>\n",
       "      <td>50</td>\n",
       "      <td>15:04:00</td>\n",
       "      <td>1</td>\n",
       "      <td>2012</td>\n",
       "    </tr>\n",
       "    <tr>\n",
       "      <th>1036234</th>\n",
       "      <td>2</td>\n",
       "      <td>46</td>\n",
       "      <td>14</td>\n",
       "      <td>M3</td>\n",
       "      <td>16</td>\n",
       "      <td>16:59:00</td>\n",
       "      <td>6</td>\n",
       "      <td>2010</td>\n",
       "    </tr>\n",
       "    <tr>\n",
       "      <th>1036235</th>\n",
       "      <td>2</td>\n",
       "      <td>33</td>\n",
       "      <td>18</td>\n",
       "      <td>Q2</td>\n",
       "      <td>47</td>\n",
       "      <td>18:00:00</td>\n",
       "      <td>3</td>\n",
       "      <td>2010</td>\n",
       "    </tr>\n",
       "  </tbody>\n",
       "</table>\n",
       "<p>1034987 rows × 8 columns</p>\n",
       "</div>"
      ],
      "text/plain": [
       "         Crime Against Category  Offense  Sector Beat  MCPP      Time  Day  \\\n",
       "0                             3       15      18   Q1    33  10:10:00    2   \n",
       "1                             2       54      11   J3    50  08:00:00    0   \n",
       "2                             2       44      22   U3    50  20:30:00    6   \n",
       "3                             2       12      18   Q1    33  01:17:00    2   \n",
       "4                             3       13       5   B2     4  00:51:21    2   \n",
       "...                         ...      ...     ...  ...   ...       ...  ...   \n",
       "1036231                       2       33       9   F1    45  01:00:00    5   \n",
       "1036232                       2       33      18   Q3    47  11:00:00    2   \n",
       "1036233                       2       46      22   U1    50  15:04:00    1   \n",
       "1036234                       2       46      14   M3    16  16:59:00    6   \n",
       "1036235                       2       33      18   Q2    47  18:00:00    3   \n",
       "\n",
       "         Year  \n",
       "0        2020  \n",
       "1        2020  \n",
       "2        2020  \n",
       "3        2020  \n",
       "4        2020  \n",
       "...       ...  \n",
       "1036231  2013  \n",
       "1036232  2013  \n",
       "1036233  2012  \n",
       "1036234  2010  \n",
       "1036235  2010  \n",
       "\n",
       "[1034987 rows x 8 columns]"
      ]
     },
     "execution_count": 40,
     "metadata": {},
     "output_type": "execute_result"
    }
   ],
   "source": [
    "df_beat"
   ]
  },
  {
   "cell_type": "markdown",
   "metadata": {},
   "source": [
    "**Time, Day, Year**"
   ]
  },
  {
   "cell_type": "markdown",
   "metadata": {},
   "source": [
    "First, let's change year into an int type, so we can filter by year"
   ]
  },
  {
   "cell_type": "code",
   "execution_count": 41,
   "metadata": {},
   "outputs": [],
   "source": [
    "df_beat[\"Year\"] = df_beat[\"Year\"].astype('str').astype('int64')"
   ]
  },
  {
   "cell_type": "markdown",
   "metadata": {},
   "source": [
    "Again, we'll only look at the past three years to make analysisi and runtime more feasible "
   ]
  },
  {
   "cell_type": "code",
   "execution_count": 42,
   "metadata": {},
   "outputs": [],
   "source": [
    "df_beat = df_beat[df_beat[\"Year\"] >= 2020]"
   ]
  },
  {
   "cell_type": "markdown",
   "metadata": {},
   "source": [
    "Let's convert our Time, Day and Year variables into categories"
   ]
  },
  {
   "cell_type": "code",
   "execution_count": 43,
   "metadata": {},
   "outputs": [],
   "source": [
    "#Converting values into categories\n",
    "pd.options.mode.chained_assignment = None\n",
    "df_beat[\"Time\"] = df_beat[\"Time\"].astype(\"category\").cat.codes\n",
    "df_beat[\"Day\"] = df_beat[\"Day\"].astype(\"category\").cat.codes\n",
    "df_beat[\"Year\"] = df_beat[\"Year\"].astype(\"category\").cat.codes"
   ]
  },
  {
   "cell_type": "markdown",
   "metadata": {},
   "source": [
    "**Beat**"
   ]
  },
  {
   "cell_type": "markdown",
   "metadata": {},
   "source": [
    "Lastly, let's look at the value counts for our target variable:"
   ]
  },
  {
   "cell_type": "code",
   "execution_count": 44,
   "metadata": {
    "scrolled": false
   },
   "outputs": [
    {
     "data": {
      "text/plain": [
       "U3         7472\n",
       "U1         7451\n",
       "K3         6971\n",
       "B2         6671\n",
       "B3         6349\n",
       "R2         6282\n",
       "Q3         6201\n",
       "L2         6160\n",
       "B1         6141\n",
       "U2         6123\n",
       "D2         5900\n",
       "Q2         5853\n",
       "E1         5683\n",
       "E3         5453\n",
       "D3         5452\n",
       "W2         5256\n",
       "N2         5209\n",
       "D1         4803\n",
       "E2         4783\n",
       "C1         4633\n",
       "R1         4564\n",
       "N3         4349\n",
       "J3         4220\n",
       "Q1         4182\n",
       "M1         4182\n",
       "L1         4130\n",
       "R3         4120\n",
       "M3         4056\n",
       "W1         4012\n",
       "C3         3922\n",
       "J2         3918\n",
       "F2         3901\n",
       "L3         3817\n",
       "G2         3745\n",
       "F1         3587\n",
       "W3         3575\n",
       "C2         3515\n",
       "K1         3435\n",
       "G3         3416\n",
       "K2         3405\n",
       "F3         3377\n",
       "S2         3286\n",
       "N1         3201\n",
       "M2         3181\n",
       "J1         3157\n",
       "O3         3034\n",
       "G1         3017\n",
       "S3         3016\n",
       "O1         2819\n",
       "S1         2795\n",
       "O2         2378\n",
       "UNKNOWN    1589\n",
       "99           53\n",
       "OOJ           5\n",
       "<Null>        2\n",
       "Name: Beat, dtype: int64"
      ]
     },
     "execution_count": 44,
     "metadata": {},
     "output_type": "execute_result"
    }
   ],
   "source": [
    "df_beat[\"Beat\"].value_counts()"
   ]
  },
  {
   "cell_type": "markdown",
   "metadata": {},
   "source": [
    "Lastly, let's filter out Sectors with less than 5,000 values:"
   ]
  },
  {
   "cell_type": "code",
   "execution_count": 45,
   "metadata": {},
   "outputs": [],
   "source": [
    "df_beat = df_beat[~df_beat['Beat'].isin(df_beat['Beat'].value_counts().lt(5000).pipe(lambda s: s[s].index))]"
   ]
  },
  {
   "cell_type": "code",
   "execution_count": 46,
   "metadata": {},
   "outputs": [
    {
     "data": {
      "text/plain": [
       "U3    7472\n",
       "U1    7451\n",
       "K3    6971\n",
       "B2    6671\n",
       "B3    6349\n",
       "R2    6282\n",
       "Q3    6201\n",
       "L2    6160\n",
       "B1    6141\n",
       "U2    6123\n",
       "D2    5900\n",
       "Q2    5853\n",
       "E1    5683\n",
       "E3    5453\n",
       "D3    5452\n",
       "W2    5256\n",
       "N2    5209\n",
       "Name: Beat, dtype: int64"
      ]
     },
     "execution_count": 46,
     "metadata": {},
     "output_type": "execute_result"
    }
   ],
   "source": [
    "df_beat[\"Beat\"].value_counts()"
   ]
  },
  {
   "cell_type": "markdown",
   "metadata": {},
   "source": [
    "Let's take a look at our preprocessed sector df:"
   ]
  },
  {
   "cell_type": "code",
   "execution_count": 47,
   "metadata": {
    "scrolled": false
   },
   "outputs": [
    {
     "data": {
      "text/html": [
       "<div>\n",
       "<style scoped>\n",
       "    .dataframe tbody tr th:only-of-type {\n",
       "        vertical-align: middle;\n",
       "    }\n",
       "\n",
       "    .dataframe tbody tr th {\n",
       "        vertical-align: top;\n",
       "    }\n",
       "\n",
       "    .dataframe thead th {\n",
       "        text-align: right;\n",
       "    }\n",
       "</style>\n",
       "<table border=\"1\" class=\"dataframe\">\n",
       "  <thead>\n",
       "    <tr style=\"text-align: right;\">\n",
       "      <th></th>\n",
       "      <th>Crime Against Category</th>\n",
       "      <th>Offense</th>\n",
       "      <th>Sector</th>\n",
       "      <th>Beat</th>\n",
       "      <th>MCPP</th>\n",
       "      <th>Time</th>\n",
       "      <th>Day</th>\n",
       "      <th>Year</th>\n",
       "    </tr>\n",
       "  </thead>\n",
       "  <tbody>\n",
       "    <tr>\n",
       "      <th>2</th>\n",
       "      <td>2</td>\n",
       "      <td>44</td>\n",
       "      <td>22</td>\n",
       "      <td>U3</td>\n",
       "      <td>50</td>\n",
       "      <td>1753</td>\n",
       "      <td>6</td>\n",
       "      <td>0</td>\n",
       "    </tr>\n",
       "    <tr>\n",
       "      <th>4</th>\n",
       "      <td>3</td>\n",
       "      <td>13</td>\n",
       "      <td>5</td>\n",
       "      <td>B2</td>\n",
       "      <td>4</td>\n",
       "      <td>77</td>\n",
       "      <td>2</td>\n",
       "      <td>0</td>\n",
       "    </tr>\n",
       "    <tr>\n",
       "      <th>8</th>\n",
       "      <td>3</td>\n",
       "      <td>13</td>\n",
       "      <td>13</td>\n",
       "      <td>L2</td>\n",
       "      <td>43</td>\n",
       "      <td>1609</td>\n",
       "      <td>1</td>\n",
       "      <td>0</td>\n",
       "    </tr>\n",
       "    <tr>\n",
       "      <th>15</th>\n",
       "      <td>2</td>\n",
       "      <td>9</td>\n",
       "      <td>8</td>\n",
       "      <td>E1</td>\n",
       "      <td>8</td>\n",
       "      <td>1715</td>\n",
       "      <td>1</td>\n",
       "      <td>0</td>\n",
       "    </tr>\n",
       "    <tr>\n",
       "      <th>18</th>\n",
       "      <td>2</td>\n",
       "      <td>46</td>\n",
       "      <td>22</td>\n",
       "      <td>U2</td>\n",
       "      <td>58</td>\n",
       "      <td>1288</td>\n",
       "      <td>1</td>\n",
       "      <td>0</td>\n",
       "    </tr>\n",
       "    <tr>\n",
       "      <th>...</th>\n",
       "      <td>...</td>\n",
       "      <td>...</td>\n",
       "      <td>...</td>\n",
       "      <td>...</td>\n",
       "      <td>...</td>\n",
       "      <td>...</td>\n",
       "      <td>...</td>\n",
       "      <td>...</td>\n",
       "    </tr>\n",
       "    <tr>\n",
       "      <th>1036209</th>\n",
       "      <td>2</td>\n",
       "      <td>33</td>\n",
       "      <td>24</td>\n",
       "      <td>W2</td>\n",
       "      <td>1</td>\n",
       "      <td>191</td>\n",
       "      <td>5</td>\n",
       "      <td>3</td>\n",
       "    </tr>\n",
       "    <tr>\n",
       "      <th>1036210</th>\n",
       "      <td>2</td>\n",
       "      <td>33</td>\n",
       "      <td>13</td>\n",
       "      <td>L2</td>\n",
       "      <td>43</td>\n",
       "      <td>1902</td>\n",
       "      <td>1</td>\n",
       "      <td>3</td>\n",
       "    </tr>\n",
       "    <tr>\n",
       "      <th>1036216</th>\n",
       "      <td>2</td>\n",
       "      <td>33</td>\n",
       "      <td>5</td>\n",
       "      <td>B1</td>\n",
       "      <td>4</td>\n",
       "      <td>1339</td>\n",
       "      <td>4</td>\n",
       "      <td>2</td>\n",
       "    </tr>\n",
       "    <tr>\n",
       "      <th>1036219</th>\n",
       "      <td>2</td>\n",
       "      <td>50</td>\n",
       "      <td>12</td>\n",
       "      <td>K3</td>\n",
       "      <td>11</td>\n",
       "      <td>39</td>\n",
       "      <td>3</td>\n",
       "      <td>2</td>\n",
       "    </tr>\n",
       "    <tr>\n",
       "      <th>1036224</th>\n",
       "      <td>1</td>\n",
       "      <td>21</td>\n",
       "      <td>7</td>\n",
       "      <td>D3</td>\n",
       "      <td>53</td>\n",
       "      <td>905</td>\n",
       "      <td>5</td>\n",
       "      <td>1</td>\n",
       "    </tr>\n",
       "  </tbody>\n",
       "</table>\n",
       "<p>104627 rows × 8 columns</p>\n",
       "</div>"
      ],
      "text/plain": [
       "         Crime Against Category  Offense  Sector Beat  MCPP  Time  Day  Year\n",
       "2                             2       44      22   U3    50  1753    6     0\n",
       "4                             3       13       5   B2     4    77    2     0\n",
       "8                             3       13      13   L2    43  1609    1     0\n",
       "15                            2        9       8   E1     8  1715    1     0\n",
       "18                            2       46      22   U2    58  1288    1     0\n",
       "...                         ...      ...     ...  ...   ...   ...  ...   ...\n",
       "1036209                       2       33      24   W2     1   191    5     3\n",
       "1036210                       2       33      13   L2    43  1902    1     3\n",
       "1036216                       2       33       5   B1     4  1339    4     2\n",
       "1036219                       2       50      12   K3    11    39    3     2\n",
       "1036224                       1       21       7   D3    53   905    5     1\n",
       "\n",
       "[104627 rows x 8 columns]"
      ]
     },
     "execution_count": 47,
     "metadata": {},
     "output_type": "execute_result"
    }
   ],
   "source": [
    "df_beat"
   ]
  },
  {
   "cell_type": "markdown",
   "metadata": {},
   "source": [
    "**Saving as CSV file**"
   ]
  },
  {
   "cell_type": "markdown",
   "metadata": {},
   "source": [
    "Lastly, let's make a csv for use in our notebooks:"
   ]
  },
  {
   "cell_type": "code",
   "execution_count": 48,
   "metadata": {},
   "outputs": [],
   "source": [
    "df_beat.to_csv('seattle_crime_beat.csv', encoding='utf-8', index=False)  "
   ]
  },
  {
   "cell_type": "markdown",
   "metadata": {},
   "source": [
    "## Preprocessing Our Data For Supplemental Analysis ##"
   ]
  },
  {
   "cell_type": "markdown",
   "metadata": {},
   "source": [
    "We'll use this last df for analyzing both crime location and type of offense later on in our main notebook. We'll need to preprocess our new df similarly as before."
   ]
  },
  {
   "cell_type": "code",
   "execution_count": 49,
   "metadata": {
    "scrolled": false
   },
   "outputs": [
    {
     "data": {
      "text/html": [
       "<div>\n",
       "<style scoped>\n",
       "    .dataframe tbody tr th:only-of-type {\n",
       "        vertical-align: middle;\n",
       "    }\n",
       "\n",
       "    .dataframe tbody tr th {\n",
       "        vertical-align: top;\n",
       "    }\n",
       "\n",
       "    .dataframe thead th {\n",
       "        text-align: right;\n",
       "    }\n",
       "</style>\n",
       "<table border=\"1\" class=\"dataframe\">\n",
       "  <thead>\n",
       "    <tr style=\"text-align: right;\">\n",
       "      <th></th>\n",
       "      <th>Report Number</th>\n",
       "      <th>Offense ID</th>\n",
       "      <th>Offense Start DateTime</th>\n",
       "      <th>Offense End DateTime</th>\n",
       "      <th>Report DateTime</th>\n",
       "      <th>Group A B</th>\n",
       "      <th>Crime Against Category</th>\n",
       "      <th>Offense Parent Group</th>\n",
       "      <th>Offense</th>\n",
       "      <th>Offense Code</th>\n",
       "      <th>Precinct</th>\n",
       "      <th>Sector</th>\n",
       "      <th>Beat</th>\n",
       "      <th>MCPP</th>\n",
       "      <th>100 Block Address</th>\n",
       "      <th>Longitude</th>\n",
       "      <th>Latitude</th>\n",
       "    </tr>\n",
       "  </thead>\n",
       "  <tbody>\n",
       "    <tr>\n",
       "      <th>0</th>\n",
       "      <td>2020-044620</td>\n",
       "      <td>12605873663</td>\n",
       "      <td>02/05/2020 10:10:00 AM</td>\n",
       "      <td>NaN</td>\n",
       "      <td>02/05/2020 11:24:31 AM</td>\n",
       "      <td>A</td>\n",
       "      <td>SOCIETY</td>\n",
       "      <td>DRUG/NARCOTIC OFFENSES</td>\n",
       "      <td>Drug/Narcotic Violations</td>\n",
       "      <td>35A</td>\n",
       "      <td>W</td>\n",
       "      <td>Q</td>\n",
       "      <td>Q1</td>\n",
       "      <td>MAGNOLIA</td>\n",
       "      <td>32XX BLOCK OF 23RD AVE W</td>\n",
       "      <td>-122.385974</td>\n",
       "      <td>47.649387</td>\n",
       "    </tr>\n",
       "    <tr>\n",
       "      <th>1</th>\n",
       "      <td>2020-044452</td>\n",
       "      <td>12605598696</td>\n",
       "      <td>02/03/2020 08:00:00 AM</td>\n",
       "      <td>02/04/2020 08:00:00 AM</td>\n",
       "      <td>02/05/2020 10:06:28 AM</td>\n",
       "      <td>A</td>\n",
       "      <td>PROPERTY</td>\n",
       "      <td>LARCENY-THEFT</td>\n",
       "      <td>Theft of Motor Vehicle Parts or Accessories</td>\n",
       "      <td>23G</td>\n",
       "      <td>N</td>\n",
       "      <td>J</td>\n",
       "      <td>J3</td>\n",
       "      <td>ROOSEVELT/RAVENNA</td>\n",
       "      <td>63XX BLOCK OF 5TH AVE NE</td>\n",
       "      <td>-122.323399</td>\n",
       "      <td>47.675118</td>\n",
       "    </tr>\n",
       "    <tr>\n",
       "      <th>2</th>\n",
       "      <td>2020-044465</td>\n",
       "      <td>12605567653</td>\n",
       "      <td>02/02/2020 08:30:00 PM</td>\n",
       "      <td>02/02/2020 09:30:00 PM</td>\n",
       "      <td>02/05/2020 09:39:33 AM</td>\n",
       "      <td>A</td>\n",
       "      <td>PROPERTY</td>\n",
       "      <td>ROBBERY</td>\n",
       "      <td>Robbery</td>\n",
       "      <td>120</td>\n",
       "      <td>N</td>\n",
       "      <td>U</td>\n",
       "      <td>U3</td>\n",
       "      <td>ROOSEVELT/RAVENNA</td>\n",
       "      <td>26TH AVE NE / NE BLAKELEY ST</td>\n",
       "      <td>-122.299552</td>\n",
       "      <td>47.666384</td>\n",
       "    </tr>\n",
       "    <tr>\n",
       "      <th>3</th>\n",
       "      <td>2020-044225</td>\n",
       "      <td>12605174036</td>\n",
       "      <td>02/05/2020 01:17:00 AM</td>\n",
       "      <td>02/05/2020 02:21:00 AM</td>\n",
       "      <td>02/05/2020 03:30:55 AM</td>\n",
       "      <td>A</td>\n",
       "      <td>PROPERTY</td>\n",
       "      <td>DESTRUCTION/DAMAGE/VANDALISM OF PROPERTY</td>\n",
       "      <td>Destruction/Damage/Vandalism of Property</td>\n",
       "      <td>290</td>\n",
       "      <td>W</td>\n",
       "      <td>Q</td>\n",
       "      <td>Q1</td>\n",
       "      <td>MAGNOLIA</td>\n",
       "      <td>22XX BLOCK OF W RAYE ST</td>\n",
       "      <td>-122.384865</td>\n",
       "      <td>47.642927</td>\n",
       "    </tr>\n",
       "    <tr>\n",
       "      <th>4</th>\n",
       "      <td>2020-044076</td>\n",
       "      <td>12605081469</td>\n",
       "      <td>02/05/2020 12:51:21 AM</td>\n",
       "      <td>NaN</td>\n",
       "      <td>02/05/2020 12:51:31 AM</td>\n",
       "      <td>B</td>\n",
       "      <td>SOCIETY</td>\n",
       "      <td>DRIVING UNDER THE INFLUENCE</td>\n",
       "      <td>Driving Under the Influence</td>\n",
       "      <td>90D</td>\n",
       "      <td>N</td>\n",
       "      <td>B</td>\n",
       "      <td>B2</td>\n",
       "      <td>BALLARD SOUTH</td>\n",
       "      <td>NW 46TH ST / 8TH AVE NW</td>\n",
       "      <td>-122.366195</td>\n",
       "      <td>47.662193</td>\n",
       "    </tr>\n",
       "  </tbody>\n",
       "</table>\n",
       "</div>"
      ],
      "text/plain": [
       "  Report Number   Offense ID  Offense Start DateTime    Offense End DateTime  \\\n",
       "0   2020-044620  12605873663  02/05/2020 10:10:00 AM                     NaN   \n",
       "1   2020-044452  12605598696  02/03/2020 08:00:00 AM  02/04/2020 08:00:00 AM   \n",
       "2   2020-044465  12605567653  02/02/2020 08:30:00 PM  02/02/2020 09:30:00 PM   \n",
       "3   2020-044225  12605174036  02/05/2020 01:17:00 AM  02/05/2020 02:21:00 AM   \n",
       "4   2020-044076  12605081469  02/05/2020 12:51:21 AM                     NaN   \n",
       "\n",
       "          Report DateTime Group A B Crime Against Category  \\\n",
       "0  02/05/2020 11:24:31 AM         A                SOCIETY   \n",
       "1  02/05/2020 10:06:28 AM         A               PROPERTY   \n",
       "2  02/05/2020 09:39:33 AM         A               PROPERTY   \n",
       "3  02/05/2020 03:30:55 AM         A               PROPERTY   \n",
       "4  02/05/2020 12:51:31 AM         B                SOCIETY   \n",
       "\n",
       "                       Offense Parent Group  \\\n",
       "0                    DRUG/NARCOTIC OFFENSES   \n",
       "1                             LARCENY-THEFT   \n",
       "2                                   ROBBERY   \n",
       "3  DESTRUCTION/DAMAGE/VANDALISM OF PROPERTY   \n",
       "4               DRIVING UNDER THE INFLUENCE   \n",
       "\n",
       "                                       Offense Offense Code Precinct Sector  \\\n",
       "0                     Drug/Narcotic Violations          35A        W      Q   \n",
       "1  Theft of Motor Vehicle Parts or Accessories          23G        N      J   \n",
       "2                                      Robbery          120        N      U   \n",
       "3     Destruction/Damage/Vandalism of Property          290        W      Q   \n",
       "4                  Driving Under the Influence          90D        N      B   \n",
       "\n",
       "  Beat               MCPP             100 Block Address   Longitude   Latitude  \n",
       "0   Q1           MAGNOLIA      32XX BLOCK OF 23RD AVE W -122.385974  47.649387  \n",
       "1   J3  ROOSEVELT/RAVENNA      63XX BLOCK OF 5TH AVE NE -122.323399  47.675118  \n",
       "2   U3  ROOSEVELT/RAVENNA  26TH AVE NE / NE BLAKELEY ST -122.299552  47.666384  \n",
       "3   Q1           MAGNOLIA       22XX BLOCK OF W RAYE ST -122.384865  47.642927  \n",
       "4   B2      BALLARD SOUTH       NW 46TH ST / 8TH AVE NW -122.366195  47.662193  "
      ]
     },
     "execution_count": 49,
     "metadata": {},
     "output_type": "execute_result"
    }
   ],
   "source": [
    "supp_df.head()"
   ]
  },
  {
   "cell_type": "markdown",
   "metadata": {},
   "source": [
    "**Extracting year and filtering by year**"
   ]
  },
  {
   "cell_type": "code",
   "execution_count": 50,
   "metadata": {},
   "outputs": [],
   "source": [
    "supp_df[\"Offense Start DateTime\"] = supp_df[\"Offense Start DateTime\"].astype('datetime64[ns]')"
   ]
  },
  {
   "cell_type": "code",
   "execution_count": 51,
   "metadata": {},
   "outputs": [],
   "source": [
    "#Let's extract the year from the datetime object\n",
    "supp_df['Year'] = pd.to_datetime(supp_df['Offense Start DateTime']).dt.year"
   ]
  },
  {
   "cell_type": "code",
   "execution_count": 52,
   "metadata": {},
   "outputs": [],
   "source": [
    "#Let's filter by year\n",
    "supp_df = supp_df[supp_df[\"Year\"] >= 2020]"
   ]
  },
  {
   "cell_type": "markdown",
   "metadata": {},
   "source": [
    "**Let's change our df to only include \"Offense\" and \"Beat\"**"
   ]
  },
  {
   "cell_type": "code",
   "execution_count": 53,
   "metadata": {},
   "outputs": [],
   "source": [
    "supp_df = supp_df[[\"Beat\", \"Offense\"]]"
   ]
  },
  {
   "cell_type": "code",
   "execution_count": 54,
   "metadata": {},
   "outputs": [
    {
     "data": {
      "text/html": [
       "<div>\n",
       "<style scoped>\n",
       "    .dataframe tbody tr th:only-of-type {\n",
       "        vertical-align: middle;\n",
       "    }\n",
       "\n",
       "    .dataframe tbody tr th {\n",
       "        vertical-align: top;\n",
       "    }\n",
       "\n",
       "    .dataframe thead th {\n",
       "        text-align: right;\n",
       "    }\n",
       "</style>\n",
       "<table border=\"1\" class=\"dataframe\">\n",
       "  <thead>\n",
       "    <tr style=\"text-align: right;\">\n",
       "      <th></th>\n",
       "      <th>Beat</th>\n",
       "      <th>Offense</th>\n",
       "    </tr>\n",
       "  </thead>\n",
       "  <tbody>\n",
       "    <tr>\n",
       "      <th>0</th>\n",
       "      <td>Q1</td>\n",
       "      <td>Drug/Narcotic Violations</td>\n",
       "    </tr>\n",
       "    <tr>\n",
       "      <th>1</th>\n",
       "      <td>J3</td>\n",
       "      <td>Theft of Motor Vehicle Parts or Accessories</td>\n",
       "    </tr>\n",
       "    <tr>\n",
       "      <th>2</th>\n",
       "      <td>U3</td>\n",
       "      <td>Robbery</td>\n",
       "    </tr>\n",
       "    <tr>\n",
       "      <th>3</th>\n",
       "      <td>Q1</td>\n",
       "      <td>Destruction/Damage/Vandalism of Property</td>\n",
       "    </tr>\n",
       "    <tr>\n",
       "      <th>4</th>\n",
       "      <td>B2</td>\n",
       "      <td>Driving Under the Influence</td>\n",
       "    </tr>\n",
       "    <tr>\n",
       "      <th>...</th>\n",
       "      <td>...</td>\n",
       "      <td>...</td>\n",
       "    </tr>\n",
       "    <tr>\n",
       "      <th>1036220</th>\n",
       "      <td>R1</td>\n",
       "      <td>Motor Vehicle Theft</td>\n",
       "    </tr>\n",
       "    <tr>\n",
       "      <th>1036221</th>\n",
       "      <td>F2</td>\n",
       "      <td>Simple Assault</td>\n",
       "    </tr>\n",
       "    <tr>\n",
       "      <th>1036222</th>\n",
       "      <td>F1</td>\n",
       "      <td>Simple Assault</td>\n",
       "    </tr>\n",
       "    <tr>\n",
       "      <th>1036223</th>\n",
       "      <td>F2</td>\n",
       "      <td>Simple Assault</td>\n",
       "    </tr>\n",
       "    <tr>\n",
       "      <th>1036224</th>\n",
       "      <td>D3</td>\n",
       "      <td>Fondling</td>\n",
       "    </tr>\n",
       "  </tbody>\n",
       "</table>\n",
       "<p>231809 rows × 2 columns</p>\n",
       "</div>"
      ],
      "text/plain": [
       "        Beat                                      Offense\n",
       "0         Q1                     Drug/Narcotic Violations\n",
       "1         J3  Theft of Motor Vehicle Parts or Accessories\n",
       "2         U3                                      Robbery\n",
       "3         Q1     Destruction/Damage/Vandalism of Property\n",
       "4         B2                  Driving Under the Influence\n",
       "...      ...                                          ...\n",
       "1036220   R1                          Motor Vehicle Theft\n",
       "1036221   F2                               Simple Assault\n",
       "1036222   F1                               Simple Assault\n",
       "1036223   F2                               Simple Assault\n",
       "1036224   D3                                     Fondling\n",
       "\n",
       "[231809 rows x 2 columns]"
      ]
     },
     "execution_count": 54,
     "metadata": {},
     "output_type": "execute_result"
    }
   ],
   "source": [
    "supp_df"
   ]
  },
  {
   "cell_type": "markdown",
   "metadata": {},
   "source": [
    "**Checking for null values**"
   ]
  },
  {
   "cell_type": "code",
   "execution_count": 55,
   "metadata": {},
   "outputs": [
    {
     "data": {
      "text/plain": [
       "Beat       2\n",
       "Offense    0\n",
       "dtype: int64"
      ]
     },
     "execution_count": 55,
     "metadata": {},
     "output_type": "execute_result"
    }
   ],
   "source": [
    "supp_df.isnull().sum()"
   ]
  },
  {
   "cell_type": "code",
   "execution_count": 56,
   "metadata": {},
   "outputs": [],
   "source": [
    "#Dropping null values\n",
    "supp_df = supp_df.dropna(subset = [\"Beat\"])"
   ]
  },
  {
   "cell_type": "code",
   "execution_count": 57,
   "metadata": {},
   "outputs": [
    {
     "data": {
      "text/plain": [
       "Beat       0\n",
       "Offense    0\n",
       "dtype: int64"
      ]
     },
     "execution_count": 57,
     "metadata": {},
     "output_type": "execute_result"
    }
   ],
   "source": [
    "#Checking again \n",
    "supp_df.isnull().sum()"
   ]
  },
  {
   "cell_type": "markdown",
   "metadata": {},
   "source": [
    "**Filtering by value counts for both Beat and Offense**"
   ]
  },
  {
   "cell_type": "code",
   "execution_count": 58,
   "metadata": {},
   "outputs": [],
   "source": [
    "#Filtering our data by only including offenses with more than 5000 counts\n",
    "supp_df = supp_df[~supp_df['Offense'].isin(supp_df['Offense'].value_counts().lt(5000).pipe(lambda s: s[s].index))]\n",
    "supp_df = supp_df[~supp_df['Beat'].isin(supp_df['Beat'].value_counts().lt(5000).pipe(lambda s: s[s].index))]"
   ]
  },
  {
   "cell_type": "code",
   "execution_count": 59,
   "metadata": {
    "scrolled": false
   },
   "outputs": [
    {
     "data": {
      "text/html": [
       "<div>\n",
       "<style scoped>\n",
       "    .dataframe tbody tr th:only-of-type {\n",
       "        vertical-align: middle;\n",
       "    }\n",
       "\n",
       "    .dataframe tbody tr th {\n",
       "        vertical-align: top;\n",
       "    }\n",
       "\n",
       "    .dataframe thead th {\n",
       "        text-align: right;\n",
       "    }\n",
       "</style>\n",
       "<table border=\"1\" class=\"dataframe\">\n",
       "  <thead>\n",
       "    <tr style=\"text-align: right;\">\n",
       "      <th></th>\n",
       "      <th>Beat</th>\n",
       "      <th>Offense</th>\n",
       "    </tr>\n",
       "  </thead>\n",
       "  <tbody>\n",
       "    <tr>\n",
       "      <th>2</th>\n",
       "      <td>U3</td>\n",
       "      <td>Robbery</td>\n",
       "    </tr>\n",
       "    <tr>\n",
       "      <th>18</th>\n",
       "      <td>U2</td>\n",
       "      <td>Shoplifting</td>\n",
       "    </tr>\n",
       "    <tr>\n",
       "      <th>19</th>\n",
       "      <td>Q3</td>\n",
       "      <td>Theft From Motor Vehicle</td>\n",
       "    </tr>\n",
       "    <tr>\n",
       "      <th>22</th>\n",
       "      <td>Q3</td>\n",
       "      <td>All Other Larceny</td>\n",
       "    </tr>\n",
       "    <tr>\n",
       "      <th>23</th>\n",
       "      <td>Q2</td>\n",
       "      <td>Theft From Motor Vehicle</td>\n",
       "    </tr>\n",
       "    <tr>\n",
       "      <th>...</th>\n",
       "      <td>...</td>\n",
       "      <td>...</td>\n",
       "    </tr>\n",
       "    <tr>\n",
       "      <th>1036195</th>\n",
       "      <td>U1</td>\n",
       "      <td>Motor Vehicle Theft</td>\n",
       "    </tr>\n",
       "    <tr>\n",
       "      <th>1036200</th>\n",
       "      <td>B3</td>\n",
       "      <td>Motor Vehicle Theft</td>\n",
       "    </tr>\n",
       "    <tr>\n",
       "      <th>1036201</th>\n",
       "      <td>B2</td>\n",
       "      <td>Theft From Motor Vehicle</td>\n",
       "    </tr>\n",
       "    <tr>\n",
       "      <th>1036210</th>\n",
       "      <td>L2</td>\n",
       "      <td>Motor Vehicle Theft</td>\n",
       "    </tr>\n",
       "    <tr>\n",
       "      <th>1036216</th>\n",
       "      <td>B1</td>\n",
       "      <td>Motor Vehicle Theft</td>\n",
       "    </tr>\n",
       "  </tbody>\n",
       "</table>\n",
       "<p>81545 rows × 2 columns</p>\n",
       "</div>"
      ],
      "text/plain": [
       "        Beat                   Offense\n",
       "2         U3                   Robbery\n",
       "18        U2               Shoplifting\n",
       "19        Q3  Theft From Motor Vehicle\n",
       "22        Q3         All Other Larceny\n",
       "23        Q2  Theft From Motor Vehicle\n",
       "...      ...                       ...\n",
       "1036195   U1       Motor Vehicle Theft\n",
       "1036200   B3       Motor Vehicle Theft\n",
       "1036201   B2  Theft From Motor Vehicle\n",
       "1036210   L2       Motor Vehicle Theft\n",
       "1036216   B1       Motor Vehicle Theft\n",
       "\n",
       "[81545 rows x 2 columns]"
      ]
     },
     "execution_count": 59,
     "metadata": {},
     "output_type": "execute_result"
    }
   ],
   "source": [
    "supp_df"
   ]
  },
  {
   "cell_type": "markdown",
   "metadata": {},
   "source": [
    "**Adding a constant column, for future processing**"
   ]
  },
  {
   "cell_type": "code",
   "execution_count": 60,
   "metadata": {},
   "outputs": [],
   "source": [
    "supp_df[\"Count\"] = 1"
   ]
  },
  {
   "cell_type": "markdown",
   "metadata": {},
   "source": [
    "**Saving to csv**"
   ]
  },
  {
   "cell_type": "code",
   "execution_count": 61,
   "metadata": {},
   "outputs": [],
   "source": [
    "supp_df.to_csv('supplemental.csv', encoding='utf-8', index=False)  "
   ]
  }
 ],
 "metadata": {
  "kernelspec": {
   "display_name": "Python 3",
   "language": "python",
   "name": "python3"
  },
  "language_info": {
   "codemirror_mode": {
    "name": "ipython",
    "version": 3
   },
   "file_extension": ".py",
   "mimetype": "text/x-python",
   "name": "python",
   "nbconvert_exporter": "python",
   "pygments_lexer": "ipython3",
   "version": "3.8.5"
  }
 },
 "nbformat": 4,
 "nbformat_minor": 4
}
